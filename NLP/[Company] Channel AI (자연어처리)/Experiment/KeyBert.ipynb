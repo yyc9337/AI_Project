{
 "cells": [
  {
   "cell_type": "code",
   "execution_count": 2,
   "outputs": [
    {
     "name": "stdout",
     "output_type": "stream",
     "text": [
      "Collecting sentence-transformers\r\n",
      "  Downloading sentence-transformers-2.2.0.tar.gz (79 kB)\r\n",
      "\u001B[K     |████████████████████████████████| 79 kB 7.9 MB/s eta 0:00:011\r\n",
      "\u001B[?25hRequirement already satisfied: transformers<5.0.0,>=4.6.0 in /Users/aidev_yyc_mac/opt/anaconda3/envs/yyc/lib/python3.8/site-packages (from sentence-transformers) (4.19.2)\r\n",
      "Requirement already satisfied: tqdm in /Users/aidev_yyc_mac/opt/anaconda3/envs/yyc/lib/python3.8/site-packages (from sentence-transformers) (4.64.0)\r\n",
      "Requirement already satisfied: torch>=1.6.0 in /Users/aidev_yyc_mac/opt/anaconda3/envs/yyc/lib/python3.8/site-packages (from sentence-transformers) (1.11.0)\r\n",
      "Collecting torchvision\r\n",
      "  Downloading torchvision-0.12.0-cp38-cp38-macosx_10_9_x86_64.whl (1.3 MB)\r\n",
      "\u001B[K     |████████████████████████████████| 1.3 MB 10.1 MB/s eta 0:00:01\r\n",
      "\u001B[?25hRequirement already satisfied: numpy in /Users/aidev_yyc_mac/opt/anaconda3/envs/yyc/lib/python3.8/site-packages (from sentence-transformers) (1.22.3)\r\n",
      "Requirement already satisfied: scikit-learn in /Users/aidev_yyc_mac/opt/anaconda3/envs/yyc/lib/python3.8/site-packages (from sentence-transformers) (1.1.0)\r\n",
      "Requirement already satisfied: scipy in /Users/aidev_yyc_mac/opt/anaconda3/envs/yyc/lib/python3.8/site-packages (from sentence-transformers) (1.8.0)\r\n",
      "Collecting nltk\r\n",
      "  Downloading nltk-3.7-py3-none-any.whl (1.5 MB)\r\n",
      "\u001B[K     |████████████████████████████████| 1.5 MB 8.8 MB/s eta 0:00:01\r\n",
      "\u001B[?25hRequirement already satisfied: sentencepiece in /Users/aidev_yyc_mac/opt/anaconda3/envs/yyc/lib/python3.8/site-packages (from sentence-transformers) (0.1.96)\r\n",
      "Requirement already satisfied: huggingface-hub in /Users/aidev_yyc_mac/opt/anaconda3/envs/yyc/lib/python3.8/site-packages (from sentence-transformers) (0.6.0)\r\n",
      "Requirement already satisfied: typing-extensions in /Users/aidev_yyc_mac/opt/anaconda3/envs/yyc/lib/python3.8/site-packages (from torch>=1.6.0->sentence-transformers) (4.2.0)\r\n",
      "Requirement already satisfied: filelock in /Users/aidev_yyc_mac/opt/anaconda3/envs/yyc/lib/python3.8/site-packages (from transformers<5.0.0,>=4.6.0->sentence-transformers) (3.7.0)\r\n",
      "Requirement already satisfied: packaging>=20.0 in /Users/aidev_yyc_mac/opt/anaconda3/envs/yyc/lib/python3.8/site-packages (from transformers<5.0.0,>=4.6.0->sentence-transformers) (21.3)\r\n",
      "Requirement already satisfied: tokenizers!=0.11.3,<0.13,>=0.11.1 in /Users/aidev_yyc_mac/opt/anaconda3/envs/yyc/lib/python3.8/site-packages (from transformers<5.0.0,>=4.6.0->sentence-transformers) (0.12.1)\r\n",
      "Requirement already satisfied: regex!=2019.12.17 in /Users/aidev_yyc_mac/opt/anaconda3/envs/yyc/lib/python3.8/site-packages (from transformers<5.0.0,>=4.6.0->sentence-transformers) (2022.4.24)\r\n",
      "Requirement already satisfied: pyyaml>=5.1 in /Users/aidev_yyc_mac/opt/anaconda3/envs/yyc/lib/python3.8/site-packages (from transformers<5.0.0,>=4.6.0->sentence-transformers) (6.0)\r\n",
      "Requirement already satisfied: requests in /Users/aidev_yyc_mac/opt/anaconda3/envs/yyc/lib/python3.8/site-packages (from transformers<5.0.0,>=4.6.0->sentence-transformers) (2.27.1)\r\n",
      "Requirement already satisfied: pyparsing!=3.0.5,>=2.0.2 in /Users/aidev_yyc_mac/opt/anaconda3/envs/yyc/lib/python3.8/site-packages (from packaging>=20.0->transformers<5.0.0,>=4.6.0->sentence-transformers) (3.0.9)\r\n",
      "Requirement already satisfied: click in /Users/aidev_yyc_mac/opt/anaconda3/envs/yyc/lib/python3.8/site-packages (from nltk->sentence-transformers) (8.1.3)\r\n",
      "Requirement already satisfied: joblib in /Users/aidev_yyc_mac/opt/anaconda3/envs/yyc/lib/python3.8/site-packages (from nltk->sentence-transformers) (1.1.0)\r\n",
      "Requirement already satisfied: idna<4,>=2.5 in /Users/aidev_yyc_mac/opt/anaconda3/envs/yyc/lib/python3.8/site-packages (from requests->transformers<5.0.0,>=4.6.0->sentence-transformers) (3.3)\r\n",
      "Requirement already satisfied: certifi>=2017.4.17 in /Users/aidev_yyc_mac/opt/anaconda3/envs/yyc/lib/python3.8/site-packages (from requests->transformers<5.0.0,>=4.6.0->sentence-transformers) (2021.10.8)\r\n",
      "Requirement already satisfied: charset-normalizer~=2.0.0 in /Users/aidev_yyc_mac/opt/anaconda3/envs/yyc/lib/python3.8/site-packages (from requests->transformers<5.0.0,>=4.6.0->sentence-transformers) (2.0.12)\r\n",
      "Requirement already satisfied: urllib3<1.27,>=1.21.1 in /Users/aidev_yyc_mac/opt/anaconda3/envs/yyc/lib/python3.8/site-packages (from requests->transformers<5.0.0,>=4.6.0->sentence-transformers) (1.26.9)\r\n",
      "Requirement already satisfied: threadpoolctl>=2.0.0 in /Users/aidev_yyc_mac/opt/anaconda3/envs/yyc/lib/python3.8/site-packages (from scikit-learn->sentence-transformers) (3.1.0)\r\n",
      "Requirement already satisfied: pillow!=8.3.*,>=5.3.0 in /Users/aidev_yyc_mac/opt/anaconda3/envs/yyc/lib/python3.8/site-packages (from torchvision->sentence-transformers) (9.1.0)\r\n",
      "Building wheels for collected packages: sentence-transformers\r\n",
      "  Building wheel for sentence-transformers (setup.py) ... \u001B[?25ldone\r\n",
      "\u001B[?25h  Created wheel for sentence-transformers: filename=sentence_transformers-2.2.0-py3-none-any.whl size=120751 sha256=da9f52598211893097b8326633842aee5d634c5837f178345e84e2310a26b3fa\r\n",
      "  Stored in directory: /Users/aidev_yyc_mac/Library/Caches/pip/wheels/0c/b6/fb/2289a932c365293ad865fc1fe9d2db694d5584241c6d670874\r\n",
      "Successfully built sentence-transformers\r\n",
      "Installing collected packages: torchvision, nltk, sentence-transformers\r\n",
      "Successfully installed nltk-3.7 sentence-transformers-2.2.0 torchvision-0.12.0\r\n"
     ]
    }
   ],
   "source": [
    "!pip install -U sentence-transformers"
   ],
   "metadata": {
    "collapsed": false,
    "pycharm": {
     "name": "#%%\n"
    }
   }
  },
  {
   "cell_type": "code",
   "execution_count": 3,
   "outputs": [],
   "source": [
    "import numpy as np\n",
    "import itertools\n",
    "\n",
    "from sklearn.feature_extraction.text import CountVectorizer\n",
    "from sklearn.metrics.pairwise import cosine_similarity\n",
    "from sentence_transformers import SentenceTransformer"
   ],
   "metadata": {
    "collapsed": false,
    "pycharm": {
     "name": "#%%\n"
    }
   }
  },
  {
   "cell_type": "code",
   "execution_count": 4,
   "outputs": [],
   "source": [
    "doc = \"\"\"\n",
    "         Supervised learning is the machine learning task of\n",
    "         learning a function that maps an input to an output based\n",
    "         on example input-output pairs.[1] It infers a function\n",
    "         from labeled training data consisting of a set of\n",
    "         training examples.[2] In supervised learning, each\n",
    "         example is a pair consisting of an input object\n",
    "         (typically a vector) and a desired output value (also\n",
    "         called the supervisory signal). A supervised learning\n",
    "         algorithm analyzes the training data and produces an\n",
    "         inferred function, which can be used for mapping new\n",
    "         examples. An optimal scenario will allow for the algorithm\n",
    "         to correctly determine the class labels for unseen\n",
    "         instances. This requires the learning algorithm to\n",
    "         generalize from the training data to unseen situations\n",
    "         in a 'reasonable' way (see inductive bias).\n",
    "      \"\"\""
   ],
   "metadata": {
    "collapsed": false,
    "pycharm": {
     "name": "#%%\n"
    }
   }
  },
  {
   "cell_type": "code",
   "execution_count": 5,
   "outputs": [
    {
     "name": "stdout",
     "output_type": "stream",
     "text": [
      "trigram 개수 : 72\n",
      "trigram 다섯개만 출력 : ['algorithm analyzes training' 'algorithm correctly determine'\n",
      " 'algorithm generalize training' 'allow algorithm correctly'\n",
      " 'analyzes training data']\n"
     ]
    }
   ],
   "source": [
    "# 3개의 단어 묶음인 단어구 추출\n",
    "n_gram_range = (3, 3)\n",
    "stop_words = \"english\"\n",
    "\n",
    "count = CountVectorizer(ngram_range=n_gram_range, stop_words=stop_words).fit([doc])\n",
    "candidates = count.get_feature_names_out()\n",
    "\n",
    "print('trigram 개수 :',len(candidates))\n",
    "print('trigram 다섯개만 출력 :',candidates[:5])"
   ],
   "metadata": {
    "collapsed": false,
    "pycharm": {
     "name": "#%%\n"
    }
   }
  },
  {
   "cell_type": "code",
   "execution_count": null,
   "outputs": [],
   "source": [],
   "metadata": {
    "collapsed": false,
    "pycharm": {
     "name": "#%%\n"
    }
   }
  },
  {
   "cell_type": "code",
   "execution_count": null,
   "outputs": [],
   "source": [],
   "metadata": {
    "collapsed": false,
    "pycharm": {
     "name": "#%%\n"
    }
   }
  },
  {
   "cell_type": "code",
   "execution_count": null,
   "outputs": [],
   "source": [],
   "metadata": {
    "collapsed": false,
    "pycharm": {
     "name": "#%%\n"
    }
   }
  }
 ],
 "metadata": {
  "kernelspec": {
   "display_name": "Python 3",
   "language": "python",
   "name": "python3"
  },
  "language_info": {
   "codemirror_mode": {
    "name": "ipython",
    "version": 2
   },
   "file_extension": ".py",
   "mimetype": "text/x-python",
   "name": "python",
   "nbconvert_exporter": "python",
   "pygments_lexer": "ipython2",
   "version": "2.7.6"
  }
 },
 "nbformat": 4,
 "nbformat_minor": 0
}