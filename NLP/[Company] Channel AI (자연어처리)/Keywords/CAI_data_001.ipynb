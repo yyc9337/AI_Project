{
 "cells": [
  {
   "cell_type": "markdown",
   "metadata": {
    "pycharm": {
     "name": "#%% md\n"
    }
   },
   "source": [
    "# Abstract\n",
    "#### Setting : 실험목적, 실험에 사용한 데이터셋 명시\n",
    "\n",
    "                            1. 원시데이터인 VOC.xlsx  데이터를 사용\n",
    "                            2. VOC 유형을 Label로 지정\n",
    "                            3. 사용하지 않는  컬럼제거\n",
    "                            5. 특수 문자 제거\n",
    "                            6. Kospacing 라이브러리를 이용하여 1차 자동 띄어 쓰기 라이브러리 적용\n",
    "                            7. 정교한 띄어쓰기를 위해 han-spell라이브러리를 이용하여 2차 자동띄어쓰기 적용 \n",
    "                            8. 불용어 처리\n",
    "\n",
    "                                                      \n",
    "                           8666 rows × 4 columns"
   ]
  },
  {
   "cell_type": "code",
   "execution_count": 5,
   "metadata": {
    "pycharm": {
     "name": "#%%\n"
    }
   },
   "outputs": [],
   "source": [
    "import pandas as pd\n",
    "import sys"
   ]
  },
  {
   "cell_type": "code",
   "execution_count": 6,
   "metadata": {
    "ExecuteTime": {
     "end_time": "2022-03-03T07:56:50.308018Z",
     "start_time": "2022-03-03T07:56:46.514821Z"
    },
    "pycharm": {
     "is_executing": true,
     "name": "#%%\n"
    }
   },
   "outputs": [],
   "source": [
    "from collections import Counter\n",
    "\n",
    "import numpy as np\n",
    "import pandas as pd\n",
    "\n",
    "import tensorflow as tf\n",
    "from tensorflow.keras.preprocessing.sequence import pad_sequences\n",
    "import os\n",
    "\n",
    "\n",
    "import warnings\n",
    "warnings.filterwarnings('ignore')\n",
    "import timeit"
   ]
  },
  {
   "cell_type": "code",
   "execution_count": 7,
   "metadata": {},
   "outputs": [
    {
     "data": {
      "text/plain": [
       "'귀 밑에서 턱까지 잇따라 난 수염을 구레나 룻이라고 한다.'"
      ]
     },
     "execution_count": 7,
     "metadata": {},
     "output_type": "execute_result"
    }
   ],
   "source": [
    "from pykospacing import Spacing\n",
    "spacing = Spacing()\n",
    "spacing(\"김형호영화시장분석가는'1987'의네이버영화정보네티즌10점평에서언급된단어들을지난해12월27일부터올해1월10일까지통계프로그램R과KoNLP패키지로텍스트마이닝하여분석했다.\")\n",
    "\"김형호 영화시장 분석가는 '1987'의 네이버 영화 정보 네티즌 10점 평에서 언급된 단어들을 지난해 12월 27일부터 올해 1월 10일까지 통계 프로그램 R과 KoNLP 패키지로 텍스트마이닝하여 분석했다.\"\n",
    "# Apply a list of words that must be non-spacing\n",
    "spacing('귀밑에서턱까지잇따라난수염을구레나룻이라고한다.')"
   ]
  },
  {
   "cell_type": "code",
   "execution_count": 8,
   "metadata": {
    "ExecuteTime": {
     "end_time": "2022-03-03T07:56:55.931371Z",
     "start_time": "2022-03-03T07:56:52.636360Z"
    },
    "pycharm": {
     "name": "#%%\n"
    }
   },
   "outputs": [],
   "source": [
    "data = pd.read_csv('../../VOCData.csv',names=['ID', 'A', 'B', 'C', 'D','E','F','G','H','I','j','세부내용','L','M'])\n",
    "\n",
    "#print(\"train set: {}개\".format(len(df)))"
   ]
  },
  {
   "cell_type": "code",
   "execution_count": 9,
   "metadata": {},
   "outputs": [],
   "source": [
    "data = data.reset_index(drop=True)\n",
    "df = data[:10000]"
   ]
  },
  {
   "cell_type": "markdown",
   "metadata": {
    "pycharm": {
     "name": "#%% md\n"
    }
   },
   "source": [
    "### 데이터 전처리"
   ]
  },
  {
   "cell_type": "code",
   "execution_count": 10,
   "metadata": {
    "ExecuteTime": {
     "end_time": "2022-03-03T07:57:01.121313Z",
     "start_time": "2022-03-03T07:57:01.043318Z"
    },
    "pycharm": {
     "name": "#%%\n"
    }
   },
   "outputs": [],
   "source": [
    "from pykospacing import Spacing\n",
    "spacing = Spacing()\n",
    "\n",
    "def processsing(df) :\n",
    "    no_spacing_data = []\n",
    "    # df_col = []\n",
    "    # ## 필요 없는 문자 '호' 제거\n",
    "    # for i in range(len(df)):\n",
    "    #     romove_col = df['세부내용'][i].replace('호',\"\")\n",
    "    #     df_col.append(romove_col)\n",
    "    # df['세부내용'] = df_col\n",
    "\n",
    "    ## 특수문자 제거\n",
    "    df = df['세부내용'].str.replace(\"[^ㄱ-ㅎㅏ-ㅣ가-힣 ]\",\" \")\n",
    "\n",
    "    df = pd.DataFrame({'세부내용':df})\n",
    "    return df"
   ]
  },
  {
   "cell_type": "markdown",
   "metadata": {
    "pycharm": {
     "name": "#%% md\n"
    }
   },
   "source": [
    "### 1차 자동 띄어 쓰기 적용"
   ]
  },
  {
   "cell_type": "code",
   "execution_count": 11,
   "metadata": {
    "pycharm": {
     "name": "#%%\n"
    }
   },
   "outputs": [],
   "source": [
    "## 띄어쓰기 로직을 데이터 셋에 적용\n",
    "def kospacing(df) :\n",
    "    global preprocess_data\n",
    "    preprocess_data = None\n",
    "    \n",
    "    clean_data = []\n",
    "    for row in df.iterrows() :\n",
    "        \n",
    "        spacings = spacing(row[1]['세부내용'])\n",
    "        clean_data.append(spacings)\n",
    "\n",
    "        preprocess_data = pd.DataFrame({'sentence':clean_data})\n",
    "        \n",
    "    return preprocess_data\n"
   ]
  },
  {
   "cell_type": "markdown",
   "metadata": {},
   "source": [
    "### 2차 자동 띄어쓰기"
   ]
  },
  {
   "cell_type": "code",
   "execution_count": 12,
   "metadata": {},
   "outputs": [],
   "source": [
    "from hanspell import spell_checker\n",
    "\n",
    "## 띄어쓰기 로직을 데이터 셋에 적용\n",
    "def han_spell(df) :\n",
    "    clean_data = []\n",
    "    for i in range(len(df)) :\n",
    "        spelled_sent = spell_checker.check(df['sentence'][i])\n",
    "        hanspell_sent = spelled_sent.checked\n",
    "        clean_data.append(hanspell_sent)\n",
    "        preprocess_data = pd.DataFrame({'sentence':clean_data})\n",
    "        \n",
    "    return preprocess_data\n"
   ]
  },
  {
   "cell_type": "code",
   "execution_count": 13,
   "metadata": {},
   "outputs": [],
   "source": [
    "df = processsing(df)\n",
    "df = kospacing(df)\n",
    "# preprocess_data = han_spell(df)\n",
    "# data = pd.read_excel('../../Common/data/VOC.xlsx', header=1)\n",
    "\n",
    "# df = pd.concat([data['접수시간'], data['본부'], data['VOC 유형'], preprocess_data['sentence']],axis= 1)"
   ]
  },
  {
   "cell_type": "code",
   "execution_count": null,
   "metadata": {},
   "outputs": [],
   "source": [
    "data = data[:10000]\n",
    "df = pd.concat([ data['E'], data['I'], preprocess_data['sentence']],axis= 1)"
   ]
  },
  {
   "cell_type": "code",
   "execution_count": null,
   "metadata": {},
   "outputs": [
    {
     "data": {
      "text/html": [
       "<div>\n",
       "<style scoped>\n",
       "    .dataframe tbody tr th:only-of-type {\n",
       "        vertical-align: middle;\n",
       "    }\n",
       "\n",
       "    .dataframe tbody tr th {\n",
       "        vertical-align: top;\n",
       "    }\n",
       "\n",
       "    .dataframe thead th {\n",
       "        text-align: right;\n",
       "    }\n",
       "</style>\n",
       "<table border=\"1\" class=\"dataframe\">\n",
       "  <thead>\n",
       "    <tr style=\"text-align: right;\">\n",
       "      <th></th>\n",
       "      <th>E</th>\n",
       "      <th>I</th>\n",
       "      <th>sentence</th>\n",
       "    </tr>\n",
       "  </thead>\n",
       "  <tbody>\n",
       "    <tr>\n",
       "      <th>0</th>\n",
       "      <td>구로지사</td>\n",
       "      <td>부팅중 오류메시지 발생</td>\n",
       "      <td>차 동 일 고객 요청사항 리셋 접수 호 수신 불 수신카드 오류 리셋 회선 단말특이사...</td>\n",
       "    </tr>\n",
       "    <tr>\n",
       "      <th>1</th>\n",
       "      <td>전주지사</td>\n",
       "      <td>장비리셋 후 재사용 요청</td>\n",
       "      <td>리셋 접수 호 채널 수신불량</td>\n",
       "    </tr>\n",
       "    <tr>\n",
       "      <th>2</th>\n",
       "      <td>부천지사</td>\n",
       "      <td>수신 불량</td>\n",
       "      <td>고객 요청사항 특정 체널 수신 불 번 안 나옴 재부팅하면 사용 가능하다가 다시 안됨...</td>\n",
       "    </tr>\n",
       "    <tr>\n",
       "      <th>3</th>\n",
       "      <td>용인지사</td>\n",
       "      <td>장비리셋 후 재사용 요청</td>\n",
       "      <td>리셋 접수 채널 수신 불량 인터넷 연결오류</td>\n",
       "    </tr>\n",
       "    <tr>\n",
       "      <th>4</th>\n",
       "      <td>천안지사</td>\n",
       "      <td>수신 불량</td>\n",
       "      <td>고객 요청사항 안됨 리셋 연락 후 회선 단말특이사항 진단 결과 기타 추가 연락처</td>\n",
       "    </tr>\n",
       "  </tbody>\n",
       "</table>\n",
       "</div>"
      ],
      "text/plain": [
       "      E              I                                           sentence\n",
       "0  구로지사   부팅중 오류메시지 발생  차 동 일 고객 요청사항 리셋 접수 호 수신 불 수신카드 오류 리셋 회선 단말특이사...\n",
       "1  전주지사  장비리셋 후 재사용 요청                                    리셋 접수 호 채널 수신불량\n",
       "2  부천지사          수신 불량  고객 요청사항 특정 체널 수신 불 번 안 나옴 재부팅하면 사용 가능하다가 다시 안됨...\n",
       "3  용인지사  장비리셋 후 재사용 요청                            리셋 접수 채널 수신 불량 인터넷 연결오류\n",
       "4  천안지사          수신 불량       고객 요청사항 안됨 리셋 연락 후 회선 단말특이사항 진단 결과 기타 추가 연락처"
      ]
     },
     "execution_count": 119,
     "metadata": {},
     "output_type": "execute_result"
    }
   ],
   "source": [
    "pd.set_option('display.max_rows', None)\n",
    "df.head()"
   ]
  },
  {
   "cell_type": "markdown",
   "metadata": {},
   "source": [
    "### 불용어 처리"
   ]
  },
  {
   "cell_type": "code",
   "execution_count": null,
   "metadata": {
    "pycharm": {
     "name": "#%%\n"
    }
   },
   "outputs": [],
   "source": [
    "stop_words = \"일 고객 요청사항 독촉심함 독촉 봇 빠른 방문 요청  단말특이사항 불 후 정상 측 연락처 안 됨기사 추가 특이사항 서비스 회선 진단 결과 코로나 기타 리셋 안방 거실 독촉\"\n",
    "\n",
    "def stop_word(df) :\n",
    "    global stop_words\n",
    "\n",
    "    df = df.reset_index(drop= True)\n",
    "    preprocess_data = []\n",
    "    for i in range(len(df)) :\n",
    "        preprocess_data.append(df['sentence'][i].split(' '))\n",
    "\n",
    "    stop_words=stop_words.split(' ')\n",
    "\n",
    "    df['words_list'] = 0\n",
    "\n",
    "    result = []\n",
    "    for sentence_words in preprocess_data:\n",
    "        list_a = []\n",
    "        for word in sentence_words:\n",
    "            if word not in stop_words:\n",
    "                list_a.append(word)\n",
    "        result.append(list_a)\n",
    "\n",
    "    # 리스트를 문자열로 : join 이용\n",
    "    result1 = \" \".join(result[0])\n",
    "\n",
    "    for i in range(len(result)) :\n",
    "        result[i] = \" \".join(result[i])\n",
    "\n",
    "    return result"
   ]
  },
  {
   "cell_type": "code",
   "execution_count": null,
   "metadata": {
    "pycharm": {
     "name": "#%%\n"
    }
   },
   "outputs": [],
   "source": [
    "result = stop_word(df)\n",
    "df.rename(columns = {'E':'지사','I':'VOC유형'},inplace=True)\n",
    "data = df[['지사', 'VOC유형']]\n",
    "data['sentence'] = result"
   ]
  },
  {
   "cell_type": "code",
   "execution_count": null,
   "metadata": {},
   "outputs": [],
   "source": [
    "data.to_csv('../dataset/CAI_data_007.csv', index= False)"
   ]
  }
 ],
 "metadata": {
  "kernelspec": {
   "display_name": "Python 3.8.10 64-bit",
   "language": "python",
   "name": "python3"
  },
  "language_info": {
   "codemirror_mode": {
    "name": "ipython",
    "version": 3
   },
   "file_extension": ".py",
   "mimetype": "text/x-python",
   "name": "python",
   "nbconvert_exporter": "python",
   "pygments_lexer": "ipython3",
   "version": "3.8.10"
  },
  "toc": {
   "base_numbering": 1,
   "nav_menu": {},
   "number_sections": true,
   "sideBar": true,
   "skip_h1_title": false,
   "title_cell": "Table of Contents",
   "title_sidebar": "Contents",
   "toc_cell": false,
   "toc_position": {},
   "toc_section_display": true,
   "toc_window_display": true
  },
  "vscode": {
   "interpreter": {
    "hash": "916dbcbb3f70747c44a77c7bcd40155683ae19c65e1c03b4aa3499c5328201f1"
   }
  }
 },
 "nbformat": 4,
 "nbformat_minor": 2
}
