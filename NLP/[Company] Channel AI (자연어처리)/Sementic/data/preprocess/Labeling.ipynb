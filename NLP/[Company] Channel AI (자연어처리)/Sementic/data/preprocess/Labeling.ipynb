{
 "cells": [
  {
   "cell_type": "markdown",
   "metadata": {},
   "source": [
    "# Abstract\n",
    "#### Setting : 실험목적, 실험에 사용한 데이터셋 명시\n",
    "\n",
    "                            1. 정제된 CAI_data_001.ipynb 파일 import\n",
    "                            2. VOC 유형 depth2를 이용하여 Target 생성\n",
    "\n",
    "                                                      \n",
    "                           8666 rows × 4 columns"
   ]
  },
  {
   "cell_type": "code",
   "execution_count": 24,
   "metadata": {},
   "outputs": [],
   "source": [
    "import pandas as pd\n",
    "import numpy as np"
   ]
  },
  {
   "cell_type": "code",
   "execution_count": 25,
   "metadata": {},
   "outputs": [],
   "source": [
    "df = pd.read_csv('../dataset/CAI_data_001.csv')\n",
    "df.rename(columns =  {'VOC 유형' : 'Label'},inplace=True)"
   ]
  },
  {
   "cell_type": "code",
   "execution_count": 26,
   "metadata": {},
   "outputs": [],
   "source": [
    "df['depth_1'] = df.Label.str.split('>').str[0]\n",
    "df['depth_2'] = df.Label.str.split('>').str[1]\n",
    "df['depth_3'] = df.Label.str.split('>').str[2]"
   ]
  },
  {
   "cell_type": "code",
   "execution_count": 27,
   "metadata": {},
   "outputs": [
    {
     "name": "stdout",
     "output_type": "stream",
     "text": [
      "[27  8 15 ... 15  8  4]\n",
      "['AS보류(유료화)' 'IP 공유기 이상' 'PIN 인증 오류' 'STB(부팅) 이상' 'STB(작동)이상'\n",
      " 'USB포트 인식 불가' '공사안내' '기타 KT시설(상세메모기입)' '네트워크 오류' '네트워크장비 장애' '리모컨작동불가'\n",
      " '맨홀/전주' '맨홀/전주/단자함/기타' '메뉴 실행 불가' '부주의, ID/PW 분실 등' '수신 불량' '스피커이상(기가지니)'\n",
      " '양방향서비스 사용불가' '음성 이상' '음성인식이상(기가지니)' '이용불가' '임대단말 분실/파손' '임대단말 회수요청'\n",
      " '장비리셋 후 재사용 요청' '전원, 충전 이상' '전환 지연' '접속 지연/끊김' '조치 전 자연 회복' '증설/구내선 정리요청'\n",
      " '지니뮤직이상(기가지니)' '채널편성표 없음' '케이블(전송로) 장애' '타사 및 기타 장애' '특이고장' '피해보상요구'\n",
      " '화질 이상']\n"
     ]
    }
   ],
   "source": [
    "from sklearn.preprocessing import LabelEncoder\n",
    "\n",
    "le = LabelEncoder()\n",
    "result = le.fit_transform(df['depth_2'])\n",
    "print(result)\n",
    "print(le.classes_)\n",
    "df.rename(columns =  {'depth_2' : 'Target_name'},inplace=True)\n",
    "\n",
    "df['Target'] = result\n",
    "df = df[['접수시간', '본부', 'sentence', 'Target','Target_name']]"
   ]
  },
  {
   "cell_type": "code",
   "execution_count": 28,
   "metadata": {},
   "outputs": [
    {
     "data": {
      "text/html": [
       "<div>\n",
       "<style scoped>\n",
       "    .dataframe tbody tr th:only-of-type {\n",
       "        vertical-align: middle;\n",
       "    }\n",
       "\n",
       "    .dataframe tbody tr th {\n",
       "        vertical-align: top;\n",
       "    }\n",
       "\n",
       "    .dataframe thead th {\n",
       "        text-align: right;\n",
       "    }\n",
       "</style>\n",
       "<table border=\"1\" class=\"dataframe\">\n",
       "  <thead>\n",
       "    <tr style=\"text-align: right;\">\n",
       "      <th></th>\n",
       "      <th>접수시간</th>\n",
       "      <th>본부</th>\n",
       "      <th>sentence</th>\n",
       "      <th>Target</th>\n",
       "      <th>Target_name</th>\n",
       "    </tr>\n",
       "  </thead>\n",
       "  <tbody>\n",
       "    <tr>\n",
       "      <th>0</th>\n",
       "      <td>2021-09-27 00:03:15</td>\n",
       "      <td>강원고객본부</td>\n",
       "      <td>안됨 상담 자연 회복됨</td>\n",
       "      <td>27</td>\n",
       "      <td>조치 전 자연 회복</td>\n",
       "    </tr>\n",
       "    <tr>\n",
       "      <th>1</th>\n",
       "      <td>2021-09-27 00:03:30</td>\n",
       "      <td>전남고객본부</td>\n",
       "      <td>수신불인터넷 연결 오류 뜸 재부팅해 봄 모텔 영업용 일중 꼭 점검 원하여 지사 이관...</td>\n",
       "      <td>8</td>\n",
       "      <td>네트워크 오류</td>\n",
       "    </tr>\n",
       "    <tr>\n",
       "      <th>2</th>\n",
       "      <td>2021-09-27 00:06:03</td>\n",
       "      <td>수도권서부고객본부</td>\n",
       "      <td>수 선불 단말 연후방</td>\n",
       "      <td>15</td>\n",
       "      <td>수신 불량</td>\n",
       "    </tr>\n",
       "    <tr>\n",
       "      <th>3</th>\n",
       "      <td>2021-09-27 00:07:13</td>\n",
       "      <td>부산고객본부</td>\n",
       "      <td>수신 네트워크 오류 접수 보류</td>\n",
       "      <td>8</td>\n",
       "      <td>네트워크 오류</td>\n",
       "    </tr>\n",
       "    <tr>\n",
       "      <th>4</th>\n",
       "      <td>2021-09-27 00:10:51</td>\n",
       "      <td>전남고객본부</td>\n",
       "      <td>수신 연락 우회선 단말 연락처인 입</td>\n",
       "      <td>15</td>\n",
       "      <td>수신 불량</td>\n",
       "    </tr>\n",
       "  </tbody>\n",
       "</table>\n",
       "</div>"
      ],
      "text/plain": [
       "                  접수시간         본부  \\\n",
       "0  2021-09-27 00:03:15     강원고객본부   \n",
       "1  2021-09-27 00:03:30     전남고객본부   \n",
       "2  2021-09-27 00:06:03  수도권서부고객본부   \n",
       "3  2021-09-27 00:07:13     부산고객본부   \n",
       "4  2021-09-27 00:10:51     전남고객본부   \n",
       "\n",
       "                                            sentence  Target Target_name  \n",
       "0                                       안됨 상담 자연 회복됨      27  조치 전 자연 회복  \n",
       "1  수신불인터넷 연결 오류 뜸 재부팅해 봄 모텔 영업용 일중 꼭 점검 원하여 지사 이관...       8     네트워크 오류  \n",
       "2                                        수 선불 단말 연후방      15       수신 불량  \n",
       "3                                   수신 네트워크 오류 접수 보류       8     네트워크 오류  \n",
       "4                                수신 연락 우회선 단말 연락처인 입      15       수신 불량  "
      ]
     },
     "execution_count": 28,
     "metadata": {},
     "output_type": "execute_result"
    }
   ],
   "source": [
    "df.head()"
   ]
  },
  {
   "cell_type": "code",
   "execution_count": 30,
   "metadata": {},
   "outputs": [],
   "source": [
    "df.to_csv('../dataset/CAI_data_002.csv', index= False)"
   ]
  }
 ],
 "metadata": {
  "kernelspec": {
   "display_name": "Python 3.8.10 64-bit",
   "language": "python",
   "name": "python3"
  },
  "language_info": {
   "codemirror_mode": {
    "name": "ipython",
    "version": 3
   },
   "file_extension": ".py",
   "mimetype": "text/x-python",
   "name": "python",
   "nbconvert_exporter": "python",
   "pygments_lexer": "ipython3",
   "version": "3.8.10"
  },
  "orig_nbformat": 4,
  "vscode": {
   "interpreter": {
    "hash": "916dbcbb3f70747c44a77c7bcd40155683ae19c65e1c03b4aa3499c5328201f1"
   }
  }
 },
 "nbformat": 4,
 "nbformat_minor": 2
}
