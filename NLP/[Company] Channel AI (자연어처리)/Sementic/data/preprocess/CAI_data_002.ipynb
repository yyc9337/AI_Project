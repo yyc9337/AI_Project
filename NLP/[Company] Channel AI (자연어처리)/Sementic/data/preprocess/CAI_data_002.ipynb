{
 "cells": [
  {
   "cell_type": "markdown",
   "metadata": {},
   "source": [
    "# Abstract\n",
    "#### Setting : 실험목적, 실험에 사용한 데이터셋 명시\n",
    "\n",
    "                            1. 정제된 CAI_data_001.ipynb 파일 import\n",
    "                            2. VOC 유형 depth2를 이용하여 데이터 라벨링\n",
    "\n",
    "                                                      \n",
    "                           8666 rows × 4 columns"
   ]
  },
  {
   "cell_type": "code",
   "execution_count": null,
   "metadata": {},
   "outputs": [],
   "source": []
  }
 ],
 "metadata": {
  "language_info": {
   "name": "python"
  },
  "orig_nbformat": 4
 },
 "nbformat": 4,
 "nbformat_minor": 2
}
