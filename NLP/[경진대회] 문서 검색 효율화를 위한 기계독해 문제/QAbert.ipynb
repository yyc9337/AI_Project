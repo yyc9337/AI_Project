{
 "cells": [
  {
   "cell_type": "code",
   "execution_count": 45,
   "metadata": {
    "pycharm": {
     "name": "#%%\n"
    }
   },
   "outputs": [],
   "source": [
    "# !pip install pytorch-lightning"
   ]
  },
  {
   "cell_type": "code",
   "execution_count": 3,
   "metadata": {
    "pycharm": {
     "name": "#%%\n"
    }
   },
   "outputs": [
    {
     "data": {
      "application/vnd.jupyter.widget-view+json": {
       "model_id": "9eebb0f44b2f4a6d8a829d5a693309f0",
       "version_major": 2,
       "version_minor": 0
      },
      "text/plain": [
       "Downloading:   0%|          | 0.00/226k [00:00<?, ?B/s]"
      ]
     },
     "metadata": {},
     "output_type": "display_data"
    },
    {
     "data": {
      "application/vnd.jupyter.widget-view+json": {
       "model_id": "94e9c3bfd88743d9b8ef7be8fec30969",
       "version_major": 2,
       "version_minor": 0
      },
      "text/plain": [
       "Downloading:   0%|          | 0.00/28.0 [00:00<?, ?B/s]"
      ]
     },
     "metadata": {},
     "output_type": "display_data"
    },
    {
     "data": {
      "application/vnd.jupyter.widget-view+json": {
       "model_id": "6111a76aa78c4805887114193c57ee8c",
       "version_major": 2,
       "version_minor": 0
      },
      "text/plain": [
       "Downloading:   0%|          | 0.00/570 [00:00<?, ?B/s]"
      ]
     },
     "metadata": {},
     "output_type": "display_data"
    }
   ],
   "source": [
    "import numpy as np\n",
    "import pandas as pd\n",
    "from pathlib import Path\n",
    "\n",
    "import os\n",
    "import random\n",
    "\n",
    "from sklearn.model_selection import train_test_split\n",
    "\n",
    "import torch\n",
    "import torch.nn as nn\n",
    "import torch.optim as optim\n",
    "from torch.utils.data import Dataset, DataLoader\n",
    "\n",
    "from collections import Counter\n",
    "from transformers import BertForQuestionAnswering\n",
    "from transformers import BertTokenizer\n",
    "\n",
    "import pytorch_lightning as pl\n",
    "\n",
    "from tqdm import tqdm_notebook as tqdm\n",
    "\n",
    "tokenizer = BertTokenizer.from_pretrained('bert-base-uncased')"
   ]
  },
  {
   "cell_type": "code",
   "execution_count": 4,
   "metadata": {
    "pycharm": {
     "name": "#%%\n"
    }
   },
   "outputs": [],
   "source": [
    "train = pd.read_csv('../dataset/경진대회/train_data_dataframe.csv')\n",
    "test = pd.read_csv('../dataset/경진대회/test_data_dataframe.csv')"
   ]
  },
  {
   "cell_type": "code",
   "execution_count": 5,
   "metadata": {
    "pycharm": {
     "name": "#%%\n"
    }
   },
   "outputs": [],
   "source": [
    "train['text'] =  train['context'] + train['title'] + train['question']\n",
    "test['text'] = test['context'] + test['title']  + test['question']"
   ]
  },
  {
   "cell_type": "code",
   "execution_count": 49,
   "metadata": {
    "pycharm": {
     "name": "#%%\n"
    }
   },
   "outputs": [
    {
     "data": {
      "text/html": [
       "<div>\n",
       "<style scoped>\n",
       "    .dataframe tbody tr th:only-of-type {\n",
       "        vertical-align: middle;\n",
       "    }\n",
       "\n",
       "    .dataframe tbody tr th {\n",
       "        vertical-align: top;\n",
       "    }\n",
       "\n",
       "    .dataframe thead th {\n",
       "        text-align: right;\n",
       "    }\n",
       "</style>\n",
       "<table border=\"1\" class=\"dataframe\">\n",
       "  <thead>\n",
       "    <tr style=\"text-align: right;\">\n",
       "      <th></th>\n",
       "      <th>content_id</th>\n",
       "      <th>title</th>\n",
       "      <th>paragraph_id</th>\n",
       "      <th>context</th>\n",
       "      <th>question_id</th>\n",
       "      <th>question</th>\n",
       "      <th>answer_text</th>\n",
       "      <th>answer_start</th>\n",
       "      <th>is_impossible</th>\n",
       "      <th>text</th>\n",
       "    </tr>\n",
       "  </thead>\n",
       "  <tbody>\n",
       "    <tr>\n",
       "      <th>0</th>\n",
       "      <td>CNTS_4740509086</td>\n",
       "      <td>국가 기술경쟁력 평가의 방법론과 응용</td>\n",
       "      <td>PARS_RrlDreD2hE</td>\n",
       "      <td>이 글에서는 제안한 기술경쟁력 평가 방법의 특징은 두 가지로 요약된다. 첫째, 현재...</td>\n",
       "      <td>QUES_CHGHl0CHHK</td>\n",
       "      <td>경쟁 상대국을 연구하고 경쟁 상대국을 앞설 수 있는 방법을 연구하기 위해서 더욱 활...</td>\n",
       "      <td>기술경쟁력</td>\n",
       "      <td>603.0</td>\n",
       "      <td>False</td>\n",
       "      <td>이 글에서는 제안한 기술경쟁력 평가 방법의 특징은 두 가지로 요약된다. 첫째, 현재...</td>\n",
       "    </tr>\n",
       "    <tr>\n",
       "      <th>1</th>\n",
       "      <td>CNTS_4740509086</td>\n",
       "      <td>국가 기술경쟁력 평가의 방법론과 응용</td>\n",
       "      <td>PARS_s5sSaKdCH3</td>\n",
       "      <td>현위치와 관련된 평가부문은 IMD 평가에서나 종합과학기술력의 평가에서 도 포함된 부...</td>\n",
       "      <td>QUES_ncJEA1ANCe</td>\n",
       "      <td>IMD평가에 포함되었던 기술관리부분의 한국의 순위는 평균 몇 위야</td>\n",
       "      <td>평균 32위</td>\n",
       "      <td>420.0</td>\n",
       "      <td>False</td>\n",
       "      <td>현위치와 관련된 평가부문은 IMD 평가에서나 종합과학기술력의 평가에서 도 포함된 부...</td>\n",
       "    </tr>\n",
       "  </tbody>\n",
       "</table>\n",
       "</div>"
      ],
      "text/plain": [
       "        content_id                 title     paragraph_id  \\\n",
       "0  CNTS_4740509086  국가 기술경쟁력 평가의 방법론과 응용  PARS_RrlDreD2hE   \n",
       "1  CNTS_4740509086  국가 기술경쟁력 평가의 방법론과 응용  PARS_s5sSaKdCH3   \n",
       "\n",
       "                                             context      question_id  \\\n",
       "0  이 글에서는 제안한 기술경쟁력 평가 방법의 특징은 두 가지로 요약된다. 첫째, 현재...  QUES_CHGHl0CHHK   \n",
       "1  현위치와 관련된 평가부문은 IMD 평가에서나 종합과학기술력의 평가에서 도 포함된 부...  QUES_ncJEA1ANCe   \n",
       "\n",
       "                                            question answer_text  \\\n",
       "0  경쟁 상대국을 연구하고 경쟁 상대국을 앞설 수 있는 방법을 연구하기 위해서 더욱 활...       기술경쟁력   \n",
       "1               IMD평가에 포함되었던 기술관리부분의 한국의 순위는 평균 몇 위야      평균 32위   \n",
       "\n",
       "   answer_start  is_impossible  \\\n",
       "0         603.0          False   \n",
       "1         420.0          False   \n",
       "\n",
       "                                                text  \n",
       "0  이 글에서는 제안한 기술경쟁력 평가 방법의 특징은 두 가지로 요약된다. 첫째, 현재...  \n",
       "1  현위치와 관련된 평가부문은 IMD 평가에서나 종합과학기술력의 평가에서 도 포함된 부...  "
      ]
     },
     "execution_count": 49,
     "metadata": {},
     "output_type": "execute_result"
    }
   ],
   "source": [
    "train.head(2)"
   ]
  },
  {
   "cell_type": "code",
   "execution_count": 6,
   "metadata": {
    "pycharm": {
     "name": "#%%\n"
    }
   },
   "outputs": [],
   "source": [
    "def seed_everything(seed=1234):\n",
    "    random.seed(seed)\n",
    "    os.environ['PYTHONHASHSEED'] = str(seed)\n",
    "    np.random.seed(seed)\n",
    "    torch.manual_seed(seed)\n",
    "    torch.cuda.manual_seed(seed)\n",
    "    torch.backends.cudnn.deterministic = True"
   ]
  },
  {
   "cell_type": "code",
   "execution_count": 7,
   "metadata": {
    "pycharm": {
     "name": "#%%\n"
    }
   },
   "outputs": [],
   "source": [
    "train['uncased_text'] = train['text'].apply(lambda x: x.lower())\n",
    "test['uncased_text'] = test['text'].apply(lambda x: x.lower())\n"
   ]
  },
  {
   "cell_type": "code",
   "execution_count": 8,
   "metadata": {
    "pycharm": {
     "name": "#%%\n"
    }
   },
   "outputs": [
    {
     "data": {
      "text/plain": [
       "content_id          0\n",
       "title               0\n",
       "paragraph_id        0\n",
       "context             0\n",
       "question_id         0\n",
       "question            0\n",
       "answer_text      9305\n",
       "answer_start     9305\n",
       "is_impossible       0\n",
       "text                0\n",
       "uncased_text        0\n",
       "dtype: int64"
      ]
     },
     "execution_count": 8,
     "metadata": {},
     "output_type": "execute_result"
    }
   ],
   "source": [
    "train.isnull().sum()"
   ]
  },
  {
   "cell_type": "code",
   "execution_count": 9,
   "metadata": {
    "pycharm": {
     "name": "#%%\n"
    }
   },
   "outputs": [],
   "source": [
    "# Tokenize\n",
    "train['tokenized_text'] = train['uncased_text'].apply(tokenizer.tokenize)\n",
    "test['tokenized_text'] = test['uncased_text'].apply(tokenizer.tokenize)\n",
    "\n",
    "train = train.dropna()\n",
    "train['tokenized_selected_text'] = train['answer_text'].apply(tokenizer.tokenize)"
   ]
  },
  {
   "cell_type": "code",
   "execution_count": 10,
   "metadata": {
    "pycharm": {
     "name": "#%%\n"
    }
   },
   "outputs": [
    {
     "data": {
      "text/html": [
       "<div>\n",
       "<style scoped>\n",
       "    .dataframe tbody tr th:only-of-type {\n",
       "        vertical-align: middle;\n",
       "    }\n",
       "\n",
       "    .dataframe tbody tr th {\n",
       "        vertical-align: top;\n",
       "    }\n",
       "\n",
       "    .dataframe thead th {\n",
       "        text-align: right;\n",
       "    }\n",
       "</style>\n",
       "<table border=\"1\" class=\"dataframe\">\n",
       "  <thead>\n",
       "    <tr style=\"text-align: right;\">\n",
       "      <th></th>\n",
       "      <th>content_id</th>\n",
       "      <th>title</th>\n",
       "      <th>paragraph_id</th>\n",
       "      <th>context</th>\n",
       "      <th>question_id</th>\n",
       "      <th>question</th>\n",
       "      <th>answer_text</th>\n",
       "      <th>answer_start</th>\n",
       "      <th>is_impossible</th>\n",
       "      <th>text</th>\n",
       "      <th>uncased_text</th>\n",
       "      <th>tokenized_text</th>\n",
       "      <th>tokenized_selected_text</th>\n",
       "    </tr>\n",
       "  </thead>\n",
       "  <tbody>\n",
       "    <tr>\n",
       "      <th>0</th>\n",
       "      <td>CNTS_4740509086</td>\n",
       "      <td>국가 기술경쟁력 평가의 방법론과 응용</td>\n",
       "      <td>PARS_RrlDreD2hE</td>\n",
       "      <td>이 글에서는 제안한 기술경쟁력 평가 방법의 특징은 두 가지로 요약된다. 첫째, 현재...</td>\n",
       "      <td>QUES_CHGHl0CHHK</td>\n",
       "      <td>경쟁 상대국을 연구하고 경쟁 상대국을 앞설 수 있는 방법을 연구하기 위해서 더욱 활...</td>\n",
       "      <td>기술경쟁력</td>\n",
       "      <td>603.0</td>\n",
       "      <td>False</td>\n",
       "      <td>이 글에서는 제안한 기술경쟁력 평가 방법의 특징은 두 가지로 요약된다. 첫째, 현재...</td>\n",
       "      <td>이 글에서는 제안한 기술경쟁력 평가 방법의 특징은 두 가지로 요약된다. 첫째, 현재...</td>\n",
       "      <td>[ᄋ, ##ᅵ, ᄀ, ##ᅳ, ##ᆯ, ##ᄋ, ##ᅦ, ##ᄉ, ##ᅥ, ##ᄂ,...</td>\n",
       "      <td>[ᄀ, ##ᅵ, ##ᄉ, ##ᅮ, ##ᆯ, ##ᄀ, ##ᅧ, ##ᆼ, ##ᄌ, ##...</td>\n",
       "    </tr>\n",
       "    <tr>\n",
       "      <th>1</th>\n",
       "      <td>CNTS_4740509086</td>\n",
       "      <td>국가 기술경쟁력 평가의 방법론과 응용</td>\n",
       "      <td>PARS_s5sSaKdCH3</td>\n",
       "      <td>현위치와 관련된 평가부문은 IMD 평가에서나 종합과학기술력의 평가에서 도 포함된 부...</td>\n",
       "      <td>QUES_ncJEA1ANCe</td>\n",
       "      <td>IMD평가에 포함되었던 기술관리부분의 한국의 순위는 평균 몇 위야</td>\n",
       "      <td>평균 32위</td>\n",
       "      <td>420.0</td>\n",
       "      <td>False</td>\n",
       "      <td>현위치와 관련된 평가부문은 IMD 평가에서나 종합과학기술력의 평가에서 도 포함된 부...</td>\n",
       "      <td>현위치와 관련된 평가부문은 imd 평가에서나 종합과학기술력의 평가에서 도 포함된 부...</td>\n",
       "      <td>[[UNK], [UNK], ᄑ, ##ᅧ, ##ᆼ, ##ᄀ, ##ᅡ, ##ᄇ, ##ᅮ...</td>\n",
       "      <td>[ᄑ, ##ᅧ, ##ᆼ, ##ᄀ, ##ᅲ, ##ᆫ, [UNK]]</td>\n",
       "    </tr>\n",
       "    <tr>\n",
       "      <th>3</th>\n",
       "      <td>CNTS_4740509086</td>\n",
       "      <td>국가 기술경쟁력 평가의 방법론과 응용</td>\n",
       "      <td>PARS_pP8k4n8yg4</td>\n",
       "      <td>IMD의 평가나 종합과학기술력 평가는 궁극적으로는 국가간 순위를 매기기 위한 평가이...</td>\n",
       "      <td>QUES_GnQIVxXt70</td>\n",
       "      <td>기술무역액 등과 같이 가용할 수 있는 통계 수치에 전적으로 의존하는 평가가 뭐야</td>\n",
       "      <td>종합과학기술력 평가</td>\n",
       "      <td>124.0</td>\n",
       "      <td>False</td>\n",
       "      <td>IMD의 평가나 종합과학기술력 평가는 궁극적으로는 국가간 순위를 매기기 위한 평가이...</td>\n",
       "      <td>imd의 평가나 종합과학기술력 평가는 궁극적으로는 국가간 순위를 매기기 위한 평가이...</td>\n",
       "      <td>[im, ##d, ##ᄋ, ##ᅴ, ᄑ, ##ᅧ, ##ᆼ, ##ᄀ, ##ᅡ, ##ᄂ...</td>\n",
       "      <td>[ᄌ, ##ᅩ, ##ᆼ, ##ᄒ, ##ᅡ, ##ᆸ, ##ᄀ, ##ᅪ, ##ᄒ, ##...</td>\n",
       "    </tr>\n",
       "    <tr>\n",
       "      <th>4</th>\n",
       "      <td>CNTS_4740509086</td>\n",
       "      <td>국가 기술경쟁력 평가의 방법론과 응용</td>\n",
       "      <td>PARS_7b3M3mKZbb</td>\n",
       "      <td>기업경영, 산학연 협력, 교육과 훈련, 세계화, 정부의 행정효율 그 어느 부문도 한...</td>\n",
       "      <td>QUES_RcrMURMuhd</td>\n",
       "      <td>창의력을 저해하는 인사제도 요인은 뭐야</td>\n",
       "      <td>연공서열제</td>\n",
       "      <td>120.0</td>\n",
       "      <td>False</td>\n",
       "      <td>기업경영, 산학연 협력, 교육과 훈련, 세계화, 정부의 행정효율 그 어느 부문도 한...</td>\n",
       "      <td>기업경영, 산학연 협력, 교육과 훈련, 세계화, 정부의 행정효율 그 어느 부문도 한...</td>\n",
       "      <td>[ᄀ, ##ᅵ, ##ᄋ, ##ᅥ, ##ᆸ, ##ᄀ, ##ᅧ, ##ᆼ, ##ᄋ, ##...</td>\n",
       "      <td>[ᄋ, ##ᅧ, ##ᆫ, ##ᄀ, ##ᅩ, ##ᆼ, ##ᄉ, ##ᅥ, ##ᄋ, ##...</td>\n",
       "    </tr>\n",
       "    <tr>\n",
       "      <th>5</th>\n",
       "      <td>CNTS_4740509086</td>\n",
       "      <td>국가 기술경쟁력 평가의 방법론과 응용</td>\n",
       "      <td>PARS_Ldm3nIToPd</td>\n",
       "      <td>IMD의 기술경쟁력 평가가 1990년 중반 이후부터는 폭 넓게 인용되고 있지만, 그...</td>\n",
       "      <td>QUES_OhH70koIzZ</td>\n",
       "      <td>과학기술의 성과로 나타나는 기술집약제품이 수출에서 차지하는 비중 등을 바탕으로 하여...</td>\n",
       "      <td>산출지표</td>\n",
       "      <td>348.0</td>\n",
       "      <td>False</td>\n",
       "      <td>IMD의 기술경쟁력 평가가 1990년 중반 이후부터는 폭 넓게 인용되고 있지만, 그...</td>\n",
       "      <td>imd의 기술경쟁력 평가가 1990년 중반 이후부터는 폭 넓게 인용되고 있지만, 그...</td>\n",
       "      <td>[im, ##d, ##ᄋ, ##ᅴ, ᄀ, ##ᅵ, ##ᄉ, ##ᅮ, ##ᆯ, ##ᄀ...</td>\n",
       "      <td>[ᄉ, ##ᅡ, ##ᆫ, ##ᄎ, ##ᅮ, ##ᆯ, ##ᄌ, ##ᅵ, ##ᄑ, ##ᅭ]</td>\n",
       "    </tr>\n",
       "  </tbody>\n",
       "</table>\n",
       "</div>"
      ],
      "text/plain": [
       "        content_id                 title     paragraph_id  \\\n",
       "0  CNTS_4740509086  국가 기술경쟁력 평가의 방법론과 응용  PARS_RrlDreD2hE   \n",
       "1  CNTS_4740509086  국가 기술경쟁력 평가의 방법론과 응용  PARS_s5sSaKdCH3   \n",
       "3  CNTS_4740509086  국가 기술경쟁력 평가의 방법론과 응용  PARS_pP8k4n8yg4   \n",
       "4  CNTS_4740509086  국가 기술경쟁력 평가의 방법론과 응용  PARS_7b3M3mKZbb   \n",
       "5  CNTS_4740509086  국가 기술경쟁력 평가의 방법론과 응용  PARS_Ldm3nIToPd   \n",
       "\n",
       "                                             context      question_id  \\\n",
       "0  이 글에서는 제안한 기술경쟁력 평가 방법의 특징은 두 가지로 요약된다. 첫째, 현재...  QUES_CHGHl0CHHK   \n",
       "1  현위치와 관련된 평가부문은 IMD 평가에서나 종합과학기술력의 평가에서 도 포함된 부...  QUES_ncJEA1ANCe   \n",
       "3  IMD의 평가나 종합과학기술력 평가는 궁극적으로는 국가간 순위를 매기기 위한 평가이...  QUES_GnQIVxXt70   \n",
       "4  기업경영, 산학연 협력, 교육과 훈련, 세계화, 정부의 행정효율 그 어느 부문도 한...  QUES_RcrMURMuhd   \n",
       "5  IMD의 기술경쟁력 평가가 1990년 중반 이후부터는 폭 넓게 인용되고 있지만, 그...  QUES_OhH70koIzZ   \n",
       "\n",
       "                                            question answer_text  \\\n",
       "0  경쟁 상대국을 연구하고 경쟁 상대국을 앞설 수 있는 방법을 연구하기 위해서 더욱 활...       기술경쟁력   \n",
       "1               IMD평가에 포함되었던 기술관리부분의 한국의 순위는 평균 몇 위야      평균 32위   \n",
       "3       기술무역액 등과 같이 가용할 수 있는 통계 수치에 전적으로 의존하는 평가가 뭐야  종합과학기술력 평가   \n",
       "4                              창의력을 저해하는 인사제도 요인은 뭐야       연공서열제   \n",
       "5  과학기술의 성과로 나타나는 기술집약제품이 수출에서 차지하는 비중 등을 바탕으로 하여...        산출지표   \n",
       "\n",
       "   answer_start  is_impossible  \\\n",
       "0         603.0          False   \n",
       "1         420.0          False   \n",
       "3         124.0          False   \n",
       "4         120.0          False   \n",
       "5         348.0          False   \n",
       "\n",
       "                                                text  \\\n",
       "0  이 글에서는 제안한 기술경쟁력 평가 방법의 특징은 두 가지로 요약된다. 첫째, 현재...   \n",
       "1  현위치와 관련된 평가부문은 IMD 평가에서나 종합과학기술력의 평가에서 도 포함된 부...   \n",
       "3  IMD의 평가나 종합과학기술력 평가는 궁극적으로는 국가간 순위를 매기기 위한 평가이...   \n",
       "4  기업경영, 산학연 협력, 교육과 훈련, 세계화, 정부의 행정효율 그 어느 부문도 한...   \n",
       "5  IMD의 기술경쟁력 평가가 1990년 중반 이후부터는 폭 넓게 인용되고 있지만, 그...   \n",
       "\n",
       "                                        uncased_text  \\\n",
       "0  이 글에서는 제안한 기술경쟁력 평가 방법의 특징은 두 가지로 요약된다. 첫째, 현재...   \n",
       "1  현위치와 관련된 평가부문은 imd 평가에서나 종합과학기술력의 평가에서 도 포함된 부...   \n",
       "3  imd의 평가나 종합과학기술력 평가는 궁극적으로는 국가간 순위를 매기기 위한 평가이...   \n",
       "4  기업경영, 산학연 협력, 교육과 훈련, 세계화, 정부의 행정효율 그 어느 부문도 한...   \n",
       "5  imd의 기술경쟁력 평가가 1990년 중반 이후부터는 폭 넓게 인용되고 있지만, 그...   \n",
       "\n",
       "                                      tokenized_text  \\\n",
       "0  [ᄋ, ##ᅵ, ᄀ, ##ᅳ, ##ᆯ, ##ᄋ, ##ᅦ, ##ᄉ, ##ᅥ, ##ᄂ,...   \n",
       "1  [[UNK], [UNK], ᄑ, ##ᅧ, ##ᆼ, ##ᄀ, ##ᅡ, ##ᄇ, ##ᅮ...   \n",
       "3  [im, ##d, ##ᄋ, ##ᅴ, ᄑ, ##ᅧ, ##ᆼ, ##ᄀ, ##ᅡ, ##ᄂ...   \n",
       "4  [ᄀ, ##ᅵ, ##ᄋ, ##ᅥ, ##ᆸ, ##ᄀ, ##ᅧ, ##ᆼ, ##ᄋ, ##...   \n",
       "5  [im, ##d, ##ᄋ, ##ᅴ, ᄀ, ##ᅵ, ##ᄉ, ##ᅮ, ##ᆯ, ##ᄀ...   \n",
       "\n",
       "                             tokenized_selected_text  \n",
       "0  [ᄀ, ##ᅵ, ##ᄉ, ##ᅮ, ##ᆯ, ##ᄀ, ##ᅧ, ##ᆼ, ##ᄌ, ##...  \n",
       "1                [ᄑ, ##ᅧ, ##ᆼ, ##ᄀ, ##ᅲ, ##ᆫ, [UNK]]  \n",
       "3  [ᄌ, ##ᅩ, ##ᆼ, ##ᄒ, ##ᅡ, ##ᆸ, ##ᄀ, ##ᅪ, ##ᄒ, ##...  \n",
       "4  [ᄋ, ##ᅧ, ##ᆫ, ##ᄀ, ##ᅩ, ##ᆼ, ##ᄉ, ##ᅥ, ##ᄋ, ##...  \n",
       "5   [ᄉ, ##ᅡ, ##ᆫ, ##ᄎ, ##ᅮ, ##ᆯ, ##ᄌ, ##ᅵ, ##ᄑ, ##ᅭ]  "
      ]
     },
     "execution_count": 10,
     "metadata": {},
     "output_type": "execute_result"
    }
   ],
   "source": [
    "train.head()"
   ]
  },
  {
   "cell_type": "code",
   "execution_count": 11,
   "metadata": {
    "pycharm": {
     "name": "#%%\n"
    }
   },
   "outputs": [
    {
     "name": "stderr",
     "output_type": "stream",
     "text": [
      "/tmp/ipykernel_3883803/140825938.py:6: TqdmDeprecationWarning: This function will be removed in tqdm==5.0.0\n",
      "Please use `tqdm.notebook.tqdm` instead of `tqdm.tqdm_notebook`\n",
      "  for i in tqdm(range(len(train))):\n"
     ]
    },
    {
     "data": {
      "application/vnd.jupyter.widget-view+json": {
       "model_id": "e577bd1162ae412790d18e5c8d8f4240",
       "version_major": 2,
       "version_minor": 0
      },
      "text/plain": [
       "  0%|          | 0/28024 [00:00<?, ?it/s]"
      ]
     },
     "metadata": {},
     "output_type": "display_data"
    }
   ],
   "source": [
    "# Filter train data\n",
    "start_position_candidates = []\n",
    "end_position_candidates = []\n",
    "train['select_length'] = train['tokenized_selected_text'].map(len)\n",
    "\n",
    "for i in tqdm(range(len(train))):\n",
    "    start_position_candidate = [j for j, tok in enumerate(train['tokenized_text'].iloc[i]) if tok == train['tokenized_selected_text'].iloc[i][0]]\n",
    "    end_position_candidate = [j for j, tok in enumerate(train['tokenized_text'].iloc[i]) if tok == train['tokenized_selected_text'].iloc[i][-1]]\n",
    "\n",
    "    start_position_candidate = [idx for idx in start_position_candidate if idx + train['select_length'].iloc[i] - 1 in end_position_candidate]\n",
    "    end_position_candidate = [idx for idx in end_position_candidate if idx - train['select_length'].iloc[i] + 1 in start_position_candidate]\n",
    "\n",
    "    start_position_candidates.append(start_position_candidate)\n",
    "    end_position_candidates.append(end_position_candidate)"
   ]
  },
  {
   "cell_type": "code",
   "execution_count": 12,
   "metadata": {
    "pycharm": {
     "name": "#%%\n"
    }
   },
   "outputs": [],
   "source": [
    "start_position_candidates = [l[0] if len(l) > 0 else -1 for l in start_position_candidates]\n",
    "end_position_candidates = [l[0] if len(l) > 0 else -1 for l in end_position_candidates]"
   ]
  },
  {
   "cell_type": "code",
   "execution_count": 13,
   "metadata": {
    "pycharm": {
     "name": "#%%\n"
    }
   },
   "outputs": [],
   "source": [
    "train['start_position'] = start_position_candidates\n",
    "train['end_position'] = end_position_candidates\n",
    "test['start_position'] = -1\n",
    "test['end_position'] = -1"
   ]
  },
  {
   "cell_type": "code",
   "execution_count": 14,
   "metadata": {
    "pycharm": {
     "name": "#%%\n"
    }
   },
   "outputs": [
    {
     "data": {
      "text/html": [
       "<div>\n",
       "<style scoped>\n",
       "    .dataframe tbody tr th:only-of-type {\n",
       "        vertical-align: middle;\n",
       "    }\n",
       "\n",
       "    .dataframe tbody tr th {\n",
       "        vertical-align: top;\n",
       "    }\n",
       "\n",
       "    .dataframe thead th {\n",
       "        text-align: right;\n",
       "    }\n",
       "</style>\n",
       "<table border=\"1\" class=\"dataframe\">\n",
       "  <thead>\n",
       "    <tr style=\"text-align: right;\">\n",
       "      <th></th>\n",
       "      <th>content_id</th>\n",
       "      <th>title</th>\n",
       "      <th>paragraph_id</th>\n",
       "      <th>context</th>\n",
       "      <th>question_id</th>\n",
       "      <th>question</th>\n",
       "      <th>answer_text</th>\n",
       "      <th>answer_start</th>\n",
       "      <th>is_impossible</th>\n",
       "      <th>text</th>\n",
       "      <th>uncased_text</th>\n",
       "      <th>tokenized_text</th>\n",
       "      <th>tokenized_selected_text</th>\n",
       "      <th>select_length</th>\n",
       "      <th>start_position</th>\n",
       "      <th>end_position</th>\n",
       "    </tr>\n",
       "  </thead>\n",
       "  <tbody>\n",
       "    <tr>\n",
       "      <th>0</th>\n",
       "      <td>CNTS_4740509086</td>\n",
       "      <td>국가 기술경쟁력 평가의 방법론과 응용</td>\n",
       "      <td>PARS_RrlDreD2hE</td>\n",
       "      <td>이 글에서는 제안한 기술경쟁력 평가 방법의 특징은 두 가지로 요약된다. 첫째, 현재...</td>\n",
       "      <td>QUES_CHGHl0CHHK</td>\n",
       "      <td>경쟁 상대국을 연구하고 경쟁 상대국을 앞설 수 있는 방법을 연구하기 위해서 더욱 활...</td>\n",
       "      <td>기술경쟁력</td>\n",
       "      <td>603.0</td>\n",
       "      <td>False</td>\n",
       "      <td>이 글에서는 제안한 기술경쟁력 평가 방법의 특징은 두 가지로 요약된다. 첫째, 현재...</td>\n",
       "      <td>이 글에서는 제안한 기술경쟁력 평가 방법의 특징은 두 가지로 요약된다. 첫째, 현재...</td>\n",
       "      <td>[ᄋ, ##ᅵ, ᄀ, ##ᅳ, ##ᆯ, ##ᄋ, ##ᅦ, ##ᄉ, ##ᅥ, ##ᄂ,...</td>\n",
       "      <td>[ᄀ, ##ᅵ, ##ᄉ, ##ᅮ, ##ᆯ, ##ᄀ, ##ᅧ, ##ᆼ, ##ᄌ, ##...</td>\n",
       "      <td>14</td>\n",
       "      <td>20</td>\n",
       "      <td>33</td>\n",
       "    </tr>\n",
       "    <tr>\n",
       "      <th>1</th>\n",
       "      <td>CNTS_4740509086</td>\n",
       "      <td>국가 기술경쟁력 평가의 방법론과 응용</td>\n",
       "      <td>PARS_s5sSaKdCH3</td>\n",
       "      <td>현위치와 관련된 평가부문은 IMD 평가에서나 종합과학기술력의 평가에서 도 포함된 부...</td>\n",
       "      <td>QUES_ncJEA1ANCe</td>\n",
       "      <td>IMD평가에 포함되었던 기술관리부분의 한국의 순위는 평균 몇 위야</td>\n",
       "      <td>평균 32위</td>\n",
       "      <td>420.0</td>\n",
       "      <td>False</td>\n",
       "      <td>현위치와 관련된 평가부문은 IMD 평가에서나 종합과학기술력의 평가에서 도 포함된 부...</td>\n",
       "      <td>현위치와 관련된 평가부문은 imd 평가에서나 종합과학기술력의 평가에서 도 포함된 부...</td>\n",
       "      <td>[[UNK], [UNK], ᄑ, ##ᅧ, ##ᆼ, ##ᄀ, ##ᅡ, ##ᄇ, ##ᅮ...</td>\n",
       "      <td>[ᄑ, ##ᅧ, ##ᆼ, ##ᄀ, ##ᅲ, ##ᆫ, [UNK]]</td>\n",
       "      <td>7</td>\n",
       "      <td>653</td>\n",
       "      <td>659</td>\n",
       "    </tr>\n",
       "    <tr>\n",
       "      <th>3</th>\n",
       "      <td>CNTS_4740509086</td>\n",
       "      <td>국가 기술경쟁력 평가의 방법론과 응용</td>\n",
       "      <td>PARS_pP8k4n8yg4</td>\n",
       "      <td>IMD의 평가나 종합과학기술력 평가는 궁극적으로는 국가간 순위를 매기기 위한 평가이...</td>\n",
       "      <td>QUES_GnQIVxXt70</td>\n",
       "      <td>기술무역액 등과 같이 가용할 수 있는 통계 수치에 전적으로 의존하는 평가가 뭐야</td>\n",
       "      <td>종합과학기술력 평가</td>\n",
       "      <td>124.0</td>\n",
       "      <td>False</td>\n",
       "      <td>IMD의 평가나 종합과학기술력 평가는 궁극적으로는 국가간 순위를 매기기 위한 평가이...</td>\n",
       "      <td>imd의 평가나 종합과학기술력 평가는 궁극적으로는 국가간 순위를 매기기 위한 평가이...</td>\n",
       "      <td>[im, ##d, ##ᄋ, ##ᅴ, ᄑ, ##ᅧ, ##ᆼ, ##ᄀ, ##ᅡ, ##ᄂ...</td>\n",
       "      <td>[ᄌ, ##ᅩ, ##ᆼ, ##ᄒ, ##ᅡ, ##ᆸ, ##ᄀ, ##ᅪ, ##ᄒ, ##...</td>\n",
       "      <td>24</td>\n",
       "      <td>11</td>\n",
       "      <td>34</td>\n",
       "    </tr>\n",
       "    <tr>\n",
       "      <th>4</th>\n",
       "      <td>CNTS_4740509086</td>\n",
       "      <td>국가 기술경쟁력 평가의 방법론과 응용</td>\n",
       "      <td>PARS_7b3M3mKZbb</td>\n",
       "      <td>기업경영, 산학연 협력, 교육과 훈련, 세계화, 정부의 행정효율 그 어느 부문도 한...</td>\n",
       "      <td>QUES_RcrMURMuhd</td>\n",
       "      <td>창의력을 저해하는 인사제도 요인은 뭐야</td>\n",
       "      <td>연공서열제</td>\n",
       "      <td>120.0</td>\n",
       "      <td>False</td>\n",
       "      <td>기업경영, 산학연 협력, 교육과 훈련, 세계화, 정부의 행정효율 그 어느 부문도 한...</td>\n",
       "      <td>기업경영, 산학연 협력, 교육과 훈련, 세계화, 정부의 행정효율 그 어느 부문도 한...</td>\n",
       "      <td>[ᄀ, ##ᅵ, ##ᄋ, ##ᅥ, ##ᆸ, ##ᄀ, ##ᅧ, ##ᆼ, ##ᄋ, ##...</td>\n",
       "      <td>[ᄋ, ##ᅧ, ##ᆫ, ##ᄀ, ##ᅩ, ##ᆼ, ##ᄉ, ##ᅥ, ##ᄋ, ##...</td>\n",
       "      <td>13</td>\n",
       "      <td>173</td>\n",
       "      <td>185</td>\n",
       "    </tr>\n",
       "    <tr>\n",
       "      <th>5</th>\n",
       "      <td>CNTS_4740509086</td>\n",
       "      <td>국가 기술경쟁력 평가의 방법론과 응용</td>\n",
       "      <td>PARS_Ldm3nIToPd</td>\n",
       "      <td>IMD의 기술경쟁력 평가가 1990년 중반 이후부터는 폭 넓게 인용되고 있지만, 그...</td>\n",
       "      <td>QUES_OhH70koIzZ</td>\n",
       "      <td>과학기술의 성과로 나타나는 기술집약제품이 수출에서 차지하는 비중 등을 바탕으로 하여...</td>\n",
       "      <td>산출지표</td>\n",
       "      <td>348.0</td>\n",
       "      <td>False</td>\n",
       "      <td>IMD의 기술경쟁력 평가가 1990년 중반 이후부터는 폭 넓게 인용되고 있지만, 그...</td>\n",
       "      <td>imd의 기술경쟁력 평가가 1990년 중반 이후부터는 폭 넓게 인용되고 있지만, 그...</td>\n",
       "      <td>[im, ##d, ##ᄋ, ##ᅴ, ᄀ, ##ᅵ, ##ᄉ, ##ᅮ, ##ᆯ, ##ᄀ...</td>\n",
       "      <td>[ᄉ, ##ᅡ, ##ᆫ, ##ᄎ, ##ᅮ, ##ᆯ, ##ᄌ, ##ᅵ, ##ᄑ, ##ᅭ]</td>\n",
       "      <td>10</td>\n",
       "      <td>160</td>\n",
       "      <td>169</td>\n",
       "    </tr>\n",
       "    <tr>\n",
       "      <th>...</th>\n",
       "      <td>...</td>\n",
       "      <td>...</td>\n",
       "      <td>...</td>\n",
       "      <td>...</td>\n",
       "      <td>...</td>\n",
       "      <td>...</td>\n",
       "      <td>...</td>\n",
       "      <td>...</td>\n",
       "      <td>...</td>\n",
       "      <td>...</td>\n",
       "      <td>...</td>\n",
       "      <td>...</td>\n",
       "      <td>...</td>\n",
       "      <td>...</td>\n",
       "      <td>...</td>\n",
       "      <td>...</td>\n",
       "    </tr>\n",
       "    <tr>\n",
       "      <th>37320</th>\n",
       "      <td>CNTS_2129305745</td>\n",
       "      <td>국역 금대전책</td>\n",
       "      <td>PARS_cFgFiF9icI</td>\n",
       "      <td>실제 측량해 본 것으로 말씀드리면, 종동(宗動)이 가장 높고, 항성(恒星) 토성(土...</td>\n",
       "      <td>QUES_CvNv5UjUIR</td>\n",
       "      <td>우주 가장 아래에서 금성과 수성 외에 항성까지 서로 가릴 때 모든 것을 먹는 것은 뭐지</td>\n",
       "      <td>달</td>\n",
       "      <td>361.0</td>\n",
       "      <td>False</td>\n",
       "      <td>실제 측량해 본 것으로 말씀드리면, 종동(宗動)이 가장 높고, 항성(恒星) 토성(土...</td>\n",
       "      <td>실제 측량해 본 것으로 말씀드리면, 종동(宗動)이 가장 높고, 항성(恒星) 토성(土...</td>\n",
       "      <td>[ᄉ, ##ᅵ, ##ᆯ, ##ᄌ, ##ᅦ, [UNK], ᄇ, ##ᅩ, ##ᆫ, [U...</td>\n",
       "      <td>[ᄃ, ##ᅡ, ##ᆯ]</td>\n",
       "      <td>3</td>\n",
       "      <td>161</td>\n",
       "      <td>163</td>\n",
       "    </tr>\n",
       "    <tr>\n",
       "      <th>37321</th>\n",
       "      <td>CNTS_2129305745</td>\n",
       "      <td>국역 금대전책</td>\n",
       "      <td>PARS_R9RLmyTzUy</td>\n",
       "      <td>신이 생각하기에, 땅은 계란의 노른자와 같고, 하늘은 계란의 껍질과 같으며, 경도(...</td>\n",
       "      <td>QUES_MrMnyucG4Y</td>\n",
       "      <td>사람이 땅바닥에 있으면서 북쪽으로 이동을 얼마나 해야 북극의 고도가 1도 높아질까</td>\n",
       "      <td>250리</td>\n",
       "      <td>184.0</td>\n",
       "      <td>False</td>\n",
       "      <td>신이 생각하기에, 땅은 계란의 노른자와 같고, 하늘은 계란의 껍질과 같으며, 경도(...</td>\n",
       "      <td>신이 생각하기에, 땅은 계란의 노른자와 같고, 하늘은 계란의 껍질과 같으며, 경도(...</td>\n",
       "      <td>[ᄉ, ##ᅵ, ##ᆫ, ##ᄋ, ##ᅵ, ᄉ, ##ᅢ, ##ᆼ, ##ᄀ, ##ᅡ,...</td>\n",
       "      <td>[250, ##ᄅ, ##ᅵ]</td>\n",
       "      <td>3</td>\n",
       "      <td>214</td>\n",
       "      <td>216</td>\n",
       "    </tr>\n",
       "    <tr>\n",
       "      <th>37324</th>\n",
       "      <td>CNTS_2129305745</td>\n",
       "      <td>국역 금대전책</td>\n",
       "      <td>PARS_ma0DB2fJSk</td>\n",
       "      <td>｢천체론｣은 정조가 하늘의 작용이 민사(民事)와 관계되므로 국가의 다스림에서 천문에...</td>\n",
       "      <td>QUES_XM4RUoboD7</td>\n",
       "      <td>역상을 알지 못함을 분개하면서 이에 대한 견해를 토로하도록 하는 책문을 정조가 내놓...</td>\n",
       "      <td>천체론</td>\n",
       "      <td>1.0</td>\n",
       "      <td>False</td>\n",
       "      <td>｢천체론｣은 정조가 하늘의 작용이 민사(民事)와 관계되므로 국가의 다스림에서 천문에...</td>\n",
       "      <td>｢천체론｣은 정조가 하늘의 작용이 민사(民事)와 관계되므로 국가의 다스림에서 천문에...</td>\n",
       "      <td>[[UNK], ᄎ, ##ᅥ, ##ᆫ, ##ᄎ, ##ᅦ, ##ᄅ, ##ᅩ, ##ᆫ, ...</td>\n",
       "      <td>[ᄎ, ##ᅥ, ##ᆫ, ##ᄎ, ##ᅦ, ##ᄅ, ##ᅩ, ##ᆫ]</td>\n",
       "      <td>8</td>\n",
       "      <td>1</td>\n",
       "      <td>8</td>\n",
       "    </tr>\n",
       "    <tr>\n",
       "      <th>37325</th>\n",
       "      <td>CNTS_2129305745</td>\n",
       "      <td>국역 금대전책</td>\n",
       "      <td>PARS_wGlvzy6QkR</td>\n",
       "      <td>｢문체론｣은 국왕 정조가 “문장은 한 시대의 체제가 있어서 세상의 도와 함께 부침한...</td>\n",
       "      <td>QUES_YsPrUyg1xE</td>\n",
       "      <td>사대부들이 정학을 기피하면서 기교에 기반한 글쓰기를 하자 문체반정을 추진한 왕은 누구야</td>\n",
       "      <td>정조</td>\n",
       "      <td>244.0</td>\n",
       "      <td>False</td>\n",
       "      <td>｢문체론｣은 국왕 정조가 “문장은 한 시대의 체제가 있어서 세상의 도와 함께 부침한...</td>\n",
       "      <td>｢문체론｣은 국왕 정조가 “문장은 한 시대의 체제가 있어서 세상의 도와 함께 부침한...</td>\n",
       "      <td>[[UNK], ᄆ, ##ᅮ, ##ᆫ, ##ᄎ, ##ᅦ, ##ᄅ, ##ᅩ, ##ᆫ, ...</td>\n",
       "      <td>[ᄌ, ##ᅥ, ##ᆼ, ##ᄌ, ##ᅩ]</td>\n",
       "      <td>5</td>\n",
       "      <td>19</td>\n",
       "      <td>23</td>\n",
       "    </tr>\n",
       "    <tr>\n",
       "      <th>37328</th>\n",
       "      <td>CNTS_7969874543</td>\n",
       "      <td>과학기술 ODA 사업의 사례2  농업기술분야-몽골 강원도 농업타운 조성 및 운영 성...</td>\n",
       "      <td>PARS_4PSXTjLeXS</td>\n",
       "      <td>예로부터 몽골은 목초지를 따라 방목하는 방식의 유목문화로 육식 위주의 식생활을 하였...</td>\n",
       "      <td>QUES_53EA1Edz1J</td>\n",
       "      <td>예전부터 육식을 중심으로 식생활을 이어온 나라로 유목문화의 방식을 사용한 나라가 어디야</td>\n",
       "      <td>몽골</td>\n",
       "      <td>5.0</td>\n",
       "      <td>False</td>\n",
       "      <td>예로부터 몽골은 목초지를 따라 방목하는 방식의 유목문화로 육식 위주의 식생활을 하였...</td>\n",
       "      <td>예로부터 몽골은 목초지를 따라 방목하는 방식의 유목문화로 육식 위주의 식생활을 하였...</td>\n",
       "      <td>[[UNK], ᄆ, ##ᅩ, ##ᆼ, ##ᄀ, ##ᅩ, ##ᆯ, ##ᄋ, ##ᅳ, ...</td>\n",
       "      <td>[ᄆ, ##ᅩ, ##ᆼ, ##ᄀ, ##ᅩ, ##ᆯ]</td>\n",
       "      <td>6</td>\n",
       "      <td>1</td>\n",
       "      <td>6</td>\n",
       "    </tr>\n",
       "  </tbody>\n",
       "</table>\n",
       "<p>28024 rows × 16 columns</p>\n",
       "</div>"
      ],
      "text/plain": [
       "            content_id                                              title  \\\n",
       "0      CNTS_4740509086                               국가 기술경쟁력 평가의 방법론과 응용   \n",
       "1      CNTS_4740509086                               국가 기술경쟁력 평가의 방법론과 응용   \n",
       "3      CNTS_4740509086                               국가 기술경쟁력 평가의 방법론과 응용   \n",
       "4      CNTS_4740509086                               국가 기술경쟁력 평가의 방법론과 응용   \n",
       "5      CNTS_4740509086                               국가 기술경쟁력 평가의 방법론과 응용   \n",
       "...                ...                                                ...   \n",
       "37320  CNTS_2129305745                                            국역 금대전책   \n",
       "37321  CNTS_2129305745                                            국역 금대전책   \n",
       "37324  CNTS_2129305745                                            국역 금대전책   \n",
       "37325  CNTS_2129305745                                            국역 금대전책   \n",
       "37328  CNTS_7969874543  과학기술 ODA 사업의 사례2  농업기술분야-몽골 강원도 농업타운 조성 및 운영 성...   \n",
       "\n",
       "          paragraph_id                                            context  \\\n",
       "0      PARS_RrlDreD2hE  이 글에서는 제안한 기술경쟁력 평가 방법의 특징은 두 가지로 요약된다. 첫째, 현재...   \n",
       "1      PARS_s5sSaKdCH3  현위치와 관련된 평가부문은 IMD 평가에서나 종합과학기술력의 평가에서 도 포함된 부...   \n",
       "3      PARS_pP8k4n8yg4  IMD의 평가나 종합과학기술력 평가는 궁극적으로는 국가간 순위를 매기기 위한 평가이...   \n",
       "4      PARS_7b3M3mKZbb  기업경영, 산학연 협력, 교육과 훈련, 세계화, 정부의 행정효율 그 어느 부문도 한...   \n",
       "5      PARS_Ldm3nIToPd  IMD의 기술경쟁력 평가가 1990년 중반 이후부터는 폭 넓게 인용되고 있지만, 그...   \n",
       "...                ...                                                ...   \n",
       "37320  PARS_cFgFiF9icI  실제 측량해 본 것으로 말씀드리면, 종동(宗動)이 가장 높고, 항성(恒星) 토성(土...   \n",
       "37321  PARS_R9RLmyTzUy  신이 생각하기에, 땅은 계란의 노른자와 같고, 하늘은 계란의 껍질과 같으며, 경도(...   \n",
       "37324  PARS_ma0DB2fJSk  ｢천체론｣은 정조가 하늘의 작용이 민사(民事)와 관계되므로 국가의 다스림에서 천문에...   \n",
       "37325  PARS_wGlvzy6QkR  ｢문체론｣은 국왕 정조가 “문장은 한 시대의 체제가 있어서 세상의 도와 함께 부침한...   \n",
       "37328  PARS_4PSXTjLeXS  예로부터 몽골은 목초지를 따라 방목하는 방식의 유목문화로 육식 위주의 식생활을 하였...   \n",
       "\n",
       "           question_id                                           question  \\\n",
       "0      QUES_CHGHl0CHHK  경쟁 상대국을 연구하고 경쟁 상대국을 앞설 수 있는 방법을 연구하기 위해서 더욱 활...   \n",
       "1      QUES_ncJEA1ANCe               IMD평가에 포함되었던 기술관리부분의 한국의 순위는 평균 몇 위야   \n",
       "3      QUES_GnQIVxXt70       기술무역액 등과 같이 가용할 수 있는 통계 수치에 전적으로 의존하는 평가가 뭐야   \n",
       "4      QUES_RcrMURMuhd                              창의력을 저해하는 인사제도 요인은 뭐야   \n",
       "5      QUES_OhH70koIzZ  과학기술의 성과로 나타나는 기술집약제품이 수출에서 차지하는 비중 등을 바탕으로 하여...   \n",
       "...                ...                                                ...   \n",
       "37320  QUES_CvNv5UjUIR   우주 가장 아래에서 금성과 수성 외에 항성까지 서로 가릴 때 모든 것을 먹는 것은 뭐지   \n",
       "37321  QUES_MrMnyucG4Y      사람이 땅바닥에 있으면서 북쪽으로 이동을 얼마나 해야 북극의 고도가 1도 높아질까   \n",
       "37324  QUES_XM4RUoboD7  역상을 알지 못함을 분개하면서 이에 대한 견해를 토로하도록 하는 책문을 정조가 내놓...   \n",
       "37325  QUES_YsPrUyg1xE   사대부들이 정학을 기피하면서 기교에 기반한 글쓰기를 하자 문체반정을 추진한 왕은 누구야   \n",
       "37328  QUES_53EA1Edz1J   예전부터 육식을 중심으로 식생활을 이어온 나라로 유목문화의 방식을 사용한 나라가 어디야   \n",
       "\n",
       "      answer_text  answer_start  is_impossible  \\\n",
       "0           기술경쟁력         603.0          False   \n",
       "1          평균 32위         420.0          False   \n",
       "3      종합과학기술력 평가         124.0          False   \n",
       "4           연공서열제         120.0          False   \n",
       "5            산출지표         348.0          False   \n",
       "...           ...           ...            ...   \n",
       "37320           달         361.0          False   \n",
       "37321        250리         184.0          False   \n",
       "37324         천체론           1.0          False   \n",
       "37325          정조         244.0          False   \n",
       "37328          몽골           5.0          False   \n",
       "\n",
       "                                                    text  \\\n",
       "0      이 글에서는 제안한 기술경쟁력 평가 방법의 특징은 두 가지로 요약된다. 첫째, 현재...   \n",
       "1      현위치와 관련된 평가부문은 IMD 평가에서나 종합과학기술력의 평가에서 도 포함된 부...   \n",
       "3      IMD의 평가나 종합과학기술력 평가는 궁극적으로는 국가간 순위를 매기기 위한 평가이...   \n",
       "4      기업경영, 산학연 협력, 교육과 훈련, 세계화, 정부의 행정효율 그 어느 부문도 한...   \n",
       "5      IMD의 기술경쟁력 평가가 1990년 중반 이후부터는 폭 넓게 인용되고 있지만, 그...   \n",
       "...                                                  ...   \n",
       "37320  실제 측량해 본 것으로 말씀드리면, 종동(宗動)이 가장 높고, 항성(恒星) 토성(土...   \n",
       "37321  신이 생각하기에, 땅은 계란의 노른자와 같고, 하늘은 계란의 껍질과 같으며, 경도(...   \n",
       "37324  ｢천체론｣은 정조가 하늘의 작용이 민사(民事)와 관계되므로 국가의 다스림에서 천문에...   \n",
       "37325  ｢문체론｣은 국왕 정조가 “문장은 한 시대의 체제가 있어서 세상의 도와 함께 부침한...   \n",
       "37328  예로부터 몽골은 목초지를 따라 방목하는 방식의 유목문화로 육식 위주의 식생활을 하였...   \n",
       "\n",
       "                                            uncased_text  \\\n",
       "0      이 글에서는 제안한 기술경쟁력 평가 방법의 특징은 두 가지로 요약된다. 첫째, 현재...   \n",
       "1      현위치와 관련된 평가부문은 imd 평가에서나 종합과학기술력의 평가에서 도 포함된 부...   \n",
       "3      imd의 평가나 종합과학기술력 평가는 궁극적으로는 국가간 순위를 매기기 위한 평가이...   \n",
       "4      기업경영, 산학연 협력, 교육과 훈련, 세계화, 정부의 행정효율 그 어느 부문도 한...   \n",
       "5      imd의 기술경쟁력 평가가 1990년 중반 이후부터는 폭 넓게 인용되고 있지만, 그...   \n",
       "...                                                  ...   \n",
       "37320  실제 측량해 본 것으로 말씀드리면, 종동(宗動)이 가장 높고, 항성(恒星) 토성(土...   \n",
       "37321  신이 생각하기에, 땅은 계란의 노른자와 같고, 하늘은 계란의 껍질과 같으며, 경도(...   \n",
       "37324  ｢천체론｣은 정조가 하늘의 작용이 민사(民事)와 관계되므로 국가의 다스림에서 천문에...   \n",
       "37325  ｢문체론｣은 국왕 정조가 “문장은 한 시대의 체제가 있어서 세상의 도와 함께 부침한...   \n",
       "37328  예로부터 몽골은 목초지를 따라 방목하는 방식의 유목문화로 육식 위주의 식생활을 하였...   \n",
       "\n",
       "                                          tokenized_text  \\\n",
       "0      [ᄋ, ##ᅵ, ᄀ, ##ᅳ, ##ᆯ, ##ᄋ, ##ᅦ, ##ᄉ, ##ᅥ, ##ᄂ,...   \n",
       "1      [[UNK], [UNK], ᄑ, ##ᅧ, ##ᆼ, ##ᄀ, ##ᅡ, ##ᄇ, ##ᅮ...   \n",
       "3      [im, ##d, ##ᄋ, ##ᅴ, ᄑ, ##ᅧ, ##ᆼ, ##ᄀ, ##ᅡ, ##ᄂ...   \n",
       "4      [ᄀ, ##ᅵ, ##ᄋ, ##ᅥ, ##ᆸ, ##ᄀ, ##ᅧ, ##ᆼ, ##ᄋ, ##...   \n",
       "5      [im, ##d, ##ᄋ, ##ᅴ, ᄀ, ##ᅵ, ##ᄉ, ##ᅮ, ##ᆯ, ##ᄀ...   \n",
       "...                                                  ...   \n",
       "37320  [ᄉ, ##ᅵ, ##ᆯ, ##ᄌ, ##ᅦ, [UNK], ᄇ, ##ᅩ, ##ᆫ, [U...   \n",
       "37321  [ᄉ, ##ᅵ, ##ᆫ, ##ᄋ, ##ᅵ, ᄉ, ##ᅢ, ##ᆼ, ##ᄀ, ##ᅡ,...   \n",
       "37324  [[UNK], ᄎ, ##ᅥ, ##ᆫ, ##ᄎ, ##ᅦ, ##ᄅ, ##ᅩ, ##ᆫ, ...   \n",
       "37325  [[UNK], ᄆ, ##ᅮ, ##ᆫ, ##ᄎ, ##ᅦ, ##ᄅ, ##ᅩ, ##ᆫ, ...   \n",
       "37328  [[UNK], ᄆ, ##ᅩ, ##ᆼ, ##ᄀ, ##ᅩ, ##ᆯ, ##ᄋ, ##ᅳ, ...   \n",
       "\n",
       "                                 tokenized_selected_text  select_length  \\\n",
       "0      [ᄀ, ##ᅵ, ##ᄉ, ##ᅮ, ##ᆯ, ##ᄀ, ##ᅧ, ##ᆼ, ##ᄌ, ##...             14   \n",
       "1                    [ᄑ, ##ᅧ, ##ᆼ, ##ᄀ, ##ᅲ, ##ᆫ, [UNK]]              7   \n",
       "3      [ᄌ, ##ᅩ, ##ᆼ, ##ᄒ, ##ᅡ, ##ᆸ, ##ᄀ, ##ᅪ, ##ᄒ, ##...             24   \n",
       "4      [ᄋ, ##ᅧ, ##ᆫ, ##ᄀ, ##ᅩ, ##ᆼ, ##ᄉ, ##ᅥ, ##ᄋ, ##...             13   \n",
       "5       [ᄉ, ##ᅡ, ##ᆫ, ##ᄎ, ##ᅮ, ##ᆯ, ##ᄌ, ##ᅵ, ##ᄑ, ##ᅭ]             10   \n",
       "...                                                  ...            ...   \n",
       "37320                                      [ᄃ, ##ᅡ, ##ᆯ]              3   \n",
       "37321                                    [250, ##ᄅ, ##ᅵ]              3   \n",
       "37324             [ᄎ, ##ᅥ, ##ᆫ, ##ᄎ, ##ᅦ, ##ᄅ, ##ᅩ, ##ᆫ]              8   \n",
       "37325                            [ᄌ, ##ᅥ, ##ᆼ, ##ᄌ, ##ᅩ]              5   \n",
       "37328                       [ᄆ, ##ᅩ, ##ᆼ, ##ᄀ, ##ᅩ, ##ᆯ]              6   \n",
       "\n",
       "       start_position  end_position  \n",
       "0                  20            33  \n",
       "1                 653           659  \n",
       "3                  11            34  \n",
       "4                 173           185  \n",
       "5                 160           169  \n",
       "...               ...           ...  \n",
       "37320             161           163  \n",
       "37321             214           216  \n",
       "37324               1             8  \n",
       "37325              19            23  \n",
       "37328               1             6  \n",
       "\n",
       "[28024 rows x 16 columns]"
      ]
     },
     "execution_count": 14,
     "metadata": {},
     "output_type": "execute_result"
    }
   ],
   "source": [
    "train"
   ]
  },
  {
   "cell_type": "code",
   "execution_count": 15,
   "metadata": {
    "pycharm": {
     "name": "#%%\n"
    }
   },
   "outputs": [],
   "source": [
    "train.to_csv('../dataset/경진대회/process_train.csv')\n",
    "test.to_csv('../dataset/경진대회/process_test.csv')"
   ]
  },
  {
   "cell_type": "code",
   "execution_count": 16,
   "metadata": {
    "pycharm": {
     "name": "#%%\n"
    }
   },
   "outputs": [],
   "source": [
    "df_train, df_val = train_test_split(train, train_size=0.8)"
   ]
  },
  {
   "cell_type": "code",
   "execution_count": 18,
   "metadata": {
    "pycharm": {
     "name": "#%%\n"
    }
   },
   "outputs": [
    {
     "data": {
      "application/vnd.jupyter.widget-view+json": {
       "model_id": "e067325c5e324ab2a01cb0ddde276a9c",
       "version_major": 2,
       "version_minor": 0
      },
      "text/plain": [
       "Downloading:   0%|          | 0.00/420M [00:00<?, ?B/s]"
      ]
     },
     "metadata": {},
     "output_type": "display_data"
    },
    {
     "name": "stderr",
     "output_type": "stream",
     "text": [
      "Some weights of the model checkpoint at bert-base-uncased were not used when initializing BertForQuestionAnswering: ['cls.predictions.transform.dense.bias', 'cls.seq_relationship.bias', 'cls.predictions.decoder.weight', 'cls.predictions.transform.LayerNorm.weight', 'cls.seq_relationship.weight', 'cls.predictions.transform.LayerNorm.bias', 'cls.predictions.bias', 'cls.predictions.transform.dense.weight']\n",
      "- This IS expected if you are initializing BertForQuestionAnswering from the checkpoint of a model trained on another task or with another architecture (e.g. initializing a BertForSequenceClassification model from a BertForPreTraining model).\n",
      "- This IS NOT expected if you are initializing BertForQuestionAnswering from the checkpoint of a model that you expect to be exactly identical (initializing a BertForSequenceClassification model from a BertForSequenceClassification model).\n",
      "Some weights of BertForQuestionAnswering were not initialized from the model checkpoint at bert-base-uncased and are newly initialized: ['qa_outputs.weight', 'qa_outputs.bias']\n",
      "You should probably TRAIN this model on a down-stream task to be able to use it for predictions and inference.\n"
     ]
    }
   ],
   "source": [
    "model = BertForQuestionAnswering.from_pretrained('bert-base-uncased')"
   ]
  },
  {
   "cell_type": "code",
   "execution_count": 19,
   "metadata": {
    "pycharm": {
     "name": "#%%\n"
    }
   },
   "outputs": [
    {
     "data": {
      "text/html": [
       "<div>\n",
       "<style scoped>\n",
       "    .dataframe tbody tr th:only-of-type {\n",
       "        vertical-align: middle;\n",
       "    }\n",
       "\n",
       "    .dataframe tbody tr th {\n",
       "        vertical-align: top;\n",
       "    }\n",
       "\n",
       "    .dataframe thead th {\n",
       "        text-align: right;\n",
       "    }\n",
       "</style>\n",
       "<table border=\"1\" class=\"dataframe\">\n",
       "  <thead>\n",
       "    <tr style=\"text-align: right;\">\n",
       "      <th></th>\n",
       "      <th>content_id</th>\n",
       "      <th>title</th>\n",
       "      <th>paragraph_id</th>\n",
       "      <th>context</th>\n",
       "      <th>question_id</th>\n",
       "      <th>question</th>\n",
       "      <th>answer_text</th>\n",
       "      <th>answer_start</th>\n",
       "      <th>is_impossible</th>\n",
       "      <th>text</th>\n",
       "      <th>uncased_text</th>\n",
       "      <th>tokenized_text</th>\n",
       "      <th>tokenized_selected_text</th>\n",
       "      <th>select_length</th>\n",
       "      <th>start_position</th>\n",
       "      <th>end_position</th>\n",
       "    </tr>\n",
       "  </thead>\n",
       "  <tbody>\n",
       "    <tr>\n",
       "      <th>0</th>\n",
       "      <td>CNTS_4740509086</td>\n",
       "      <td>국가 기술경쟁력 평가의 방법론과 응용</td>\n",
       "      <td>PARS_RrlDreD2hE</td>\n",
       "      <td>이 글에서는 제안한 기술경쟁력 평가 방법의 특징은 두 가지로 요약된다. 첫째, 현재...</td>\n",
       "      <td>QUES_CHGHl0CHHK</td>\n",
       "      <td>경쟁 상대국을 연구하고 경쟁 상대국을 앞설 수 있는 방법을 연구하기 위해서 더욱 활...</td>\n",
       "      <td>기술경쟁력</td>\n",
       "      <td>603.0</td>\n",
       "      <td>False</td>\n",
       "      <td>이 글에서는 제안한 기술경쟁력 평가 방법의 특징은 두 가지로 요약된다. 첫째, 현재...</td>\n",
       "      <td>이 글에서는 제안한 기술경쟁력 평가 방법의 특징은 두 가지로 요약된다. 첫째, 현재...</td>\n",
       "      <td>[ᄋ, ##ᅵ, ᄀ, ##ᅳ, ##ᆯ, ##ᄋ, ##ᅦ, ##ᄉ, ##ᅥ, ##ᄂ,...</td>\n",
       "      <td>[ᄀ, ##ᅵ, ##ᄉ, ##ᅮ, ##ᆯ, ##ᄀ, ##ᅧ, ##ᆼ, ##ᄌ, ##...</td>\n",
       "      <td>14</td>\n",
       "      <td>20</td>\n",
       "      <td>33</td>\n",
       "    </tr>\n",
       "    <tr>\n",
       "      <th>1</th>\n",
       "      <td>CNTS_4740509086</td>\n",
       "      <td>국가 기술경쟁력 평가의 방법론과 응용</td>\n",
       "      <td>PARS_s5sSaKdCH3</td>\n",
       "      <td>현위치와 관련된 평가부문은 IMD 평가에서나 종합과학기술력의 평가에서 도 포함된 부...</td>\n",
       "      <td>QUES_ncJEA1ANCe</td>\n",
       "      <td>IMD평가에 포함되었던 기술관리부분의 한국의 순위는 평균 몇 위야</td>\n",
       "      <td>평균 32위</td>\n",
       "      <td>420.0</td>\n",
       "      <td>False</td>\n",
       "      <td>현위치와 관련된 평가부문은 IMD 평가에서나 종합과학기술력의 평가에서 도 포함된 부...</td>\n",
       "      <td>현위치와 관련된 평가부문은 imd 평가에서나 종합과학기술력의 평가에서 도 포함된 부...</td>\n",
       "      <td>[[UNK], [UNK], ᄑ, ##ᅧ, ##ᆼ, ##ᄀ, ##ᅡ, ##ᄇ, ##ᅮ...</td>\n",
       "      <td>[ᄑ, ##ᅧ, ##ᆼ, ##ᄀ, ##ᅲ, ##ᆫ, [UNK]]</td>\n",
       "      <td>7</td>\n",
       "      <td>653</td>\n",
       "      <td>659</td>\n",
       "    </tr>\n",
       "    <tr>\n",
       "      <th>3</th>\n",
       "      <td>CNTS_4740509086</td>\n",
       "      <td>국가 기술경쟁력 평가의 방법론과 응용</td>\n",
       "      <td>PARS_pP8k4n8yg4</td>\n",
       "      <td>IMD의 평가나 종합과학기술력 평가는 궁극적으로는 국가간 순위를 매기기 위한 평가이...</td>\n",
       "      <td>QUES_GnQIVxXt70</td>\n",
       "      <td>기술무역액 등과 같이 가용할 수 있는 통계 수치에 전적으로 의존하는 평가가 뭐야</td>\n",
       "      <td>종합과학기술력 평가</td>\n",
       "      <td>124.0</td>\n",
       "      <td>False</td>\n",
       "      <td>IMD의 평가나 종합과학기술력 평가는 궁극적으로는 국가간 순위를 매기기 위한 평가이...</td>\n",
       "      <td>imd의 평가나 종합과학기술력 평가는 궁극적으로는 국가간 순위를 매기기 위한 평가이...</td>\n",
       "      <td>[im, ##d, ##ᄋ, ##ᅴ, ᄑ, ##ᅧ, ##ᆼ, ##ᄀ, ##ᅡ, ##ᄂ...</td>\n",
       "      <td>[ᄌ, ##ᅩ, ##ᆼ, ##ᄒ, ##ᅡ, ##ᆸ, ##ᄀ, ##ᅪ, ##ᄒ, ##...</td>\n",
       "      <td>24</td>\n",
       "      <td>11</td>\n",
       "      <td>34</td>\n",
       "    </tr>\n",
       "    <tr>\n",
       "      <th>4</th>\n",
       "      <td>CNTS_4740509086</td>\n",
       "      <td>국가 기술경쟁력 평가의 방법론과 응용</td>\n",
       "      <td>PARS_7b3M3mKZbb</td>\n",
       "      <td>기업경영, 산학연 협력, 교육과 훈련, 세계화, 정부의 행정효율 그 어느 부문도 한...</td>\n",
       "      <td>QUES_RcrMURMuhd</td>\n",
       "      <td>창의력을 저해하는 인사제도 요인은 뭐야</td>\n",
       "      <td>연공서열제</td>\n",
       "      <td>120.0</td>\n",
       "      <td>False</td>\n",
       "      <td>기업경영, 산학연 협력, 교육과 훈련, 세계화, 정부의 행정효율 그 어느 부문도 한...</td>\n",
       "      <td>기업경영, 산학연 협력, 교육과 훈련, 세계화, 정부의 행정효율 그 어느 부문도 한...</td>\n",
       "      <td>[ᄀ, ##ᅵ, ##ᄋ, ##ᅥ, ##ᆸ, ##ᄀ, ##ᅧ, ##ᆼ, ##ᄋ, ##...</td>\n",
       "      <td>[ᄋ, ##ᅧ, ##ᆫ, ##ᄀ, ##ᅩ, ##ᆼ, ##ᄉ, ##ᅥ, ##ᄋ, ##...</td>\n",
       "      <td>13</td>\n",
       "      <td>173</td>\n",
       "      <td>185</td>\n",
       "    </tr>\n",
       "    <tr>\n",
       "      <th>5</th>\n",
       "      <td>CNTS_4740509086</td>\n",
       "      <td>국가 기술경쟁력 평가의 방법론과 응용</td>\n",
       "      <td>PARS_Ldm3nIToPd</td>\n",
       "      <td>IMD의 기술경쟁력 평가가 1990년 중반 이후부터는 폭 넓게 인용되고 있지만, 그...</td>\n",
       "      <td>QUES_OhH70koIzZ</td>\n",
       "      <td>과학기술의 성과로 나타나는 기술집약제품이 수출에서 차지하는 비중 등을 바탕으로 하여...</td>\n",
       "      <td>산출지표</td>\n",
       "      <td>348.0</td>\n",
       "      <td>False</td>\n",
       "      <td>IMD의 기술경쟁력 평가가 1990년 중반 이후부터는 폭 넓게 인용되고 있지만, 그...</td>\n",
       "      <td>imd의 기술경쟁력 평가가 1990년 중반 이후부터는 폭 넓게 인용되고 있지만, 그...</td>\n",
       "      <td>[im, ##d, ##ᄋ, ##ᅴ, ᄀ, ##ᅵ, ##ᄉ, ##ᅮ, ##ᆯ, ##ᄀ...</td>\n",
       "      <td>[ᄉ, ##ᅡ, ##ᆫ, ##ᄎ, ##ᅮ, ##ᆯ, ##ᄌ, ##ᅵ, ##ᄑ, ##ᅭ]</td>\n",
       "      <td>10</td>\n",
       "      <td>160</td>\n",
       "      <td>169</td>\n",
       "    </tr>\n",
       "  </tbody>\n",
       "</table>\n",
       "</div>"
      ],
      "text/plain": [
       "        content_id                 title     paragraph_id  \\\n",
       "0  CNTS_4740509086  국가 기술경쟁력 평가의 방법론과 응용  PARS_RrlDreD2hE   \n",
       "1  CNTS_4740509086  국가 기술경쟁력 평가의 방법론과 응용  PARS_s5sSaKdCH3   \n",
       "3  CNTS_4740509086  국가 기술경쟁력 평가의 방법론과 응용  PARS_pP8k4n8yg4   \n",
       "4  CNTS_4740509086  국가 기술경쟁력 평가의 방법론과 응용  PARS_7b3M3mKZbb   \n",
       "5  CNTS_4740509086  국가 기술경쟁력 평가의 방법론과 응용  PARS_Ldm3nIToPd   \n",
       "\n",
       "                                             context      question_id  \\\n",
       "0  이 글에서는 제안한 기술경쟁력 평가 방법의 특징은 두 가지로 요약된다. 첫째, 현재...  QUES_CHGHl0CHHK   \n",
       "1  현위치와 관련된 평가부문은 IMD 평가에서나 종합과학기술력의 평가에서 도 포함된 부...  QUES_ncJEA1ANCe   \n",
       "3  IMD의 평가나 종합과학기술력 평가는 궁극적으로는 국가간 순위를 매기기 위한 평가이...  QUES_GnQIVxXt70   \n",
       "4  기업경영, 산학연 협력, 교육과 훈련, 세계화, 정부의 행정효율 그 어느 부문도 한...  QUES_RcrMURMuhd   \n",
       "5  IMD의 기술경쟁력 평가가 1990년 중반 이후부터는 폭 넓게 인용되고 있지만, 그...  QUES_OhH70koIzZ   \n",
       "\n",
       "                                            question answer_text  \\\n",
       "0  경쟁 상대국을 연구하고 경쟁 상대국을 앞설 수 있는 방법을 연구하기 위해서 더욱 활...       기술경쟁력   \n",
       "1               IMD평가에 포함되었던 기술관리부분의 한국의 순위는 평균 몇 위야      평균 32위   \n",
       "3       기술무역액 등과 같이 가용할 수 있는 통계 수치에 전적으로 의존하는 평가가 뭐야  종합과학기술력 평가   \n",
       "4                              창의력을 저해하는 인사제도 요인은 뭐야       연공서열제   \n",
       "5  과학기술의 성과로 나타나는 기술집약제품이 수출에서 차지하는 비중 등을 바탕으로 하여...        산출지표   \n",
       "\n",
       "   answer_start  is_impossible  \\\n",
       "0         603.0          False   \n",
       "1         420.0          False   \n",
       "3         124.0          False   \n",
       "4         120.0          False   \n",
       "5         348.0          False   \n",
       "\n",
       "                                                text  \\\n",
       "0  이 글에서는 제안한 기술경쟁력 평가 방법의 특징은 두 가지로 요약된다. 첫째, 현재...   \n",
       "1  현위치와 관련된 평가부문은 IMD 평가에서나 종합과학기술력의 평가에서 도 포함된 부...   \n",
       "3  IMD의 평가나 종합과학기술력 평가는 궁극적으로는 국가간 순위를 매기기 위한 평가이...   \n",
       "4  기업경영, 산학연 협력, 교육과 훈련, 세계화, 정부의 행정효율 그 어느 부문도 한...   \n",
       "5  IMD의 기술경쟁력 평가가 1990년 중반 이후부터는 폭 넓게 인용되고 있지만, 그...   \n",
       "\n",
       "                                        uncased_text  \\\n",
       "0  이 글에서는 제안한 기술경쟁력 평가 방법의 특징은 두 가지로 요약된다. 첫째, 현재...   \n",
       "1  현위치와 관련된 평가부문은 imd 평가에서나 종합과학기술력의 평가에서 도 포함된 부...   \n",
       "3  imd의 평가나 종합과학기술력 평가는 궁극적으로는 국가간 순위를 매기기 위한 평가이...   \n",
       "4  기업경영, 산학연 협력, 교육과 훈련, 세계화, 정부의 행정효율 그 어느 부문도 한...   \n",
       "5  imd의 기술경쟁력 평가가 1990년 중반 이후부터는 폭 넓게 인용되고 있지만, 그...   \n",
       "\n",
       "                                      tokenized_text  \\\n",
       "0  [ᄋ, ##ᅵ, ᄀ, ##ᅳ, ##ᆯ, ##ᄋ, ##ᅦ, ##ᄉ, ##ᅥ, ##ᄂ,...   \n",
       "1  [[UNK], [UNK], ᄑ, ##ᅧ, ##ᆼ, ##ᄀ, ##ᅡ, ##ᄇ, ##ᅮ...   \n",
       "3  [im, ##d, ##ᄋ, ##ᅴ, ᄑ, ##ᅧ, ##ᆼ, ##ᄀ, ##ᅡ, ##ᄂ...   \n",
       "4  [ᄀ, ##ᅵ, ##ᄋ, ##ᅥ, ##ᆸ, ##ᄀ, ##ᅧ, ##ᆼ, ##ᄋ, ##...   \n",
       "5  [im, ##d, ##ᄋ, ##ᅴ, ᄀ, ##ᅵ, ##ᄉ, ##ᅮ, ##ᆯ, ##ᄀ...   \n",
       "\n",
       "                             tokenized_selected_text  select_length  \\\n",
       "0  [ᄀ, ##ᅵ, ##ᄉ, ##ᅮ, ##ᆯ, ##ᄀ, ##ᅧ, ##ᆼ, ##ᄌ, ##...             14   \n",
       "1                [ᄑ, ##ᅧ, ##ᆼ, ##ᄀ, ##ᅲ, ##ᆫ, [UNK]]              7   \n",
       "3  [ᄌ, ##ᅩ, ##ᆼ, ##ᄒ, ##ᅡ, ##ᆸ, ##ᄀ, ##ᅪ, ##ᄒ, ##...             24   \n",
       "4  [ᄋ, ##ᅧ, ##ᆫ, ##ᄀ, ##ᅩ, ##ᆼ, ##ᄉ, ##ᅥ, ##ᄋ, ##...             13   \n",
       "5   [ᄉ, ##ᅡ, ##ᆫ, ##ᄎ, ##ᅮ, ##ᆯ, ##ᄌ, ##ᅵ, ##ᄑ, ##ᅭ]             10   \n",
       "\n",
       "   start_position  end_position  \n",
       "0              20            33  \n",
       "1             653           659  \n",
       "3              11            34  \n",
       "4             173           185  \n",
       "5             160           169  "
      ]
     },
     "execution_count": 19,
     "metadata": {},
     "output_type": "execute_result"
    }
   ],
   "source": [
    "train.head()"
   ]
  },
  {
   "cell_type": "code",
   "execution_count": 20,
   "metadata": {
    "pycharm": {
     "name": "#%%\n"
    }
   },
   "outputs": [],
   "source": [
    "class TrainDataset(Dataset):\n",
    "    def __init__(self, df):\n",
    "        super().__init__()\n",
    "        self.texts = df['uncased_text'].values\n",
    "        self.start_ids = df['start_position'].values\n",
    "        self.end_ids = df['end_position'].values\n",
    "        self.hash_index = df['content_id'].values\n",
    "\n",
    "    def __len__(self):\n",
    "        return len(self.texts)\n",
    "\n",
    "    def __getitem__(self, idx):\n",
    "        returns = {\n",
    "            'text' : self.texts[idx],\n",
    "            'start' : self.start_ids[idx],\n",
    "            'end' : self.end_ids[idx],\n",
    "            'idx' : idx\n",
    "        }\n",
    "        return returns"
   ]
  },
  {
   "cell_type": "code",
   "execution_count": 21,
   "metadata": {
    "pycharm": {
     "name": "#%%\n"
    }
   },
   "outputs": [],
   "source": [
    "class TestDataset(Dataset):\n",
    "    def __init__(self, df):\n",
    "        super().__init__()\n",
    "        self.texts = df['uncased_text'].values\n",
    "        self.hash_index = df['content_id'].values\n",
    "\n",
    "    def __len__(self):\n",
    "        return len(self.texts)\n",
    "\n",
    "    def __getitem__(self, idx):\n",
    "        returns = {\n",
    "            'text' : self.texts[idx],\n",
    "            'idx' : idx\n",
    "        }\n",
    "        return returns"
   ]
  },
  {
   "cell_type": "code",
   "execution_count": 22,
   "metadata": {
    "pycharm": {
     "name": "#%%\n"
    }
   },
   "outputs": [],
   "source": [
    "ds_pos_train = TrainDataset(df_train)\n",
    "ds_pos_val = TrainDataset(df_val)\n",
    "ds_pos_test = TestDataset(test)"
   ]
  },
  {
   "cell_type": "code",
   "execution_count": 24,
   "metadata": {
    "pycharm": {
     "name": "#%%\n"
    }
   },
   "outputs": [],
   "source": [
    "MAX_LENGTH = 256\n",
    "BATCH_SIZE = 32"
   ]
  },
  {
   "cell_type": "code",
   "execution_count": 25,
   "metadata": {
    "pycharm": {
     "name": "#%%\n"
    }
   },
   "outputs": [],
   "source": [
    "dl_pos_train = DataLoader(ds_pos_train, batch_size=BATCH_SIZE, shuffle=True)\n",
    "\n",
    "dl_pos_val = DataLoader(ds_pos_val, batch_size=BATCH_SIZE, shuffle=False)\n",
    "\n",
    "dl_pos_test = DataLoader(ds_pos_test, batch_size=BATCH_SIZE, shuffle=False)\n"
   ]
  },
  {
   "cell_type": "code",
   "execution_count": 42,
   "metadata": {
    "pycharm": {
     "name": "#%%\n"
    }
   },
   "outputs": [],
   "source": [
    "\n",
    "class BaseSuperModule(pl.LightningModule):\n",
    "    def __init__(self, bertmodel, tokenizer, prediction_save_path):\n",
    "        super().__init__()\n",
    "        self.bertmodel = bertmodel\n",
    "        self.tokenizer = tokenizer\n",
    "        self.prediction_save_path = prediction_save_path\n",
    "\n",
    "    def get_device(self):\n",
    "        return self.bertmodel.state_dict()['bert.embeddings.word_embeddings.weight'].device\n",
    "\n",
    "    def save_predictions(self, start_positions, end_positions):\n",
    "        d = pd.DataFrame({'start_position':start_positions, 'end_position':end_positions})\n",
    "        d.to_csv(self.prediction_save_path, index=False)\n",
    "\n",
    "    def forward(self, batch):\n",
    "        \"\"\"\n",
    "        Input:\n",
    "            batch(dict), where\n",
    "                batch['text'] = uncased text: str\n",
    "                batch['idx'] = raw text: list(int)\n",
    "                batch['start'] = start position indices : list(int) (for train & val batch only)\n",
    "                batch['end'] = end position indices : list(int) (for train & val batch only)\n",
    "\n",
    "        Output:\n",
    "            For train batch, which has 'start' key and 'end' key:\n",
    "                Tuple of (loss(int), start_score(torch.tensor), end_score(torch.tensor))\n",
    "            For test batch, without 'start' key and 'end' key:\n",
    "                Tuple of (start_score(torch.tensor), end_score(torch.tensor))\n",
    "        \"\"\"\n",
    "        encoded_batch = tokenizer.batch_encode_plus(batch['text'], max_length=MAX_LENGTH, pad_to_max_length=True)\n",
    "        input_ids = torch.tensor(encoded_batch['input_ids']).to(self.get_device())\n",
    "        attention_mask = torch.tensor(encoded_batch['attention_mask']).to(self.get_device())\n",
    "        start_positions = batch['start'].to(self.get_device()) + 1  if 'start' in batch.keys() else None\n",
    "        end_positions = batch['end'].to(self.get_device()) + 1  if 'end' in batch.keys() else None\n",
    "\n",
    "        model_inputs = {\n",
    "            'input_ids' : input_ids,\n",
    "            'attention_mask' : attention_mask,\n",
    "            'start_positions' : start_positions,\n",
    "            'end_positions' : end_positions\n",
    "        }\n",
    "        \n",
    "        return self.bertmodel(**model_inputs)\n",
    "\n",
    "    def training_step(self, batch, batch_nb):\n",
    "        \"\"\"\n",
    "        (batch) -> (dict or OrderedDict)\n",
    "        # Caution: key for loss function must exactly be 'loss'.\n",
    "        \"\"\"\n",
    "        idx = batch['idx']\n",
    "        loss = self.forward(batch)[0]\n",
    "        return {'loss':loss, 'idx':idx}\n",
    "\n",
    "    def validation_step(self, batch, batch_nb):\n",
    "        \"\"\"\n",
    "        (batch) -> (dict or OrderedDict)\n",
    "        # Caution: key for loss function must exactly be 'loss'.\n",
    "        \"\"\"\n",
    "        idx = batch['idx']\n",
    "        loss = self.forward(batch)[0]\n",
    "        return {'loss':loss, 'idx':idx}\n",
    "\n",
    "    def test_step(self, batch, batch_nb):\n",
    "        \"\"\"\n",
    "        (batch) -> (dict or OrderedDict)\n",
    "        \"\"\"\n",
    "        idx = batch['idx']\n",
    "        start_scores = self.forward(batch)[0]\n",
    "        end_scores = self.forward(batch)[1]\n",
    "        return {'start_scores':start_scores, 'end_scores':end_scores, 'idx':idx}\n",
    "\n",
    "    def training_end(self, outputs):\n",
    "        \"\"\"\n",
    "        outputs(dict) -> loss(dict or OrderedDict)\n",
    "        # Caution: key must exactly be 'loss'.\n",
    "        \"\"\"\n",
    "        return {'loss':outputs['loss']}\n",
    "\n",
    "    def validation_end(self, outputs):\n",
    "        \"\"\"\n",
    "        For single dataloader:\n",
    "            outputs(list of dict) -> (dict or OrderedDict)\n",
    "        For multiple dataloaders:\n",
    "            outputs(list of (list of dict)) -> (dict or OrderedDict)\n",
    "        \"\"\"        \n",
    "        return {'loss':torch.mean(torch.tensor([output['loss'] for output in outputs])).detach()}\n",
    "\n",
    "    def test_end(self, outputs):\n",
    "        \"\"\"\n",
    "        For single dataloader:\n",
    "            outputs(list of dict) -> (dict or OrderedDict)\n",
    "        For multiple dataloaders:\n",
    "            outputs(list of (list of dict)) -> (dict or OrderedDict)\n",
    "        \"\"\"\n",
    "        start_scores = torch.cat([output['start_scores'] for output in outputs]).detach().cpu().numpy()\n",
    "        start_positions = np.argmax(start_scores, axis=1) - 1\n",
    "\n",
    "        end_scores = torch.cat([output['end_scores'] for output in outputs]).detach().cpu().numpy()\n",
    "        end_positions = np.argmax(end_scores, axis=1) - 1\n",
    "        self.save_predictions(start_positions, end_positions)\n",
    "        return {}\n",
    "\n",
    "    def configure_optimizers(self):\n",
    "        return optim.Adam(self.parameters(), lr=2e-5)\n"
   ]
  },
  {
   "cell_type": "code",
   "execution_count": 43,
   "metadata": {
    "pycharm": {
     "name": "#%%\n"
    }
   },
   "outputs": [],
   "source": [
    "class PositiveModule(BaseSuperModule):\n",
    "    def __init__(self, bertmodel, tokenizer, prediction_save_path):\n",
    "        super().__init__(bertmodel, tokenizer, prediction_save_path)\n"
   ]
  },
  {
   "cell_type": "code",
   "execution_count": 44,
   "metadata": {
    "pycharm": {
     "name": "#%%\n"
    }
   },
   "outputs": [],
   "source": [
    "pos_module = PositiveModule(model, tokenizer, 'pos_pred.csv')"
   ]
  },
  {
   "cell_type": "code",
   "execution_count": 46,
   "metadata": {
    "pycharm": {
     "name": "#%%\n"
    }
   },
   "outputs": [],
   "source": [
    "device = torch.device('cuda:0') if torch.cuda.is_available() else 'cpu'"
   ]
  },
  {
   "cell_type": "code",
   "execution_count": 50,
   "metadata": {
    "pycharm": {
     "name": "#%%\n"
    }
   },
   "outputs": [
    {
     "name": "stderr",
     "output_type": "stream",
     "text": [
      "GPU available: True, used: False\n",
      "TPU available: False, using: 0 TPU cores\n",
      "IPU available: False, using: 0 IPUs\n",
      "HPU available: False, using: 0 HPUs\n",
      "Missing logger folder: /home/innerwave/ailab/YYC/경진대회/lightning_logs\n",
      "\n",
      "  | Name      | Type                     | Params\n",
      "-------------------------------------------------------\n",
      "0 | bertmodel | BertForQuestionAnswering | 108 M \n",
      "-------------------------------------------------------\n",
      "108 M     Trainable params\n",
      "0         Non-trainable params\n",
      "108 M     Total params\n",
      "435.573   Total estimated model params size (MB)\n"
     ]
    },
    {
     "data": {
      "application/vnd.jupyter.widget-view+json": {
       "model_id": "96837cb0b01b421f8c7bcd594fa0c871",
       "version_major": 2,
       "version_minor": 0
      },
      "text/plain": [
       "Sanity Checking: 0it [00:00, ?it/s]"
      ]
     },
     "metadata": {},
     "output_type": "display_data"
    },
    {
     "name": "stderr",
     "output_type": "stream",
     "text": [
      "/home/innerwave/.local/lib/python3.8/site-packages/pytorch_lightning/trainer/connectors/data_connector.py:240: PossibleUserWarning: The dataloader, val_dataloader 0, does not have many workers which may be a bottleneck. Consider increasing the value of the `num_workers` argument` (try 64 which is the number of cpus on this machine) in the `DataLoader` init to improve performance.\n",
      "  rank_zero_warn(\n",
      "Truncation was not explicitly activated but `max_length` is provided a specific value, please use `truncation=True` to explicitly truncate examples to max length. Defaulting to 'longest_first' truncation strategy. If you encode pairs of sequences (GLUE-style) with the tokenizer you can select this strategy more precisely by providing a specific strategy to `truncation`.\n",
      "/home/innerwave/.local/lib/python3.8/site-packages/transformers/tokenization_utils_base.py:2285: FutureWarning: The `pad_to_max_length` argument is deprecated and will be removed in a future version, use `padding=True` or `padding='longest'` to pad to the longest sequence in the batch, or use `padding='max_length'` to pad to a max length. In this case, you can give a specific length with `max_length` (e.g. `max_length=45`) or leave max_length to None to pad to the maximal input size of the model (e.g. 512 for Bert).\n",
      "  warnings.warn(\n",
      "/home/innerwave/.local/lib/python3.8/site-packages/pytorch_lightning/trainer/connectors/data_connector.py:240: PossibleUserWarning: The dataloader, train_dataloader, does not have many workers which may be a bottleneck. Consider increasing the value of the `num_workers` argument` (try 64 which is the number of cpus on this machine) in the `DataLoader` init to improve performance.\n",
      "  rank_zero_warn(\n"
     ]
    },
    {
     "data": {
      "application/vnd.jupyter.widget-view+json": {
       "model_id": "dae86fcc64c6481d9e1d2715a709490e",
       "version_major": 2,
       "version_minor": 0
      },
      "text/plain": [
       "Training: 0it [00:00, ?it/s]"
      ]
     },
     "metadata": {},
     "output_type": "display_data"
    },
    {
     "name": "stderr",
     "output_type": "stream",
     "text": [
      "/home/innerwave/.local/lib/python3.8/site-packages/pytorch_lightning/trainer/trainer.py:726: UserWarning: Detected KeyboardInterrupt, attempting graceful shutdown...\n",
      "  rank_zero_warn(\"Detected KeyboardInterrupt, attempting graceful shutdown...\")\n",
      "/home/innerwave/.local/lib/python3.8/site-packages/pytorch_lightning/trainer/trainer.py:1446: UserWarning: `.test(ckpt_path=None)` was called without a model. The best model of the previous `fit` call will be used. You can pass `test(ckpt_path='best')` to use and best model checkpoint and avoid this warning or `ckpt_path=trainer.checkpoint_callback.last_model_path` to use the last model.\n",
      "  rank_zero_warn(\n"
     ]
    },
    {
     "ename": "MisconfigurationException",
     "evalue": "`.test(ckpt_path=\"best\")` is set but `ModelCheckpoint` is not configured to save the best model.",
     "output_type": "error",
     "traceback": [
      "\u001B[0;31m---------------------------------------------------------------------------\u001B[0m",
      "\u001B[0;31mMisconfigurationException\u001B[0m                 Traceback (most recent call last)",
      "\u001B[1;32m/home/innerwave/ailab/YYC/경진대회/QAbert.ipynb Cell 30'\u001B[0m in \u001B[0;36m<cell line: 8>\u001B[0;34m()\u001B[0m\n\u001B[1;32m      <a href='vscode-notebook-cell://ssh-remote%2Binnerwave@192.168.0.138:22/home/innerwave/ailab/YYC/%EA%B2%BD%EC%A7%84%EB%8C%80%ED%9A%8C/QAbert.ipynb#ch0000031vscode-remote?line=4'>5</a>\u001B[0m pos_trainer \u001B[39m=\u001B[39m pl\u001B[39m.\u001B[39mTrainer()\n\u001B[1;32m      <a href='vscode-notebook-cell://ssh-remote%2Binnerwave@192.168.0.138:22/home/innerwave/ailab/YYC/%EA%B2%BD%EC%A7%84%EB%8C%80%ED%9A%8C/QAbert.ipynb#ch0000031vscode-remote?line=6'>7</a>\u001B[0m pos_trainer\u001B[39m.\u001B[39mfit(pos_module, dl_pos_train, dl_pos_val )\n\u001B[0;32m----> <a href='vscode-notebook-cell://ssh-remote%2Binnerwave@192.168.0.138:22/home/innerwave/ailab/YYC/%EA%B2%BD%EC%A7%84%EB%8C%80%ED%9A%8C/QAbert.ipynb#ch0000031vscode-remote?line=7'>8</a>\u001B[0m pos_trainer\u001B[39m.\u001B[39;49mtest()\n",
      "File \u001B[0;32m~/.local/lib/python3.8/site-packages/pytorch_lightning/trainer/trainer.py:938\u001B[0m, in \u001B[0;36mTrainer.test\u001B[0;34m(self, model, dataloaders, ckpt_path, verbose, datamodule)\u001B[0m\n\u001B[1;32m    912\u001B[0m \u001B[39mr\u001B[39m\u001B[39m\"\"\"\u001B[39;00m\n\u001B[1;32m    913\u001B[0m \u001B[39mPerform one evaluation epoch over the test set.\u001B[39;00m\n\u001B[1;32m    914\u001B[0m \u001B[39mIt's separated from fit to make sure you never run on your test set until you want to.\u001B[39;00m\n\u001B[0;32m   (...)\u001B[0m\n\u001B[1;32m    935\u001B[0m \u001B[39m    The length of the list corresponds to the number of test dataloaders used.\u001B[39;00m\n\u001B[1;32m    936\u001B[0m \u001B[39m\"\"\"\u001B[39;00m\n\u001B[1;32m    937\u001B[0m \u001B[39mself\u001B[39m\u001B[39m.\u001B[39mstrategy\u001B[39m.\u001B[39mmodel \u001B[39m=\u001B[39m model \u001B[39mor\u001B[39;00m \u001B[39mself\u001B[39m\u001B[39m.\u001B[39mlightning_module\n\u001B[0;32m--> 938\u001B[0m \u001B[39mreturn\u001B[39;00m \u001B[39mself\u001B[39;49m\u001B[39m.\u001B[39;49m_call_and_handle_interrupt(\u001B[39mself\u001B[39;49m\u001B[39m.\u001B[39;49m_test_impl, model, dataloaders, ckpt_path, verbose, datamodule)\n",
      "File \u001B[0;32m~/.local/lib/python3.8/site-packages/pytorch_lightning/trainer/trainer.py:723\u001B[0m, in \u001B[0;36mTrainer._call_and_handle_interrupt\u001B[0;34m(self, trainer_fn, *args, **kwargs)\u001B[0m\n\u001B[1;32m    721\u001B[0m         \u001B[39mreturn\u001B[39;00m \u001B[39mself\u001B[39m\u001B[39m.\u001B[39mstrategy\u001B[39m.\u001B[39mlauncher\u001B[39m.\u001B[39mlaunch(trainer_fn, \u001B[39m*\u001B[39margs, trainer\u001B[39m=\u001B[39m\u001B[39mself\u001B[39m, \u001B[39m*\u001B[39m\u001B[39m*\u001B[39mkwargs)\n\u001B[1;32m    722\u001B[0m     \u001B[39melse\u001B[39;00m:\n\u001B[0;32m--> 723\u001B[0m         \u001B[39mreturn\u001B[39;00m trainer_fn(\u001B[39m*\u001B[39;49margs, \u001B[39m*\u001B[39;49m\u001B[39m*\u001B[39;49mkwargs)\n\u001B[1;32m    724\u001B[0m \u001B[39m# TODO: treat KeyboardInterrupt as BaseException (delete the code below) in v1.7\u001B[39;00m\n\u001B[1;32m    725\u001B[0m \u001B[39mexcept\u001B[39;00m \u001B[39mKeyboardInterrupt\u001B[39;00m \u001B[39mas\u001B[39;00m exception:\n",
      "File \u001B[0;32m~/.local/lib/python3.8/site-packages/pytorch_lightning/trainer/trainer.py:978\u001B[0m, in \u001B[0;36mTrainer._test_impl\u001B[0;34m(self, model, dataloaders, ckpt_path, verbose, datamodule)\u001B[0m\n\u001B[1;32m    975\u001B[0m \u001B[39m# links data to the trainer\u001B[39;00m\n\u001B[1;32m    976\u001B[0m \u001B[39mself\u001B[39m\u001B[39m.\u001B[39m_data_connector\u001B[39m.\u001B[39mattach_data(model, test_dataloaders\u001B[39m=\u001B[39mdataloaders, datamodule\u001B[39m=\u001B[39mdatamodule)\n\u001B[0;32m--> 978\u001B[0m \u001B[39mself\u001B[39m\u001B[39m.\u001B[39m_ckpt_path \u001B[39m=\u001B[39m \u001B[39mself\u001B[39;49m\u001B[39m.\u001B[39;49m__set_ckpt_path(\n\u001B[1;32m    979\u001B[0m     ckpt_path, model_provided\u001B[39m=\u001B[39;49mmodel_provided, model_connected\u001B[39m=\u001B[39;49m\u001B[39mself\u001B[39;49m\u001B[39m.\u001B[39;49mlightning_module \u001B[39mis\u001B[39;49;00m \u001B[39mnot\u001B[39;49;00m \u001B[39mNone\u001B[39;49;00m\n\u001B[1;32m    980\u001B[0m )\n\u001B[1;32m    982\u001B[0m \u001B[39mself\u001B[39m\u001B[39m.\u001B[39m_tested_ckpt_path \u001B[39m=\u001B[39m \u001B[39mself\u001B[39m\u001B[39m.\u001B[39mckpt_path  \u001B[39m# TODO: remove in v1.8\u001B[39;00m\n\u001B[1;32m    984\u001B[0m \u001B[39m# run test\u001B[39;00m\n",
      "File \u001B[0;32m~/.local/lib/python3.8/site-packages/pytorch_lightning/trainer/trainer.py:1473\u001B[0m, in \u001B[0;36mTrainer.__set_ckpt_path\u001B[0;34m(self, ckpt_path, model_provided, model_connected)\u001B[0m\n\u001B[1;32m   1468\u001B[0m     \u001B[39mif\u001B[39;00m \u001B[39mself\u001B[39m\u001B[39m.\u001B[39mfast_dev_run:\n\u001B[1;32m   1469\u001B[0m         \u001B[39mraise\u001B[39;00m MisconfigurationException(\n\u001B[1;32m   1470\u001B[0m             \u001B[39mf\u001B[39m\u001B[39m'\u001B[39m\u001B[39mYou cannot execute `.\u001B[39m\u001B[39m{\u001B[39;00mfn\u001B[39m}\u001B[39;00m\u001B[39m(ckpt_path=\u001B[39m\u001B[39m\"\u001B[39m\u001B[39mbest\u001B[39m\u001B[39m\"\u001B[39m\u001B[39m)` with `fast_dev_run=True`.\u001B[39m\u001B[39m'\u001B[39m\n\u001B[1;32m   1471\u001B[0m             \u001B[39mf\u001B[39m\u001B[39m\"\u001B[39m\u001B[39m Please pass an exact checkpoint path to `.\u001B[39m\u001B[39m{\u001B[39;00mfn\u001B[39m}\u001B[39;00m\u001B[39m(ckpt_path=...)`\u001B[39m\u001B[39m\"\u001B[39m\n\u001B[1;32m   1472\u001B[0m         )\n\u001B[0;32m-> 1473\u001B[0m     \u001B[39mraise\u001B[39;00m MisconfigurationException(\n\u001B[1;32m   1474\u001B[0m         \u001B[39mf\u001B[39m\u001B[39m'\u001B[39m\u001B[39m`.\u001B[39m\u001B[39m{\u001B[39;00mfn\u001B[39m}\u001B[39;00m\u001B[39m(ckpt_path=\u001B[39m\u001B[39m\"\u001B[39m\u001B[39mbest\u001B[39m\u001B[39m\"\u001B[39m\u001B[39m)` is set but `ModelCheckpoint` is not configured to save the best model.\u001B[39m\u001B[39m'\u001B[39m\n\u001B[1;32m   1475\u001B[0m     )\n\u001B[1;32m   1476\u001B[0m \u001B[39m# load best weights\u001B[39;00m\n\u001B[1;32m   1477\u001B[0m ckpt_path \u001B[39m=\u001B[39m \u001B[39mself\u001B[39m\u001B[39m.\u001B[39mcheckpoint_callback\u001B[39m.\u001B[39mbest_model_path\n",
      "\u001B[0;31mMisconfigurationException\u001B[0m: `.test(ckpt_path=\"best\")` is set but `ModelCheckpoint` is not configured to save the best model."
     ]
    }
   ],
   "source": [
    "DEBUG_MODE = False\n",
    "\n",
    "\n",
    "pos_module.to(device)\n",
    "pos_trainer = pl.Trainer(devices=4, accelerator=\"gpu\")\n",
    "\n",
    "pos_trainer.fit(pos_module, dl_pos_train, dl_pos_val )\n",
    "pos_trainer.test()"
   ]
  },
  {
   "cell_type": "code",
   "execution_count": null,
   "metadata": {
    "pycharm": {
     "name": "#%%\n"
    }
   },
   "outputs": [],
   "source": [
    "pos_pred = pd.read_csv('pos_pred.csv')"
   ]
  },
  {
   "cell_type": "code",
   "execution_count": 51,
   "metadata": {
    "pycharm": {
     "name": "#%%\n"
    }
   },
   "outputs": [
    {
     "data": {
      "text/html": [
       "<div>\n",
       "<style scoped>\n",
       "    .dataframe tbody tr th:only-of-type {\n",
       "        vertical-align: middle;\n",
       "    }\n",
       "\n",
       "    .dataframe tbody tr th {\n",
       "        vertical-align: top;\n",
       "    }\n",
       "\n",
       "    .dataframe thead th {\n",
       "        text-align: right;\n",
       "    }\n",
       "</style>\n",
       "<table border=\"1\" class=\"dataframe\">\n",
       "  <thead>\n",
       "    <tr style=\"text-align: right;\">\n",
       "      <th></th>\n",
       "      <th>content_id</th>\n",
       "      <th>title</th>\n",
       "      <th>paragraph_id</th>\n",
       "      <th>context</th>\n",
       "      <th>question_id</th>\n",
       "      <th>question</th>\n",
       "      <th>text</th>\n",
       "      <th>uncased_text</th>\n",
       "      <th>tokenized_text</th>\n",
       "      <th>start_position</th>\n",
       "      <th>end_position</th>\n",
       "    </tr>\n",
       "  </thead>\n",
       "  <tbody>\n",
       "    <tr>\n",
       "      <th>0</th>\n",
       "      <td>CNTS_0643625675</td>\n",
       "      <td>2015년도 생활주변방사선 안전관리 실태 조사 및 분석 결과보고서</td>\n",
       "      <td>PARS_DIL8VCbM70</td>\n",
       "      <td>생활방사선법 제23조(생활주변방사선 안전관리 실태조사 및 분석) 제1항에 따른 안전...</td>\n",
       "      <td>QUES_cyOI2451l1</td>\n",
       "      <td>어디서 모나자이트 취급사업장을 생활주변방사선 실태조사 대상으로 뽑았어</td>\n",
       "      <td>생활방사선법 제23조(생활주변방사선 안전관리 실태조사 및 분석) 제1항에 따른 안전...</td>\n",
       "      <td>생활방사선법 제23조(생활주변방사선 안전관리 실태조사 및 분석) 제1항에 따른 안전...</td>\n",
       "      <td>[ᄉ, ##ᅢ, ##ᆼ, ##ᄒ, ##ᅪ, ##ᆯ, ##ᄇ, ##ᅡ, ##ᆼ, ##...</td>\n",
       "      <td>-1</td>\n",
       "      <td>-1</td>\n",
       "    </tr>\n",
       "    <tr>\n",
       "      <th>1</th>\n",
       "      <td>CNTS_8295988335</td>\n",
       "      <td>청소년쉼터 이용만족도 조사</td>\n",
       "      <td>PARS_uOkQvxJVNK</td>\n",
       "      <td>또한 최근 위기청소년의 증가와 더불어 위기청소년 사회안전망 구축사업에서 가출청소년 ...</td>\n",
       "      <td>QUES_pz2vbWpWWo</td>\n",
       "      <td>어떤 문제가 위기청소년 사회안전망 형성사업에서 중요한 부분인가</td>\n",
       "      <td>또한 최근 위기청소년의 증가와 더불어 위기청소년 사회안전망 구축사업에서 가출청소년 ...</td>\n",
       "      <td>또한 최근 위기청소년의 증가와 더불어 위기청소년 사회안전망 구축사업에서 가출청소년 ...</td>\n",
       "      <td>[[UNK], [UNK], [UNK], ᄌ, ##ᅳ, ##ᆼ, ##ᄀ, ##ᅡ, #...</td>\n",
       "      <td>-1</td>\n",
       "      <td>-1</td>\n",
       "    </tr>\n",
       "    <tr>\n",
       "      <th>2</th>\n",
       "      <td>CNTS_2702937576</td>\n",
       "      <td>일반계 고등학생의 진로교육활동 참여 및 만족도가 진로성숙도에 미치는 영향  소득계층...</td>\n",
       "      <td>PARS_oSXByOF16J</td>\n",
       "      <td>고등학교 시기는 삶의 경험 속에서 지속적인 자아 탐색, 직업정보 검색 및 평가 등의...</td>\n",
       "      <td>QUES_1g3jI4y7eo</td>\n",
       "      <td>어떤 시기 때문에 고등학생 시기가 혼란스럽고 정서적 불안을 느낄 가능성이 커</td>\n",
       "      <td>고등학교 시기는 삶의 경험 속에서 지속적인 자아 탐색, 직업정보 검색 및 평가 등의...</td>\n",
       "      <td>고등학교 시기는 삶의 경험 속에서 지속적인 자아 탐색, 직업정보 검색 및 평가 등의...</td>\n",
       "      <td>[ᄀ, ##ᅩ, ##ᄃ, ##ᅳ, ##ᆼ, ##ᄒ, ##ᅡ, ##ᆨ, ##ᄀ, ##...</td>\n",
       "      <td>-1</td>\n",
       "      <td>-1</td>\n",
       "    </tr>\n",
       "    <tr>\n",
       "      <th>3</th>\n",
       "      <td>CNTS_6704151053</td>\n",
       "      <td>제4차 산업혁명 시대의 물류/배송로봇의 동향 및 시사점 Logistics and D...</td>\n",
       "      <td>PARS_Fbnm80W7Ud</td>\n",
       "      <td>흥미롭게도 물류로봇과 배송로봇은 모두 세계최대의 전자상거래 기업인 Amazon에 의...</td>\n",
       "      <td>QUES_qzwOZwaeeY</td>\n",
       "      <td>Amazon은 2013년 무슨 드론을 이용한 배송 서비스를 발표했지</td>\n",
       "      <td>흥미롭게도 물류로봇과 배송로봇은 모두 세계최대의 전자상거래 기업인 Amazon에 의...</td>\n",
       "      <td>흥미롭게도 물류로봇과 배송로봇은 모두 세계최대의 전자상거래 기업인 amazon에 의...</td>\n",
       "      <td>[ᄒ, ##ᅳ, ##ᆼ, ##ᄆ, ##ᅵ, ##ᄅ, ##ᅩ, ##ᆸ, ##ᄀ, ##...</td>\n",
       "      <td>-1</td>\n",
       "      <td>-1</td>\n",
       "    </tr>\n",
       "    <tr>\n",
       "      <th>4</th>\n",
       "      <td>CNTS_6718941213</td>\n",
       "      <td>장애인활동지원제도 개선방안에 관한 연구</td>\n",
       "      <td>PARS_PFujG45XmS</td>\n",
       "      <td>미국의 사례를 통해 살펴보면 현행 우리나라의 활동지원서비스는 장애인케어서비스와 유사...</td>\n",
       "      <td>QUES_hfdtXCtdzf</td>\n",
       "      <td>한국의 활동지원서비스는 미국의 예를 통해 살펴보면 뭐와 비슷할까</td>\n",
       "      <td>미국의 사례를 통해 살펴보면 현행 우리나라의 활동지원서비스는 장애인케어서비스와 유사...</td>\n",
       "      <td>미국의 사례를 통해 살펴보면 현행 우리나라의 활동지원서비스는 장애인케어서비스와 유사...</td>\n",
       "      <td>[ᄆ, ##ᅵ, ##ᄀ, ##ᅮ, ##ᆨ, ##ᄋ, ##ᅴ, [UNK], ᄐ, ##...</td>\n",
       "      <td>-1</td>\n",
       "      <td>-1</td>\n",
       "    </tr>\n",
       "    <tr>\n",
       "      <th>...</th>\n",
       "      <td>...</td>\n",
       "      <td>...</td>\n",
       "      <td>...</td>\n",
       "      <td>...</td>\n",
       "      <td>...</td>\n",
       "      <td>...</td>\n",
       "      <td>...</td>\n",
       "      <td>...</td>\n",
       "      <td>...</td>\n",
       "      <td>...</td>\n",
       "      <td>...</td>\n",
       "    </tr>\n",
       "    <tr>\n",
       "      <th>1621</th>\n",
       "      <td>CNTS_9511164459</td>\n",
       "      <td>2016년 고령층55~79세 노동시장 특징</td>\n",
       "      <td>PARS_tJh2Jwdosb</td>\n",
       "      <td>고령층의 자영업 비중이 감소하면서 고령층 임금근로자 비중은 증가하고 있다. 2008...</td>\n",
       "      <td>QUES_JtsKBSQITG</td>\n",
       "      <td>2016년 약 27프로로 꾸준히 증가하는 추세를 보인건 고령층의 무엇이지</td>\n",
       "      <td>고령층의 자영업 비중이 감소하면서 고령층 임금근로자 비중은 증가하고 있다. 2008...</td>\n",
       "      <td>고령층의 자영업 비중이 감소하면서 고령층 임금근로자 비중은 증가하고 있다. 2008...</td>\n",
       "      <td>[ᄀ, ##ᅩ, ##ᄅ, ##ᅧ, ##ᆼ, ##ᄎ, ##ᅳ, ##ᆼ, ##ᄋ, ##...</td>\n",
       "      <td>-1</td>\n",
       "      <td>-1</td>\n",
       "    </tr>\n",
       "    <tr>\n",
       "      <th>1622</th>\n",
       "      <td>CNTS_9511164459</td>\n",
       "      <td>2016년 고령층55~79세 노동시장 특징</td>\n",
       "      <td>PARS_5Kd58IEeoF</td>\n",
       "      <td>통계청의 가계동향조사에 의하면 60세 이상 노인 단독 가구의 처분가능소득(2015년...</td>\n",
       "      <td>QUES_IajaDLmxvq</td>\n",
       "      <td>어떤 소득이 60세 이상 독거 노인 가구의 가처분소득에서 가장 높은 비율을 차지해</td>\n",
       "      <td>통계청의 가계동향조사에 의하면 60세 이상 노인 단독 가구의 처분가능소득(2015년...</td>\n",
       "      <td>통계청의 가계동향조사에 의하면 60세 이상 노인 단독 가구의 처분가능소득(2015년...</td>\n",
       "      <td>[[UNK], [UNK], ᄋ, ##ᅴ, ##ᄒ, ##ᅡ, ##ᄆ, ##ᅧ, ##ᆫ...</td>\n",
       "      <td>-1</td>\n",
       "      <td>-1</td>\n",
       "    </tr>\n",
       "    <tr>\n",
       "      <th>1623</th>\n",
       "      <td>CNTS_2866845900</td>\n",
       "      <td>여성의 시간배분 결정이 보육 및 교육 정책에 주는 시사점</td>\n",
       "      <td>PARS_hx3FcnKbHp</td>\n",
       "      <td>여성의 시간배분 결정에 있어서 중요한 가격요인 중 하나가 대체보육서비스 비용이다. ...</td>\n",
       "      <td>QUES_lR6hjzsptY</td>\n",
       "      <td>무엇이 여성의 시간배분 결정에 있어서 주요한 가격소이 가운데 하나일까</td>\n",
       "      <td>여성의 시간배분 결정에 있어서 중요한 가격요인 중 하나가 대체보육서비스 비용이다. ...</td>\n",
       "      <td>여성의 시간배분 결정에 있어서 중요한 가격요인 중 하나가 대체보육서비스 비용이다. ...</td>\n",
       "      <td>[ᄋ, ##ᅧ, ##ᄉ, ##ᅥ, ##ᆼ, ##ᄋ, ##ᅴ, ᄉ, ##ᅵ, ##ᄀ,...</td>\n",
       "      <td>-1</td>\n",
       "      <td>-1</td>\n",
       "    </tr>\n",
       "    <tr>\n",
       "      <th>1624</th>\n",
       "      <td>CNTS_2154408662</td>\n",
       "      <td>해양수산 산업동향 2019년 12월호</td>\n",
       "      <td>PARS_DNrvnb1Mzw</td>\n",
       "      <td>노르웨이 Cermaq사는 IBM Food Trust Labeyrie사와 협력하여 연...</td>\n",
       "      <td>QUES_ACwZJGYBfp</td>\n",
       "      <td>노르웨이 Cermaq사가 어느 회사와 협력하여 연어의 생산과 유통 정보시스템을 구축했니</td>\n",
       "      <td>노르웨이 Cermaq사는 IBM Food Trust Labeyrie사와 협력하여 연...</td>\n",
       "      <td>노르웨이 cermaq사는 ibm food trust labeyrie사와 협력하여 연...</td>\n",
       "      <td>[[UNK], ce, ##rma, ##q, ##ᄉ, ##ᅡ, ##ᄂ, ##ᅳ, ##...</td>\n",
       "      <td>-1</td>\n",
       "      <td>-1</td>\n",
       "    </tr>\n",
       "    <tr>\n",
       "      <th>1625</th>\n",
       "      <td>CNTS_2154408662</td>\n",
       "      <td>해양수산 산업동향 2019년 12월호</td>\n",
       "      <td>PARS_3OHa20NjJf</td>\n",
       "      <td>유엔식량농업기구(FAO)는 개발도상국의 수산업 역량 강화 및 지속가능성 제고를 위해...</td>\n",
       "      <td>QUES_UB3Fj0NPIX</td>\n",
       "      <td>FAO와 중국이 남남협력과 연계한 개발도상국 지원 프로그램을 신설한 것은 언제야</td>\n",
       "      <td>유엔식량농업기구(FAO)는 개발도상국의 수산업 역량 강화 및 지속가능성 제고를 위해...</td>\n",
       "      <td>유엔식량농업기구(fao)는 개발도상국의 수산업 역량 강화 및 지속가능성 제고를 위해...</td>\n",
       "      <td>[[UNK], (, fa, ##o, ), ᄂ, ##ᅳ, ##ᆫ, ᄀ, ##ᅢ, ##...</td>\n",
       "      <td>-1</td>\n",
       "      <td>-1</td>\n",
       "    </tr>\n",
       "  </tbody>\n",
       "</table>\n",
       "<p>1626 rows × 11 columns</p>\n",
       "</div>"
      ],
      "text/plain": [
       "           content_id                                              title  \\\n",
       "0     CNTS_0643625675               2015년도 생활주변방사선 안전관리 실태 조사 및 분석 결과보고서   \n",
       "1     CNTS_8295988335                                     청소년쉼터 이용만족도 조사   \n",
       "2     CNTS_2702937576  일반계 고등학생의 진로교육활동 참여 및 만족도가 진로성숙도에 미치는 영향  소득계층...   \n",
       "3     CNTS_6704151053  제4차 산업혁명 시대의 물류/배송로봇의 동향 및 시사점 Logistics and D...   \n",
       "4     CNTS_6718941213                              장애인활동지원제도 개선방안에 관한 연구   \n",
       "...               ...                                                ...   \n",
       "1621  CNTS_9511164459                            2016년 고령층55~79세 노동시장 특징   \n",
       "1622  CNTS_9511164459                            2016년 고령층55~79세 노동시장 특징   \n",
       "1623  CNTS_2866845900                   여성의 시간배분 결정이 보육 및 교육 정책에 주는 시사점    \n",
       "1624  CNTS_2154408662                               해양수산 산업동향 2019년 12월호   \n",
       "1625  CNTS_2154408662                               해양수산 산업동향 2019년 12월호   \n",
       "\n",
       "         paragraph_id                                            context  \\\n",
       "0     PARS_DIL8VCbM70  생활방사선법 제23조(생활주변방사선 안전관리 실태조사 및 분석) 제1항에 따른 안전...   \n",
       "1     PARS_uOkQvxJVNK  또한 최근 위기청소년의 증가와 더불어 위기청소년 사회안전망 구축사업에서 가출청소년 ...   \n",
       "2     PARS_oSXByOF16J  고등학교 시기는 삶의 경험 속에서 지속적인 자아 탐색, 직업정보 검색 및 평가 등의...   \n",
       "3     PARS_Fbnm80W7Ud  흥미롭게도 물류로봇과 배송로봇은 모두 세계최대의 전자상거래 기업인 Amazon에 의...   \n",
       "4     PARS_PFujG45XmS  미국의 사례를 통해 살펴보면 현행 우리나라의 활동지원서비스는 장애인케어서비스와 유사...   \n",
       "...               ...                                                ...   \n",
       "1621  PARS_tJh2Jwdosb  고령층의 자영업 비중이 감소하면서 고령층 임금근로자 비중은 증가하고 있다. 2008...   \n",
       "1622  PARS_5Kd58IEeoF  통계청의 가계동향조사에 의하면 60세 이상 노인 단독 가구의 처분가능소득(2015년...   \n",
       "1623  PARS_hx3FcnKbHp  여성의 시간배분 결정에 있어서 중요한 가격요인 중 하나가 대체보육서비스 비용이다. ...   \n",
       "1624  PARS_DNrvnb1Mzw  노르웨이 Cermaq사는 IBM Food Trust Labeyrie사와 협력하여 연...   \n",
       "1625  PARS_3OHa20NjJf  유엔식량농업기구(FAO)는 개발도상국의 수산업 역량 강화 및 지속가능성 제고를 위해...   \n",
       "\n",
       "          question_id                                          question  \\\n",
       "0     QUES_cyOI2451l1            어디서 모나자이트 취급사업장을 생활주변방사선 실태조사 대상으로 뽑았어   \n",
       "1     QUES_pz2vbWpWWo                어떤 문제가 위기청소년 사회안전망 형성사업에서 중요한 부분인가   \n",
       "2     QUES_1g3jI4y7eo        어떤 시기 때문에 고등학생 시기가 혼란스럽고 정서적 불안을 느낄 가능성이 커   \n",
       "3     QUES_qzwOZwaeeY             Amazon은 2013년 무슨 드론을 이용한 배송 서비스를 발표했지   \n",
       "4     QUES_hfdtXCtdzf               한국의 활동지원서비스는 미국의 예를 통해 살펴보면 뭐와 비슷할까   \n",
       "...               ...                                               ...   \n",
       "1621  QUES_JtsKBSQITG          2016년 약 27프로로 꾸준히 증가하는 추세를 보인건 고령층의 무엇이지   \n",
       "1622  QUES_IajaDLmxvq     어떤 소득이 60세 이상 독거 노인 가구의 가처분소득에서 가장 높은 비율을 차지해   \n",
       "1623  QUES_lR6hjzsptY            무엇이 여성의 시간배분 결정에 있어서 주요한 가격소이 가운데 하나일까   \n",
       "1624  QUES_ACwZJGYBfp  노르웨이 Cermaq사가 어느 회사와 협력하여 연어의 생산과 유통 정보시스템을 구축했니   \n",
       "1625  QUES_UB3Fj0NPIX      FAO와 중국이 남남협력과 연계한 개발도상국 지원 프로그램을 신설한 것은 언제야   \n",
       "\n",
       "                                                   text  \\\n",
       "0     생활방사선법 제23조(생활주변방사선 안전관리 실태조사 및 분석) 제1항에 따른 안전...   \n",
       "1     또한 최근 위기청소년의 증가와 더불어 위기청소년 사회안전망 구축사업에서 가출청소년 ...   \n",
       "2     고등학교 시기는 삶의 경험 속에서 지속적인 자아 탐색, 직업정보 검색 및 평가 등의...   \n",
       "3     흥미롭게도 물류로봇과 배송로봇은 모두 세계최대의 전자상거래 기업인 Amazon에 의...   \n",
       "4     미국의 사례를 통해 살펴보면 현행 우리나라의 활동지원서비스는 장애인케어서비스와 유사...   \n",
       "...                                                 ...   \n",
       "1621  고령층의 자영업 비중이 감소하면서 고령층 임금근로자 비중은 증가하고 있다. 2008...   \n",
       "1622  통계청의 가계동향조사에 의하면 60세 이상 노인 단독 가구의 처분가능소득(2015년...   \n",
       "1623  여성의 시간배분 결정에 있어서 중요한 가격요인 중 하나가 대체보육서비스 비용이다. ...   \n",
       "1624  노르웨이 Cermaq사는 IBM Food Trust Labeyrie사와 협력하여 연...   \n",
       "1625  유엔식량농업기구(FAO)는 개발도상국의 수산업 역량 강화 및 지속가능성 제고를 위해...   \n",
       "\n",
       "                                           uncased_text  \\\n",
       "0     생활방사선법 제23조(생활주변방사선 안전관리 실태조사 및 분석) 제1항에 따른 안전...   \n",
       "1     또한 최근 위기청소년의 증가와 더불어 위기청소년 사회안전망 구축사업에서 가출청소년 ...   \n",
       "2     고등학교 시기는 삶의 경험 속에서 지속적인 자아 탐색, 직업정보 검색 및 평가 등의...   \n",
       "3     흥미롭게도 물류로봇과 배송로봇은 모두 세계최대의 전자상거래 기업인 amazon에 의...   \n",
       "4     미국의 사례를 통해 살펴보면 현행 우리나라의 활동지원서비스는 장애인케어서비스와 유사...   \n",
       "...                                                 ...   \n",
       "1621  고령층의 자영업 비중이 감소하면서 고령층 임금근로자 비중은 증가하고 있다. 2008...   \n",
       "1622  통계청의 가계동향조사에 의하면 60세 이상 노인 단독 가구의 처분가능소득(2015년...   \n",
       "1623  여성의 시간배분 결정에 있어서 중요한 가격요인 중 하나가 대체보육서비스 비용이다. ...   \n",
       "1624  노르웨이 cermaq사는 ibm food trust labeyrie사와 협력하여 연...   \n",
       "1625  유엔식량농업기구(fao)는 개발도상국의 수산업 역량 강화 및 지속가능성 제고를 위해...   \n",
       "\n",
       "                                         tokenized_text  start_position  \\\n",
       "0     [ᄉ, ##ᅢ, ##ᆼ, ##ᄒ, ##ᅪ, ##ᆯ, ##ᄇ, ##ᅡ, ##ᆼ, ##...              -1   \n",
       "1     [[UNK], [UNK], [UNK], ᄌ, ##ᅳ, ##ᆼ, ##ᄀ, ##ᅡ, #...              -1   \n",
       "2     [ᄀ, ##ᅩ, ##ᄃ, ##ᅳ, ##ᆼ, ##ᄒ, ##ᅡ, ##ᆨ, ##ᄀ, ##...              -1   \n",
       "3     [ᄒ, ##ᅳ, ##ᆼ, ##ᄆ, ##ᅵ, ##ᄅ, ##ᅩ, ##ᆸ, ##ᄀ, ##...              -1   \n",
       "4     [ᄆ, ##ᅵ, ##ᄀ, ##ᅮ, ##ᆨ, ##ᄋ, ##ᅴ, [UNK], ᄐ, ##...              -1   \n",
       "...                                                 ...             ...   \n",
       "1621  [ᄀ, ##ᅩ, ##ᄅ, ##ᅧ, ##ᆼ, ##ᄎ, ##ᅳ, ##ᆼ, ##ᄋ, ##...              -1   \n",
       "1622  [[UNK], [UNK], ᄋ, ##ᅴ, ##ᄒ, ##ᅡ, ##ᄆ, ##ᅧ, ##ᆫ...              -1   \n",
       "1623  [ᄋ, ##ᅧ, ##ᄉ, ##ᅥ, ##ᆼ, ##ᄋ, ##ᅴ, ᄉ, ##ᅵ, ##ᄀ,...              -1   \n",
       "1624  [[UNK], ce, ##rma, ##q, ##ᄉ, ##ᅡ, ##ᄂ, ##ᅳ, ##...              -1   \n",
       "1625  [[UNK], (, fa, ##o, ), ᄂ, ##ᅳ, ##ᆫ, ᄀ, ##ᅢ, ##...              -1   \n",
       "\n",
       "      end_position  \n",
       "0               -1  \n",
       "1               -1  \n",
       "2               -1  \n",
       "3               -1  \n",
       "4               -1  \n",
       "...            ...  \n",
       "1621            -1  \n",
       "1622            -1  \n",
       "1623            -1  \n",
       "1624            -1  \n",
       "1625            -1  \n",
       "\n",
       "[1626 rows x 11 columns]"
      ]
     },
     "execution_count": 51,
     "metadata": {},
     "output_type": "execute_result"
    }
   ],
   "source": [
    "test"
   ]
  },
  {
   "cell_type": "code",
   "execution_count": null,
   "metadata": {
    "pycharm": {
     "name": "#%%\n"
    }
   },
   "outputs": [],
   "source": [
    "test.index = test['content_id']\n",
    "test['selected_text'] = ''\n",
    "\n",
    "test.loc[ds_pos_test.hash_index[:BATCH_SIZE if DEBUG_MODE else len(test)], 'start_position':'end_position'] = pos_pred.values\n",
    "test"
   ]
  },
  {
   "cell_type": "code",
   "execution_count": null,
   "metadata": {
    "pycharm": {
     "name": "#%%\n"
    }
   },
   "outputs": [],
   "source": [
    "for i in tqdm(range(len(test))):\n",
    "    if test['sentiment'].iloc[i] in ('positive', 'negative'):\n",
    "        tokenized_text = test['tokenized_text'].iloc[i]\n",
    "        start_position = max(test['start_position'].iloc[i], 0)\n",
    "        end_position = min(test['end_position'].iloc[i], len(tokenized_text) - 1)\n",
    "        \n",
    "        # restore original text\n",
    "        selected_text = tokenizer.convert_tokens_to_string(tokenized_text[start_position : end_position + 1])\n",
    "        for original_token in test['text'].iloc[i].split():\n",
    "            tokenized_form = tokenizer.convert_tokens_to_string(tokenizer.tokenize(original_token))\n",
    "            selected_text = selected_text.replace(tokenized_form, original_token, 1)\n",
    "        \n",
    "        test['selected_text'].iloc[i] = selected_text"
   ]
  }
 ],
 "metadata": {
  "kernelspec": {
   "display_name": "Python 3.8.10 64-bit",
   "language": "python",
   "name": "python3"
  },
  "language_info": {
   "codemirror_mode": {
    "name": "ipython",
    "version": 3
   },
   "file_extension": ".py",
   "mimetype": "text/x-python",
   "name": "python",
   "nbconvert_exporter": "python",
   "pygments_lexer": "ipython3",
   "version": "3.8.10"
  },
  "orig_nbformat": 4,
  "vscode": {
   "interpreter": {
    "hash": "916dbcbb3f70747c44a77c7bcd40155683ae19c65e1c03b4aa3499c5328201f1"
   }
  }
 },
 "nbformat": 4,
 "nbformat_minor": 2
}