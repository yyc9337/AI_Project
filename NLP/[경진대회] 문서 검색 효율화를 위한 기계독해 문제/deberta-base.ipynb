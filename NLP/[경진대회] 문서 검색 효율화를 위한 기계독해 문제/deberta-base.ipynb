{
 "cells": [
  {
   "cell_type": "code",
   "execution_count": null,
   "metadata": {
    "collapsed": true,
    "pycharm": {
     "name": "#%%\n"
    }
   },
   "outputs": [],
   "source": [
    "class CFG:\n",
    "    wandb=True\n",
    "    competition='NBME'\n",
    "    _wandb_kernel='nakama'\n",
    "    debug=False\n",
    "    apex=True\n",
    "    print_freq=100\n",
    "    num_workers=4\n",
    "    model=\"microsoft/deberta-base\"\n",
    "    scheduler='cosine' # ['linear', 'cosine']\n",
    "    batch_scheduler=True\n",
    "    num_cycles=0.5\n",
    "    num_warmup_steps=0\n",
    "    epochs=5\n",
    "    encoder_lr=2e-5\n",
    "    decoder_lr=2e-5\n",
    "    min_lr=1e-6\n",
    "    eps=1e-6\n",
    "    betas=(0.9, 0.999)\n",
    "    batch_size=12\n",
    "    fc_dropout=0.2\n",
    "    max_len=512\n",
    "    weight_decay=0.01\n",
    "    gradient_accumulation_steps=1\n",
    "    max_grad_norm=1000\n",
    "    seed=42\n",
    "    n_fold=5\n",
    "    trn_fold=[0, 1, 2, 3, 4]\n",
    "    train=True\n",
    "\n",
    "if CFG.debug:\n",
    "    CFG.epochs = 2\n",
    "    CFG.trn_fold = [0]"
   ]
  },
  {
   "cell_type": "code",
   "execution_count": 2,
   "outputs": [
    {
     "data": {
      "text/plain": "            content_id                                              title  \\\n0      CNTS_4740509086                               국가 기술경쟁력 평가의 방법론과 응용   \n1      CNTS_4740509086                               국가 기술경쟁력 평가의 방법론과 응용   \n2      CNTS_4740509086                               국가 기술경쟁력 평가의 방법론과 응용   \n3      CNTS_4740509086                               국가 기술경쟁력 평가의 방법론과 응용   \n4      CNTS_4740509086                               국가 기술경쟁력 평가의 방법론과 응용   \n...                ...                                                ...   \n37324  CNTS_2129305745                                            국역 금대전책   \n37325  CNTS_2129305745                                            국역 금대전책   \n37326  CNTS_7969874543  과학기술 ODA 사업의 사례2  농업기술분야-몽골 강원도 농업타운 조성 및 운영 성...   \n37327  CNTS_7969874543  과학기술 ODA 사업의 사례2  농업기술분야-몽골 강원도 농업타운 조성 및 운영 성...   \n37328  CNTS_7969874543  과학기술 ODA 사업의 사례2  농업기술분야-몽골 강원도 농업타운 조성 및 운영 성...   \n\n          paragraph_id                                            context  \\\n0      PARS_RrlDreD2hE  이 글에서는 제안한 기술경쟁력 평가 방법의 특징은 두 가지로 요약된다. 첫째, 현재...   \n1      PARS_s5sSaKdCH3  현위치와 관련된 평가부문은 IMD 평가에서나 종합과학기술력의 평가에서 도 포함된 부...   \n2      PARS_erOlnfgWx2  IMD는 스위스의 비영리 민간기구로 국가경쟁력의 순위를 1996년이래 연례적으로 발...   \n3      PARS_pP8k4n8yg4  IMD의 평가나 종합과학기술력 평가는 궁극적으로는 국가간 순위를 매기기 위한 평가이...   \n4      PARS_7b3M3mKZbb  기업경영, 산학연 협력, 교육과 훈련, 세계화, 정부의 행정효율 그 어느 부문도 한...   \n...                ...                                                ...   \n37324  PARS_ma0DB2fJSk  ｢천체론｣은 정조가 하늘의 작용이 민사(民事)와 관계되므로 국가의 다스림에서 천문에...   \n37325  PARS_wGlvzy6QkR  ｢문체론｣은 국왕 정조가 “문장은 한 시대의 체제가 있어서 세상의 도와 함께 부침한...   \n37326  PARS_wXIJMVVRcQ  또한 강원도농업타운의 조성 및 운영의 궁극적인 목적이 몽골 현지에서의 시범 재배 및...   \n37327  PARS_Tk1KaMM2tz  강원도의 몽골 농업기술교류사업 중 성공 모델로 각광받고 있는 강원도농업타운 조성의 ...   \n37328  PARS_4PSXTjLeXS  예로부터 몽골은 목초지를 따라 방목하는 방식의 유목문화로 육식 위주의 식생활을 하였...   \n\n           question_id                                           question  \\\n0      QUES_CHGHl0CHHK  경쟁 상대국을 연구하고 경쟁 상대국을 앞설 수 있는 방법을 연구하기 위해서 더욱 활...   \n1      QUES_ncJEA1ANCe               IMD평가에 포함되었던 기술관리부분의 한국의 순위는 평균 몇 위야   \n2      QUES_WwhEDEQ4JT   국가경쟁력의 순위를 1996년 이전 연례적으로 발표하는 스위스의 비영리 민간기구는 뭐야   \n3      QUES_GnQIVxXt70       기술무역액 등과 같이 가용할 수 있는 통계 수치에 전적으로 의존하는 평가가 뭐야   \n4      QUES_RcrMURMuhd                              창의력을 저해하는 인사제도 요인은 뭐야   \n...                ...                                                ...   \n37324  QUES_XM4RUoboD7  역상을 알지 못함을 분개하면서 이에 대한 견해를 토로하도록 하는 책문을 정조가 내놓...   \n37325  QUES_YsPrUyg1xE   사대부들이 정학을 기피하면서 기교에 기반한 글쓰기를 하자 문체반정을 추진한 왕은 누구야   \n37326  QUES_Lz55ir98nY           강원도농업기술원의 육류 전문가를 2004년에 몽골에 몇 개월간 파견하였냐   \n37327  QUES_dklx3PbuRp                  매년 몽골의 작물 재배상황이 일정해서 무엇의 확립이 어려웠지   \n37328  QUES_53EA1Edz1J   예전부터 육식을 중심으로 식생활을 이어온 나라로 유목문화의 방식을 사용한 나라가 어디야   \n\n      answer_text  answer_start  is_impossible  \n0           기술경쟁력         603.0          False  \n1          평균 32위         420.0          False  \n2             NaN           NaN           True  \n3      종합과학기술력 평가         124.0          False  \n4           연공서열제         120.0          False  \n...           ...           ...            ...  \n37324         천체론           1.0          False  \n37325          정조         244.0          False  \n37326         NaN           NaN           True  \n37327         NaN           NaN           True  \n37328          몽골           5.0          False  \n\n[37329 rows x 9 columns]",
      "text/html": "<div>\n<style scoped>\n    .dataframe tbody tr th:only-of-type {\n        vertical-align: middle;\n    }\n\n    .dataframe tbody tr th {\n        vertical-align: top;\n    }\n\n    .dataframe thead th {\n        text-align: right;\n    }\n</style>\n<table border=\"1\" class=\"dataframe\">\n  <thead>\n    <tr style=\"text-align: right;\">\n      <th></th>\n      <th>content_id</th>\n      <th>title</th>\n      <th>paragraph_id</th>\n      <th>context</th>\n      <th>question_id</th>\n      <th>question</th>\n      <th>answer_text</th>\n      <th>answer_start</th>\n      <th>is_impossible</th>\n    </tr>\n  </thead>\n  <tbody>\n    <tr>\n      <th>0</th>\n      <td>CNTS_4740509086</td>\n      <td>국가 기술경쟁력 평가의 방법론과 응용</td>\n      <td>PARS_RrlDreD2hE</td>\n      <td>이 글에서는 제안한 기술경쟁력 평가 방법의 특징은 두 가지로 요약된다. 첫째, 현재...</td>\n      <td>QUES_CHGHl0CHHK</td>\n      <td>경쟁 상대국을 연구하고 경쟁 상대국을 앞설 수 있는 방법을 연구하기 위해서 더욱 활...</td>\n      <td>기술경쟁력</td>\n      <td>603.0</td>\n      <td>False</td>\n    </tr>\n    <tr>\n      <th>1</th>\n      <td>CNTS_4740509086</td>\n      <td>국가 기술경쟁력 평가의 방법론과 응용</td>\n      <td>PARS_s5sSaKdCH3</td>\n      <td>현위치와 관련된 평가부문은 IMD 평가에서나 종합과학기술력의 평가에서 도 포함된 부...</td>\n      <td>QUES_ncJEA1ANCe</td>\n      <td>IMD평가에 포함되었던 기술관리부분의 한국의 순위는 평균 몇 위야</td>\n      <td>평균 32위</td>\n      <td>420.0</td>\n      <td>False</td>\n    </tr>\n    <tr>\n      <th>2</th>\n      <td>CNTS_4740509086</td>\n      <td>국가 기술경쟁력 평가의 방법론과 응용</td>\n      <td>PARS_erOlnfgWx2</td>\n      <td>IMD는 스위스의 비영리 민간기구로 국가경쟁력의 순위를 1996년이래 연례적으로 발...</td>\n      <td>QUES_WwhEDEQ4JT</td>\n      <td>국가경쟁력의 순위를 1996년 이전 연례적으로 발표하는 스위스의 비영리 민간기구는 뭐야</td>\n      <td>NaN</td>\n      <td>NaN</td>\n      <td>True</td>\n    </tr>\n    <tr>\n      <th>3</th>\n      <td>CNTS_4740509086</td>\n      <td>국가 기술경쟁력 평가의 방법론과 응용</td>\n      <td>PARS_pP8k4n8yg4</td>\n      <td>IMD의 평가나 종합과학기술력 평가는 궁극적으로는 국가간 순위를 매기기 위한 평가이...</td>\n      <td>QUES_GnQIVxXt70</td>\n      <td>기술무역액 등과 같이 가용할 수 있는 통계 수치에 전적으로 의존하는 평가가 뭐야</td>\n      <td>종합과학기술력 평가</td>\n      <td>124.0</td>\n      <td>False</td>\n    </tr>\n    <tr>\n      <th>4</th>\n      <td>CNTS_4740509086</td>\n      <td>국가 기술경쟁력 평가의 방법론과 응용</td>\n      <td>PARS_7b3M3mKZbb</td>\n      <td>기업경영, 산학연 협력, 교육과 훈련, 세계화, 정부의 행정효율 그 어느 부문도 한...</td>\n      <td>QUES_RcrMURMuhd</td>\n      <td>창의력을 저해하는 인사제도 요인은 뭐야</td>\n      <td>연공서열제</td>\n      <td>120.0</td>\n      <td>False</td>\n    </tr>\n    <tr>\n      <th>...</th>\n      <td>...</td>\n      <td>...</td>\n      <td>...</td>\n      <td>...</td>\n      <td>...</td>\n      <td>...</td>\n      <td>...</td>\n      <td>...</td>\n      <td>...</td>\n    </tr>\n    <tr>\n      <th>37324</th>\n      <td>CNTS_2129305745</td>\n      <td>국역 금대전책</td>\n      <td>PARS_ma0DB2fJSk</td>\n      <td>｢천체론｣은 정조가 하늘의 작용이 민사(民事)와 관계되므로 국가의 다스림에서 천문에...</td>\n      <td>QUES_XM4RUoboD7</td>\n      <td>역상을 알지 못함을 분개하면서 이에 대한 견해를 토로하도록 하는 책문을 정조가 내놓...</td>\n      <td>천체론</td>\n      <td>1.0</td>\n      <td>False</td>\n    </tr>\n    <tr>\n      <th>37325</th>\n      <td>CNTS_2129305745</td>\n      <td>국역 금대전책</td>\n      <td>PARS_wGlvzy6QkR</td>\n      <td>｢문체론｣은 국왕 정조가 “문장은 한 시대의 체제가 있어서 세상의 도와 함께 부침한...</td>\n      <td>QUES_YsPrUyg1xE</td>\n      <td>사대부들이 정학을 기피하면서 기교에 기반한 글쓰기를 하자 문체반정을 추진한 왕은 누구야</td>\n      <td>정조</td>\n      <td>244.0</td>\n      <td>False</td>\n    </tr>\n    <tr>\n      <th>37326</th>\n      <td>CNTS_7969874543</td>\n      <td>과학기술 ODA 사업의 사례2  농업기술분야-몽골 강원도 농업타운 조성 및 운영 성...</td>\n      <td>PARS_wXIJMVVRcQ</td>\n      <td>또한 강원도농업타운의 조성 및 운영의 궁극적인 목적이 몽골 현지에서의 시범 재배 및...</td>\n      <td>QUES_Lz55ir98nY</td>\n      <td>강원도농업기술원의 육류 전문가를 2004년에 몽골에 몇 개월간 파견하였냐</td>\n      <td>NaN</td>\n      <td>NaN</td>\n      <td>True</td>\n    </tr>\n    <tr>\n      <th>37327</th>\n      <td>CNTS_7969874543</td>\n      <td>과학기술 ODA 사업의 사례2  농업기술분야-몽골 강원도 농업타운 조성 및 운영 성...</td>\n      <td>PARS_Tk1KaMM2tz</td>\n      <td>강원도의 몽골 농업기술교류사업 중 성공 모델로 각광받고 있는 강원도농업타운 조성의 ...</td>\n      <td>QUES_dklx3PbuRp</td>\n      <td>매년 몽골의 작물 재배상황이 일정해서 무엇의 확립이 어려웠지</td>\n      <td>NaN</td>\n      <td>NaN</td>\n      <td>True</td>\n    </tr>\n    <tr>\n      <th>37328</th>\n      <td>CNTS_7969874543</td>\n      <td>과학기술 ODA 사업의 사례2  농업기술분야-몽골 강원도 농업타운 조성 및 운영 성...</td>\n      <td>PARS_4PSXTjLeXS</td>\n      <td>예로부터 몽골은 목초지를 따라 방목하는 방식의 유목문화로 육식 위주의 식생활을 하였...</td>\n      <td>QUES_53EA1Edz1J</td>\n      <td>예전부터 육식을 중심으로 식생활을 이어온 나라로 유목문화의 방식을 사용한 나라가 어디야</td>\n      <td>몽골</td>\n      <td>5.0</td>\n      <td>False</td>\n    </tr>\n  </tbody>\n</table>\n<p>37329 rows × 9 columns</p>\n</div>"
     },
     "metadata": {},
     "output_type": "display_data"
    },
    {
     "data": {
      "text/plain": "array(['기술경쟁력', '평균 32위', nan, ..., '달', '250리', '천체론'], dtype=object)"
     },
     "execution_count": 2,
     "metadata": {},
     "output_type": "execute_result"
    }
   ],
   "source": [
    "import pandas as pd\n",
    "\n",
    "data = pd.read_csv('train_data_dataframe.csv')\n",
    "\n",
    "display(data)\n",
    "\n"
   ],
   "metadata": {
    "collapsed": false,
    "pycharm": {
     "name": "#%%\n"
    }
   }
  },
  {
   "cell_type": "code",
   "execution_count": 4,
   "outputs": [
    {
     "data": {
      "text/plain": "array(['기술경쟁력', '평균 32위', nan, ..., '달', '250리', '천체론'], dtype=object)"
     },
     "execution_count": 4,
     "metadata": {},
     "output_type": "execute_result"
    }
   ],
   "source": [
    "data['answer_text'].unique()"
   ],
   "metadata": {
    "collapsed": false,
    "pycharm": {
     "name": "#%%\n"
    }
   }
  }
 ],
 "metadata": {
  "kernelspec": {
   "display_name": "Python 3",
   "language": "python",
   "name": "python3"
  },
  "language_info": {
   "codemirror_mode": {
    "name": "ipython",
    "version": 2
   },
   "file_extension": ".py",
   "mimetype": "text/x-python",
   "name": "python",
   "nbconvert_exporter": "python",
   "pygments_lexer": "ipython2",
   "version": "2.7.6"
  }
 },
 "nbformat": 4,
 "nbformat_minor": 0
}