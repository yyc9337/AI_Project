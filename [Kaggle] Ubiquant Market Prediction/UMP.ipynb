{
  "nbformat": 4,
  "nbformat_minor": 0,
  "metadata": {
    "colab": {
      "name": "UMP.ipynb",
      "provenance": [],
      "machine_shape": "hm",
      "collapsed_sections": []
    },
    "kernelspec": {
      "name": "python3",
      "display_name": "Python 3"
    },
    "language_info": {
      "name": "python"
    }
  },
  "cells": [
    {
      "cell_type": "code",
      "source": [
        "from google.colab import drive \n",
        "drive.mount('/content/gdrive/')"
      ],
      "metadata": {
        "colab": {
          "base_uri": "https://localhost:8080/"
        },
        "id": "_KTuWztxQJdv",
        "outputId": "e2fcc161-7b78-4a5c-9d72-93ca3176e547"
      },
      "execution_count": 2,
      "outputs": [
        {
          "output_type": "stream",
          "name": "stdout",
          "text": [
            "Mounted at /content/gdrive/\n"
          ]
        }
      ]
    },
    {
      "cell_type": "code",
      "source": [
        "df = pd.read_csv('/content/gdrive/MyDrive/AI/dataset/UMP/supplemental_train.csv')"
      ],
      "metadata": {
        "id": "wbrvhNrsQ4Cz"
      },
      "execution_count": 3,
      "outputs": []
    },
    {
      "cell_type": "code",
      "source": [
        "import pandas as pd\n",
        "import pickle\n",
        "import numpy as np\n",
        "\n",
        "from sklearn.model_selection import train_test_split"
      ],
      "metadata": {
        "id": "V4ePThETPY-X"
      },
      "execution_count": 18,
      "outputs": []
    },
    {
      "cell_type": "code",
      "source": [
        "train = df[:200000]"
      ],
      "metadata": {
        "id": "L1LMUTCtf7Dl"
      },
      "execution_count": 5,
      "outputs": []
    },
    {
      "cell_type": "code",
      "source": [
        "# save\n",
        "with open('/content/gdrive/MyDrive/AI/dataset/UMP/sample_data.pickle', 'wb') as f:\n",
        "    pickle.dump(train, f, pickle.HIGHEST_PROTOCOL)"
      ],
      "metadata": {
        "id": "0PSDTUygfm_G"
      },
      "execution_count": 6,
      "outputs": []
    },
    {
      "cell_type": "code",
      "source": [
        "# load\n",
        "with open('/content/gdrive/MyDrive/AI/dataset/UMP/sample_data.pickle', 'rb') as f:\n",
        "    train = pickle.load(f)"
      ],
      "metadata": {
        "id": "GkQwyrh5gGUx"
      },
      "execution_count": 7,
      "outputs": []
    },
    {
      "cell_type": "code",
      "source": [
        "## 결측치 확인\n",
        "train.isnull().sum().sum()"
      ],
      "metadata": {
        "colab": {
          "base_uri": "https://localhost:8080/"
        },
        "id": "zrMiJytggOF_",
        "outputId": "e795b9ad-8d5c-4818-fb0b-46f72375b049"
      },
      "execution_count": 14,
      "outputs": [
        {
          "output_type": "execute_result",
          "data": {
            "text/plain": [
              "0"
            ]
          },
          "metadata": {},
          "execution_count": 14
        }
      ]
    },
    {
      "cell_type": "code",
      "source": [
        "train.head()"
      ],
      "metadata": {
        "colab": {
          "base_uri": "https://localhost:8080/",
          "height": 300
        },
        "id": "n5PAXSlmgqm3",
        "outputId": "622ad14e-1e1e-483e-b24a-71729033ceb1"
      },
      "execution_count": 15,
      "outputs": [
        {
          "output_type": "execute_result",
          "data": {
            "text/plain": [
              "   row_id  time_id  investment_id       f_0       f_1       f_2       f_3  \\\n",
              "0  0_2470        0           2470  0.857476  0.014525  0.788850  0.723694   \n",
              "1  1_3175        1           3175  0.136743  0.365311  0.480053  0.486144   \n",
              "2  2_1427        2           1427  0.303859  0.905065  0.653210  0.803277   \n",
              "3  3_2842        3           2842  0.310167  0.184374  0.250553  0.408470   \n",
              "4  4_1183        4           1183  0.751231  0.512202  0.216569  0.874850   \n",
              "\n",
              "        f_4       f_5       f_6  ...     f_291     f_292     f_293     f_294  \\\n",
              "0  0.110336  0.872259  0.622063  ...  0.207291  0.672806  0.543164  0.140206   \n",
              "1  0.947280  0.828768  0.467746  ...  0.719423  0.019378  0.253559  0.959608   \n",
              "2  0.324553  0.209632  0.801480  ...  0.239102  0.654874  0.877775  0.882025   \n",
              "3  0.625977  0.783919  0.461546  ...  0.131791  0.905971  0.647910  0.164506   \n",
              "4  0.786549  0.428286  0.004994  ...  0.057409  0.355222  0.897738  0.475867   \n",
              "\n",
              "      f_295     f_296     f_297     f_298     f_299    target  \n",
              "0  0.874127  0.608734  0.002161  0.777650  0.777969  0.482648  \n",
              "1  0.044995  0.075371  0.052130  0.799216  0.392113  0.870882  \n",
              "2  0.389150  0.995435  0.220038  0.463028  0.548430  0.135198  \n",
              "3  0.953576  0.928850  0.617431  0.966846  0.199578  0.765026  \n",
              "4  0.918221  0.638254  0.713265  0.827862  0.682437  0.553994  \n",
              "\n",
              "[5 rows x 304 columns]"
            ],
            "text/html": [
              "\n",
              "  <div id=\"df-3e50eb7f-03cc-40da-9a26-729157caa9d4\">\n",
              "    <div class=\"colab-df-container\">\n",
              "      <div>\n",
              "<style scoped>\n",
              "    .dataframe tbody tr th:only-of-type {\n",
              "        vertical-align: middle;\n",
              "    }\n",
              "\n",
              "    .dataframe tbody tr th {\n",
              "        vertical-align: top;\n",
              "    }\n",
              "\n",
              "    .dataframe thead th {\n",
              "        text-align: right;\n",
              "    }\n",
              "</style>\n",
              "<table border=\"1\" class=\"dataframe\">\n",
              "  <thead>\n",
              "    <tr style=\"text-align: right;\">\n",
              "      <th></th>\n",
              "      <th>row_id</th>\n",
              "      <th>time_id</th>\n",
              "      <th>investment_id</th>\n",
              "      <th>f_0</th>\n",
              "      <th>f_1</th>\n",
              "      <th>f_2</th>\n",
              "      <th>f_3</th>\n",
              "      <th>f_4</th>\n",
              "      <th>f_5</th>\n",
              "      <th>f_6</th>\n",
              "      <th>...</th>\n",
              "      <th>f_291</th>\n",
              "      <th>f_292</th>\n",
              "      <th>f_293</th>\n",
              "      <th>f_294</th>\n",
              "      <th>f_295</th>\n",
              "      <th>f_296</th>\n",
              "      <th>f_297</th>\n",
              "      <th>f_298</th>\n",
              "      <th>f_299</th>\n",
              "      <th>target</th>\n",
              "    </tr>\n",
              "  </thead>\n",
              "  <tbody>\n",
              "    <tr>\n",
              "      <th>0</th>\n",
              "      <td>0_2470</td>\n",
              "      <td>0</td>\n",
              "      <td>2470</td>\n",
              "      <td>0.857476</td>\n",
              "      <td>0.014525</td>\n",
              "      <td>0.788850</td>\n",
              "      <td>0.723694</td>\n",
              "      <td>0.110336</td>\n",
              "      <td>0.872259</td>\n",
              "      <td>0.622063</td>\n",
              "      <td>...</td>\n",
              "      <td>0.207291</td>\n",
              "      <td>0.672806</td>\n",
              "      <td>0.543164</td>\n",
              "      <td>0.140206</td>\n",
              "      <td>0.874127</td>\n",
              "      <td>0.608734</td>\n",
              "      <td>0.002161</td>\n",
              "      <td>0.777650</td>\n",
              "      <td>0.777969</td>\n",
              "      <td>0.482648</td>\n",
              "    </tr>\n",
              "    <tr>\n",
              "      <th>1</th>\n",
              "      <td>1_3175</td>\n",
              "      <td>1</td>\n",
              "      <td>3175</td>\n",
              "      <td>0.136743</td>\n",
              "      <td>0.365311</td>\n",
              "      <td>0.480053</td>\n",
              "      <td>0.486144</td>\n",
              "      <td>0.947280</td>\n",
              "      <td>0.828768</td>\n",
              "      <td>0.467746</td>\n",
              "      <td>...</td>\n",
              "      <td>0.719423</td>\n",
              "      <td>0.019378</td>\n",
              "      <td>0.253559</td>\n",
              "      <td>0.959608</td>\n",
              "      <td>0.044995</td>\n",
              "      <td>0.075371</td>\n",
              "      <td>0.052130</td>\n",
              "      <td>0.799216</td>\n",
              "      <td>0.392113</td>\n",
              "      <td>0.870882</td>\n",
              "    </tr>\n",
              "    <tr>\n",
              "      <th>2</th>\n",
              "      <td>2_1427</td>\n",
              "      <td>2</td>\n",
              "      <td>1427</td>\n",
              "      <td>0.303859</td>\n",
              "      <td>0.905065</td>\n",
              "      <td>0.653210</td>\n",
              "      <td>0.803277</td>\n",
              "      <td>0.324553</td>\n",
              "      <td>0.209632</td>\n",
              "      <td>0.801480</td>\n",
              "      <td>...</td>\n",
              "      <td>0.239102</td>\n",
              "      <td>0.654874</td>\n",
              "      <td>0.877775</td>\n",
              "      <td>0.882025</td>\n",
              "      <td>0.389150</td>\n",
              "      <td>0.995435</td>\n",
              "      <td>0.220038</td>\n",
              "      <td>0.463028</td>\n",
              "      <td>0.548430</td>\n",
              "      <td>0.135198</td>\n",
              "    </tr>\n",
              "    <tr>\n",
              "      <th>3</th>\n",
              "      <td>3_2842</td>\n",
              "      <td>3</td>\n",
              "      <td>2842</td>\n",
              "      <td>0.310167</td>\n",
              "      <td>0.184374</td>\n",
              "      <td>0.250553</td>\n",
              "      <td>0.408470</td>\n",
              "      <td>0.625977</td>\n",
              "      <td>0.783919</td>\n",
              "      <td>0.461546</td>\n",
              "      <td>...</td>\n",
              "      <td>0.131791</td>\n",
              "      <td>0.905971</td>\n",
              "      <td>0.647910</td>\n",
              "      <td>0.164506</td>\n",
              "      <td>0.953576</td>\n",
              "      <td>0.928850</td>\n",
              "      <td>0.617431</td>\n",
              "      <td>0.966846</td>\n",
              "      <td>0.199578</td>\n",
              "      <td>0.765026</td>\n",
              "    </tr>\n",
              "    <tr>\n",
              "      <th>4</th>\n",
              "      <td>4_1183</td>\n",
              "      <td>4</td>\n",
              "      <td>1183</td>\n",
              "      <td>0.751231</td>\n",
              "      <td>0.512202</td>\n",
              "      <td>0.216569</td>\n",
              "      <td>0.874850</td>\n",
              "      <td>0.786549</td>\n",
              "      <td>0.428286</td>\n",
              "      <td>0.004994</td>\n",
              "      <td>...</td>\n",
              "      <td>0.057409</td>\n",
              "      <td>0.355222</td>\n",
              "      <td>0.897738</td>\n",
              "      <td>0.475867</td>\n",
              "      <td>0.918221</td>\n",
              "      <td>0.638254</td>\n",
              "      <td>0.713265</td>\n",
              "      <td>0.827862</td>\n",
              "      <td>0.682437</td>\n",
              "      <td>0.553994</td>\n",
              "    </tr>\n",
              "  </tbody>\n",
              "</table>\n",
              "<p>5 rows × 304 columns</p>\n",
              "</div>\n",
              "      <button class=\"colab-df-convert\" onclick=\"convertToInteractive('df-3e50eb7f-03cc-40da-9a26-729157caa9d4')\"\n",
              "              title=\"Convert this dataframe to an interactive table.\"\n",
              "              style=\"display:none;\">\n",
              "        \n",
              "  <svg xmlns=\"http://www.w3.org/2000/svg\" height=\"24px\"viewBox=\"0 0 24 24\"\n",
              "       width=\"24px\">\n",
              "    <path d=\"M0 0h24v24H0V0z\" fill=\"none\"/>\n",
              "    <path d=\"M18.56 5.44l.94 2.06.94-2.06 2.06-.94-2.06-.94-.94-2.06-.94 2.06-2.06.94zm-11 1L8.5 8.5l.94-2.06 2.06-.94-2.06-.94L8.5 2.5l-.94 2.06-2.06.94zm10 10l.94 2.06.94-2.06 2.06-.94-2.06-.94-.94-2.06-.94 2.06-2.06.94z\"/><path d=\"M17.41 7.96l-1.37-1.37c-.4-.4-.92-.59-1.43-.59-.52 0-1.04.2-1.43.59L10.3 9.45l-7.72 7.72c-.78.78-.78 2.05 0 2.83L4 21.41c.39.39.9.59 1.41.59.51 0 1.02-.2 1.41-.59l7.78-7.78 2.81-2.81c.8-.78.8-2.07 0-2.86zM5.41 20L4 18.59l7.72-7.72 1.47 1.35L5.41 20z\"/>\n",
              "  </svg>\n",
              "      </button>\n",
              "      \n",
              "  <style>\n",
              "    .colab-df-container {\n",
              "      display:flex;\n",
              "      flex-wrap:wrap;\n",
              "      gap: 12px;\n",
              "    }\n",
              "\n",
              "    .colab-df-convert {\n",
              "      background-color: #E8F0FE;\n",
              "      border: none;\n",
              "      border-radius: 50%;\n",
              "      cursor: pointer;\n",
              "      display: none;\n",
              "      fill: #1967D2;\n",
              "      height: 32px;\n",
              "      padding: 0 0 0 0;\n",
              "      width: 32px;\n",
              "    }\n",
              "\n",
              "    .colab-df-convert:hover {\n",
              "      background-color: #E2EBFA;\n",
              "      box-shadow: 0px 1px 2px rgba(60, 64, 67, 0.3), 0px 1px 3px 1px rgba(60, 64, 67, 0.15);\n",
              "      fill: #174EA6;\n",
              "    }\n",
              "\n",
              "    [theme=dark] .colab-df-convert {\n",
              "      background-color: #3B4455;\n",
              "      fill: #D2E3FC;\n",
              "    }\n",
              "\n",
              "    [theme=dark] .colab-df-convert:hover {\n",
              "      background-color: #434B5C;\n",
              "      box-shadow: 0px 1px 3px 1px rgba(0, 0, 0, 0.15);\n",
              "      filter: drop-shadow(0px 1px 2px rgba(0, 0, 0, 0.3));\n",
              "      fill: #FFFFFF;\n",
              "    }\n",
              "  </style>\n",
              "\n",
              "      <script>\n",
              "        const buttonEl =\n",
              "          document.querySelector('#df-3e50eb7f-03cc-40da-9a26-729157caa9d4 button.colab-df-convert');\n",
              "        buttonEl.style.display =\n",
              "          google.colab.kernel.accessAllowed ? 'block' : 'none';\n",
              "\n",
              "        async function convertToInteractive(key) {\n",
              "          const element = document.querySelector('#df-3e50eb7f-03cc-40da-9a26-729157caa9d4');\n",
              "          const dataTable =\n",
              "            await google.colab.kernel.invokeFunction('convertToInteractive',\n",
              "                                                     [key], {});\n",
              "          if (!dataTable) return;\n",
              "\n",
              "          const docLinkHtml = 'Like what you see? Visit the ' +\n",
              "            '<a target=\"_blank\" href=https://colab.research.google.com/notebooks/data_table.ipynb>data table notebook</a>'\n",
              "            + ' to learn more about interactive tables.';\n",
              "          element.innerHTML = '';\n",
              "          dataTable['output_type'] = 'display_data';\n",
              "          await google.colab.output.renderOutput(dataTable, element);\n",
              "          const docLink = document.createElement('div');\n",
              "          docLink.innerHTML = docLinkHtml;\n",
              "          element.appendChild(docLink);\n",
              "        }\n",
              "      </script>\n",
              "    </div>\n",
              "  </div>\n",
              "  "
            ]
          },
          "metadata": {},
          "execution_count": 15
        }
      ]
    },
    {
      "cell_type": "code",
      "source": [
        "train = train.drop(['row_id','time_id'],axis=1)"
      ],
      "metadata": {
        "id": "x0VmbgEeg9SF"
      },
      "execution_count": 17,
      "outputs": []
    },
    {
      "cell_type": "code",
      "source": [
        "X = train.drop(['target'],axis=1)\n",
        "y = train['target']\n",
        "\n",
        "X_train, X_test, y_train, y_test = train_test_split(X,y,  test_size=0.4,  shuffle=True, random_state=1004)"
      ],
      "metadata": {
        "id": "OP5V7xyJhGRo"
      },
      "execution_count": null,
      "outputs": []
    },
    {
      "cell_type": "code",
      "source": [
        "np.set_printoptions(precision=6, suppress=True)\n",
        "def mean(inp):\n",
        "    result = 0\n",
        "    len_inp = len(inp)    \n",
        "    for i in inp:\n",
        "        result += i\n",
        "    result = result / len_inp\n",
        "    return result\n",
        "def sqrt(inp):\n",
        "    result = inp/2\n",
        "    for i in range(30):\n",
        "        result = (result + (inp / result)) / 2\n",
        "    return result\n",
        "\n",
        "def cor(inp1, inp2):\n",
        "    # 평균 먼저 계산\n",
        "    mean_inp1 = mean(inp1)\n",
        "    mean_inp2 = mean(inp2)\n",
        "    # 분자\n",
        "    son = 0\n",
        "    for i in range(len(inp1)):\n",
        "        son += (inp1[i] - mean_inp1) * (inp2[i] - mean_inp2)\n",
        "    # 분모\n",
        "    x_mom = 0\n",
        "    for i in range(len(inp1)):\n",
        "        x_mom += (inp1[i] - mean_inp1) ** 2\n",
        "    y_mom = 0\n",
        "    for i in range(len(inp2)):\n",
        "        y_mom += (inp2[i] - mean_inp2) ** 2\n",
        "    mom = sqrt(x_mom) * sqrt(y_mom)\n",
        "    result = son / mom\n",
        "    print(result)\n",
        "    return result"
      ],
      "metadata": {
        "id": "DcHXOR2niB6D"
      },
      "execution_count": null,
      "outputs": []
    },
    {
      "cell_type": "code",
      "source": [
        "pred = model.predict(X_valid)\n",
        "cor = cor(pred,y_valid)"
      ],
      "metadata": {
        "id": "iLfvXAW-iDAT"
      },
      "execution_count": null,
      "outputs": []
    }
  ]
}