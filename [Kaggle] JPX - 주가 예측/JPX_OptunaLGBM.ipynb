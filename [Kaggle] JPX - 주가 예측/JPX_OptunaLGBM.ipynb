{
  "nbformat": 4,
  "nbformat_minor": 0,
  "metadata": {
    "colab": {
      "name": "JPX_BASELINE.ipynb",
      "provenance": [],
      "collapsed_sections": [],
      "machine_shape": "hm"
    },
    "kernelspec": {
      "name": "python3",
      "display_name": "Python 3"
    },
    "language_info": {
      "name": "python"
    }
  },
  "cells": [
    {
      "cell_type": "code",
      "execution_count": 5,
      "metadata": {
        "colab": {
          "base_uri": "https://localhost:8080/"
        },
        "id": "MIVVCdqsuxJ-",
        "outputId": "ac278006-7997-4cf3-fe54-b6b4ec746dc7"
      },
      "outputs": [
        {
          "output_type": "stream",
          "name": "stdout",
          "text": [
            "Drive already mounted at /content/drive; to attempt to forcibly remount, call drive.mount(\"/content/drive\", force_remount=True).\n"
          ]
        }
      ],
      "source": [
        "from google.colab import drive\n",
        "drive.mount('/content/drive')"
      ]
    },
    {
      "cell_type": "code",
      "source": [
        "#!pip install bayesian-optimization\n",
        "#!pip install optuna"
      ],
      "metadata": {
        "id": "WK8oF2tCXzgf"
      },
      "execution_count": 6,
      "outputs": []
    },
    {
      "cell_type": "code",
      "source": [
        "from tqdm import tqdm\n",
        "import pandas as pd\n",
        "import matplotlib.pyplot as plt\n",
        "import seaborn as sns\n",
        "import numpy as np\n",
        "from pathlib import Path\n",
        "#import jpx_tokyo_market_prediction\n",
        "import optuna\n",
        "\n",
        "from lightgbm import LGBMRegressor\n",
        "from sklearn.model_selection import train_test_split"
      ],
      "metadata": {
        "id": "AnV9mUhYu7C-"
      },
      "execution_count": 7,
      "outputs": []
    },
    {
      "cell_type": "code",
      "source": [
        "train_df = pd.read_csv('/content/drive/MyDrive/AI/dataset/JPX_Tokyo_Stock/train_files/stock_prices.csv', parse_dates=True)\n",
        "valid_df = pd.read_csv('/content/drive/MyDrive/AI/dataset/JPX_Tokyo_Stock/supplemental_files/stock_prices.csv', parse_dates=True)\n",
        "test_df = pd.read_csv('/content/drive/MyDrive/AI/dataset/JPX_Tokyo_Stock/example_test_files/stock_prices.csv', parse_dates=True)"
      ],
      "metadata": {
        "id": "ZCstk_Wqu7FB"
      },
      "execution_count": 8,
      "outputs": []
    },
    {
      "cell_type": "code",
      "source": [
        "print(train_df.shape )\n",
        "print(valid_df.shape )\n",
        "\n",
        "\n",
        "print(\"train_df Null Check : {}\".format(train_df.isnull().sum()))\n",
        "print('----------------------------------------------------------')\n",
        "print(\"valid_df Null Check : {}\".format(valid_df.isnull().sum()))"
      ],
      "metadata": {
        "colab": {
          "base_uri": "https://localhost:8080/"
        },
        "id": "UOYfDzg-7Va4",
        "outputId": "292eb8ea-83dd-4d34-edd3-0b646de9858f"
      },
      "execution_count": 9,
      "outputs": [
        {
          "output_type": "stream",
          "name": "stdout",
          "text": [
            "(2332531, 12)\n",
            "(112000, 12)\n",
            "train_df Null Check : RowId                     0\n",
            "Date                      0\n",
            "SecuritiesCode            0\n",
            "Open                   7608\n",
            "High                   7608\n",
            "Low                    7608\n",
            "Close                  7608\n",
            "Volume                    0\n",
            "AdjustmentFactor          0\n",
            "ExpectedDividend    2313666\n",
            "SupervisionFlag           0\n",
            "Target                  238\n",
            "dtype: int64\n",
            "----------------------------------------------------------\n",
            "valid_df Null Check : RowId                    0\n",
            "Date                     0\n",
            "SecuritiesCode           0\n",
            "Open                   284\n",
            "High                   284\n",
            "Low                    284\n",
            "Close                  284\n",
            "Volume                   0\n",
            "AdjustmentFactor         0\n",
            "ExpectedDividend    111497\n",
            "SupervisionFlag          0\n",
            "Target                   0\n",
            "dtype: int64\n"
          ]
        }
      ]
    },
    {
      "cell_type": "code",
      "source": [
        "prices = valid_df.copy()\n",
        "prices = prices.drop([\"ExpectedDividend\"],axis=1)\n",
        "\n",
        "del train_df, valid_df"
      ],
      "metadata": {
        "id": "fLyyqiDOu7Gx"
      },
      "execution_count": 10,
      "outputs": []
    },
    {
      "cell_type": "markdown",
      "source": [
        "## EDA"
      ],
      "metadata": {
        "id": "BFKtQW11xa6F"
      }
    },
    {
      "cell_type": "markdown",
      "source": [
        "## Function"
      ],
      "metadata": {
        "id": "Mbn3wUJBxSaU"
      }
    },
    {
      "cell_type": "code",
      "source": [
        "average = pd.DataFrame(prices.groupby(\"SecuritiesCode\").Target.mean())\n",
        "def get_avg(_id_):\n",
        "    return average.loc[_id_]\n",
        "\n",
        "def getadvance(x):\n",
        "    ret = 0\n",
        "    if x > 0:\n",
        "        ret = 1\n",
        "    return(ret)\n",
        "\n",
        "def get_month(dt):\n",
        "    x = dt.strftime(\"%m\")\n",
        "    return(x)\n",
        "\n",
        "def cat_col(data) :\n",
        "    data['SecuritiesCode'] = data['SecuritiesCode'].astype('category')\n",
        "    data['SupervisionFlag'] = data['SupervisionFlag'].astype('category')\n",
        "    data['advance'] = data['advance'].astype('category')\n",
        "    data['AdjustmentFactor'] = data['AdjustmentFactor'].astype('category')\n",
        "    data['Month'] = data['Month'].astype('category')\n",
        "    return data "
      ],
      "metadata": {
        "id": "_0iA533vu7Ir"
      },
      "execution_count": 11,
      "outputs": []
    },
    {
      "cell_type": "code",
      "source": [
        "prices[\"Avg\"] = prices[\"SecuritiesCode\"].apply(get_avg)\n",
        "\n",
        "\n",
        "prices['pClose'] = prices['Close'].shift(-1)\n",
        "prices['delta'] = prices['Close'] - prices['pClose']\n",
        "prices['advance'] = list(map(getadvance, prices['delta']))\n",
        "prices['Date'] = pd.to_datetime(prices['Date'], format = \"%Y-%m-%d\")\n",
        "prices['Month'] =  list(map(get_month, prices['Date']))\n",
        "\n",
        "# prices = prices.sort_values(by = \"Date\").reset_index()\n",
        "# df_s = prices[['Date', 'Close']].reset_index(drop = True)\n",
        "# df_s['20D-EMA'] = df_s['Close'].ewm(span=20,adjust=False).mean()\n",
        "# df_s['50D-EMA'] = df_s['Close'].ewm(span=50,adjust=False).mean()\n",
        "# df_s['100D-EMA'] = df_s['Close'].ewm(span=100,adjust=False).mean()\n",
        "# prices = pd.concat([prices, df_s['20D-EMA'], df_s['50D-EMA'], df_s['100D-EMA']], axis = 1)\n",
        "\n",
        "\n",
        "prices = cat_col(prices)"
      ],
      "metadata": {
        "id": "sx_b0JMowcfG"
      },
      "execution_count": 12,
      "outputs": []
    },
    {
      "cell_type": "code",
      "source": [
        "prices.isnull().sum()"
      ],
      "metadata": {
        "colab": {
          "base_uri": "https://localhost:8080/"
        },
        "id": "qr75pOeE8zfP",
        "outputId": "7a165a4e-3734-4df8-e7b2-9e56c5f4f8e0"
      },
      "execution_count": 13,
      "outputs": [
        {
          "output_type": "execute_result",
          "data": {
            "text/plain": [
              "RowId                 0\n",
              "Date                  0\n",
              "SecuritiesCode        0\n",
              "Open                284\n",
              "High                284\n",
              "Low                 284\n",
              "Close               284\n",
              "Volume                0\n",
              "AdjustmentFactor      0\n",
              "SupervisionFlag       0\n",
              "Target                0\n",
              "Avg                   0\n",
              "pClose              285\n",
              "delta               567\n",
              "advance               0\n",
              "Month                 0\n",
              "dtype: int64"
            ]
          },
          "metadata": {},
          "execution_count": 13
        }
      ]
    },
    {
      "cell_type": "code",
      "source": [
        "features = ['Date', 'SecuritiesCode', 'Open', 'High', 'Low', 'Close',\n",
        "       'Volume', 'AdjustmentFactor', 'SupervisionFlag', 'Avg',\n",
        "       'pClose', 'delta', 'advance', 'Month']"
      ],
      "metadata": {
        "id": "0UdWz_k98zhe"
      },
      "execution_count": 14,
      "outputs": []
    },
    {
      "cell_type": "code",
      "source": [
        "# data segmentation\n",
        "prices['Date'] = prices['Date'].dt.strftime(\"%Y%m%d\").astype(int)\n",
        "\n",
        "X = prices[features]\n",
        "y = prices['Target']\n",
        "\n",
        "X_train, X_valid, y_train, y_valid = train_test_split(X, y, test_size=0.2, random_state=0 ,shuffle=True)\n",
        "codes = X.SecuritiesCode.unique()"
      ],
      "metadata": {
        "id": "i7bmBX59wle8"
      },
      "execution_count": 15,
      "outputs": []
    },
    {
      "cell_type": "code",
      "source": [
        "X_train.isnull().sum()"
      ],
      "metadata": {
        "colab": {
          "base_uri": "https://localhost:8080/"
        },
        "id": "Wj3g9UORc1Ak",
        "outputId": "b42cd80d-b70e-492b-d1fa-625116e8f545"
      },
      "execution_count": 16,
      "outputs": [
        {
          "output_type": "execute_result",
          "data": {
            "text/plain": [
              "Date                  0\n",
              "SecuritiesCode        0\n",
              "Open                236\n",
              "High                236\n",
              "Low                 236\n",
              "Close               236\n",
              "Volume                0\n",
              "AdjustmentFactor      0\n",
              "SupervisionFlag       0\n",
              "Avg                   0\n",
              "pClose              223\n",
              "delta               458\n",
              "advance               0\n",
              "Month                 0\n",
              "dtype: int64"
            ]
          },
          "metadata": {},
          "execution_count": 16
        }
      ]
    },
    {
      "cell_type": "code",
      "source": [
        "def objectives(trial):\n",
        "    params = {\n",
        "            'num_leaves': trial.suggest_int('num_leaves', 300, 4000),\n",
        "            'n_estimators': trial.suggest_int('n_estimators', 10, 1000),\n",
        "            'max_bin': trial.suggest_int('max_bin', 2, 100),\n",
        "            'learning_rate': trial.suggest_uniform('learning_rate',0, 1),\n",
        "    }\n",
        "\n",
        "    model = LGBMRegressor(**params)\n",
        "    model.fit(X,y)\n",
        "    score = model.score(X,y)\n",
        "    return score"
      ],
      "metadata": {
        "id": "J5NXZ1vGQUyT"
      },
      "execution_count": 17,
      "outputs": []
    },
    {
      "cell_type": "code",
      "source": [
        "studyLGBM = optuna.create_study(direction='maximize',sampler=optuna.samplers.RandomSampler(seed=0))\n",
        "studyLGBM.optimize(objectives, n_trials=20)\n",
        "\n",
        "trial = studyLGBM.best_trial\n",
        "params_best = dict(trial.params.items())\n",
        "params_best['random_seed'] = 0\n",
        "    \n",
        "model_o = LGBMRegressor(**params_best)#"
      ],
      "metadata": {
        "colab": {
          "base_uri": "https://localhost:8080/"
        },
        "id": "zTuGb6_YQfvr",
        "outputId": "851263d7-b8fc-4b8b-afe3-3cd316eeb3dc"
      },
      "execution_count": null,
      "outputs": [
        {
          "output_type": "stream",
          "name": "stderr",
          "text": [
            "\u001b[32m[I 2022-05-02 00:16:55,176]\u001b[0m A new study created in memory with name: no-name-da7b46a7-609f-4e1b-b4a7-4cdd8de09b98\u001b[0m\n",
            "\u001b[32m[I 2022-05-02 00:18:54,863]\u001b[0m Trial 0 finished with value: 0.999999980015906 and parameters: {'num_leaves': 2331, 'n_estimators': 718, 'max_bin': 61, 'learning_rate': 0.5448831829968969}. Best is trial 0 with value: 0.999999980015906.\u001b[0m\n",
            "\u001b[32m[I 2022-05-02 00:20:18,474]\u001b[0m Trial 1 finished with value: 0.9905920460665392 and parameters: {'num_leaves': 1867, 'n_estimators': 650, 'max_bin': 45, 'learning_rate': 0.8917730007820798}. Best is trial 0 with value: 0.999999980015906.\u001b[0m\n",
            "\u001b[32m[I 2022-05-02 00:21:53,457]\u001b[0m Trial 2 finished with value: 0.999994578063499 and parameters: {'num_leaves': 3866, 'n_estimators': 389, 'max_bin': 80, 'learning_rate': 0.5288949197529045}. Best is trial 0 with value: 0.999999980015906.\u001b[0m\n",
            "\u001b[32m[I 2022-05-02 00:23:57,881]\u001b[0m Trial 3 finished with value: 0.4891802858220008 and parameters: {'num_leaves': 2402, 'n_estimators': 927, 'max_bin': 9, 'learning_rate': 0.08712929970154071}. Best is trial 0 with value: 0.999999980015906.\u001b[0m\n",
            "\u001b[32m[I 2022-05-02 00:24:26,542]\u001b[0m Trial 4 finished with value: 0.999253584632601 and parameters: {'num_leaves': 374, 'n_estimators': 835, 'max_bin': 79, 'learning_rate': 0.8700121482468192}. Best is trial 0 with value: 0.999999980015906.\u001b[0m\n",
            "\u001b[32m[I 2022-05-02 00:27:44,910]\u001b[0m Trial 5 finished with value: 0.9923761499446736 and parameters: {'num_leaves': 3921, 'n_estimators': 801, 'max_bin': 47, 'learning_rate': 0.7805291762864555}. Best is trial 0 with value: 0.999999980015906.\u001b[0m\n",
            "\u001b[32m[I 2022-05-02 00:28:17,188]\u001b[0m Trial 6 finished with value: 0.7547897585449871 and parameters: {'num_leaves': 737, 'n_estimators': 644, 'max_bin': 16, 'learning_rate': 0.9446689170495839}. Best is trial 0 with value: 0.999999980015906.\u001b[0m\n",
            "\u001b[32m[I 2022-05-02 00:29:06,907]\u001b[0m Trial 7 finished with value: 0.9386846774024596 and parameters: {'num_leaves': 2231, 'n_estimators': 420, 'max_bin': 28, 'learning_rate': 0.7742336894342167}. Best is trial 0 with value: 0.999999980015906.\u001b[0m\n"
          ]
        }
      ]
    },
    {
      "cell_type": "code",
      "source": [
        "#파라미터 중요도 시각화\n",
        "optuna.visualization.plot_param_importances(studyLGBM)"
      ],
      "metadata": {
        "id": "cr4Wb2zWS0Uq"
      },
      "execution_count": null,
      "outputs": []
    },
    {
      "cell_type": "code",
      "source": [
        "params  = {\n",
        "    \n",
        "}"
      ],
      "metadata": {
        "id": "7gkHteZVu7Ke"
      },
      "execution_count": null,
      "outputs": []
    },
    {
      "cell_type": "code",
      "source": [
        "model = LGBMRegressor(**params)"
      ],
      "metadata": {
        "id": "oF2IG0WK8_pY"
      },
      "execution_count": null,
      "outputs": []
    },
    {
      "cell_type": "code",
      "source": [
        "model.fit(X_train,y_train)\n",
        "model.score(X_train,y_train)"
      ],
      "metadata": {
        "id": "Je5YbOCi8_rR"
      },
      "execution_count": null,
      "outputs": []
    },
    {
      "cell_type": "code",
      "source": [
        "# env = jpx_tokyo_market_prediction.make_env()\n",
        "# iter_test = env.iter_test()\n",
        "\n",
        "# for (prices, options, financials, trades, secondary_prices, sample_prediction) in iter_test:\n",
        "#     ds=[prices, options, financials, trades, secondary_prices, sample_prediction]\n",
        "        \n",
        "#     prices[\"Avg\"] = sample_prediction[\"SecuritiesCode\"].apply(get_avg)\n",
        "    \n",
        "#     prices['pClose'] = prices['Close'].shift(-1)\n",
        "#     prices['delta'] = prices['Close'] - prices['pClose']\n",
        "#     prices['advance'] = list(map(getadvance, prices['delta']))\n",
        "#     prices['Date'] = pd.to_datetime(prices['Date'], format = \"%Y-%m-%d\")\n",
        "#     prices['Month'] =  list(map(get_month, prices['Date']))\n",
        "\n",
        "#     prices = cat_col(prices)\n",
        "#     prices['Date'] = prices['Date'].dt.strftime(\"%Y%m%d\").astype(int)\n",
        "#     print('-------------------------------prices------------------------------')\n",
        "#     print(prices)\n",
        "#     print('------------------------------------------------------------------------------')    \n",
        "    \n",
        "#     prices = prices.drop(['RowId','ExpectedDividend'],axis=1)\n",
        "\n",
        "#     sample_prediction[\"Prediction\"] = model.predict(prices)\n",
        "#     print('-------sample_prediction--------')\n",
        "#     print(sample_prediction)\n",
        "#     sample_prediction = sample_prediction.sort_values(by = \"Prediction\", ascending=False)\n",
        "#     sample_prediction.Rank = np.arange(0,2000)\n",
        "#     sample_prediction = sample_prediction.sort_values(by = \"SecuritiesCode\", ascending=True)\n",
        "#     sample_prediction.drop([\"Prediction\"],axis=1)\n",
        "#     submission = sample_prediction[[\"Date\",\"SecuritiesCode\",\"Rank\"]]\n",
        "#     print('-------------------------------submission------------------------------')\n",
        "#     print(submission)\n",
        "#     print('------------------------------------------------------------------------------')\n",
        "#     env.predict(submission)"
      ],
      "metadata": {
        "id": "gIR8Q41P9Csb"
      },
      "execution_count": null,
      "outputs": []
    }
  ]
}