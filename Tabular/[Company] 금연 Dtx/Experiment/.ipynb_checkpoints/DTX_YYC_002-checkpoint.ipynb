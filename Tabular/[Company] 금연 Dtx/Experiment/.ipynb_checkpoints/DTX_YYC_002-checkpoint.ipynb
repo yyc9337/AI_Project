{
 "cells": [
  {
   "cell_type": "code",
   "execution_count": null,
   "id": "ef7c5813",
   "metadata": {},
   "outputs": [],
   "source": [
    "import functools\n",
    "\n",
    "import pandas as pd\n",
    "import numpy as np\n",
    "from sklearn.model_selection import train_test_split\n",
    "\n",
    "import matplotlib as plt\n",
    "\n",
    "import optuna\n",
    "\n",
    "from sklearn import datasets\n",
    "import sklearn.datasets\n",
    "import sklearn.metrics\n",
    "from sklearn.metrics import precision_score, recall_score, f1_score, accuracy_score\n",
    "import functools\n",
    "import xgboost as xgb\n",
    "import psutil\n",
    "import time"
   ]
  },
  {
   "cell_type": "code",
   "execution_count": null,
   "id": "49ddbca8",
   "metadata": {},
   "outputs": [],
   "source": [
    "df = pd.read_csv('../data/dataset/DTX_data_002.csv')\n",
    "df2 = pd.read_csv('../data/dataset/DTX_data_003.csv')"
   ]
  },
  {
   "cell_type": "code",
   "execution_count": null,
   "id": "32dc93e9",
   "metadata": {},
   "outputs": [],
   "source": [
    "df = pd.concat([df,df2['흡연기간연도'],df2['청소년흡연경험'],df2['의존도판정']],axis=1)"
   ]
  }
 ],
 "metadata": {
  "kernelspec": {
   "display_name": "Python 3",
   "language": "python",
   "name": "python3"
  },
  "language_info": {
   "codemirror_mode": {
    "name": "ipython",
    "version": 3
   },
   "file_extension": ".py",
   "mimetype": "text/x-python",
   "name": "python",
   "nbconvert_exporter": "python",
   "pygments_lexer": "ipython3",
   "version": "3.8.12"
  }
 },
 "nbformat": 4,
 "nbformat_minor": 5
}
