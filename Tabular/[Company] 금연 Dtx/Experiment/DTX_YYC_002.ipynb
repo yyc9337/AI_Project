{
 "cells": [
  {
   "cell_type": "code",
   "execution_count": 14,
   "id": "d27c27f5",
   "metadata": {},
   "outputs": [],
   "source": [
    "import functools\n",
    "\n",
    "import pandas as pd\n",
    "import numpy as np\n",
    "from sklearn.model_selection import train_test_split\n",
    "\n",
    "import matplotlib as plt\n",
    "import matplotlib.pyplot as plt\n",
    "import seaborn as sns\n",
    "plt.style.use('bmh')\n",
    "from matplotlib import rc\n",
    "\n",
    "\n",
    "import optuna\n",
    "\n",
    "from sklearn import datasets\n",
    "import sklearn.datasets\n",
    "import sklearn.metrics\n",
    "from sklearn.metrics import precision_score, recall_score, f1_score, accuracy_score\n",
    "import functools\n",
    "import xgboost as xgb\n",
    "import psutil\n",
    "import time"
   ]
  },
  {
   "cell_type": "code",
   "execution_count": 9,
   "id": "e1ca32c8",
   "metadata": {},
   "outputs": [],
   "source": [
    "df = pd.read_csv('../data/dataset/DTX_data_002.csv')\n",
    "df2 = pd.read_csv('../data/dataset/DTX_data_003.csv')"
   ]
  },
  {
   "cell_type": "code",
   "execution_count": 10,
   "id": "ac2b8872",
   "metadata": {},
   "outputs": [],
   "source": [
    "df = pd.concat([df,df2['흡연기간연도'],df2['청소년흡연경험'],df2['의존도판정']],axis=1)"
   ]
  },
  {
   "cell_type": "code",
   "execution_count": 12,
   "id": "fdf342f4",
   "metadata": {},
   "outputs": [
    {
     "data": {
      "text/html": [
       "<div>\n",
       "<style scoped>\n",
       "    .dataframe tbody tr th:only-of-type {\n",
       "        vertical-align: middle;\n",
       "    }\n",
       "\n",
       "    .dataframe tbody tr th {\n",
       "        vertical-align: top;\n",
       "    }\n",
       "\n",
       "    .dataframe thead th {\n",
       "        text-align: right;\n",
       "    }\n",
       "</style>\n",
       "<table border=\"1\" class=\"dataframe\">\n",
       "  <thead>\n",
       "    <tr style=\"text-align: right;\">\n",
       "      <th></th>\n",
       "      <th>금연성공여부</th>\n",
       "      <th>연령</th>\n",
       "      <th>흡연시작연령</th>\n",
       "      <th>하루흡연량</th>\n",
       "      <th>담배종류_1</th>\n",
       "      <th>담배종류_2</th>\n",
       "      <th>담배종류_4</th>\n",
       "      <th>담배종류_5</th>\n",
       "      <th>담배종류_6</th>\n",
       "      <th>담배종류_7</th>\n",
       "      <th>...</th>\n",
       "      <th>FTND_4</th>\n",
       "      <th>FTND_5</th>\n",
       "      <th>FTND_6</th>\n",
       "      <th>FTND_7</th>\n",
       "      <th>FTND_8</th>\n",
       "      <th>FTND_9</th>\n",
       "      <th>FTND_10</th>\n",
       "      <th>흡연기간연도</th>\n",
       "      <th>청소년흡연경험</th>\n",
       "      <th>의존도판정</th>\n",
       "    </tr>\n",
       "  </thead>\n",
       "  <tbody>\n",
       "    <tr>\n",
       "      <th>0</th>\n",
       "      <td>0</td>\n",
       "      <td>52</td>\n",
       "      <td>25</td>\n",
       "      <td>3</td>\n",
       "      <td>1</td>\n",
       "      <td>0</td>\n",
       "      <td>0</td>\n",
       "      <td>0</td>\n",
       "      <td>0</td>\n",
       "      <td>0</td>\n",
       "      <td>...</td>\n",
       "      <td>0</td>\n",
       "      <td>0</td>\n",
       "      <td>0</td>\n",
       "      <td>0</td>\n",
       "      <td>1</td>\n",
       "      <td>0</td>\n",
       "      <td>0</td>\n",
       "      <td>27</td>\n",
       "      <td>0</td>\n",
       "      <td>3</td>\n",
       "    </tr>\n",
       "    <tr>\n",
       "      <th>1</th>\n",
       "      <td>0</td>\n",
       "      <td>32</td>\n",
       "      <td>17</td>\n",
       "      <td>4</td>\n",
       "      <td>1</td>\n",
       "      <td>0</td>\n",
       "      <td>0</td>\n",
       "      <td>0</td>\n",
       "      <td>0</td>\n",
       "      <td>0</td>\n",
       "      <td>...</td>\n",
       "      <td>0</td>\n",
       "      <td>0</td>\n",
       "      <td>0</td>\n",
       "      <td>1</td>\n",
       "      <td>0</td>\n",
       "      <td>0</td>\n",
       "      <td>0</td>\n",
       "      <td>15</td>\n",
       "      <td>1</td>\n",
       "      <td>3</td>\n",
       "    </tr>\n",
       "    <tr>\n",
       "      <th>2</th>\n",
       "      <td>1</td>\n",
       "      <td>41</td>\n",
       "      <td>21</td>\n",
       "      <td>2</td>\n",
       "      <td>1</td>\n",
       "      <td>0</td>\n",
       "      <td>0</td>\n",
       "      <td>0</td>\n",
       "      <td>0</td>\n",
       "      <td>0</td>\n",
       "      <td>...</td>\n",
       "      <td>0</td>\n",
       "      <td>0</td>\n",
       "      <td>0</td>\n",
       "      <td>0</td>\n",
       "      <td>0</td>\n",
       "      <td>0</td>\n",
       "      <td>0</td>\n",
       "      <td>20</td>\n",
       "      <td>0</td>\n",
       "      <td>1</td>\n",
       "    </tr>\n",
       "    <tr>\n",
       "      <th>3</th>\n",
       "      <td>1</td>\n",
       "      <td>60</td>\n",
       "      <td>18</td>\n",
       "      <td>2</td>\n",
       "      <td>1</td>\n",
       "      <td>0</td>\n",
       "      <td>0</td>\n",
       "      <td>0</td>\n",
       "      <td>0</td>\n",
       "      <td>0</td>\n",
       "      <td>...</td>\n",
       "      <td>0</td>\n",
       "      <td>0</td>\n",
       "      <td>1</td>\n",
       "      <td>0</td>\n",
       "      <td>0</td>\n",
       "      <td>0</td>\n",
       "      <td>0</td>\n",
       "      <td>42</td>\n",
       "      <td>1</td>\n",
       "      <td>2</td>\n",
       "    </tr>\n",
       "    <tr>\n",
       "      <th>4</th>\n",
       "      <td>1</td>\n",
       "      <td>28</td>\n",
       "      <td>19</td>\n",
       "      <td>2</td>\n",
       "      <td>0</td>\n",
       "      <td>0</td>\n",
       "      <td>1</td>\n",
       "      <td>0</td>\n",
       "      <td>0</td>\n",
       "      <td>0</td>\n",
       "      <td>...</td>\n",
       "      <td>0</td>\n",
       "      <td>0</td>\n",
       "      <td>0</td>\n",
       "      <td>0</td>\n",
       "      <td>0</td>\n",
       "      <td>0</td>\n",
       "      <td>0</td>\n",
       "      <td>9</td>\n",
       "      <td>1</td>\n",
       "      <td>1</td>\n",
       "    </tr>\n",
       "  </tbody>\n",
       "</table>\n",
       "<p>5 rows × 26 columns</p>\n",
       "</div>"
      ],
      "text/plain": [
       "   금연성공여부  연령  흡연시작연령  하루흡연량  담배종류_1  담배종류_2  담배종류_4  담배종류_5  담배종류_6  담배종류_7  \\\n",
       "0       0  52      25      3       1       0       0       0       0       0   \n",
       "1       0  32      17      4       1       0       0       0       0       0   \n",
       "2       1  41      21      2       1       0       0       0       0       0   \n",
       "3       1  60      18      2       1       0       0       0       0       0   \n",
       "4       1  28      19      2       0       0       1       0       0       0   \n",
       "\n",
       "   ...  FTND_4  FTND_5  FTND_6  FTND_7  FTND_8  FTND_9  FTND_10  흡연기간연도  \\\n",
       "0  ...       0       0       0       0       1       0        0      27   \n",
       "1  ...       0       0       0       1       0       0        0      15   \n",
       "2  ...       0       0       0       0       0       0        0      20   \n",
       "3  ...       0       0       1       0       0       0        0      42   \n",
       "4  ...       0       0       0       0       0       0        0       9   \n",
       "\n",
       "   청소년흡연경험  의존도판정  \n",
       "0        0      3  \n",
       "1        1      3  \n",
       "2        0      1  \n",
       "3        1      2  \n",
       "4        1      1  \n",
       "\n",
       "[5 rows x 26 columns]"
      ]
     },
     "execution_count": 12,
     "metadata": {},
     "output_type": "execute_result"
    }
   ],
   "source": [
    "df.head()"
   ]
  },
  {
   "cell_type": "code",
   "execution_count": 17,
   "id": "f118b81c",
   "metadata": {},
   "outputs": [
    {
     "name": "stdout",
     "output_type": "stream",
     "text": [
      "0    674\n",
      "1    381\n",
      "Name: 금연성공여부, dtype: int64\n"
     ]
    },
    {
     "name": "stderr",
     "output_type": "stream",
     "text": [
      "/Users/aidev_yyc_mac/miniforge3/envs/mario/lib/python3.8/site-packages/seaborn/_decorators.py:36: FutureWarning: Pass the following variable as a keyword arg: x. From version 0.12, the only valid positional argument will be `data`, and passing other arguments without an explicit keyword will result in an error or misinterpretation.\n",
      "  warnings.warn(\n"
     ]
    },
    {
     "data": {
      "image/png": "[encoded data removed]",
      "text/plain": [
       "<Figure size 1080x720 with 1 Axes>"
      ]
     },
     "metadata": {
      "needs_background": "light"
     },
     "output_type": "display_data"
    }
   ],
   "source": [
    "rc('font', family='AppleGothic')\n",
    "\n",
    "plt.rcParams['axes.unicode_minus'] = False\n",
    "plt.figure(figsize=(15,10))\n",
    "sns.countplot(df.금연성공여부)\n",
    "plt.plot()\n",
    "\n",
    "print(df['금연성공여부'].value_counts(ascending=False))\n"
   ]
  },
  {
   "cell_type": "code",
   "execution_count": 18,
   "id": "a9428c2b",
   "metadata": {},
   "outputs": [],
   "source": [
    "def outlier_function(df, col_name):\n",
    "    first_quartile = np.percentile(np.array(df[col_name].tolist()), 25)\n",
    "    third_quartile = np.percentile(np.array(df[col_name].tolist()), 75)\n",
    "    IQR = third_quartile - first_quartile\n",
    "    \n",
    "    upper_limit = third_quartile+(3*IQR)\n",
    "    lower_limit = first_quartile-(3*IQR)\n",
    "    outlier_count = 0\n",
    "    \n",
    "    for value in df[col_name].tolist():\n",
    "        if (value < lower_limit) | (value > upper_limit):\n",
    "            outlier_count += 1\n",
    "    return lower_limit, upper_limit, outlier_count"
   ]
  },
  {
   "cell_type": "code",
   "execution_count": 19,
   "id": "44ea5737",
   "metadata": {},
   "outputs": [
    {
     "name": "stdout",
     "output_type": "stream",
     "text": [
      "There are 19 outliers in 흡연시작연령\n",
      "There are 165 outliers in 담배종류_2\n",
      "There are 184 outliers in 담배종류_4\n",
      "There are 81 outliers in 담배종류_5\n",
      "There are 11 outliers in 담배종류_6\n",
      "There are 44 outliers in 담배종류_7\n"
     ]
    }
   ],
   "source": [
    "for col in  df.columns[:10]:\n",
    "    out=outlier_function(df,col)\n",
    "    if out[2]>0:\n",
    "        print(f\"There are {out[2]} outliers in {col}\")"
   ]
  },
  {
   "cell_type": "code",
   "execution_count": 21,
   "id": "235050e9",
   "metadata": {},
   "outputs": [
    {
     "data": {
      "text/plain": [
       "[]"
      ]
     },
     "execution_count": 21,
     "metadata": {},
     "output_type": "execute_result"
    },
    {
     "data": {
      "image/png": "[encoded data removed]",
      "text/plain": [
       "<Figure size 1080x720 with 2 Axes>"
      ]
     },
     "metadata": {
      "needs_background": "light"
     },
     "output_type": "display_data"
    }
   ],
   "source": [
    "rc('font', family='AppleGothic')\n",
    "\n",
    "plt.rcParams['axes.unicode_minus'] = False\n",
    "\n",
    "plt.figure(figsize=(15,10))\n",
    "sns.heatmap(df.corr())\n",
    "plt.tight_layout()\n",
    "plt.plot()"
   ]
  },
  {
   "cell_type": "code",
   "execution_count": 31,
   "id": "b07440ec",
   "metadata": {},
   "outputs": [],
   "source": [
    "df.to_csv('../data/dataset/train.csv',index=False)"
   ]
  },
  {
   "cell_type": "code",
   "execution_count": 26,
   "id": "4d97ebf5",
   "metadata": {},
   "outputs": [],
   "source": [
    "from autoxgb import AutoXGB"
   ]
  },
  {
   "cell_type": "code",
   "execution_count": 34,
   "id": "4638177b",
   "metadata": {},
   "outputs": [],
   "source": [
    "train_filename=\"../data/dataset/train.csv\"\n",
    "output=\"submission_4\"\n",
    "test_filename= None\n",
    "idx= None\n",
    "targets=[\"금연성공여부\"]\n",
    "use_gpu= False\n",
    "num_folds=5\n",
    "seed=42\n",
    "num_trials=5\n",
    "time_limit=600"
   ]
  },
  {
   "cell_type": "code",
   "execution_count": 35,
   "id": "eebbc5e8",
   "metadata": {},
   "outputs": [
    {
     "name": "stderr",
     "output_type": "stream",
     "text": [
      "2022-05-25 10:45:26,350 INFO Output directory: submission_4\n",
      "2022-05-25 10:45:26,351 WARNING No id column specified. Will default to `id`.\n"
     ]
    }
   ],
   "source": [
    "axgb=AutoXGB(\n",
    "    train_filename=train_filename,\n",
    "    output=output,\n",
    "    test_filename=test_filename,\n",
    "    idx=idx,\n",
    "    targets=targets,\n",
    "    use_gpu=use_gpu,\n",
    "    num_folds=num_folds,\n",
    "    num_trials=num_trials,\n",
    "    time_limit=time_limit\n",
    ")"
   ]
  },
  {
   "cell_type": "code",
   "execution_count": 39,
   "id": "3bfe5b55",
   "metadata": {},
   "outputs": [
    {
     "name": "stderr",
     "output_type": "stream",
     "text": [
      "2022-05-25 10:47:15,461 INFO Reading training data\n",
      "2022-05-25 10:47:15,484 INFO Mem. usage decreased to 0.03 Mb (87.4% reduction)\n",
      "2022-05-25 10:47:15,486 INFO Problem type: binary_classification\n",
      "2022-05-25 10:47:15,487 INFO Creating folds\n",
      "2022-05-25 10:47:15,493 INFO Encoding target(s)\n",
      "2022-05-25 10:47:15,496 INFO Found 0 categorical features.\n",
      "2022-05-25 10:47:16,424 INFO Model config: train_filename='../data/dataset/train.csv' test_filename=None idx='id' targets=['금연성공여부'] problem_type=<ProblemType.binary_classification: 1> output='submission_4' features=['연령', '흡연시작연령', '하루흡연량', '담배종류_1', '담배종류_2', '담배종류_4', '담배종류_5', '담배종류_6', '담배종류_7', '남', '여', 'FTND_0', 'FTND_1', 'FTND_2', 'FTND_3', 'FTND_4', 'FTND_5', 'FTND_6', 'FTND_7', 'FTND_8', 'FTND_9', 'FTND_10', '흡연기간연도', '청소년흡연경험', '의존도판정'] num_folds=5 use_gpu=False seed=42 categorical_features=[] num_trials=5 time_limit=600 fast=False\n",
      "2022-05-25 10:47:16,425 INFO Saving model config\n",
      "2022-05-25 10:47:16,426 INFO Saving encoders\n",
      "\u001b[32m[I 2022-05-25 10:47:16,494]\u001b[0m A new study created in RDB with name: autoxgb\u001b[0m\n",
      "/Users/aidev_yyc_mac/miniforge3/envs/mario/lib/python3.8/site-packages/xgboost/sklearn.py:793: UserWarning: `early_stopping_rounds` in `fit` method is deprecated for better compatibility with scikit-learn, use `early_stopping_rounds` in constructor or`set_params` instead.\n",
      "  warnings.warn(\n"
     ]
    },
    {
     "name": "stdout",
     "output_type": "stream",
     "text": [
      "[10:47:16] WARNING: /Users/runner/work/xgboost/xgboost/python-package/build/temp.macosx-11.0-arm64-3.8/xgboost/src/learner.cc:627: \n",
      "Parameters: { \"colsample_bytree\", \"max_depth\", \"subsample\", \"tree_method\" } might not be used.\n",
      "\n",
      "  This could be a false alarm, with some parameters getting used by language bindings but\n",
      "  then being mistakenly passed down to XGBoost core, or some parameter actually being used\n",
      "  but getting flagged wrongly here. Please open an issue if you find any such cases.\n",
      "\n",
      "\n"
     ]
    },
    {
     "name": "stderr",
     "output_type": "stream",
     "text": [
      "/Users/aidev_yyc_mac/miniforge3/envs/mario/lib/python3.8/site-packages/sklearn/metrics/_classification.py:1318: UndefinedMetricWarning: Precision is ill-defined and being set to 0.0 due to no predicted samples. Use `zero_division` parameter to control this behavior.\n",
      "  if metric in warn_for and \"f-score\" in warn_for:\n",
      "/Users/aidev_yyc_mac/miniforge3/envs/mario/lib/python3.8/site-packages/xgboost/sklearn.py:793: UserWarning: `early_stopping_rounds` in `fit` method is deprecated for better compatibility with scikit-learn, use `early_stopping_rounds` in constructor or`set_params` instead.\n",
      "  warnings.warn(\n"
     ]
    },
    {
     "name": "stdout",
     "output_type": "stream",
     "text": [
      "[10:47:18] WARNING: /Users/runner/work/xgboost/xgboost/python-package/build/temp.macosx-11.0-arm64-3.8/xgboost/src/learner.cc:627: \n",
      "Parameters: { \"colsample_bytree\", \"max_depth\", \"subsample\", \"tree_method\" } might not be used.\n",
      "\n",
      "  This could be a false alarm, with some parameters getting used by language bindings but\n",
      "  then being mistakenly passed down to XGBoost core, or some parameter actually being used\n",
      "  but getting flagged wrongly here. Please open an issue if you find any such cases.\n",
      "\n",
      "\n"
     ]
    },
    {
     "name": "stderr",
     "output_type": "stream",
     "text": [
      "/Users/aidev_yyc_mac/miniforge3/envs/mario/lib/python3.8/site-packages/sklearn/metrics/_classification.py:1318: UndefinedMetricWarning: Precision is ill-defined and being set to 0.0 due to no predicted samples. Use `zero_division` parameter to control this behavior.\n",
      "  if metric in warn_for and \"f-score\" in warn_for:\n",
      "/Users/aidev_yyc_mac/miniforge3/envs/mario/lib/python3.8/site-packages/xgboost/sklearn.py:793: UserWarning: `early_stopping_rounds` in `fit` method is deprecated for better compatibility with scikit-learn, use `early_stopping_rounds` in constructor or`set_params` instead.\n",
      "  warnings.warn(\n"
     ]
    },
    {
     "name": "stdout",
     "output_type": "stream",
     "text": [
      "[10:47:18] WARNING: /Users/runner/work/xgboost/xgboost/python-package/build/temp.macosx-11.0-arm64-3.8/xgboost/src/learner.cc:627: \n",
      "Parameters: { \"colsample_bytree\", \"max_depth\", \"subsample\", \"tree_method\" } might not be used.\n",
      "\n",
      "  This could be a false alarm, with some parameters getting used by language bindings but\n",
      "  then being mistakenly passed down to XGBoost core, or some parameter actually being used\n",
      "  but getting flagged wrongly here. Please open an issue if you find any such cases.\n",
      "\n",
      "\n"
     ]
    },
    {
     "name": "stderr",
     "output_type": "stream",
     "text": [
      "/Users/aidev_yyc_mac/miniforge3/envs/mario/lib/python3.8/site-packages/sklearn/metrics/_classification.py:1318: UndefinedMetricWarning: Precision is ill-defined and being set to 0.0 due to no predicted samples. Use `zero_division` parameter to control this behavior.\n",
      "  if metric in warn_for and \"f-score\" in warn_for:\n",
      "/Users/aidev_yyc_mac/miniforge3/envs/mario/lib/python3.8/site-packages/xgboost/sklearn.py:793: UserWarning: `early_stopping_rounds` in `fit` method is deprecated for better compatibility with scikit-learn, use `early_stopping_rounds` in constructor or`set_params` instead.\n",
      "  warnings.warn(\n",
      "/Users/aidev_yyc_mac/miniforge3/envs/mario/lib/python3.8/site-packages/sklearn/metrics/_classification.py:1318: UndefinedMetricWarning: Precision is ill-defined and being set to 0.0 due to no predicted samples. Use `zero_division` parameter to control this behavior.\n",
      "  if metric in warn_for and \"f-score\" in warn_for:\n",
      "/Users/aidev_yyc_mac/miniforge3/envs/mario/lib/python3.8/site-packages/xgboost/sklearn.py:793: UserWarning: `early_stopping_rounds` in `fit` method is deprecated for better compatibility with scikit-learn, use `early_stopping_rounds` in constructor or`set_params` instead.\n",
      "  warnings.warn(\n"
     ]
    },
    {
     "name": "stdout",
     "output_type": "stream",
     "text": [
      "[10:47:20] WARNING: /Users/runner/work/xgboost/xgboost/python-package/build/temp.macosx-11.0-arm64-3.8/xgboost/src/learner.cc:627: \n",
      "Parameters: { \"colsample_bytree\", \"max_depth\", \"subsample\", \"tree_method\" } might not be used.\n",
      "\n",
      "  This could be a false alarm, with some parameters getting used by language bindings but\n",
      "  then being mistakenly passed down to XGBoost core, or some parameter actually being used\n",
      "  but getting flagged wrongly here. Please open an issue if you find any such cases.\n",
      "\n",
      "\n",
      "[10:47:20] WARNING: /Users/runner/work/xgboost/xgboost/python-package/build/temp.macosx-11.0-arm64-3.8/xgboost/src/learner.cc:627: \n",
      "Parameters: { \"colsample_bytree\", \"max_depth\", \"subsample\", \"tree_method\" } might not be used.\n",
      "\n",
      "  This could be a false alarm, with some parameters getting used by language bindings but\n",
      "  then being mistakenly passed down to XGBoost core, or some parameter actually being used\n",
      "  but getting flagged wrongly here. Please open an issue if you find any such cases.\n",
      "\n",
      "\n"
     ]
    },
    {
     "name": "stderr",
     "output_type": "stream",
     "text": [
      "/Users/aidev_yyc_mac/miniforge3/envs/mario/lib/python3.8/site-packages/sklearn/metrics/_classification.py:1318: UndefinedMetricWarning: Precision is ill-defined and being set to 0.0 due to no predicted samples. Use `zero_division` parameter to control this behavior.\n",
      "  if metric in warn_for and \"f-score\" in warn_for:\n",
      "2022-05-25 10:47:22,662 INFO Metrics: {'auc': 0.561003868407639, 'logloss': 0.6506571779318896, 'f1': 0.0, 'accuracy': 0.6388625592417061, 'precision': 0.0, 'recall': 0.0}\n",
      "\u001b[32m[I 2022-05-25 10:47:22,674]\u001b[0m Trial 0 finished with value: 0.6506571779318896 and parameters: {'learning_rate': 0.01179947645627308, 'reg_lambda': 2.798031364723739, 'reg_alpha': 0.00041092671911941125, 'subsample': 0.8943400672622555, 'colsample_bytree': 0.7601420231245677, 'max_depth': 3, 'early_stopping_rounds': 274, 'n_estimators': 7000, 'tree_method': 'approx', 'booster': 'gblinear'}. Best is trial 0 with value: 0.6506571779318896.\u001b[0m\n",
      "/Users/aidev_yyc_mac/miniforge3/envs/mario/lib/python3.8/site-packages/xgboost/sklearn.py:793: UserWarning: `early_stopping_rounds` in `fit` method is deprecated for better compatibility with scikit-learn, use `early_stopping_rounds` in constructor or`set_params` instead.\n",
      "  warnings.warn(\n"
     ]
    },
    {
     "name": "stdout",
     "output_type": "stream",
     "text": [
      "[10:47:22] WARNING: /Users/runner/work/xgboost/xgboost/python-package/build/temp.macosx-11.0-arm64-3.8/xgboost/src/learner.cc:627: \n",
      "Parameters: { \"colsample_bytree\", \"max_depth\", \"subsample\", \"tree_method\" } might not be used.\n",
      "\n",
      "  This could be a false alarm, with some parameters getting used by language bindings but\n",
      "  then being mistakenly passed down to XGBoost core, or some parameter actually being used\n",
      "  but getting flagged wrongly here. Please open an issue if you find any such cases.\n",
      "\n",
      "\n"
     ]
    },
    {
     "name": "stderr",
     "output_type": "stream",
     "text": [
      "/Users/aidev_yyc_mac/miniforge3/envs/mario/lib/python3.8/site-packages/xgboost/sklearn.py:793: UserWarning: `early_stopping_rounds` in `fit` method is deprecated for better compatibility with scikit-learn, use `early_stopping_rounds` in constructor or`set_params` instead.\n",
      "  warnings.warn(\n"
     ]
    },
    {
     "name": "stdout",
     "output_type": "stream",
     "text": [
      "[10:47:23] WARNING: /Users/runner/work/xgboost/xgboost/python-package/build/temp.macosx-11.0-arm64-3.8/xgboost/src/learner.cc:627: \n",
      "Parameters: { \"colsample_bytree\", \"max_depth\", \"subsample\", \"tree_method\" } might not be used.\n",
      "\n",
      "  This could be a false alarm, with some parameters getting used by language bindings but\n",
      "  then being mistakenly passed down to XGBoost core, or some parameter actually being used\n",
      "  but getting flagged wrongly here. Please open an issue if you find any such cases.\n",
      "\n",
      "\n"
     ]
    },
    {
     "name": "stderr",
     "output_type": "stream",
     "text": [
      "/Users/aidev_yyc_mac/miniforge3/envs/mario/lib/python3.8/site-packages/xgboost/sklearn.py:793: UserWarning: `early_stopping_rounds` in `fit` method is deprecated for better compatibility with scikit-learn, use `early_stopping_rounds` in constructor or`set_params` instead.\n",
      "  warnings.warn(\n"
     ]
    },
    {
     "name": "stdout",
     "output_type": "stream",
     "text": [
      "[10:47:23] WARNING: /Users/runner/work/xgboost/xgboost/python-package/build/temp.macosx-11.0-arm64-3.8/xgboost/src/learner.cc:627: \n",
      "Parameters: { \"colsample_bytree\", \"max_depth\", \"subsample\", \"tree_method\" } might not be used.\n",
      "\n",
      "  This could be a false alarm, with some parameters getting used by language bindings but\n",
      "  then being mistakenly passed down to XGBoost core, or some parameter actually being used\n",
      "  but getting flagged wrongly here. Please open an issue if you find any such cases.\n",
      "\n",
      "\n"
     ]
    },
    {
     "name": "stderr",
     "output_type": "stream",
     "text": [
      "/Users/aidev_yyc_mac/miniforge3/envs/mario/lib/python3.8/site-packages/xgboost/sklearn.py:793: UserWarning: `early_stopping_rounds` in `fit` method is deprecated for better compatibility with scikit-learn, use `early_stopping_rounds` in constructor or`set_params` instead.\n",
      "  warnings.warn(\n",
      "/Users/aidev_yyc_mac/miniforge3/envs/mario/lib/python3.8/site-packages/xgboost/sklearn.py:793: UserWarning: `early_stopping_rounds` in `fit` method is deprecated for better compatibility with scikit-learn, use `early_stopping_rounds` in constructor or`set_params` instead.\n",
      "  warnings.warn(\n"
     ]
    },
    {
     "name": "stdout",
     "output_type": "stream",
     "text": [
      "[10:47:26] WARNING: /Users/runner/work/xgboost/xgboost/python-package/build/temp.macosx-11.0-arm64-3.8/xgboost/src/learner.cc:627: \n",
      "Parameters: { \"colsample_bytree\", \"max_depth\", \"subsample\", \"tree_method\" } might not be used.\n",
      "\n",
      "  This could be a false alarm, with some parameters getting used by language bindings but\n",
      "  then being mistakenly passed down to XGBoost core, or some parameter actually being used\n",
      "  but getting flagged wrongly here. Please open an issue if you find any such cases.\n",
      "\n",
      "\n",
      "[10:47:26] WARNING: /Users/runner/work/xgboost/xgboost/python-package/build/temp.macosx-11.0-arm64-3.8/xgboost/src/learner.cc:627: \n",
      "Parameters: { \"colsample_bytree\", \"max_depth\", \"subsample\", \"tree_method\" } might not be used.\n",
      "\n",
      "  This could be a false alarm, with some parameters getting used by language bindings but\n",
      "  then being mistakenly passed down to XGBoost core, or some parameter actually being used\n",
      "  but getting flagged wrongly here. Please open an issue if you find any such cases.\n",
      "\n",
      "\n"
     ]
    },
    {
     "name": "stderr",
     "output_type": "stream",
     "text": [
      "2022-05-25 10:47:28,446 INFO Metrics: {'auc': 0.6052847896917025, 'logloss': 0.6399274424354047, 'f1': 0.04533389529067207, 'accuracy': 0.6417061611374407, 'precision': 0.7666666666666666, 'recall': 0.02361585782638414}\n",
      "\u001b[32m[I 2022-05-25 10:47:28,456]\u001b[0m Trial 1 finished with value: 0.6399274424354047 and parameters: {'learning_rate': 0.017366787369293278, 'reg_lambda': 0.006483581463337911, 'reg_alpha': 0.006462657070779505, 'subsample': 0.960289400845829, 'colsample_bytree': 0.2102064853119719, 'max_depth': 7, 'early_stopping_rounds': 395, 'n_estimators': 7000, 'tree_method': 'hist', 'booster': 'gblinear'}. Best is trial 1 with value: 0.6399274424354047.\u001b[0m\n",
      "/Users/aidev_yyc_mac/miniforge3/envs/mario/lib/python3.8/site-packages/xgboost/sklearn.py:793: UserWarning: `early_stopping_rounds` in `fit` method is deprecated for better compatibility with scikit-learn, use `early_stopping_rounds` in constructor or`set_params` instead.\n",
      "  warnings.warn(\n",
      "/Users/aidev_yyc_mac/miniforge3/envs/mario/lib/python3.8/site-packages/xgboost/sklearn.py:793: UserWarning: `early_stopping_rounds` in `fit` method is deprecated for better compatibility with scikit-learn, use `early_stopping_rounds` in constructor or`set_params` instead.\n",
      "  warnings.warn(\n",
      "/Users/aidev_yyc_mac/miniforge3/envs/mario/lib/python3.8/site-packages/xgboost/sklearn.py:793: UserWarning: `early_stopping_rounds` in `fit` method is deprecated for better compatibility with scikit-learn, use `early_stopping_rounds` in constructor or`set_params` instead.\n",
      "  warnings.warn(\n",
      "/Users/aidev_yyc_mac/miniforge3/envs/mario/lib/python3.8/site-packages/xgboost/sklearn.py:793: UserWarning: `early_stopping_rounds` in `fit` method is deprecated for better compatibility with scikit-learn, use `early_stopping_rounds` in constructor or`set_params` instead.\n",
      "  warnings.warn(\n",
      "/Users/aidev_yyc_mac/miniforge3/envs/mario/lib/python3.8/site-packages/xgboost/sklearn.py:793: UserWarning: `early_stopping_rounds` in `fit` method is deprecated for better compatibility with scikit-learn, use `early_stopping_rounds` in constructor or`set_params` instead.\n",
      "  warnings.warn(\n",
      "2022-05-25 10:47:30,173 INFO Metrics: {'auc': 0.6204628033221906, 'logloss': 0.6336936191854319, 'f1': 0.14442598045396446, 'accuracy': 0.6388625592417061, 'precision': 0.6131313131313132, 'recall': 0.08930280246069719}\n",
      "\u001b[32m[I 2022-05-25 10:47:30,182]\u001b[0m Trial 2 finished with value: 0.6336936191854319 and parameters: {'learning_rate': 0.013326109468275005, 'reg_lambda': 0.2398110928781087, 'reg_alpha': 0.08668665122207381, 'subsample': 0.40772417369466996, 'colsample_bytree': 0.7658967986875684, 'max_depth': 1, 'early_stopping_rounds': 432, 'n_estimators': 20000, 'tree_method': 'hist', 'booster': 'gbtree', 'gamma': 7.144249261070566e-07, 'grow_policy': 'lossguide'}. Best is trial 2 with value: 0.6336936191854319.\u001b[0m\n",
      "/Users/aidev_yyc_mac/miniforge3/envs/mario/lib/python3.8/site-packages/xgboost/sklearn.py:793: UserWarning: `early_stopping_rounds` in `fit` method is deprecated for better compatibility with scikit-learn, use `early_stopping_rounds` in constructor or`set_params` instead.\n",
      "  warnings.warn(\n",
      "/Users/aidev_yyc_mac/miniforge3/envs/mario/lib/python3.8/site-packages/xgboost/sklearn.py:793: UserWarning: `early_stopping_rounds` in `fit` method is deprecated for better compatibility with scikit-learn, use `early_stopping_rounds` in constructor or`set_params` instead.\n",
      "  warnings.warn(\n",
      "/Users/aidev_yyc_mac/miniforge3/envs/mario/lib/python3.8/site-packages/xgboost/sklearn.py:793: UserWarning: `early_stopping_rounds` in `fit` method is deprecated for better compatibility with scikit-learn, use `early_stopping_rounds` in constructor or`set_params` instead.\n",
      "  warnings.warn(\n",
      "/Users/aidev_yyc_mac/miniforge3/envs/mario/lib/python3.8/site-packages/xgboost/sklearn.py:793: UserWarning: `early_stopping_rounds` in `fit` method is deprecated for better compatibility with scikit-learn, use `early_stopping_rounds` in constructor or`set_params` instead.\n",
      "  warnings.warn(\n",
      "/Users/aidev_yyc_mac/miniforge3/envs/mario/lib/python3.8/site-packages/xgboost/sklearn.py:793: UserWarning: `early_stopping_rounds` in `fit` method is deprecated for better compatibility with scikit-learn, use `early_stopping_rounds` in constructor or`set_params` instead.\n",
      "  warnings.warn(\n",
      "2022-05-25 10:47:31,091 INFO Metrics: {'auc': 0.612063161446508, 'logloss': 0.6355074858566596, 'f1': 0.14388577262512037, 'accuracy': 0.6502369668246446, 'precision': 0.6847435897435898, 'recall': 0.08386876281613123}\n",
      "\u001b[32m[I 2022-05-25 10:47:31,099]\u001b[0m Trial 3 finished with value: 0.6355074858566596 and parameters: {'learning_rate': 0.017377496046912095, 'reg_lambda': 0.02632385071301695, 'reg_alpha': 0.10247493044706499, 'subsample': 0.5632967508036352, 'colsample_bytree': 0.2227937356032807, 'max_depth': 2, 'early_stopping_rounds': 109, 'n_estimators': 20000, 'tree_method': 'exact', 'booster': 'gbtree', 'gamma': 0.0002439374346519195, 'grow_policy': 'depthwise'}. Best is trial 2 with value: 0.6336936191854319.\u001b[0m\n",
      "/Users/aidev_yyc_mac/miniforge3/envs/mario/lib/python3.8/site-packages/xgboost/sklearn.py:793: UserWarning: `early_stopping_rounds` in `fit` method is deprecated for better compatibility with scikit-learn, use `early_stopping_rounds` in constructor or`set_params` instead.\n",
      "  warnings.warn(\n",
      "/Users/aidev_yyc_mac/miniforge3/envs/mario/lib/python3.8/site-packages/xgboost/sklearn.py:793: UserWarning: `early_stopping_rounds` in `fit` method is deprecated for better compatibility with scikit-learn, use `early_stopping_rounds` in constructor or`set_params` instead.\n",
      "  warnings.warn(\n",
      "/Users/aidev_yyc_mac/miniforge3/envs/mario/lib/python3.8/site-packages/xgboost/sklearn.py:793: UserWarning: `early_stopping_rounds` in `fit` method is deprecated for better compatibility with scikit-learn, use `early_stopping_rounds` in constructor or`set_params` instead.\n",
      "  warnings.warn(\n",
      "/Users/aidev_yyc_mac/miniforge3/envs/mario/lib/python3.8/site-packages/xgboost/sklearn.py:793: UserWarning: `early_stopping_rounds` in `fit` method is deprecated for better compatibility with scikit-learn, use `early_stopping_rounds` in constructor or`set_params` instead.\n",
      "  warnings.warn(\n",
      "/Users/aidev_yyc_mac/miniforge3/envs/mario/lib/python3.8/site-packages/sklearn/metrics/_classification.py:1318: UndefinedMetricWarning: Precision is ill-defined and being set to 0.0 due to no predicted samples. Use `zero_division` parameter to control this behavior.\n",
      "  if metric in warn_for and \"f-score\" in warn_for:\n",
      "/Users/aidev_yyc_mac/miniforge3/envs/mario/lib/python3.8/site-packages/xgboost/sklearn.py:793: UserWarning: `early_stopping_rounds` in `fit` method is deprecated for better compatibility with scikit-learn, use `early_stopping_rounds` in constructor or`set_params` instead.\n",
      "  warnings.warn(\n",
      "2022-05-25 10:47:39,315 INFO Metrics: {'auc': 0.6108717765316352, 'logloss': 0.6368760848779814, 'f1': 0.13019027901015479, 'accuracy': 0.6341232227488152, 'precision': 0.3821428571428571, 'recall': 0.0787423103212577}\n",
      "\u001b[32m[I 2022-05-25 10:47:39,324]\u001b[0m Trial 4 finished with value: 0.6368760848779814 and parameters: {'learning_rate': 0.027057034645589787, 'reg_lambda': 55.42531612500837, 'reg_alpha': 0.018479105895434212, 'subsample': 0.18906838456685182, 'colsample_bytree': 0.19603141815701144, 'max_depth': 7, 'early_stopping_rounds': 482, 'n_estimators': 7000, 'tree_method': 'approx', 'booster': 'gbtree', 'gamma': 0.0021335924440483867, 'grow_policy': 'depthwise'}. Best is trial 2 with value: 0.6336936191854319.\u001b[0m\n",
      "2022-05-25 10:47:39,327 INFO Training complete\n",
      "2022-05-25 10:47:39,328 INFO Creating OOF and test predictions\n",
      "2022-05-25 10:47:39,329 INFO Training and predicting for fold 0\n",
      "/Users/aidev_yyc_mac/miniforge3/envs/mario/lib/python3.8/site-packages/xgboost/sklearn.py:793: UserWarning: `early_stopping_rounds` in `fit` method is deprecated for better compatibility with scikit-learn, use `early_stopping_rounds` in constructor or`set_params` instead.\n",
      "  warnings.warn(\n",
      "2022-05-25 10:47:39,641 INFO Fold 0 done!\n",
      "2022-05-25 10:47:39,641 INFO Training and predicting for fold 1\n",
      "/Users/aidev_yyc_mac/miniforge3/envs/mario/lib/python3.8/site-packages/xgboost/sklearn.py:793: UserWarning: `early_stopping_rounds` in `fit` method is deprecated for better compatibility with scikit-learn, use `early_stopping_rounds` in constructor or`set_params` instead.\n",
      "  warnings.warn(\n"
     ]
    },
    {
     "name": "stderr",
     "output_type": "stream",
     "text": [
      "2022-05-25 10:47:40,272 INFO Fold 1 done!\n",
      "2022-05-25 10:47:40,272 INFO Training and predicting for fold 2\n",
      "/Users/aidev_yyc_mac/miniforge3/envs/mario/lib/python3.8/site-packages/xgboost/sklearn.py:793: UserWarning: `early_stopping_rounds` in `fit` method is deprecated for better compatibility with scikit-learn, use `early_stopping_rounds` in constructor or`set_params` instead.\n",
      "  warnings.warn(\n",
      "2022-05-25 10:47:40,620 INFO Fold 2 done!\n",
      "2022-05-25 10:47:40,620 INFO Training and predicting for fold 3\n",
      "/Users/aidev_yyc_mac/miniforge3/envs/mario/lib/python3.8/site-packages/xgboost/sklearn.py:793: UserWarning: `early_stopping_rounds` in `fit` method is deprecated for better compatibility with scikit-learn, use `early_stopping_rounds` in constructor or`set_params` instead.\n",
      "  warnings.warn(\n",
      "2022-05-25 10:47:40,997 INFO Fold 3 done!\n",
      "2022-05-25 10:47:40,997 INFO Training and predicting for fold 4\n",
      "/Users/aidev_yyc_mac/miniforge3/envs/mario/lib/python3.8/site-packages/xgboost/sklearn.py:793: UserWarning: `early_stopping_rounds` in `fit` method is deprecated for better compatibility with scikit-learn, use `early_stopping_rounds` in constructor or`set_params` instead.\n",
      "  warnings.warn(\n",
      "2022-05-25 10:47:41,334 INFO Fold 4 done!\n",
      "2022-05-25 10:47:41,335 INFO Metrics: {'auc': 0.6204628033221906, 'logloss': 0.6336936191854319, 'f1': 0.14442598045396446, 'accuracy': 0.6388625592417061, 'precision': 0.6131313131313132, 'recall': 0.08930280246069719}\n",
      "2022-05-25 10:47:41,340 INFO No test data supplied. Only OOF predictions were generated\n"
     ]
    }
   ],
   "source": [
    "axgb.train()"
   ]
  },
  {
   "cell_type": "code",
   "execution_count": 38,
   "id": "424834cc",
   "metadata": {},
   "outputs": [
    {
     "name": "stdout",
     "output_type": "stream",
     "text": [
      "Collecting pyarrow\n",
      "  Downloading pyarrow-8.0.0-cp38-cp38-macosx_11_0_arm64.whl (16.2 MB)\n",
      "\u001b[K     |████████████████████████████████| 16.2 MB 7.4 MB/s eta 0:00:01\n",
      "\u001b[?25hRequirement already satisfied: numpy>=1.16.6 in /Users/aidev_yyc_mac/miniforge3/envs/mario/lib/python3.8/site-packages (from pyarrow) (1.22.4)\n",
      "Installing collected packages: pyarrow\n",
      "\u001b[31mERROR: pip's dependency resolver does not currently take into account all the packages that are installed. This behaviour is the source of the following dependency conflicts.\n",
      "autoxgb 0.2.2 requires fastapi==0.70.0, which is not installed.\n",
      "autoxgb 0.2.2 requires loguru==0.5.3, which is not installed.\n",
      "autoxgb 0.2.2 requires uvicorn==0.15.0, which is not installed.\n",
      "autoxgb 0.2.2 requires numpy==1.21.3, but you have numpy 1.22.4 which is incompatible.\n",
      "autoxgb 0.2.2 requires pandas==1.3.4, but you have pandas 1.4.2 which is incompatible.\n",
      "autoxgb 0.2.2 requires pyarrow==6.0.0, but you have pyarrow 8.0.0 which is incompatible.\n",
      "autoxgb 0.2.2 requires pydantic==1.8.2, but you have pydantic 1.9.1 which is incompatible.\n",
      "autoxgb 0.2.2 requires scikit-learn==1.0.1, but you have scikit-learn 1.1.1 which is incompatible.\n",
      "autoxgb 0.2.2 requires xgboost==1.5.0, but you have xgboost 1.6.1 which is incompatible.\u001b[0m\n",
      "Successfully installed pyarrow-8.0.0\n"
     ]
    }
   ],
   "source": [
    "!pip3 install pyarrow"
   ]
  }
 ],
 "metadata": {
  "kernelspec": {
   "display_name": "Python 3",
   "language": "python",
   "name": "python3"
  },
  "language_info": {
   "codemirror_mode": {
    "name": "ipython",
    "version": 3
   },
   "file_extension": ".py",
   "mimetype": "text/x-python",
   "name": "python",
   "nbconvert_exporter": "python",
   "pygments_lexer": "ipython3",
   "version": "3.8.12"
  }
 },
 "nbformat": 4,
 "nbformat_minor": 5
}
