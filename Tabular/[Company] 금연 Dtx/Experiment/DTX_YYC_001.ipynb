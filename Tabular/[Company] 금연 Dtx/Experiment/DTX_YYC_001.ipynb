{
 "cells": [
  {
   "cell_type": "code",
   "execution_count": 10,
   "metadata": {
    "collapsed": true,
    "pycharm": {
     "name": "#%%\n"
    }
   },
   "outputs": [],
   "source": [
    "import functools\n",
    "\n",
    "import pandas as pd\n",
    "import numpy as np\n",
    "from sklearn.model_selection import train_test_split\n",
    "\n",
    "import matplotlib as plt\n",
    "\n",
    "import optuna\n",
    "\n",
    "from sklearn import datasets\n",
    "import sklearn.datasets\n",
    "import sklearn.metrics\n",
    "from sklearn.metrics import precision_score, recall_score, f1_score, accuracy_score\n",
    "import functools\n",
    "import xgboost as xgb\n",
    "import psutil\n",
    "import time"
   ]
  },
  {
   "cell_type": "code",
   "execution_count": 11,
   "outputs": [
    {
     "data": {
      "text/plain": "      금연성공여부  연령  흡연시작연령  하루흡연량  담배종류_1  담배종류_2  담배종류_4  담배종류_5  담배종류_6  \\\n0          0  52      25      3       1       0       0       0       0   \n1          0  32      17      4       1       0       0       0       0   \n2          1  41      21      2       1       0       0       0       0   \n3          1  60      18      2       1       0       0       0       0   \n4          1  28      19      2       0       0       1       0       0   \n...      ...  ..     ...    ...     ...     ...     ...     ...     ...   \n1050       0  33      17      2       1       0       0       0       0   \n1051       0  24      20      2       0       0       0       1       0   \n1052       0  49      30      2       1       0       0       0       0   \n1053       1  55      30      3       1       0       0       0       0   \n1054       0  41      28      2       0       1       0       0       0   \n\n      담배종류_7  ...  FTND_1  FTND_2  FTND_3  FTND_4  FTND_5  FTND_6  FTND_7  \\\n0          0  ...       0       0       0       0       0       0       0   \n1          0  ...       0       0       0       0       0       0       1   \n2          0  ...       0       0       0       0       0       0       0   \n3          0  ...       0       0       0       0       0       1       0   \n4          0  ...       0       1       0       0       0       0       0   \n...      ...  ...     ...     ...     ...     ...     ...     ...     ...   \n1050       0  ...       0       0       0       0       0       1       0   \n1051       0  ...       0       0       1       0       0       0       0   \n1052       0  ...       0       1       0       0       0       0       0   \n1053       0  ...       0       0       0       0       1       0       0   \n1054       0  ...       0       0       0       1       0       0       0   \n\n      FTND_8  FTND_9  FTND_10  \n0          1       0        0  \n1          0       0        0  \n2          0       0        0  \n3          0       0        0  \n4          0       0        0  \n...      ...     ...      ...  \n1050       0       0        0  \n1051       0       0        0  \n1052       0       0        0  \n1053       0       0        0  \n1054       0       0        0  \n\n[1055 rows x 23 columns]",
      "text/html": "<div>\n<style scoped>\n    .dataframe tbody tr th:only-of-type {\n        vertical-align: middle;\n    }\n\n    .dataframe tbody tr th {\n        vertical-align: top;\n    }\n\n    .dataframe thead th {\n        text-align: right;\n    }\n</style>\n<table border=\"1\" class=\"dataframe\">\n  <thead>\n    <tr style=\"text-align: right;\">\n      <th></th>\n      <th>금연성공여부</th>\n      <th>연령</th>\n      <th>흡연시작연령</th>\n      <th>하루흡연량</th>\n      <th>담배종류_1</th>\n      <th>담배종류_2</th>\n      <th>담배종류_4</th>\n      <th>담배종류_5</th>\n      <th>담배종류_6</th>\n      <th>담배종류_7</th>\n      <th>...</th>\n      <th>FTND_1</th>\n      <th>FTND_2</th>\n      <th>FTND_3</th>\n      <th>FTND_4</th>\n      <th>FTND_5</th>\n      <th>FTND_6</th>\n      <th>FTND_7</th>\n      <th>FTND_8</th>\n      <th>FTND_9</th>\n      <th>FTND_10</th>\n    </tr>\n  </thead>\n  <tbody>\n    <tr>\n      <th>0</th>\n      <td>0</td>\n      <td>52</td>\n      <td>25</td>\n      <td>3</td>\n      <td>1</td>\n      <td>0</td>\n      <td>0</td>\n      <td>0</td>\n      <td>0</td>\n      <td>0</td>\n      <td>...</td>\n      <td>0</td>\n      <td>0</td>\n      <td>0</td>\n      <td>0</td>\n      <td>0</td>\n      <td>0</td>\n      <td>0</td>\n      <td>1</td>\n      <td>0</td>\n      <td>0</td>\n    </tr>\n    <tr>\n      <th>1</th>\n      <td>0</td>\n      <td>32</td>\n      <td>17</td>\n      <td>4</td>\n      <td>1</td>\n      <td>0</td>\n      <td>0</td>\n      <td>0</td>\n      <td>0</td>\n      <td>0</td>\n      <td>...</td>\n      <td>0</td>\n      <td>0</td>\n      <td>0</td>\n      <td>0</td>\n      <td>0</td>\n      <td>0</td>\n      <td>1</td>\n      <td>0</td>\n      <td>0</td>\n      <td>0</td>\n    </tr>\n    <tr>\n      <th>2</th>\n      <td>1</td>\n      <td>41</td>\n      <td>21</td>\n      <td>2</td>\n      <td>1</td>\n      <td>0</td>\n      <td>0</td>\n      <td>0</td>\n      <td>0</td>\n      <td>0</td>\n      <td>...</td>\n      <td>0</td>\n      <td>0</td>\n      <td>0</td>\n      <td>0</td>\n      <td>0</td>\n      <td>0</td>\n      <td>0</td>\n      <td>0</td>\n      <td>0</td>\n      <td>0</td>\n    </tr>\n    <tr>\n      <th>3</th>\n      <td>1</td>\n      <td>60</td>\n      <td>18</td>\n      <td>2</td>\n      <td>1</td>\n      <td>0</td>\n      <td>0</td>\n      <td>0</td>\n      <td>0</td>\n      <td>0</td>\n      <td>...</td>\n      <td>0</td>\n      <td>0</td>\n      <td>0</td>\n      <td>0</td>\n      <td>0</td>\n      <td>1</td>\n      <td>0</td>\n      <td>0</td>\n      <td>0</td>\n      <td>0</td>\n    </tr>\n    <tr>\n      <th>4</th>\n      <td>1</td>\n      <td>28</td>\n      <td>19</td>\n      <td>2</td>\n      <td>0</td>\n      <td>0</td>\n      <td>1</td>\n      <td>0</td>\n      <td>0</td>\n      <td>0</td>\n      <td>...</td>\n      <td>0</td>\n      <td>1</td>\n      <td>0</td>\n      <td>0</td>\n      <td>0</td>\n      <td>0</td>\n      <td>0</td>\n      <td>0</td>\n      <td>0</td>\n      <td>0</td>\n    </tr>\n    <tr>\n      <th>...</th>\n      <td>...</td>\n      <td>...</td>\n      <td>...</td>\n      <td>...</td>\n      <td>...</td>\n      <td>...</td>\n      <td>...</td>\n      <td>...</td>\n      <td>...</td>\n      <td>...</td>\n      <td>...</td>\n      <td>...</td>\n      <td>...</td>\n      <td>...</td>\n      <td>...</td>\n      <td>...</td>\n      <td>...</td>\n      <td>...</td>\n      <td>...</td>\n      <td>...</td>\n      <td>...</td>\n    </tr>\n    <tr>\n      <th>1050</th>\n      <td>0</td>\n      <td>33</td>\n      <td>17</td>\n      <td>2</td>\n      <td>1</td>\n      <td>0</td>\n      <td>0</td>\n      <td>0</td>\n      <td>0</td>\n      <td>0</td>\n      <td>...</td>\n      <td>0</td>\n      <td>0</td>\n      <td>0</td>\n      <td>0</td>\n      <td>0</td>\n      <td>1</td>\n      <td>0</td>\n      <td>0</td>\n      <td>0</td>\n      <td>0</td>\n    </tr>\n    <tr>\n      <th>1051</th>\n      <td>0</td>\n      <td>24</td>\n      <td>20</td>\n      <td>2</td>\n      <td>0</td>\n      <td>0</td>\n      <td>0</td>\n      <td>1</td>\n      <td>0</td>\n      <td>0</td>\n      <td>...</td>\n      <td>0</td>\n      <td>0</td>\n      <td>1</td>\n      <td>0</td>\n      <td>0</td>\n      <td>0</td>\n      <td>0</td>\n      <td>0</td>\n      <td>0</td>\n      <td>0</td>\n    </tr>\n    <tr>\n      <th>1052</th>\n      <td>0</td>\n      <td>49</td>\n      <td>30</td>\n      <td>2</td>\n      <td>1</td>\n      <td>0</td>\n      <td>0</td>\n      <td>0</td>\n      <td>0</td>\n      <td>0</td>\n      <td>...</td>\n      <td>0</td>\n      <td>1</td>\n      <td>0</td>\n      <td>0</td>\n      <td>0</td>\n      <td>0</td>\n      <td>0</td>\n      <td>0</td>\n      <td>0</td>\n      <td>0</td>\n    </tr>\n    <tr>\n      <th>1053</th>\n      <td>1</td>\n      <td>55</td>\n      <td>30</td>\n      <td>3</td>\n      <td>1</td>\n      <td>0</td>\n      <td>0</td>\n      <td>0</td>\n      <td>0</td>\n      <td>0</td>\n      <td>...</td>\n      <td>0</td>\n      <td>0</td>\n      <td>0</td>\n      <td>0</td>\n      <td>1</td>\n      <td>0</td>\n      <td>0</td>\n      <td>0</td>\n      <td>0</td>\n      <td>0</td>\n    </tr>\n    <tr>\n      <th>1054</th>\n      <td>0</td>\n      <td>41</td>\n      <td>28</td>\n      <td>2</td>\n      <td>0</td>\n      <td>1</td>\n      <td>0</td>\n      <td>0</td>\n      <td>0</td>\n      <td>0</td>\n      <td>...</td>\n      <td>0</td>\n      <td>0</td>\n      <td>0</td>\n      <td>1</td>\n      <td>0</td>\n      <td>0</td>\n      <td>0</td>\n      <td>0</td>\n      <td>0</td>\n      <td>0</td>\n    </tr>\n  </tbody>\n</table>\n<p>1055 rows × 23 columns</p>\n</div>"
     },
     "execution_count": 11,
     "metadata": {},
     "output_type": "execute_result"
    }
   ],
   "source": [
    "df = pd.read_csv('../data/dataset/DTX_data_002.csv')\n",
    "df"
   ],
   "metadata": {
    "collapsed": false,
    "pycharm": {
     "name": "#%%\n"
    }
   }
  },
  {
   "cell_type": "code",
   "execution_count": 12,
   "outputs": [],
   "source": [
    "X = df.drop(['금연성공여부'],axis=1)\n",
    "y = df['금연성공여부']\n",
    "\n",
    "X_train, X_eval, y_train, y_eval = train_test_split(X, y, test_size=0.1, shuffle=True,  random_state=34)"
   ],
   "metadata": {
    "collapsed": false,
    "pycharm": {
     "name": "#%%\n"
    }
   }
  },
  {
   "cell_type": "code",
   "execution_count": 13,
   "outputs": [],
   "source": [
    "def opt(X_train, y_train, X_test, y_test, trial):\n",
    "    #param_list\n",
    "    n_estimators = trial.suggest_int('n_estimators', 0, 100)\n",
    "    max_depth = trial.suggest_int('max_depth', 1, 20)\n",
    "    min_child_weight = trial.suggest_int('min_child_weight', 1, 20)\n",
    "    learning_rate = trial.suggest_discrete_uniform('learning_rate', 0.01, 0.1, 0.01)\n",
    "    scale_pos_weight = trial.suggest_int('scale_pos_weight', 1, 100)\n",
    "    subsample = trial.suggest_discrete_uniform('subsample', 0.5, 0.9, 0.1)\n",
    "    colsample_bytree = trial.suggest_discrete_uniform('colsample_bytree', 0.5, 0.9, 0.1)\n",
    "\n",
    "    xgboost_tuna = xgb.XGBClassifier(\n",
    "        random_state=42,\n",
    "        n_estimators = n_estimators,\n",
    "        #max_depth = max_depth,\n",
    "        # min_child_weight = min_child_weight,\n",
    "        # learning_rate = learning_rate,\n",
    "        #scale_pos_weight = scale_pos_weight,\n",
    "        # subsample = subsample,\n",
    "        # colsample_bytree = colsample_bytree,\n",
    "        use_label_encoder = False\n",
    "    )\n",
    "    xgboost_tuna.fit(X_train, y_train)\n",
    "    tuna_pred_test = xgboost_tuna.predict(X_test)\n",
    "\n",
    "    return (1.0 - (accuracy_score(y_test, tuna_pred_test)))"
   ],
   "metadata": {
    "collapsed": false,
    "pycharm": {
     "name": "#%%\n"
    }
   }
  },
  {
   "cell_type": "code",
   "execution_count": 14,
   "outputs": [
    {
     "name": "stderr",
     "output_type": "stream",
     "text": [
      "\u001B[32m[I 2022-05-19 13:28:07,326]\u001B[0m A new study created in memory with name: no-name-0a8a2800-8bd2-492d-915a-c1eb09798252\u001B[0m\n",
      "/Users/aidev_yyc_mac/opt/anaconda3/envs/yyc/lib/python3.8/site-packages/xgboost/data.py:250: FutureWarning: pandas.Int64Index is deprecated and will be removed from pandas in a future version. Use pandas.Index with the appropriate dtype instead.\n",
      "  elif isinstance(data.columns, (pd.Int64Index, pd.RangeIndex)):\n"
     ]
    },
    {
     "name": "stdout",
     "output_type": "stream",
     "text": [
      "[13:28:07] WARNING: ../src/learner.cc:1115: Starting in XGBoost 1.3.0, the default evaluation metric used with the objective 'binary:logistic' was changed from 'error' to 'logloss'. Explicitly set eval_metric if you'd like to restore the old behavior.\n"
     ]
    },
    {
     "name": "stderr",
     "output_type": "stream",
     "text": [
      "\u001B[32m[I 2022-05-19 13:28:07,571]\u001B[0m Trial 0 finished with value: 0.4528301886792453 and parameters: {'n_estimators': 86, 'max_depth': 15, 'min_child_weight': 11, 'learning_rate': 0.02, 'scale_pos_weight': 2, 'subsample': 0.7, 'colsample_bytree': 0.7}. Best is trial 0 with value: 0.4528301886792453.\u001B[0m\n",
      "/Users/aidev_yyc_mac/opt/anaconda3/envs/yyc/lib/python3.8/site-packages/xgboost/data.py:250: FutureWarning: pandas.Int64Index is deprecated and will be removed from pandas in a future version. Use pandas.Index with the appropriate dtype instead.\n",
      "  elif isinstance(data.columns, (pd.Int64Index, pd.RangeIndex)):\n",
      "\u001B[32m[I 2022-05-19 13:28:07,717]\u001B[0m Trial 1 finished with value: 0.4528301886792453 and parameters: {'n_estimators': 23, 'max_depth': 8, 'min_child_weight': 9, 'learning_rate': 0.08, 'scale_pos_weight': 24, 'subsample': 0.8, 'colsample_bytree': 0.8}. Best is trial 0 with value: 0.4528301886792453.\u001B[0m\n",
      "/Users/aidev_yyc_mac/opt/anaconda3/envs/yyc/lib/python3.8/site-packages/xgboost/data.py:250: FutureWarning: pandas.Int64Index is deprecated and will be removed from pandas in a future version. Use pandas.Index with the appropriate dtype instead.\n",
      "  elif isinstance(data.columns, (pd.Int64Index, pd.RangeIndex)):\n"
     ]
    },
    {
     "name": "stdout",
     "output_type": "stream",
     "text": [
      "[13:28:07] WARNING: ../src/learner.cc:1115: Starting in XGBoost 1.3.0, the default evaluation metric used with the objective 'binary:logistic' was changed from 'error' to 'logloss'. Explicitly set eval_metric if you'd like to restore the old behavior.\n",
      "[13:28:07] WARNING: ../src/learner.cc:1115: Starting in XGBoost 1.3.0, the default evaluation metric used with the objective 'binary:logistic' was changed from 'error' to 'logloss'. Explicitly set eval_metric if you'd like to restore the old behavior.\n"
     ]
    },
    {
     "name": "stderr",
     "output_type": "stream",
     "text": [
      "\u001B[32m[I 2022-05-19 13:28:07,888]\u001B[0m Trial 2 finished with value: 0.4528301886792453 and parameters: {'n_estimators': 33, 'max_depth': 4, 'min_child_weight': 4, 'learning_rate': 0.09, 'scale_pos_weight': 79, 'subsample': 0.8, 'colsample_bytree': 0.9}. Best is trial 0 with value: 0.4528301886792453.\u001B[0m\n",
      "/Users/aidev_yyc_mac/opt/anaconda3/envs/yyc/lib/python3.8/site-packages/xgboost/data.py:250: FutureWarning: pandas.Int64Index is deprecated and will be removed from pandas in a future version. Use pandas.Index with the appropriate dtype instead.\n",
      "  elif isinstance(data.columns, (pd.Int64Index, pd.RangeIndex)):\n",
      "\u001B[32m[I 2022-05-19 13:28:08,032]\u001B[0m Trial 3 finished with value: 0.4528301886792453 and parameters: {'n_estimators': 10, 'max_depth': 17, 'min_child_weight': 13, 'learning_rate': 0.08, 'scale_pos_weight': 3, 'subsample': 0.9, 'colsample_bytree': 0.9}. Best is trial 0 with value: 0.4528301886792453.\u001B[0m\n",
      "/Users/aidev_yyc_mac/opt/anaconda3/envs/yyc/lib/python3.8/site-packages/xgboost/data.py:250: FutureWarning: pandas.Int64Index is deprecated and will be removed from pandas in a future version. Use pandas.Index with the appropriate dtype instead.\n",
      "  elif isinstance(data.columns, (pd.Int64Index, pd.RangeIndex)):\n"
     ]
    },
    {
     "name": "stdout",
     "output_type": "stream",
     "text": [
      "[13:28:07] WARNING: ../src/learner.cc:1115: Starting in XGBoost 1.3.0, the default evaluation metric used with the objective 'binary:logistic' was changed from 'error' to 'logloss'. Explicitly set eval_metric if you'd like to restore the old behavior.\n",
      "[13:28:08] WARNING: ../src/learner.cc:1115: Starting in XGBoost 1.3.0, the default evaluation metric used with the objective 'binary:logistic' was changed from 'error' to 'logloss'. Explicitly set eval_metric if you'd like to restore the old behavior.\n"
     ]
    },
    {
     "name": "stderr",
     "output_type": "stream",
     "text": [
      "\u001B[32m[I 2022-05-19 13:28:08,174]\u001B[0m Trial 4 finished with value: 0.4528301886792453 and parameters: {'n_estimators': 97, 'max_depth': 12, 'min_child_weight': 18, 'learning_rate': 0.06999999999999999, 'scale_pos_weight': 20, 'subsample': 0.9, 'colsample_bytree': 0.9}. Best is trial 0 with value: 0.4528301886792453.\u001B[0m\n",
      "/Users/aidev_yyc_mac/opt/anaconda3/envs/yyc/lib/python3.8/site-packages/xgboost/data.py:250: FutureWarning: pandas.Int64Index is deprecated and will be removed from pandas in a future version. Use pandas.Index with the appropriate dtype instead.\n",
      "  elif isinstance(data.columns, (pd.Int64Index, pd.RangeIndex)):\n",
      "\u001B[32m[I 2022-05-19 13:28:08,310]\u001B[0m Trial 5 finished with value: 0.4528301886792453 and parameters: {'n_estimators': 20, 'max_depth': 6, 'min_child_weight': 17, 'learning_rate': 0.04, 'scale_pos_weight': 15, 'subsample': 0.9, 'colsample_bytree': 0.6}. Best is trial 0 with value: 0.4528301886792453.\u001B[0m\n",
      "/Users/aidev_yyc_mac/opt/anaconda3/envs/yyc/lib/python3.8/site-packages/xgboost/data.py:250: FutureWarning: pandas.Int64Index is deprecated and will be removed from pandas in a future version. Use pandas.Index with the appropriate dtype instead.\n",
      "  elif isinstance(data.columns, (pd.Int64Index, pd.RangeIndex)):\n"
     ]
    },
    {
     "name": "stdout",
     "output_type": "stream",
     "text": [
      "[13:28:08] WARNING: ../src/learner.cc:1115: Starting in XGBoost 1.3.0, the default evaluation metric used with the objective 'binary:logistic' was changed from 'error' to 'logloss'. Explicitly set eval_metric if you'd like to restore the old behavior.\n",
      "[13:28:08] WARNING: ../src/learner.cc:1115: Starting in XGBoost 1.3.0, the default evaluation metric used with the objective 'binary:logistic' was changed from 'error' to 'logloss'. Explicitly set eval_metric if you'd like to restore the old behavior.\n"
     ]
    },
    {
     "name": "stderr",
     "output_type": "stream",
     "text": [
      "\u001B[32m[I 2022-05-19 13:28:08,443]\u001B[0m Trial 6 finished with value: 0.4528301886792453 and parameters: {'n_estimators': 65, 'max_depth': 2, 'min_child_weight': 16, 'learning_rate': 0.06999999999999999, 'scale_pos_weight': 82, 'subsample': 0.5, 'colsample_bytree': 0.6}. Best is trial 0 with value: 0.4528301886792453.\u001B[0m\n",
      "/Users/aidev_yyc_mac/opt/anaconda3/envs/yyc/lib/python3.8/site-packages/xgboost/data.py:250: FutureWarning: pandas.Int64Index is deprecated and will be removed from pandas in a future version. Use pandas.Index with the appropriate dtype instead.\n",
      "  elif isinstance(data.columns, (pd.Int64Index, pd.RangeIndex)):\n",
      "\u001B[32m[I 2022-05-19 13:28:08,600]\u001B[0m Trial 7 finished with value: 0.4528301886792453 and parameters: {'n_estimators': 45, 'max_depth': 2, 'min_child_weight': 5, 'learning_rate': 0.03, 'scale_pos_weight': 84, 'subsample': 0.7, 'colsample_bytree': 0.9}. Best is trial 0 with value: 0.4528301886792453.\u001B[0m\n",
      "/Users/aidev_yyc_mac/opt/anaconda3/envs/yyc/lib/python3.8/site-packages/xgboost/data.py:250: FutureWarning: pandas.Int64Index is deprecated and will be removed from pandas in a future version. Use pandas.Index with the appropriate dtype instead.\n",
      "  elif isinstance(data.columns, (pd.Int64Index, pd.RangeIndex)):\n"
     ]
    },
    {
     "name": "stdout",
     "output_type": "stream",
     "text": [
      "[13:28:08] WARNING: ../src/learner.cc:1115: Starting in XGBoost 1.3.0, the default evaluation metric used with the objective 'binary:logistic' was changed from 'error' to 'logloss'. Explicitly set eval_metric if you'd like to restore the old behavior.\n",
      "[13:28:08] WARNING: ../src/learner.cc:1115: Starting in XGBoost 1.3.0, the default evaluation metric used with the objective 'binary:logistic' was changed from 'error' to 'logloss'. Explicitly set eval_metric if you'd like to restore the old behavior.\n"
     ]
    },
    {
     "name": "stderr",
     "output_type": "stream",
     "text": [
      "\u001B[32m[I 2022-05-19 13:28:08,747]\u001B[0m Trial 8 finished with value: 0.4528301886792453 and parameters: {'n_estimators': 2, 'max_depth': 4, 'min_child_weight': 5, 'learning_rate': 0.09, 'scale_pos_weight': 50, 'subsample': 0.8, 'colsample_bytree': 0.8}. Best is trial 0 with value: 0.4528301886792453.\u001B[0m\n",
      "/Users/aidev_yyc_mac/opt/anaconda3/envs/yyc/lib/python3.8/site-packages/xgboost/data.py:250: FutureWarning: pandas.Int64Index is deprecated and will be removed from pandas in a future version. Use pandas.Index with the appropriate dtype instead.\n",
      "  elif isinstance(data.columns, (pd.Int64Index, pd.RangeIndex)):\n",
      "\u001B[32m[I 2022-05-19 13:28:08,888]\u001B[0m Trial 9 finished with value: 0.4528301886792453 and parameters: {'n_estimators': 60, 'max_depth': 6, 'min_child_weight': 16, 'learning_rate': 0.04, 'scale_pos_weight': 23, 'subsample': 0.6, 'colsample_bytree': 0.7}. Best is trial 0 with value: 0.4528301886792453.\u001B[0m\n",
      "/Users/aidev_yyc_mac/opt/anaconda3/envs/yyc/lib/python3.8/site-packages/xgboost/data.py:250: FutureWarning: pandas.Int64Index is deprecated and will be removed from pandas in a future version. Use pandas.Index with the appropriate dtype instead.\n",
      "  elif isinstance(data.columns, (pd.Int64Index, pd.RangeIndex)):\n"
     ]
    },
    {
     "name": "stdout",
     "output_type": "stream",
     "text": [
      "[13:28:08] WARNING: ../src/learner.cc:1115: Starting in XGBoost 1.3.0, the default evaluation metric used with the objective 'binary:logistic' was changed from 'error' to 'logloss'. Explicitly set eval_metric if you'd like to restore the old behavior.\n",
      "[13:28:08] WARNING: ../src/learner.cc:1115: Starting in XGBoost 1.3.0, the default evaluation metric used with the objective 'binary:logistic' was changed from 'error' to 'logloss'. Explicitly set eval_metric if you'd like to restore the old behavior.\n"
     ]
    },
    {
     "name": "stderr",
     "output_type": "stream",
     "text": [
      "\u001B[32m[I 2022-05-19 13:28:09,045]\u001B[0m Trial 10 finished with value: 0.4528301886792453 and parameters: {'n_estimators': 99, 'max_depth': 20, 'min_child_weight': 10, 'learning_rate': 0.01, 'scale_pos_weight': 52, 'subsample': 0.6, 'colsample_bytree': 0.5}. Best is trial 0 with value: 0.4528301886792453.\u001B[0m\n",
      "/Users/aidev_yyc_mac/opt/anaconda3/envs/yyc/lib/python3.8/site-packages/xgboost/data.py:250: FutureWarning: pandas.Int64Index is deprecated and will be removed from pandas in a future version. Use pandas.Index with the appropriate dtype instead.\n",
      "  elif isinstance(data.columns, (pd.Int64Index, pd.RangeIndex)):\n",
      "\u001B[32m[I 2022-05-19 13:28:09,192]\u001B[0m Trial 11 finished with value: 0.4528301886792453 and parameters: {'n_estimators': 75, 'max_depth': 12, 'min_child_weight': 9, 'learning_rate': 0.01, 'scale_pos_weight': 38, 'subsample': 0.7, 'colsample_bytree': 0.7}. Best is trial 0 with value: 0.4528301886792453.\u001B[0m\n",
      "/Users/aidev_yyc_mac/opt/anaconda3/envs/yyc/lib/python3.8/site-packages/xgboost/data.py:250: FutureWarning: pandas.Int64Index is deprecated and will be removed from pandas in a future version. Use pandas.Index with the appropriate dtype instead.\n",
      "  elif isinstance(data.columns, (pd.Int64Index, pd.RangeIndex)):\n"
     ]
    },
    {
     "name": "stdout",
     "output_type": "stream",
     "text": [
      "[13:28:09] WARNING: ../src/learner.cc:1115: Starting in XGBoost 1.3.0, the default evaluation metric used with the objective 'binary:logistic' was changed from 'error' to 'logloss'. Explicitly set eval_metric if you'd like to restore the old behavior.\n",
      "[13:28:09] WARNING: ../src/learner.cc:1115: Starting in XGBoost 1.3.0, the default evaluation metric used with the objective 'binary:logistic' was changed from 'error' to 'logloss'. Explicitly set eval_metric if you'd like to restore the old behavior.\n"
     ]
    },
    {
     "name": "stderr",
     "output_type": "stream",
     "text": [
      "\u001B[32m[I 2022-05-19 13:28:09,359]\u001B[0m Trial 12 finished with value: 0.4528301886792453 and parameters: {'n_estimators': 29, 'max_depth': 15, 'min_child_weight': 8, 'learning_rate': 0.060000000000000005, 'scale_pos_weight': 2, 'subsample': 0.8, 'colsample_bytree': 0.8}. Best is trial 0 with value: 0.4528301886792453.\u001B[0m\n",
      "/Users/aidev_yyc_mac/opt/anaconda3/envs/yyc/lib/python3.8/site-packages/xgboost/data.py:250: FutureWarning: pandas.Int64Index is deprecated and will be removed from pandas in a future version. Use pandas.Index with the appropriate dtype instead.\n",
      "  elif isinstance(data.columns, (pd.Int64Index, pd.RangeIndex)):\n",
      "\u001B[32m[I 2022-05-19 13:28:09,503]\u001B[0m Trial 13 finished with value: 0.4528301886792453 and parameters: {'n_estimators': 82, 'max_depth': 8, 'min_child_weight': 1, 'learning_rate': 0.09999999999999999, 'scale_pos_weight': 31, 'subsample': 0.6, 'colsample_bytree': 0.8}. Best is trial 0 with value: 0.4528301886792453.\u001B[0m\n",
      "/Users/aidev_yyc_mac/opt/anaconda3/envs/yyc/lib/python3.8/site-packages/xgboost/data.py:250: FutureWarning: pandas.Int64Index is deprecated and will be removed from pandas in a future version. Use pandas.Index with the appropriate dtype instead.\n",
      "  elif isinstance(data.columns, (pd.Int64Index, pd.RangeIndex)):\n"
     ]
    },
    {
     "name": "stdout",
     "output_type": "stream",
     "text": [
      "[13:28:09] WARNING: ../src/learner.cc:1115: Starting in XGBoost 1.3.0, the default evaluation metric used with the objective 'binary:logistic' was changed from 'error' to 'logloss'. Explicitly set eval_metric if you'd like to restore the old behavior.\n",
      "[13:28:09] WARNING: ../src/learner.cc:1115: Starting in XGBoost 1.3.0, the default evaluation metric used with the objective 'binary:logistic' was changed from 'error' to 'logloss'. Explicitly set eval_metric if you'd like to restore the old behavior.\n"
     ]
    },
    {
     "name": "stderr",
     "output_type": "stream",
     "text": [
      "\u001B[32m[I 2022-05-19 13:28:09,658]\u001B[0m Trial 14 finished with value: 0.4528301886792453 and parameters: {'n_estimators': 44, 'max_depth': 10, 'min_child_weight': 13, 'learning_rate': 0.03, 'scale_pos_weight': 10, 'subsample': 0.7, 'colsample_bytree': 0.6}. Best is trial 0 with value: 0.4528301886792453.\u001B[0m\n",
      "/Users/aidev_yyc_mac/opt/anaconda3/envs/yyc/lib/python3.8/site-packages/xgboost/data.py:250: FutureWarning: pandas.Int64Index is deprecated and will be removed from pandas in a future version. Use pandas.Index with the appropriate dtype instead.\n",
      "  elif isinstance(data.columns, (pd.Int64Index, pd.RangeIndex)):\n",
      "\u001B[32m[I 2022-05-19 13:28:09,841]\u001B[0m Trial 15 finished with value: 0.4528301886792453 and parameters: {'n_estimators': 57, 'max_depth': 16, 'min_child_weight': 13, 'learning_rate': 0.05, 'scale_pos_weight': 43, 'subsample': 0.8, 'colsample_bytree': 0.7}. Best is trial 0 with value: 0.4528301886792453.\u001B[0m\n",
      "/Users/aidev_yyc_mac/opt/anaconda3/envs/yyc/lib/python3.8/site-packages/xgboost/data.py:250: FutureWarning: pandas.Int64Index is deprecated and will be removed from pandas in a future version. Use pandas.Index with the appropriate dtype instead.\n",
      "  elif isinstance(data.columns, (pd.Int64Index, pd.RangeIndex)):\n"
     ]
    },
    {
     "name": "stdout",
     "output_type": "stream",
     "text": [
      "[13:28:09] WARNING: ../src/learner.cc:1115: Starting in XGBoost 1.3.0, the default evaluation metric used with the objective 'binary:logistic' was changed from 'error' to 'logloss'. Explicitly set eval_metric if you'd like to restore the old behavior.\n",
      "[13:28:09] WARNING: ../src/learner.cc:1115: Starting in XGBoost 1.3.0, the default evaluation metric used with the objective 'binary:logistic' was changed from 'error' to 'logloss'. Explicitly set eval_metric if you'd like to restore the old behavior.\n"
     ]
    },
    {
     "name": "stderr",
     "output_type": "stream",
     "text": [
      "\u001B[32m[I 2022-05-19 13:28:09,986]\u001B[0m Trial 16 finished with value: 0.4528301886792453 and parameters: {'n_estimators': 83, 'max_depth': 13, 'min_child_weight': 20, 'learning_rate': 0.02, 'scale_pos_weight': 28, 'subsample': 0.5, 'colsample_bytree': 0.8}. Best is trial 0 with value: 0.4528301886792453.\u001B[0m\n",
      "/Users/aidev_yyc_mac/opt/anaconda3/envs/yyc/lib/python3.8/site-packages/xgboost/data.py:250: FutureWarning: pandas.Int64Index is deprecated and will be removed from pandas in a future version. Use pandas.Index with the appropriate dtype instead.\n",
      "  elif isinstance(data.columns, (pd.Int64Index, pd.RangeIndex)):\n",
      "\u001B[32m[I 2022-05-19 13:28:10,135]\u001B[0m Trial 17 finished with value: 0.4528301886792453 and parameters: {'n_estimators': 41, 'max_depth': 10, 'min_child_weight': 12, 'learning_rate': 0.03, 'scale_pos_weight': 9, 'subsample': 0.7, 'colsample_bytree': 0.6}. Best is trial 0 with value: 0.4528301886792453.\u001B[0m\n",
      "/Users/aidev_yyc_mac/opt/anaconda3/envs/yyc/lib/python3.8/site-packages/xgboost/data.py:250: FutureWarning: pandas.Int64Index is deprecated and will be removed from pandas in a future version. Use pandas.Index with the appropriate dtype instead.\n",
      "  elif isinstance(data.columns, (pd.Int64Index, pd.RangeIndex)):\n"
     ]
    },
    {
     "name": "stdout",
     "output_type": "stream",
     "text": [
      "[13:28:10] WARNING: ../src/learner.cc:1115: Starting in XGBoost 1.3.0, the default evaluation metric used with the objective 'binary:logistic' was changed from 'error' to 'logloss'. Explicitly set eval_metric if you'd like to restore the old behavior.\n",
      "[13:28:10] WARNING: ../src/learner.cc:1115: Starting in XGBoost 1.3.0, the default evaluation metric used with the objective 'binary:logistic' was changed from 'error' to 'logloss'. Explicitly set eval_metric if you'd like to restore the old behavior.\n"
     ]
    },
    {
     "name": "stderr",
     "output_type": "stream",
     "text": [
      "\u001B[32m[I 2022-05-19 13:28:10,285]\u001B[0m Trial 18 finished with value: 0.4528301886792453 and parameters: {'n_estimators': 56, 'max_depth': 18, 'min_child_weight': 14, 'learning_rate': 0.05, 'scale_pos_weight': 66, 'subsample': 0.8, 'colsample_bytree': 0.7}. Best is trial 0 with value: 0.4528301886792453.\u001B[0m\n",
      "/Users/aidev_yyc_mac/opt/anaconda3/envs/yyc/lib/python3.8/site-packages/xgboost/data.py:250: FutureWarning: pandas.Int64Index is deprecated and will be removed from pandas in a future version. Use pandas.Index with the appropriate dtype instead.\n",
      "  elif isinstance(data.columns, (pd.Int64Index, pd.RangeIndex)):\n",
      "\u001B[32m[I 2022-05-19 13:28:10,473]\u001B[0m Trial 19 finished with value: 0.4528301886792453 and parameters: {'n_estimators': 86, 'max_depth': 14, 'min_child_weight': 20, 'learning_rate': 0.02, 'scale_pos_weight': 32, 'subsample': 0.5, 'colsample_bytree': 0.5}. Best is trial 0 with value: 0.4528301886792453.\u001B[0m\n",
      "/Users/aidev_yyc_mac/opt/anaconda3/envs/yyc/lib/python3.8/site-packages/xgboost/data.py:250: FutureWarning: pandas.Int64Index is deprecated and will be removed from pandas in a future version. Use pandas.Index with the appropriate dtype instead.\n",
      "  elif isinstance(data.columns, (pd.Int64Index, pd.RangeIndex)):\n"
     ]
    },
    {
     "name": "stdout",
     "output_type": "stream",
     "text": [
      "[13:28:10] WARNING: ../src/learner.cc:1115: Starting in XGBoost 1.3.0, the default evaluation metric used with the objective 'binary:logistic' was changed from 'error' to 'logloss'. Explicitly set eval_metric if you'd like to restore the old behavior.\n",
      "[13:28:10] WARNING: ../src/learner.cc:1115: Starting in XGBoost 1.3.0, the default evaluation metric used with the objective 'binary:logistic' was changed from 'error' to 'logloss'. Explicitly set eval_metric if you'd like to restore the old behavior.\n"
     ]
    },
    {
     "name": "stderr",
     "output_type": "stream",
     "text": [
      "\u001B[32m[I 2022-05-19 13:28:10,626]\u001B[0m Trial 20 finished with value: 0.4528301886792453 and parameters: {'n_estimators': 72, 'max_depth': 10, 'min_child_weight': 7, 'learning_rate': 0.03, 'scale_pos_weight': 65, 'subsample': 0.6, 'colsample_bytree': 0.6}. Best is trial 0 with value: 0.4528301886792453.\u001B[0m\n",
      "/Users/aidev_yyc_mac/opt/anaconda3/envs/yyc/lib/python3.8/site-packages/xgboost/data.py:250: FutureWarning: pandas.Int64Index is deprecated and will be removed from pandas in a future version. Use pandas.Index with the appropriate dtype instead.\n",
      "  elif isinstance(data.columns, (pd.Int64Index, pd.RangeIndex)):\n",
      "\u001B[32m[I 2022-05-19 13:28:10,780]\u001B[0m Trial 21 finished with value: 0.4528301886792453 and parameters: {'n_estimators': 50, 'max_depth': 19, 'min_child_weight': 12, 'learning_rate': 0.05, 'scale_pos_weight': 68, 'subsample': 0.7, 'colsample_bytree': 0.7}. Best is trial 0 with value: 0.4528301886792453.\u001B[0m\n",
      "/Users/aidev_yyc_mac/opt/anaconda3/envs/yyc/lib/python3.8/site-packages/xgboost/data.py:250: FutureWarning: pandas.Int64Index is deprecated and will be removed from pandas in a future version. Use pandas.Index with the appropriate dtype instead.\n",
      "  elif isinstance(data.columns, (pd.Int64Index, pd.RangeIndex)):\n"
     ]
    },
    {
     "name": "stdout",
     "output_type": "stream",
     "text": [
      "[13:28:10] WARNING: ../src/learner.cc:1115: Starting in XGBoost 1.3.0, the default evaluation metric used with the objective 'binary:logistic' was changed from 'error' to 'logloss'. Explicitly set eval_metric if you'd like to restore the old behavior.\n",
      "[13:28:10] WARNING: ../src/learner.cc:1115: Starting in XGBoost 1.3.0, the default evaluation metric used with the objective 'binary:logistic' was changed from 'error' to 'logloss'. Explicitly set eval_metric if you'd like to restore the old behavior.\n"
     ]
    },
    {
     "name": "stderr",
     "output_type": "stream",
     "text": [
      "\u001B[32m[I 2022-05-19 13:28:10,942]\u001B[0m Trial 22 finished with value: 0.4528301886792453 and parameters: {'n_estimators': 88, 'max_depth': 18, 'min_child_weight': 20, 'learning_rate': 0.02, 'scale_pos_weight': 97, 'subsample': 0.5, 'colsample_bytree': 0.5}. Best is trial 0 with value: 0.4528301886792453.\u001B[0m\n",
      "/Users/aidev_yyc_mac/opt/anaconda3/envs/yyc/lib/python3.8/site-packages/xgboost/data.py:250: FutureWarning: pandas.Int64Index is deprecated and will be removed from pandas in a future version. Use pandas.Index with the appropriate dtype instead.\n",
      "  elif isinstance(data.columns, (pd.Int64Index, pd.RangeIndex)):\n"
     ]
    },
    {
     "name": "stdout",
     "output_type": "stream",
     "text": [
      "[13:28:10] WARNING: ../src/learner.cc:1115: Starting in XGBoost 1.3.0, the default evaluation metric used with the objective 'binary:logistic' was changed from 'error' to 'logloss'. Explicitly set eval_metric if you'd like to restore the old behavior.\n"
     ]
    },
    {
     "name": "stderr",
     "output_type": "stream",
     "text": [
      "\u001B[32m[I 2022-05-19 13:28:11,175]\u001B[0m Trial 23 finished with value: 0.4528301886792453 and parameters: {'n_estimators': 72, 'max_depth': 14, 'min_child_weight': 6, 'learning_rate': 0.02, 'scale_pos_weight': 59, 'subsample': 0.6, 'colsample_bytree': 0.5}. Best is trial 0 with value: 0.4528301886792453.\u001B[0m\n",
      "/Users/aidev_yyc_mac/opt/anaconda3/envs/yyc/lib/python3.8/site-packages/xgboost/data.py:250: FutureWarning: pandas.Int64Index is deprecated and will be removed from pandas in a future version. Use pandas.Index with the appropriate dtype instead.\n",
      "  elif isinstance(data.columns, (pd.Int64Index, pd.RangeIndex)):\n",
      "\u001B[32m[I 2022-05-19 13:28:11,355]\u001B[0m Trial 24 finished with value: 0.4528301886792453 and parameters: {'n_estimators': 67, 'max_depth': 20, 'min_child_weight': 11, 'learning_rate': 0.04, 'scale_pos_weight': 70, 'subsample': 0.6, 'colsample_bytree': 0.6}. Best is trial 0 with value: 0.4528301886792453.\u001B[0m\n",
      "/Users/aidev_yyc_mac/opt/anaconda3/envs/yyc/lib/python3.8/site-packages/xgboost/data.py:250: FutureWarning: pandas.Int64Index is deprecated and will be removed from pandas in a future version. Use pandas.Index with the appropriate dtype instead.\n",
      "  elif isinstance(data.columns, (pd.Int64Index, pd.RangeIndex)):\n"
     ]
    },
    {
     "name": "stdout",
     "output_type": "stream",
     "text": [
      "[13:28:11] WARNING: ../src/learner.cc:1115: Starting in XGBoost 1.3.0, the default evaluation metric used with the objective 'binary:logistic' was changed from 'error' to 'logloss'. Explicitly set eval_metric if you'd like to restore the old behavior.\n",
      "[13:28:11] WARNING: ../src/learner.cc:1115: Starting in XGBoost 1.3.0, the default evaluation metric used with the objective 'binary:logistic' was changed from 'error' to 'logloss'. Explicitly set eval_metric if you'd like to restore the old behavior.\n"
     ]
    },
    {
     "name": "stderr",
     "output_type": "stream",
     "text": [
      "\u001B[32m[I 2022-05-19 13:28:11,519]\u001B[0m Trial 25 finished with value: 0.4528301886792453 and parameters: {'n_estimators': 90, 'max_depth': 18, 'min_child_weight': 15, 'learning_rate': 0.01, 'scale_pos_weight': 98, 'subsample': 0.5, 'colsample_bytree': 0.5}. Best is trial 0 with value: 0.4528301886792453.\u001B[0m\n",
      "/Users/aidev_yyc_mac/opt/anaconda3/envs/yyc/lib/python3.8/site-packages/xgboost/data.py:250: FutureWarning: pandas.Int64Index is deprecated and will be removed from pandas in a future version. Use pandas.Index with the appropriate dtype instead.\n",
      "  elif isinstance(data.columns, (pd.Int64Index, pd.RangeIndex)):\n",
      "\u001B[32m[I 2022-05-19 13:28:11,665]\u001B[0m Trial 26 finished with value: 0.4528301886792453 and parameters: {'n_estimators': 78, 'max_depth': 15, 'min_child_weight': 2, 'learning_rate': 0.02, 'scale_pos_weight': 92, 'subsample': 0.6, 'colsample_bytree': 0.5}. Best is trial 0 with value: 0.4528301886792453.\u001B[0m\n",
      "/Users/aidev_yyc_mac/opt/anaconda3/envs/yyc/lib/python3.8/site-packages/xgboost/data.py:250: FutureWarning: pandas.Int64Index is deprecated and will be removed from pandas in a future version. Use pandas.Index with the appropriate dtype instead.\n",
      "  elif isinstance(data.columns, (pd.Int64Index, pd.RangeIndex)):\n"
     ]
    },
    {
     "name": "stdout",
     "output_type": "stream",
     "text": [
      "[13:28:11] WARNING: ../src/learner.cc:1115: Starting in XGBoost 1.3.0, the default evaluation metric used with the objective 'binary:logistic' was changed from 'error' to 'logloss'. Explicitly set eval_metric if you'd like to restore the old behavior.\n",
      "[13:28:11] WARNING: ../src/learner.cc:1115: Starting in XGBoost 1.3.0, the default evaluation metric used with the objective 'binary:logistic' was changed from 'error' to 'logloss'. Explicitly set eval_metric if you'd like to restore the old behavior.\n"
     ]
    },
    {
     "name": "stderr",
     "output_type": "stream",
     "text": [
      "\u001B[32m[I 2022-05-19 13:28:11,819]\u001B[0m Trial 27 finished with value: 0.4528301886792453 and parameters: {'n_estimators': 69, 'max_depth': 20, 'min_child_weight': 7, 'learning_rate': 0.04, 'scale_pos_weight': 56, 'subsample': 0.6, 'colsample_bytree': 0.6}. Best is trial 0 with value: 0.4528301886792453.\u001B[0m\n",
      "/Users/aidev_yyc_mac/opt/anaconda3/envs/yyc/lib/python3.8/site-packages/xgboost/data.py:250: FutureWarning: pandas.Int64Index is deprecated and will be removed from pandas in a future version. Use pandas.Index with the appropriate dtype instead.\n",
      "  elif isinstance(data.columns, (pd.Int64Index, pd.RangeIndex)):\n",
      "\u001B[32m[I 2022-05-19 13:28:11,979]\u001B[0m Trial 28 finished with value: 0.4528301886792453 and parameters: {'n_estimators': 92, 'max_depth': 17, 'min_child_weight': 10, 'learning_rate': 0.01, 'scale_pos_weight': 90, 'subsample': 0.5, 'colsample_bytree': 0.6}. Best is trial 0 with value: 0.4528301886792453.\u001B[0m\n",
      "/Users/aidev_yyc_mac/opt/anaconda3/envs/yyc/lib/python3.8/site-packages/xgboost/data.py:250: FutureWarning: pandas.Int64Index is deprecated and will be removed from pandas in a future version. Use pandas.Index with the appropriate dtype instead.\n",
      "  elif isinstance(data.columns, (pd.Int64Index, pd.RangeIndex)):\n"
     ]
    },
    {
     "name": "stdout",
     "output_type": "stream",
     "text": [
      "[13:28:11] WARNING: ../src/learner.cc:1115: Starting in XGBoost 1.3.0, the default evaluation metric used with the objective 'binary:logistic' was changed from 'error' to 'logloss'. Explicitly set eval_metric if you'd like to restore the old behavior.\n",
      "[13:28:11] WARNING: ../src/learner.cc:1115: Starting in XGBoost 1.3.0, the default evaluation metric used with the objective 'binary:logistic' was changed from 'error' to 'logloss'. Explicitly set eval_metric if you'd like to restore the old behavior.\n"
     ]
    },
    {
     "name": "stderr",
     "output_type": "stream",
     "text": [
      "\u001B[32m[I 2022-05-19 13:28:12,132]\u001B[0m Trial 29 finished with value: 0.4528301886792453 and parameters: {'n_estimators': 79, 'max_depth': 16, 'min_child_weight': 3, 'learning_rate': 0.01, 'scale_pos_weight': 97, 'subsample': 0.5, 'colsample_bytree': 0.5}. Best is trial 0 with value: 0.4528301886792453.\u001B[0m\n",
      "/Users/aidev_yyc_mac/opt/anaconda3/envs/yyc/lib/python3.8/site-packages/xgboost/data.py:250: FutureWarning: pandas.Int64Index is deprecated and will be removed from pandas in a future version. Use pandas.Index with the appropriate dtype instead.\n",
      "  elif isinstance(data.columns, (pd.Int64Index, pd.RangeIndex)):\n",
      "\u001B[32m[I 2022-05-19 13:28:12,293]\u001B[0m Trial 30 finished with value: 0.4528301886792453 and parameters: {'n_estimators': 65, 'max_depth': 15, 'min_child_weight': 1, 'learning_rate': 0.04, 'scale_pos_weight': 75, 'subsample': 0.6, 'colsample_bytree': 0.6}. Best is trial 0 with value: 0.4528301886792453.\u001B[0m\n",
      "/Users/aidev_yyc_mac/opt/anaconda3/envs/yyc/lib/python3.8/site-packages/xgboost/data.py:250: FutureWarning: pandas.Int64Index is deprecated and will be removed from pandas in a future version. Use pandas.Index with the appropriate dtype instead.\n",
      "  elif isinstance(data.columns, (pd.Int64Index, pd.RangeIndex)):\n"
     ]
    },
    {
     "name": "stdout",
     "output_type": "stream",
     "text": [
      "[13:28:12] WARNING: ../src/learner.cc:1115: Starting in XGBoost 1.3.0, the default evaluation metric used with the objective 'binary:logistic' was changed from 'error' to 'logloss'. Explicitly set eval_metric if you'd like to restore the old behavior.\n",
      "[13:28:12] WARNING: ../src/learner.cc:1115: Starting in XGBoost 1.3.0, the default evaluation metric used with the objective 'binary:logistic' was changed from 'error' to 'logloss'. Explicitly set eval_metric if you'd like to restore the old behavior.\n"
     ]
    },
    {
     "name": "stderr",
     "output_type": "stream",
     "text": [
      "\u001B[32m[I 2022-05-19 13:28:12,452]\u001B[0m Trial 31 finished with value: 0.4528301886792453 and parameters: {'n_estimators': 93, 'max_depth': 17, 'min_child_weight': 9, 'learning_rate': 0.02, 'scale_pos_weight': 89, 'subsample': 0.6, 'colsample_bytree': 0.6}. Best is trial 0 with value: 0.4528301886792453.\u001B[0m\n",
      "/Users/aidev_yyc_mac/opt/anaconda3/envs/yyc/lib/python3.8/site-packages/xgboost/data.py:250: FutureWarning: pandas.Int64Index is deprecated and will be removed from pandas in a future version. Use pandas.Index with the appropriate dtype instead.\n",
      "  elif isinstance(data.columns, (pd.Int64Index, pd.RangeIndex)):\n",
      "\u001B[32m[I 2022-05-19 13:28:12,599]\u001B[0m Trial 32 finished with value: 0.4528301886792453 and parameters: {'n_estimators': 79, 'max_depth': 17, 'min_child_weight': 3, 'learning_rate': 0.01, 'scale_pos_weight': 93, 'subsample': 0.5, 'colsample_bytree': 0.7}. Best is trial 0 with value: 0.4528301886792453.\u001B[0m\n",
      "/Users/aidev_yyc_mac/opt/anaconda3/envs/yyc/lib/python3.8/site-packages/xgboost/data.py:250: FutureWarning: pandas.Int64Index is deprecated and will be removed from pandas in a future version. Use pandas.Index with the appropriate dtype instead.\n",
      "  elif isinstance(data.columns, (pd.Int64Index, pd.RangeIndex)):\n"
     ]
    },
    {
     "name": "stdout",
     "output_type": "stream",
     "text": [
      "[13:28:12] WARNING: ../src/learner.cc:1115: Starting in XGBoost 1.3.0, the default evaluation metric used with the objective 'binary:logistic' was changed from 'error' to 'logloss'. Explicitly set eval_metric if you'd like to restore the old behavior.\n",
      "[13:28:12] WARNING: ../src/learner.cc:1115: Starting in XGBoost 1.3.0, the default evaluation metric used with the objective 'binary:logistic' was changed from 'error' to 'logloss'. Explicitly set eval_metric if you'd like to restore the old behavior.\n"
     ]
    },
    {
     "name": "stderr",
     "output_type": "stream",
     "text": [
      "\u001B[32m[I 2022-05-19 13:28:12,758]\u001B[0m Trial 33 finished with value: 0.4528301886792453 and parameters: {'n_estimators': 93, 'max_depth': 16, 'min_child_weight': 1, 'learning_rate': 0.01, 'scale_pos_weight': 75, 'subsample': 0.5, 'colsample_bytree': 0.6}. Best is trial 0 with value: 0.4528301886792453.\u001B[0m\n",
      "/Users/aidev_yyc_mac/opt/anaconda3/envs/yyc/lib/python3.8/site-packages/xgboost/data.py:250: FutureWarning: pandas.Int64Index is deprecated and will be removed from pandas in a future version. Use pandas.Index with the appropriate dtype instead.\n",
      "  elif isinstance(data.columns, (pd.Int64Index, pd.RangeIndex)):\n",
      "\u001B[32m[I 2022-05-19 13:28:12,914]\u001B[0m Trial 34 finished with value: 0.4528301886792453 and parameters: {'n_estimators': 100, 'max_depth': 12, 'min_child_weight': 3, 'learning_rate': 0.03, 'scale_pos_weight': 88, 'subsample': 0.7, 'colsample_bytree': 0.5}. Best is trial 0 with value: 0.4528301886792453.\u001B[0m\n",
      "/Users/aidev_yyc_mac/opt/anaconda3/envs/yyc/lib/python3.8/site-packages/xgboost/data.py:250: FutureWarning: pandas.Int64Index is deprecated and will be removed from pandas in a future version. Use pandas.Index with the appropriate dtype instead.\n",
      "  elif isinstance(data.columns, (pd.Int64Index, pd.RangeIndex)):\n"
     ]
    },
    {
     "name": "stdout",
     "output_type": "stream",
     "text": [
      "[13:28:12] WARNING: ../src/learner.cc:1115: Starting in XGBoost 1.3.0, the default evaluation metric used with the objective 'binary:logistic' was changed from 'error' to 'logloss'. Explicitly set eval_metric if you'd like to restore the old behavior.\n",
      "[13:28:12] WARNING: ../src/learner.cc:1115: Starting in XGBoost 1.3.0, the default evaluation metric used with the objective 'binary:logistic' was changed from 'error' to 'logloss'. Explicitly set eval_metric if you'd like to restore the old behavior.\n"
     ]
    },
    {
     "name": "stderr",
     "output_type": "stream",
     "text": [
      "\u001B[32m[I 2022-05-19 13:28:13,098]\u001B[0m Trial 35 finished with value: 0.4528301886792453 and parameters: {'n_estimators': 51, 'max_depth': 9, 'min_child_weight': 18, 'learning_rate': 0.060000000000000005, 'scale_pos_weight': 64, 'subsample': 0.7, 'colsample_bytree': 0.7}. Best is trial 0 with value: 0.4528301886792453.\u001B[0m\n",
      "/Users/aidev_yyc_mac/opt/anaconda3/envs/yyc/lib/python3.8/site-packages/xgboost/data.py:250: FutureWarning: pandas.Int64Index is deprecated and will be removed from pandas in a future version. Use pandas.Index with the appropriate dtype instead.\n",
      "  elif isinstance(data.columns, (pd.Int64Index, pd.RangeIndex)):\n",
      "\u001B[32m[I 2022-05-19 13:28:13,238]\u001B[0m Trial 36 finished with value: 0.4528301886792453 and parameters: {'n_estimators': 35, 'max_depth': 19, 'min_child_weight': 7, 'learning_rate': 0.05, 'scale_pos_weight': 40, 'subsample': 0.7, 'colsample_bytree': 0.7}. Best is trial 0 with value: 0.4528301886792453.\u001B[0m\n",
      "/Users/aidev_yyc_mac/opt/anaconda3/envs/yyc/lib/python3.8/site-packages/xgboost/data.py:250: FutureWarning: pandas.Int64Index is deprecated and will be removed from pandas in a future version. Use pandas.Index with the appropriate dtype instead.\n",
      "  elif isinstance(data.columns, (pd.Int64Index, pd.RangeIndex)):\n"
     ]
    },
    {
     "name": "stdout",
     "output_type": "stream",
     "text": [
      "[13:28:13] WARNING: ../src/learner.cc:1115: Starting in XGBoost 1.3.0, the default evaluation metric used with the objective 'binary:logistic' was changed from 'error' to 'logloss'. Explicitly set eval_metric if you'd like to restore the old behavior.\n",
      "[13:28:13] WARNING: ../src/learner.cc:1115: Starting in XGBoost 1.3.0, the default evaluation metric used with the objective 'binary:logistic' was changed from 'error' to 'logloss'. Explicitly set eval_metric if you'd like to restore the old behavior.\n"
     ]
    },
    {
     "name": "stderr",
     "output_type": "stream",
     "text": [
      "\u001B[32m[I 2022-05-19 13:28:13,404]\u001B[0m Trial 37 finished with value: 0.4528301886792453 and parameters: {'n_estimators': 88, 'max_depth': 19, 'min_child_weight': 11, 'learning_rate': 0.03, 'scale_pos_weight': 77, 'subsample': 0.7, 'colsample_bytree': 0.7}. Best is trial 0 with value: 0.4528301886792453.\u001B[0m\n",
      "/Users/aidev_yyc_mac/opt/anaconda3/envs/yyc/lib/python3.8/site-packages/xgboost/data.py:250: FutureWarning: pandas.Int64Index is deprecated and will be removed from pandas in a future version. Use pandas.Index with the appropriate dtype instead.\n",
      "  elif isinstance(data.columns, (pd.Int64Index, pd.RangeIndex)):\n",
      "\u001B[32m[I 2022-05-19 13:28:13,621]\u001B[0m Trial 38 finished with value: 0.4528301886792453 and parameters: {'n_estimators': 51, 'max_depth': 13, 'min_child_weight': 5, 'learning_rate': 0.02, 'scale_pos_weight': 61, 'subsample': 0.9, 'colsample_bytree': 0.9}. Best is trial 0 with value: 0.4528301886792453.\u001B[0m\n"
     ]
    },
    {
     "name": "stdout",
     "output_type": "stream",
     "text": [
      "[13:28:13] WARNING: ../src/learner.cc:1115: Starting in XGBoost 1.3.0, the default evaluation metric used with the objective 'binary:logistic' was changed from 'error' to 'logloss'. Explicitly set eval_metric if you'd like to restore the old behavior.\n"
     ]
    },
    {
     "name": "stderr",
     "output_type": "stream",
     "text": [
      "/Users/aidev_yyc_mac/opt/anaconda3/envs/yyc/lib/python3.8/site-packages/xgboost/data.py:250: FutureWarning: pandas.Int64Index is deprecated and will be removed from pandas in a future version. Use pandas.Index with the appropriate dtype instead.\n",
      "  elif isinstance(data.columns, (pd.Int64Index, pd.RangeIndex)):\n",
      "\u001B[32m[I 2022-05-19 13:28:13,784]\u001B[0m Trial 39 finished with value: 0.4528301886792453 and parameters: {'n_estimators': 17, 'max_depth': 18, 'min_child_weight': 18, 'learning_rate': 0.06999999999999999, 'scale_pos_weight': 57, 'subsample': 0.8, 'colsample_bytree': 0.5}. Best is trial 0 with value: 0.4528301886792453.\u001B[0m\n",
      "/Users/aidev_yyc_mac/opt/anaconda3/envs/yyc/lib/python3.8/site-packages/xgboost/data.py:250: FutureWarning: pandas.Int64Index is deprecated and will be removed from pandas in a future version. Use pandas.Index with the appropriate dtype instead.\n",
      "  elif isinstance(data.columns, (pd.Int64Index, pd.RangeIndex)):\n"
     ]
    },
    {
     "name": "stdout",
     "output_type": "stream",
     "text": [
      "[13:28:13] WARNING: ../src/learner.cc:1115: Starting in XGBoost 1.3.0, the default evaluation metric used with the objective 'binary:logistic' was changed from 'error' to 'logloss'. Explicitly set eval_metric if you'd like to restore the old behavior.\n",
      "[13:28:13] WARNING: ../src/learner.cc:1115: Starting in XGBoost 1.3.0, the default evaluation metric used with the objective 'binary:logistic' was changed from 'error' to 'logloss'. Explicitly set eval_metric if you'd like to restore the old behavior.\n"
     ]
    },
    {
     "name": "stderr",
     "output_type": "stream",
     "text": [
      "\u001B[32m[I 2022-05-19 13:28:13,999]\u001B[0m Trial 40 finished with value: 0.4528301886792453 and parameters: {'n_estimators': 66, 'max_depth': 14, 'min_child_weight': 11, 'learning_rate': 0.02, 'scale_pos_weight': 49, 'subsample': 0.6, 'colsample_bytree': 0.5}. Best is trial 0 with value: 0.4528301886792453.\u001B[0m\n",
      "/Users/aidev_yyc_mac/opt/anaconda3/envs/yyc/lib/python3.8/site-packages/xgboost/data.py:250: FutureWarning: pandas.Int64Index is deprecated and will be removed from pandas in a future version. Use pandas.Index with the appropriate dtype instead.\n",
      "  elif isinstance(data.columns, (pd.Int64Index, pd.RangeIndex)):\n"
     ]
    },
    {
     "name": "stdout",
     "output_type": "stream",
     "text": [
      "[13:28:14] WARNING: ../src/learner.cc:1115: Starting in XGBoost 1.3.0, the default evaluation metric used with the objective 'binary:logistic' was changed from 'error' to 'logloss'. Explicitly set eval_metric if you'd like to restore the old behavior.\n"
     ]
    },
    {
     "name": "stderr",
     "output_type": "stream",
     "text": [
      "\u001B[32m[I 2022-05-19 13:28:14,241]\u001B[0m Trial 41 finished with value: 0.4528301886792453 and parameters: {'n_estimators': 87, 'max_depth': 18, 'min_child_weight': 15, 'learning_rate': 0.02, 'scale_pos_weight': 99, 'subsample': 0.5, 'colsample_bytree': 0.5}. Best is trial 0 with value: 0.4528301886792453.\u001B[0m\n",
      "/Users/aidev_yyc_mac/opt/anaconda3/envs/yyc/lib/python3.8/site-packages/xgboost/data.py:250: FutureWarning: pandas.Int64Index is deprecated and will be removed from pandas in a future version. Use pandas.Index with the appropriate dtype instead.\n",
      "  elif isinstance(data.columns, (pd.Int64Index, pd.RangeIndex)):\n",
      "\u001B[32m[I 2022-05-19 13:28:14,383]\u001B[0m Trial 42 finished with value: 0.4528301886792453 and parameters: {'n_estimators': 75, 'max_depth': 15, 'min_child_weight': 6, 'learning_rate': 0.04, 'scale_pos_weight': 71, 'subsample': 0.6, 'colsample_bytree': 0.5}. Best is trial 0 with value: 0.4528301886792453.\u001B[0m\n",
      "/Users/aidev_yyc_mac/opt/anaconda3/envs/yyc/lib/python3.8/site-packages/xgboost/data.py:250: FutureWarning: pandas.Int64Index is deprecated and will be removed from pandas in a future version. Use pandas.Index with the appropriate dtype instead.\n",
      "  elif isinstance(data.columns, (pd.Int64Index, pd.RangeIndex)):\n"
     ]
    },
    {
     "name": "stdout",
     "output_type": "stream",
     "text": [
      "[13:28:14] WARNING: ../src/learner.cc:1115: Starting in XGBoost 1.3.0, the default evaluation metric used with the objective 'binary:logistic' was changed from 'error' to 'logloss'. Explicitly set eval_metric if you'd like to restore the old behavior.\n",
      "[13:28:14] WARNING: ../src/learner.cc:1115: Starting in XGBoost 1.3.0, the default evaluation metric used with the objective 'binary:logistic' was changed from 'error' to 'logloss'. Explicitly set eval_metric if you'd like to restore the old behavior.\n"
     ]
    },
    {
     "name": "stderr",
     "output_type": "stream",
     "text": [
      "\u001B[32m[I 2022-05-19 13:28:14,559]\u001B[0m Trial 43 finished with value: 0.4528301886792453 and parameters: {'n_estimators': 78, 'max_depth': 20, 'min_child_weight': 4, 'learning_rate': 0.01, 'scale_pos_weight': 80, 'subsample': 0.6, 'colsample_bytree': 0.5}. Best is trial 0 with value: 0.4528301886792453.\u001B[0m\n",
      "/Users/aidev_yyc_mac/opt/anaconda3/envs/yyc/lib/python3.8/site-packages/xgboost/data.py:250: FutureWarning: pandas.Int64Index is deprecated and will be removed from pandas in a future version. Use pandas.Index with the appropriate dtype instead.\n",
      "  elif isinstance(data.columns, (pd.Int64Index, pd.RangeIndex)):\n",
      "\u001B[32m[I 2022-05-19 13:28:14,704]\u001B[0m Trial 44 finished with value: 0.4528301886792453 and parameters: {'n_estimators': 67, 'max_depth': 20, 'min_child_weight': 9, 'learning_rate': 0.04, 'scale_pos_weight': 85, 'subsample': 0.6, 'colsample_bytree': 0.6}. Best is trial 0 with value: 0.4528301886792453.\u001B[0m\n",
      "/Users/aidev_yyc_mac/opt/anaconda3/envs/yyc/lib/python3.8/site-packages/xgboost/data.py:250: FutureWarning: pandas.Int64Index is deprecated and will be removed from pandas in a future version. Use pandas.Index with the appropriate dtype instead.\n",
      "  elif isinstance(data.columns, (pd.Int64Index, pd.RangeIndex)):\n"
     ]
    },
    {
     "name": "stdout",
     "output_type": "stream",
     "text": [
      "[13:28:14] WARNING: ../src/learner.cc:1115: Starting in XGBoost 1.3.0, the default evaluation metric used with the objective 'binary:logistic' was changed from 'error' to 'logloss'. Explicitly set eval_metric if you'd like to restore the old behavior.\n",
      "[13:28:14] WARNING: ../src/learner.cc:1115: Starting in XGBoost 1.3.0, the default evaluation metric used with the objective 'binary:logistic' was changed from 'error' to 'logloss'. Explicitly set eval_metric if you'd like to restore the old behavior.\n"
     ]
    },
    {
     "name": "stderr",
     "output_type": "stream",
     "text": [
      "\u001B[32m[I 2022-05-19 13:28:14,866]\u001B[0m Trial 45 finished with value: 0.4528301886792453 and parameters: {'n_estimators': 70, 'max_depth': 20, 'min_child_weight': 15, 'learning_rate': 0.04, 'scale_pos_weight': 55, 'subsample': 0.6, 'colsample_bytree': 0.6}. Best is trial 0 with value: 0.4528301886792453.\u001B[0m\n",
      "/Users/aidev_yyc_mac/opt/anaconda3/envs/yyc/lib/python3.8/site-packages/xgboost/data.py:250: FutureWarning: pandas.Int64Index is deprecated and will be removed from pandas in a future version. Use pandas.Index with the appropriate dtype instead.\n",
      "  elif isinstance(data.columns, (pd.Int64Index, pd.RangeIndex)):\n",
      "\u001B[32m[I 2022-05-19 13:28:15,036]\u001B[0m Trial 46 finished with value: 0.4528301886792453 and parameters: {'n_estimators': 92, 'max_depth': 17, 'min_child_weight': 10, 'learning_rate': 0.01, 'scale_pos_weight': 92, 'subsample': 0.5, 'colsample_bytree': 0.6}. Best is trial 0 with value: 0.4528301886792453.\u001B[0m\n",
      "/Users/aidev_yyc_mac/opt/anaconda3/envs/yyc/lib/python3.8/site-packages/xgboost/data.py:250: FutureWarning: pandas.Int64Index is deprecated and will be removed from pandas in a future version. Use pandas.Index with the appropriate dtype instead.\n",
      "  elif isinstance(data.columns, (pd.Int64Index, pd.RangeIndex)):\n"
     ]
    },
    {
     "name": "stdout",
     "output_type": "stream",
     "text": [
      "[13:28:14] WARNING: ../src/learner.cc:1115: Starting in XGBoost 1.3.0, the default evaluation metric used with the objective 'binary:logistic' was changed from 'error' to 'logloss'. Explicitly set eval_metric if you'd like to restore the old behavior.\n",
      "[13:28:15] WARNING: ../src/learner.cc:1115: Starting in XGBoost 1.3.0, the default evaluation metric used with the objective 'binary:logistic' was changed from 'error' to 'logloss'. Explicitly set eval_metric if you'd like to restore the old behavior.\n"
     ]
    },
    {
     "name": "stderr",
     "output_type": "stream",
     "text": [
      "\u001B[32m[I 2022-05-19 13:28:15,208]\u001B[0m Trial 47 finished with value: 0.4528301886792453 and parameters: {'n_estimators': 94, 'max_depth': 16, 'min_child_weight': 12, 'learning_rate': 0.01, 'scale_pos_weight': 17, 'subsample': 0.5, 'colsample_bytree': 0.5}. Best is trial 0 with value: 0.4528301886792453.\u001B[0m\n",
      "/Users/aidev_yyc_mac/opt/anaconda3/envs/yyc/lib/python3.8/site-packages/xgboost/data.py:250: FutureWarning: pandas.Int64Index is deprecated and will be removed from pandas in a future version. Use pandas.Index with the appropriate dtype instead.\n",
      "  elif isinstance(data.columns, (pd.Int64Index, pd.RangeIndex)):\n",
      "\u001B[32m[I 2022-05-19 13:28:15,397]\u001B[0m Trial 48 finished with value: 0.4528301886792453 and parameters: {'n_estimators': 83, 'max_depth': 16, 'min_child_weight': 2, 'learning_rate': 0.03, 'scale_pos_weight': 84, 'subsample': 0.5, 'colsample_bytree': 0.8}. Best is trial 0 with value: 0.4528301886792453.\u001B[0m\n",
      "/Users/aidev_yyc_mac/opt/anaconda3/envs/yyc/lib/python3.8/site-packages/xgboost/data.py:250: FutureWarning: pandas.Int64Index is deprecated and will be removed from pandas in a future version. Use pandas.Index with the appropriate dtype instead.\n",
      "  elif isinstance(data.columns, (pd.Int64Index, pd.RangeIndex)):\n"
     ]
    },
    {
     "name": "stdout",
     "output_type": "stream",
     "text": [
      "[13:28:15] WARNING: ../src/learner.cc:1115: Starting in XGBoost 1.3.0, the default evaluation metric used with the objective 'binary:logistic' was changed from 'error' to 'logloss'. Explicitly set eval_metric if you'd like to restore the old behavior.\n",
      "[13:28:15] WARNING: ../src/learner.cc:1115: Starting in XGBoost 1.3.0, the default evaluation metric used with the objective 'binary:logistic' was changed from 'error' to 'logloss'. Explicitly set eval_metric if you'd like to restore the old behavior.\n"
     ]
    },
    {
     "name": "stderr",
     "output_type": "stream",
     "text": [
      "\u001B[32m[I 2022-05-19 13:28:15,557]\u001B[0m Trial 49 finished with value: 0.4528301886792453 and parameters: {'n_estimators': 61, 'max_depth': 13, 'min_child_weight': 3, 'learning_rate': 0.01, 'scale_pos_weight': 94, 'subsample': 0.5, 'colsample_bytree': 0.6}. Best is trial 0 with value: 0.4528301886792453.\u001B[0m\n",
      "/Users/aidev_yyc_mac/opt/anaconda3/envs/yyc/lib/python3.8/site-packages/xgboost/data.py:250: FutureWarning: pandas.Int64Index is deprecated and will be removed from pandas in a future version. Use pandas.Index with the appropriate dtype instead.\n",
      "  elif isinstance(data.columns, (pd.Int64Index, pd.RangeIndex)):\n",
      "\u001B[32m[I 2022-05-19 13:28:15,708]\u001B[0m Trial 50 finished with value: 0.4528301886792453 and parameters: {'n_estimators': 96, 'max_depth': 12, 'min_child_weight': 8, 'learning_rate': 0.060000000000000005, 'scale_pos_weight': 75, 'subsample': 0.5, 'colsample_bytree': 0.6}. Best is trial 0 with value: 0.4528301886792453.\u001B[0m\n",
      "/Users/aidev_yyc_mac/opt/anaconda3/envs/yyc/lib/python3.8/site-packages/xgboost/data.py:250: FutureWarning: pandas.Int64Index is deprecated and will be removed from pandas in a future version. Use pandas.Index with the appropriate dtype instead.\n",
      "  elif isinstance(data.columns, (pd.Int64Index, pd.RangeIndex)):\n"
     ]
    },
    {
     "name": "stdout",
     "output_type": "stream",
     "text": [
      "[13:28:15] WARNING: ../src/learner.cc:1115: Starting in XGBoost 1.3.0, the default evaluation metric used with the objective 'binary:logistic' was changed from 'error' to 'logloss'. Explicitly set eval_metric if you'd like to restore the old behavior.\n",
      "[13:28:15] WARNING: ../src/learner.cc:1115: Starting in XGBoost 1.3.0, the default evaluation metric used with the objective 'binary:logistic' was changed from 'error' to 'logloss'. Explicitly set eval_metric if you'd like to restore the old behavior.\n"
     ]
    },
    {
     "name": "stderr",
     "output_type": "stream",
     "text": [
      "\u001B[32m[I 2022-05-19 13:28:15,947]\u001B[0m Trial 51 finished with value: 0.4528301886792453 and parameters: {'n_estimators': 82, 'max_depth': 17, 'min_child_weight': 9, 'learning_rate': 0.02, 'scale_pos_weight': 88, 'subsample': 0.6, 'colsample_bytree': 0.6}. Best is trial 0 with value: 0.4528301886792453.\u001B[0m\n",
      "/Users/aidev_yyc_mac/opt/anaconda3/envs/yyc/lib/python3.8/site-packages/xgboost/data.py:250: FutureWarning: pandas.Int64Index is deprecated and will be removed from pandas in a future version. Use pandas.Index with the appropriate dtype instead.\n",
      "  elif isinstance(data.columns, (pd.Int64Index, pd.RangeIndex)):\n",
      "\u001B[32m[I 2022-05-19 13:28:16,171]\u001B[0m Trial 52 finished with value: 0.4528301886792453 and parameters: {'n_estimators': 77, 'max_depth': 17, 'min_child_weight': 2, 'learning_rate': 0.01, 'scale_pos_weight': 90, 'subsample': 0.5, 'colsample_bytree': 0.7}. Best is trial 0 with value: 0.4528301886792453.\u001B[0m\n"
     ]
    },
    {
     "name": "stdout",
     "output_type": "stream",
     "text": [
      "[13:28:15] WARNING: ../src/learner.cc:1115: Starting in XGBoost 1.3.0, the default evaluation metric used with the objective 'binary:logistic' was changed from 'error' to 'logloss'. Explicitly set eval_metric if you'd like to restore the old behavior.\n"
     ]
    },
    {
     "name": "stderr",
     "output_type": "stream",
     "text": [
      "/Users/aidev_yyc_mac/opt/anaconda3/envs/yyc/lib/python3.8/site-packages/xgboost/data.py:250: FutureWarning: pandas.Int64Index is deprecated and will be removed from pandas in a future version. Use pandas.Index with the appropriate dtype instead.\n",
      "  elif isinstance(data.columns, (pd.Int64Index, pd.RangeIndex)):\n",
      "\u001B[32m[I 2022-05-19 13:28:16,321]\u001B[0m Trial 53 finished with value: 0.4528301886792453 and parameters: {'n_estimators': 97, 'max_depth': 15, 'min_child_weight': 4, 'learning_rate': 0.01, 'scale_pos_weight': 95, 'subsample': 0.5, 'colsample_bytree': 0.7}. Best is trial 0 with value: 0.4528301886792453.\u001B[0m\n",
      "/Users/aidev_yyc_mac/opt/anaconda3/envs/yyc/lib/python3.8/site-packages/xgboost/data.py:250: FutureWarning: pandas.Int64Index is deprecated and will be removed from pandas in a future version. Use pandas.Index with the appropriate dtype instead.\n",
      "  elif isinstance(data.columns, (pd.Int64Index, pd.RangeIndex)):\n"
     ]
    },
    {
     "name": "stdout",
     "output_type": "stream",
     "text": [
      "[13:28:16] WARNING: ../src/learner.cc:1115: Starting in XGBoost 1.3.0, the default evaluation metric used with the objective 'binary:logistic' was changed from 'error' to 'logloss'. Explicitly set eval_metric if you'd like to restore the old behavior.\n",
      "[13:28:16] WARNING: ../src/learner.cc:1115: Starting in XGBoost 1.3.0, the default evaluation metric used with the objective 'binary:logistic' was changed from 'error' to 'logloss'. Explicitly set eval_metric if you'd like to restore the old behavior.\n"
     ]
    },
    {
     "name": "stderr",
     "output_type": "stream",
     "text": [
      "\u001B[32m[I 2022-05-19 13:28:16,500]\u001B[0m Trial 54 finished with value: 0.4528301886792453 and parameters: {'n_estimators': 83, 'max_depth': 16, 'min_child_weight': 1, 'learning_rate': 0.02, 'scale_pos_weight': 74, 'subsample': 0.5, 'colsample_bytree': 0.8}. Best is trial 0 with value: 0.4528301886792453.\u001B[0m\n",
      "/Users/aidev_yyc_mac/opt/anaconda3/envs/yyc/lib/python3.8/site-packages/xgboost/data.py:250: FutureWarning: pandas.Int64Index is deprecated and will be removed from pandas in a future version. Use pandas.Index with the appropriate dtype instead.\n",
      "  elif isinstance(data.columns, (pd.Int64Index, pd.RangeIndex)):\n",
      "\u001B[32m[I 2022-05-19 13:28:16,650]\u001B[0m Trial 55 finished with value: 0.4528301886792453 and parameters: {'n_estimators': 80, 'max_depth': 16, 'min_child_weight': 1, 'learning_rate': 0.01, 'scale_pos_weight': 100, 'subsample': 0.5, 'colsample_bytree': 0.7}. Best is trial 0 with value: 0.4528301886792453.\u001B[0m\n",
      "/Users/aidev_yyc_mac/opt/anaconda3/envs/yyc/lib/python3.8/site-packages/xgboost/data.py:250: FutureWarning: pandas.Int64Index is deprecated and will be removed from pandas in a future version. Use pandas.Index with the appropriate dtype instead.\n",
      "  elif isinstance(data.columns, (pd.Int64Index, pd.RangeIndex)):\n"
     ]
    },
    {
     "name": "stdout",
     "output_type": "stream",
     "text": [
      "[13:28:16] WARNING: ../src/learner.cc:1115: Starting in XGBoost 1.3.0, the default evaluation metric used with the objective 'binary:logistic' was changed from 'error' to 'logloss'. Explicitly set eval_metric if you'd like to restore the old behavior.\n",
      "[13:28:16] WARNING: ../src/learner.cc:1115: Starting in XGBoost 1.3.0, the default evaluation metric used with the objective 'binary:logistic' was changed from 'error' to 'logloss'. Explicitly set eval_metric if you'd like to restore the old behavior.\n"
     ]
    },
    {
     "name": "stderr",
     "output_type": "stream",
     "text": [
      "\u001B[32m[I 2022-05-19 13:28:16,810]\u001B[0m Trial 56 finished with value: 0.4528301886792453 and parameters: {'n_estimators': 99, 'max_depth': 11, 'min_child_weight': 3, 'learning_rate': 0.03, 'scale_pos_weight': 79, 'subsample': 0.7, 'colsample_bytree': 0.7}. Best is trial 0 with value: 0.4528301886792453.\u001B[0m\n",
      "/Users/aidev_yyc_mac/opt/anaconda3/envs/yyc/lib/python3.8/site-packages/xgboost/data.py:250: FutureWarning: pandas.Int64Index is deprecated and will be removed from pandas in a future version. Use pandas.Index with the appropriate dtype instead.\n",
      "  elif isinstance(data.columns, (pd.Int64Index, pd.RangeIndex)):\n",
      "\u001B[32m[I 2022-05-19 13:28:16,980]\u001B[0m Trial 57 finished with value: 0.4528301886792453 and parameters: {'n_estimators': 99, 'max_depth': 14, 'min_child_weight': 2, 'learning_rate': 0.03, 'scale_pos_weight': 82, 'subsample': 0.7, 'colsample_bytree': 0.6}. Best is trial 0 with value: 0.4528301886792453.\u001B[0m\n",
      "/Users/aidev_yyc_mac/opt/anaconda3/envs/yyc/lib/python3.8/site-packages/xgboost/data.py:250: FutureWarning: pandas.Int64Index is deprecated and will be removed from pandas in a future version. Use pandas.Index with the appropriate dtype instead.\n",
      "  elif isinstance(data.columns, (pd.Int64Index, pd.RangeIndex)):\n"
     ]
    },
    {
     "name": "stdout",
     "output_type": "stream",
     "text": [
      "[13:28:16] WARNING: ../src/learner.cc:1115: Starting in XGBoost 1.3.0, the default evaluation metric used with the objective 'binary:logistic' was changed from 'error' to 'logloss'. Explicitly set eval_metric if you'd like to restore the old behavior.\n",
      "[13:28:16] WARNING: ../src/learner.cc:1115: Starting in XGBoost 1.3.0, the default evaluation metric used with the objective 'binary:logistic' was changed from 'error' to 'logloss'. Explicitly set eval_metric if you'd like to restore the old behavior.\n"
     ]
    },
    {
     "name": "stderr",
     "output_type": "stream",
     "text": [
      "\u001B[32m[I 2022-05-19 13:28:17,128]\u001B[0m Trial 58 finished with value: 0.4528301886792453 and parameters: {'n_estimators': 94, 'max_depth': 6, 'min_child_weight': 18, 'learning_rate': 0.060000000000000005, 'scale_pos_weight': 64, 'subsample': 0.7, 'colsample_bytree': 0.8}. Best is trial 0 with value: 0.4528301886792453.\u001B[0m\n",
      "/Users/aidev_yyc_mac/opt/anaconda3/envs/yyc/lib/python3.8/site-packages/xgboost/data.py:250: FutureWarning: pandas.Int64Index is deprecated and will be removed from pandas in a future version. Use pandas.Index with the appropriate dtype instead.\n",
      "  elif isinstance(data.columns, (pd.Int64Index, pd.RangeIndex)):\n",
      "\u001B[32m[I 2022-05-19 13:28:17,323]\u001B[0m Trial 59 finished with value: 0.4528301886792453 and parameters: {'n_estimators': 7, 'max_depth': 8, 'min_child_weight': 4, 'learning_rate': 0.08, 'scale_pos_weight': 88, 'subsample': 0.8, 'colsample_bytree': 0.7}. Best is trial 0 with value: 0.4528301886792453.\u001B[0m\n"
     ]
    },
    {
     "name": "stdout",
     "output_type": "stream",
     "text": [
      "[13:28:17] WARNING: ../src/learner.cc:1115: Starting in XGBoost 1.3.0, the default evaluation metric used with the objective 'binary:logistic' was changed from 'error' to 'logloss'. Explicitly set eval_metric if you'd like to restore the old behavior.\n"
     ]
    },
    {
     "name": "stderr",
     "output_type": "stream",
     "text": [
      "/Users/aidev_yyc_mac/opt/anaconda3/envs/yyc/lib/python3.8/site-packages/xgboost/data.py:250: FutureWarning: pandas.Int64Index is deprecated and will be removed from pandas in a future version. Use pandas.Index with the appropriate dtype instead.\n",
      "  elif isinstance(data.columns, (pd.Int64Index, pd.RangeIndex)):\n",
      "\u001B[32m[I 2022-05-19 13:28:17,523]\u001B[0m Trial 60 finished with value: 0.4528301886792453 and parameters: {'n_estimators': 34, 'max_depth': 9, 'min_child_weight': 5, 'learning_rate': 0.06999999999999999, 'scale_pos_weight': 45, 'subsample': 0.7, 'colsample_bytree': 0.7}. Best is trial 0 with value: 0.4528301886792453.\u001B[0m\n",
      "/Users/aidev_yyc_mac/opt/anaconda3/envs/yyc/lib/python3.8/site-packages/xgboost/data.py:250: FutureWarning: pandas.Int64Index is deprecated and will be removed from pandas in a future version. Use pandas.Index with the appropriate dtype instead.\n",
      "  elif isinstance(data.columns, (pd.Int64Index, pd.RangeIndex)):\n"
     ]
    },
    {
     "name": "stdout",
     "output_type": "stream",
     "text": [
      "[13:28:17] WARNING: ../src/learner.cc:1115: Starting in XGBoost 1.3.0, the default evaluation metric used with the objective 'binary:logistic' was changed from 'error' to 'logloss'. Explicitly set eval_metric if you'd like to restore the old behavior.\n",
      "[13:28:17] WARNING: ../src/learner.cc:1115: Starting in XGBoost 1.3.0, the default evaluation metric used with the objective 'binary:logistic' was changed from 'error' to 'logloss'. Explicitly set eval_metric if you'd like to restore the old behavior.\n"
     ]
    },
    {
     "name": "stderr",
     "output_type": "stream",
     "text": [
      "\u001B[32m[I 2022-05-19 13:28:17,683]\u001B[0m Trial 61 finished with value: 0.4528301886792453 and parameters: {'n_estimators': 31, 'max_depth': 19, 'min_child_weight': 14, 'learning_rate': 0.05, 'scale_pos_weight': 37, 'subsample': 0.7, 'colsample_bytree': 0.7}. Best is trial 0 with value: 0.4528301886792453.\u001B[0m\n",
      "/Users/aidev_yyc_mac/opt/anaconda3/envs/yyc/lib/python3.8/site-packages/xgboost/data.py:250: FutureWarning: pandas.Int64Index is deprecated and will be removed from pandas in a future version. Use pandas.Index with the appropriate dtype instead.\n",
      "  elif isinstance(data.columns, (pd.Int64Index, pd.RangeIndex)):\n",
      "\u001B[32m[I 2022-05-19 13:28:17,858]\u001B[0m Trial 62 finished with value: 0.4528301886792453 and parameters: {'n_estimators': 50, 'max_depth': 11, 'min_child_weight': 6, 'learning_rate': 0.060000000000000005, 'scale_pos_weight': 64, 'subsample': 0.9, 'colsample_bytree': 0.9}. Best is trial 0 with value: 0.4528301886792453.\u001B[0m\n",
      "/Users/aidev_yyc_mac/opt/anaconda3/envs/yyc/lib/python3.8/site-packages/xgboost/data.py:250: FutureWarning: pandas.Int64Index is deprecated and will be removed from pandas in a future version. Use pandas.Index with the appropriate dtype instead.\n",
      "  elif isinstance(data.columns, (pd.Int64Index, pd.RangeIndex)):\n"
     ]
    },
    {
     "name": "stdout",
     "output_type": "stream",
     "text": [
      "[13:28:17] WARNING: ../src/learner.cc:1115: Starting in XGBoost 1.3.0, the default evaluation metric used with the objective 'binary:logistic' was changed from 'error' to 'logloss'. Explicitly set eval_metric if you'd like to restore the old behavior.\n",
      "[13:28:17] WARNING: ../src/learner.cc:1115: Starting in XGBoost 1.3.0, the default evaluation metric used with the objective 'binary:logistic' was changed from 'error' to 'logloss'. Explicitly set eval_metric if you'd like to restore the old behavior.\n"
     ]
    },
    {
     "name": "stderr",
     "output_type": "stream",
     "text": [
      "\u001B[32m[I 2022-05-19 13:28:18,016]\u001B[0m Trial 63 finished with value: 0.4528301886792453 and parameters: {'n_estimators': 36, 'max_depth': 13, 'min_child_weight': 5, 'learning_rate': 0.03, 'scale_pos_weight': 60, 'subsample': 0.9, 'colsample_bytree': 0.9}. Best is trial 0 with value: 0.4528301886792453.\u001B[0m\n",
      "/Users/aidev_yyc_mac/opt/anaconda3/envs/yyc/lib/python3.8/site-packages/xgboost/data.py:250: FutureWarning: pandas.Int64Index is deprecated and will be removed from pandas in a future version. Use pandas.Index with the appropriate dtype instead.\n",
      "  elif isinstance(data.columns, (pd.Int64Index, pd.RangeIndex)):\n",
      "\u001B[32m[I 2022-05-19 13:28:18,166]\u001B[0m Trial 64 finished with value: 0.4528301886792453 and parameters: {'n_estimators': 19, 'max_depth': 19, 'min_child_weight': 19, 'learning_rate': 0.06999999999999999, 'scale_pos_weight': 6, 'subsample': 0.8, 'colsample_bytree': 0.9}. Best is trial 0 with value: 0.4528301886792453.\u001B[0m\n",
      "/Users/aidev_yyc_mac/opt/anaconda3/envs/yyc/lib/python3.8/site-packages/xgboost/data.py:250: FutureWarning: pandas.Int64Index is deprecated and will be removed from pandas in a future version. Use pandas.Index with the appropriate dtype instead.\n",
      "  elif isinstance(data.columns, (pd.Int64Index, pd.RangeIndex)):\n"
     ]
    },
    {
     "name": "stdout",
     "output_type": "stream",
     "text": [
      "[13:28:18] WARNING: ../src/learner.cc:1115: Starting in XGBoost 1.3.0, the default evaluation metric used with the objective 'binary:logistic' was changed from 'error' to 'logloss'. Explicitly set eval_metric if you'd like to restore the old behavior.\n",
      "[13:28:18] WARNING: ../src/learner.cc:1115: Starting in XGBoost 1.3.0, the default evaluation metric used with the objective 'binary:logistic' was changed from 'error' to 'logloss'. Explicitly set eval_metric if you'd like to restore the old behavior.\n"
     ]
    },
    {
     "name": "stderr",
     "output_type": "stream",
     "text": [
      "\u001B[32m[I 2022-05-19 13:28:18,319]\u001B[0m Trial 65 finished with value: 0.4528301886792453 and parameters: {'n_estimators': 40, 'max_depth': 7, 'min_child_weight': 17, 'learning_rate': 0.06999999999999999, 'scale_pos_weight': 61, 'subsample': 0.8, 'colsample_bytree': 0.8}. Best is trial 0 with value: 0.4528301886792453.\u001B[0m\n",
      "/Users/aidev_yyc_mac/opt/anaconda3/envs/yyc/lib/python3.8/site-packages/xgboost/data.py:250: FutureWarning: pandas.Int64Index is deprecated and will be removed from pandas in a future version. Use pandas.Index with the appropriate dtype instead.\n",
      "  elif isinstance(data.columns, (pd.Int64Index, pd.RangeIndex)):\n",
      "\u001B[32m[I 2022-05-19 13:28:18,483]\u001B[0m Trial 66 finished with value: 0.4528301886792453 and parameters: {'n_estimators': 23, 'max_depth': 19, 'min_child_weight': 11, 'learning_rate': 0.06999999999999999, 'scale_pos_weight': 48, 'subsample': 0.9, 'colsample_bytree': 0.7}. Best is trial 0 with value: 0.4528301886792453.\u001B[0m\n",
      "/Users/aidev_yyc_mac/opt/anaconda3/envs/yyc/lib/python3.8/site-packages/xgboost/data.py:250: FutureWarning: pandas.Int64Index is deprecated and will be removed from pandas in a future version. Use pandas.Index with the appropriate dtype instead.\n",
      "  elif isinstance(data.columns, (pd.Int64Index, pd.RangeIndex)):\n"
     ]
    },
    {
     "name": "stdout",
     "output_type": "stream",
     "text": [
      "[13:28:18] WARNING: ../src/learner.cc:1115: Starting in XGBoost 1.3.0, the default evaluation metric used with the objective 'binary:logistic' was changed from 'error' to 'logloss'. Explicitly set eval_metric if you'd like to restore the old behavior.\n",
      "[13:28:18] WARNING: ../src/learner.cc:1115: Starting in XGBoost 1.3.0, the default evaluation metric used with the objective 'binary:logistic' was changed from 'error' to 'logloss'. Explicitly set eval_metric if you'd like to restore the old behavior.\n"
     ]
    },
    {
     "name": "stderr",
     "output_type": "stream",
     "text": [
      "\u001B[32m[I 2022-05-19 13:28:18,641]\u001B[0m Trial 67 finished with value: 0.4528301886792453 and parameters: {'n_estimators': 47, 'max_depth': 9, 'min_child_weight': 17, 'learning_rate': 0.08, 'scale_pos_weight': 42, 'subsample': 0.8, 'colsample_bytree': 0.7}. Best is trial 0 with value: 0.4528301886792453.\u001B[0m\n",
      "/Users/aidev_yyc_mac/opt/anaconda3/envs/yyc/lib/python3.8/site-packages/xgboost/data.py:250: FutureWarning: pandas.Int64Index is deprecated and will be removed from pandas in a future version. Use pandas.Index with the appropriate dtype instead.\n",
      "  elif isinstance(data.columns, (pd.Int64Index, pd.RangeIndex)):\n",
      "\u001B[32m[I 2022-05-19 13:28:18,794]\u001B[0m Trial 68 finished with value: 0.4528301886792453 and parameters: {'n_estimators': 15, 'max_depth': 18, 'min_child_weight': 13, 'learning_rate': 0.09, 'scale_pos_weight': 54, 'subsample': 0.9, 'colsample_bytree': 0.5}. Best is trial 0 with value: 0.4528301886792453.\u001B[0m\n",
      "/Users/aidev_yyc_mac/opt/anaconda3/envs/yyc/lib/python3.8/site-packages/xgboost/data.py:250: FutureWarning: pandas.Int64Index is deprecated and will be removed from pandas in a future version. Use pandas.Index with the appropriate dtype instead.\n",
      "  elif isinstance(data.columns, (pd.Int64Index, pd.RangeIndex)):\n"
     ]
    },
    {
     "name": "stdout",
     "output_type": "stream",
     "text": [
      "[13:28:18] WARNING: ../src/learner.cc:1115: Starting in XGBoost 1.3.0, the default evaluation metric used with the objective 'binary:logistic' was changed from 'error' to 'logloss'. Explicitly set eval_metric if you'd like to restore the old behavior.\n",
      "[13:28:18] WARNING: ../src/learner.cc:1115: Starting in XGBoost 1.3.0, the default evaluation metric used with the objective 'binary:logistic' was changed from 'error' to 'logloss'. Explicitly set eval_metric if you'd like to restore the old behavior.\n"
     ]
    },
    {
     "name": "stderr",
     "output_type": "stream",
     "text": [
      "\u001B[32m[I 2022-05-19 13:28:18,948]\u001B[0m Trial 69 finished with value: 0.4528301886792453 and parameters: {'n_estimators': 26, 'max_depth': 18, 'min_child_weight': 11, 'learning_rate': 0.02, 'scale_pos_weight': 49, 'subsample': 0.8, 'colsample_bytree': 0.5}. Best is trial 0 with value: 0.4528301886792453.\u001B[0m\n",
      "/Users/aidev_yyc_mac/opt/anaconda3/envs/yyc/lib/python3.8/site-packages/xgboost/data.py:250: FutureWarning: pandas.Int64Index is deprecated and will be removed from pandas in a future version. Use pandas.Index with the appropriate dtype instead.\n",
      "  elif isinstance(data.columns, (pd.Int64Index, pd.RangeIndex)):\n",
      "\u001B[32m[I 2022-05-19 13:28:19,118]\u001B[0m Trial 70 finished with value: 0.4528301886792453 and parameters: {'n_estimators': 86, 'max_depth': 14, 'min_child_weight': 14, 'learning_rate': 0.02, 'scale_pos_weight': 71, 'subsample': 0.9, 'colsample_bytree': 0.5}. Best is trial 0 with value: 0.4528301886792453.\u001B[0m\n",
      "/Users/aidev_yyc_mac/opt/anaconda3/envs/yyc/lib/python3.8/site-packages/xgboost/data.py:250: FutureWarning: pandas.Int64Index is deprecated and will be removed from pandas in a future version. Use pandas.Index with the appropriate dtype instead.\n",
      "  elif isinstance(data.columns, (pd.Int64Index, pd.RangeIndex)):\n"
     ]
    },
    {
     "name": "stdout",
     "output_type": "stream",
     "text": [
      "[13:28:18] WARNING: ../src/learner.cc:1115: Starting in XGBoost 1.3.0, the default evaluation metric used with the objective 'binary:logistic' was changed from 'error' to 'logloss'. Explicitly set eval_metric if you'd like to restore the old behavior.\n",
      "[13:28:19] WARNING: ../src/learner.cc:1115: Starting in XGBoost 1.3.0, the default evaluation metric used with the objective 'binary:logistic' was changed from 'error' to 'logloss'. Explicitly set eval_metric if you'd like to restore the old behavior.\n"
     ]
    },
    {
     "name": "stderr",
     "output_type": "stream",
     "text": [
      "\u001B[32m[I 2022-05-19 13:28:19,370]\u001B[0m Trial 71 finished with value: 0.4528301886792453 and parameters: {'n_estimators': 61, 'max_depth': 12, 'min_child_weight': 8, 'learning_rate': 0.01, 'scale_pos_weight': 85, 'subsample': 0.5, 'colsample_bytree': 0.6}. Best is trial 0 with value: 0.4528301886792453.\u001B[0m\n",
      "/Users/aidev_yyc_mac/opt/anaconda3/envs/yyc/lib/python3.8/site-packages/xgboost/data.py:250: FutureWarning: pandas.Int64Index is deprecated and will be removed from pandas in a future version. Use pandas.Index with the appropriate dtype instead.\n",
      "  elif isinstance(data.columns, (pd.Int64Index, pd.RangeIndex)):\n",
      "\u001B[32m[I 2022-05-19 13:28:19,522]\u001B[0m Trial 72 finished with value: 0.4528301886792453 and parameters: {'n_estimators': 95, 'max_depth': 17, 'min_child_weight': 10, 'learning_rate': 0.01, 'scale_pos_weight': 17, 'subsample': 0.5, 'colsample_bytree': 0.6}. Best is trial 0 with value: 0.4528301886792453.\u001B[0m\n",
      "/Users/aidev_yyc_mac/opt/anaconda3/envs/yyc/lib/python3.8/site-packages/xgboost/data.py:250: FutureWarning: pandas.Int64Index is deprecated and will be removed from pandas in a future version. Use pandas.Index with the appropriate dtype instead.\n",
      "  elif isinstance(data.columns, (pd.Int64Index, pd.RangeIndex)):\n"
     ]
    },
    {
     "name": "stdout",
     "output_type": "stream",
     "text": [
      "[13:28:19] WARNING: ../src/learner.cc:1115: Starting in XGBoost 1.3.0, the default evaluation metric used with the objective 'binary:logistic' was changed from 'error' to 'logloss'. Explicitly set eval_metric if you'd like to restore the old behavior.\n",
      "[13:28:19] WARNING: ../src/learner.cc:1115: Starting in XGBoost 1.3.0, the default evaluation metric used with the objective 'binary:logistic' was changed from 'error' to 'logloss'. Explicitly set eval_metric if you'd like to restore the old behavior.\n"
     ]
    },
    {
     "name": "stderr",
     "output_type": "stream",
     "text": [
      "\u001B[32m[I 2022-05-19 13:28:19,710]\u001B[0m Trial 73 finished with value: 0.4528301886792453 and parameters: {'n_estimators': 90, 'max_depth': 16, 'min_child_weight': 12, 'learning_rate': 0.01, 'scale_pos_weight': 12, 'subsample': 0.5, 'colsample_bytree': 0.6}. Best is trial 0 with value: 0.4528301886792453.\u001B[0m\n",
      "/Users/aidev_yyc_mac/opt/anaconda3/envs/yyc/lib/python3.8/site-packages/xgboost/data.py:250: FutureWarning: pandas.Int64Index is deprecated and will be removed from pandas in a future version. Use pandas.Index with the appropriate dtype instead.\n",
      "  elif isinstance(data.columns, (pd.Int64Index, pd.RangeIndex)):\n",
      "\u001B[32m[I 2022-05-19 13:28:19,912]\u001B[0m Trial 74 finished with value: 0.4528301886792453 and parameters: {'n_estimators': 84, 'max_depth': 15, 'min_child_weight': 2, 'learning_rate': 0.01, 'scale_pos_weight': 86, 'subsample': 0.5, 'colsample_bytree': 0.8}. Best is trial 0 with value: 0.4528301886792453.\u001B[0m\n",
      "/Users/aidev_yyc_mac/opt/anaconda3/envs/yyc/lib/python3.8/site-packages/xgboost/data.py:250: FutureWarning: pandas.Int64Index is deprecated and will be removed from pandas in a future version. Use pandas.Index with the appropriate dtype instead.\n",
      "  elif isinstance(data.columns, (pd.Int64Index, pd.RangeIndex)):\n"
     ]
    },
    {
     "name": "stdout",
     "output_type": "stream",
     "text": [
      "[13:28:19] WARNING: ../src/learner.cc:1115: Starting in XGBoost 1.3.0, the default evaluation metric used with the objective 'binary:logistic' was changed from 'error' to 'logloss'. Explicitly set eval_metric if you'd like to restore the old behavior.\n",
      "[13:28:19] WARNING: ../src/learner.cc:1115: Starting in XGBoost 1.3.0, the default evaluation metric used with the objective 'binary:logistic' was changed from 'error' to 'logloss'. Explicitly set eval_metric if you'd like to restore the old behavior.\n"
     ]
    },
    {
     "name": "stderr",
     "output_type": "stream",
     "text": [
      "\u001B[32m[I 2022-05-19 13:28:20,083]\u001B[0m Trial 75 finished with value: 0.4528301886792453 and parameters: {'n_estimators': 96, 'max_depth': 13, 'min_child_weight': 8, 'learning_rate': 0.02, 'scale_pos_weight': 95, 'subsample': 0.5, 'colsample_bytree': 0.8}. Best is trial 0 with value: 0.4528301886792453.\u001B[0m\n",
      "/Users/aidev_yyc_mac/opt/anaconda3/envs/yyc/lib/python3.8/site-packages/xgboost/data.py:250: FutureWarning: pandas.Int64Index is deprecated and will be removed from pandas in a future version. Use pandas.Index with the appropriate dtype instead.\n",
      "  elif isinstance(data.columns, (pd.Int64Index, pd.RangeIndex)):\n",
      "\u001B[32m[I 2022-05-19 13:28:20,259]\u001B[0m Trial 76 finished with value: 0.4528301886792453 and parameters: {'n_estimators': 75, 'max_depth': 3, 'min_child_weight': 2, 'learning_rate': 0.02, 'scale_pos_weight': 95, 'subsample': 0.5, 'colsample_bytree': 0.8}. Best is trial 0 with value: 0.4528301886792453.\u001B[0m\n",
      "/Users/aidev_yyc_mac/opt/anaconda3/envs/yyc/lib/python3.8/site-packages/xgboost/data.py:250: FutureWarning: pandas.Int64Index is deprecated and will be removed from pandas in a future version. Use pandas.Index with the appropriate dtype instead.\n",
      "  elif isinstance(data.columns, (pd.Int64Index, pd.RangeIndex)):\n"
     ]
    },
    {
     "name": "stdout",
     "output_type": "stream",
     "text": [
      "[13:28:20] WARNING: ../src/learner.cc:1115: Starting in XGBoost 1.3.0, the default evaluation metric used with the objective 'binary:logistic' was changed from 'error' to 'logloss'. Explicitly set eval_metric if you'd like to restore the old behavior.\n",
      "[13:28:20] WARNING: ../src/learner.cc:1115: Starting in XGBoost 1.3.0, the default evaluation metric used with the objective 'binary:logistic' was changed from 'error' to 'logloss'. Explicitly set eval_metric if you'd like to restore the old behavior.\n"
     ]
    },
    {
     "name": "stderr",
     "output_type": "stream",
     "text": [
      "\u001B[32m[I 2022-05-19 13:28:20,408]\u001B[0m Trial 77 finished with value: 0.4528301886792453 and parameters: {'n_estimators': 82, 'max_depth': 15, 'min_child_weight': 2, 'learning_rate': 0.02, 'scale_pos_weight': 83, 'subsample': 0.5, 'colsample_bytree': 0.8}. Best is trial 0 with value: 0.4528301886792453.\u001B[0m\n",
      "/Users/aidev_yyc_mac/opt/anaconda3/envs/yyc/lib/python3.8/site-packages/xgboost/data.py:250: FutureWarning: pandas.Int64Index is deprecated and will be removed from pandas in a future version. Use pandas.Index with the appropriate dtype instead.\n",
      "  elif isinstance(data.columns, (pd.Int64Index, pd.RangeIndex)):\n",
      "\u001B[32m[I 2022-05-19 13:28:20,562]\u001B[0m Trial 78 finished with value: 0.4528301886792453 and parameters: {'n_estimators': 81, 'max_depth': 14, 'min_child_weight': 1, 'learning_rate': 0.01, 'scale_pos_weight': 100, 'subsample': 0.5, 'colsample_bytree': 0.7}. Best is trial 0 with value: 0.4528301886792453.\u001B[0m\n",
      "/Users/aidev_yyc_mac/opt/anaconda3/envs/yyc/lib/python3.8/site-packages/xgboost/data.py:250: FutureWarning: pandas.Int64Index is deprecated and will be removed from pandas in a future version. Use pandas.Index with the appropriate dtype instead.\n",
      "  elif isinstance(data.columns, (pd.Int64Index, pd.RangeIndex)):\n"
     ]
    },
    {
     "name": "stdout",
     "output_type": "stream",
     "text": [
      "[13:28:20] WARNING: ../src/learner.cc:1115: Starting in XGBoost 1.3.0, the default evaluation metric used with the objective 'binary:logistic' was changed from 'error' to 'logloss'. Explicitly set eval_metric if you'd like to restore the old behavior.\n",
      "[13:28:20] WARNING: ../src/learner.cc:1115: Starting in XGBoost 1.3.0, the default evaluation metric used with the objective 'binary:logistic' was changed from 'error' to 'logloss'. Explicitly set eval_metric if you'd like to restore the old behavior.\n"
     ]
    },
    {
     "name": "stderr",
     "output_type": "stream",
     "text": [
      "\u001B[32m[I 2022-05-19 13:28:20,720]\u001B[0m Trial 79 finished with value: 0.4528301886792453 and parameters: {'n_estimators': 98, 'max_depth': 11, 'min_child_weight': 4, 'learning_rate': 0.02, 'scale_pos_weight': 79, 'subsample': 0.5, 'colsample_bytree': 0.7}. Best is trial 0 with value: 0.4528301886792453.\u001B[0m\n",
      "/Users/aidev_yyc_mac/opt/anaconda3/envs/yyc/lib/python3.8/site-packages/xgboost/data.py:250: FutureWarning: pandas.Int64Index is deprecated and will be removed from pandas in a future version. Use pandas.Index with the appropriate dtype instead.\n",
      "  elif isinstance(data.columns, (pd.Int64Index, pd.RangeIndex)):\n",
      "\u001B[32m[I 2022-05-19 13:28:20,873]\u001B[0m Trial 80 finished with value: 0.4528301886792453 and parameters: {'n_estimators': 90, 'max_depth': 16, 'min_child_weight': 1, 'learning_rate': 0.03, 'scale_pos_weight': 81, 'subsample': 0.7, 'colsample_bytree': 0.7}. Best is trial 0 with value: 0.4528301886792453.\u001B[0m\n",
      "/Users/aidev_yyc_mac/opt/anaconda3/envs/yyc/lib/python3.8/site-packages/xgboost/data.py:250: FutureWarning: pandas.Int64Index is deprecated and will be removed from pandas in a future version. Use pandas.Index with the appropriate dtype instead.\n",
      "  elif isinstance(data.columns, (pd.Int64Index, pd.RangeIndex)):\n"
     ]
    },
    {
     "name": "stdout",
     "output_type": "stream",
     "text": [
      "[13:28:20] WARNING: ../src/learner.cc:1115: Starting in XGBoost 1.3.0, the default evaluation metric used with the objective 'binary:logistic' was changed from 'error' to 'logloss'. Explicitly set eval_metric if you'd like to restore the old behavior.\n",
      "[13:28:20] WARNING: ../src/learner.cc:1115: Starting in XGBoost 1.3.0, the default evaluation metric used with the objective 'binary:logistic' was changed from 'error' to 'logloss'. Explicitly set eval_metric if you'd like to restore the old behavior.\n"
     ]
    },
    {
     "name": "stderr",
     "output_type": "stream",
     "text": [
      "\u001B[32m[I 2022-05-19 13:28:21,042]\u001B[0m Trial 81 finished with value: 0.4528301886792453 and parameters: {'n_estimators': 98, 'max_depth': 17, 'min_child_weight': 3, 'learning_rate': 0.03, 'scale_pos_weight': 77, 'subsample': 0.7, 'colsample_bytree': 0.7}. Best is trial 0 with value: 0.4528301886792453.\u001B[0m\n",
      "/Users/aidev_yyc_mac/opt/anaconda3/envs/yyc/lib/python3.8/site-packages/xgboost/data.py:250: FutureWarning: pandas.Int64Index is deprecated and will be removed from pandas in a future version. Use pandas.Index with the appropriate dtype instead.\n",
      "  elif isinstance(data.columns, (pd.Int64Index, pd.RangeIndex)):\n",
      "\u001B[32m[I 2022-05-19 13:28:21,194]\u001B[0m Trial 82 finished with value: 0.4528301886792453 and parameters: {'n_estimators': 100, 'max_depth': 6, 'min_child_weight': 4, 'learning_rate': 0.08, 'scale_pos_weight': 90, 'subsample': 0.7, 'colsample_bytree': 0.7}. Best is trial 0 with value: 0.4528301886792453.\u001B[0m\n",
      "/Users/aidev_yyc_mac/opt/anaconda3/envs/yyc/lib/python3.8/site-packages/xgboost/data.py:250: FutureWarning: pandas.Int64Index is deprecated and will be removed from pandas in a future version. Use pandas.Index with the appropriate dtype instead.\n",
      "  elif isinstance(data.columns, (pd.Int64Index, pd.RangeIndex)):\n"
     ]
    },
    {
     "name": "stdout",
     "output_type": "stream",
     "text": [
      "[13:28:21] WARNING: ../src/learner.cc:1115: Starting in XGBoost 1.3.0, the default evaluation metric used with the objective 'binary:logistic' was changed from 'error' to 'logloss'. Explicitly set eval_metric if you'd like to restore the old behavior.\n",
      "[13:28:21] WARNING: ../src/learner.cc:1115: Starting in XGBoost 1.3.0, the default evaluation metric used with the objective 'binary:logistic' was changed from 'error' to 'logloss'. Explicitly set eval_metric if you'd like to restore the old behavior.\n"
     ]
    },
    {
     "name": "stderr",
     "output_type": "stream",
     "text": [
      "\u001B[32m[I 2022-05-19 13:28:21,350]\u001B[0m Trial 83 finished with value: 0.4528301886792453 and parameters: {'n_estimators': 11, 'max_depth': 5, 'min_child_weight': 4, 'learning_rate': 0.09999999999999999, 'scale_pos_weight': 73, 'subsample': 0.7, 'colsample_bytree': 0.7}. Best is trial 0 with value: 0.4528301886792453.\u001B[0m\n",
      "/Users/aidev_yyc_mac/opt/anaconda3/envs/yyc/lib/python3.8/site-packages/xgboost/data.py:250: FutureWarning: pandas.Int64Index is deprecated and will be removed from pandas in a future version. Use pandas.Index with the appropriate dtype instead.\n",
      "  elif isinstance(data.columns, (pd.Int64Index, pd.RangeIndex)):\n",
      "\u001B[32m[I 2022-05-19 13:28:21,528]\u001B[0m Trial 84 finished with value: 0.4528301886792453 and parameters: {'n_estimators': 0, 'max_depth': 7, 'min_child_weight': 3, 'learning_rate': 0.060000000000000005, 'scale_pos_weight': 23, 'subsample': 0.7, 'colsample_bytree': 0.8}. Best is trial 0 with value: 0.4528301886792453.\u001B[0m\n",
      "/Users/aidev_yyc_mac/opt/anaconda3/envs/yyc/lib/python3.8/site-packages/xgboost/data.py:250: FutureWarning: pandas.Int64Index is deprecated and will be removed from pandas in a future version. Use pandas.Index with the appropriate dtype instead.\n",
      "  elif isinstance(data.columns, (pd.Int64Index, pd.RangeIndex)):\n"
     ]
    },
    {
     "name": "stdout",
     "output_type": "stream",
     "text": [
      "[13:28:21] WARNING: ../src/learner.cc:1115: Starting in XGBoost 1.3.0, the default evaluation metric used with the objective 'binary:logistic' was changed from 'error' to 'logloss'. Explicitly set eval_metric if you'd like to restore the old behavior.\n",
      "[13:28:21] WARNING: ../src/learner.cc:1115: Starting in XGBoost 1.3.0, the default evaluation metric used with the objective 'binary:logistic' was changed from 'error' to 'logloss'. Explicitly set eval_metric if you'd like to restore the old behavior.\n"
     ]
    },
    {
     "name": "stderr",
     "output_type": "stream",
     "text": [
      "\u001B[32m[I 2022-05-19 13:28:21,681]\u001B[0m Trial 85 finished with value: 0.4528301886792453 and parameters: {'n_estimators': 8, 'max_depth': 8, 'min_child_weight': 5, 'learning_rate': 0.09, 'scale_pos_weight': 69, 'subsample': 0.7, 'colsample_bytree': 0.7}. Best is trial 0 with value: 0.4528301886792453.\u001B[0m\n",
      "/Users/aidev_yyc_mac/opt/anaconda3/envs/yyc/lib/python3.8/site-packages/xgboost/data.py:250: FutureWarning: pandas.Int64Index is deprecated and will be removed from pandas in a future version. Use pandas.Index with the appropriate dtype instead.\n",
      "  elif isinstance(data.columns, (pd.Int64Index, pd.RangeIndex)):\n",
      "\u001B[32m[I 2022-05-19 13:28:21,831]\u001B[0m Trial 86 finished with value: 0.4528301886792453 and parameters: {'n_estimators': 30, 'max_depth': 9, 'min_child_weight': 1, 'learning_rate': 0.05, 'scale_pos_weight': 33, 'subsample': 0.7, 'colsample_bytree': 0.7}. Best is trial 0 with value: 0.4528301886792453.\u001B[0m\n",
      "/Users/aidev_yyc_mac/opt/anaconda3/envs/yyc/lib/python3.8/site-packages/xgboost/data.py:250: FutureWarning: pandas.Int64Index is deprecated and will be removed from pandas in a future version. Use pandas.Index with the appropriate dtype instead.\n",
      "  elif isinstance(data.columns, (pd.Int64Index, pd.RangeIndex)):\n"
     ]
    },
    {
     "name": "stdout",
     "output_type": "stream",
     "text": [
      "[13:28:21] WARNING: ../src/learner.cc:1115: Starting in XGBoost 1.3.0, the default evaluation metric used with the objective 'binary:logistic' was changed from 'error' to 'logloss'. Explicitly set eval_metric if you'd like to restore the old behavior.\n",
      "[13:28:21] WARNING: ../src/learner.cc:1115: Starting in XGBoost 1.3.0, the default evaluation metric used with the objective 'binary:logistic' was changed from 'error' to 'logloss'. Explicitly set eval_metric if you'd like to restore the old behavior.\n"
     ]
    },
    {
     "name": "stderr",
     "output_type": "stream",
     "text": [
      "\u001B[32m[I 2022-05-19 13:28:22,010]\u001B[0m Trial 87 finished with value: 0.4528301886792453 and parameters: {'n_estimators': 42, 'max_depth': 11, 'min_child_weight': 6, 'learning_rate': 0.060000000000000005, 'scale_pos_weight': 63, 'subsample': 0.7, 'colsample_bytree': 0.9}. Best is trial 0 with value: 0.4528301886792453.\u001B[0m\n",
      "/Users/aidev_yyc_mac/opt/anaconda3/envs/yyc/lib/python3.8/site-packages/xgboost/data.py:250: FutureWarning: pandas.Int64Index is deprecated and will be removed from pandas in a future version. Use pandas.Index with the appropriate dtype instead.\n",
      "  elif isinstance(data.columns, (pd.Int64Index, pd.RangeIndex)):\n",
      "\u001B[32m[I 2022-05-19 13:28:22,153]\u001B[0m Trial 88 finished with value: 0.4528301886792453 and parameters: {'n_estimators': 37, 'max_depth': 10, 'min_child_weight': 5, 'learning_rate': 0.060000000000000005, 'scale_pos_weight': 45, 'subsample': 0.9, 'colsample_bytree': 0.9}. Best is trial 0 with value: 0.4528301886792453.\u001B[0m\n",
      "/Users/aidev_yyc_mac/opt/anaconda3/envs/yyc/lib/python3.8/site-packages/xgboost/data.py:250: FutureWarning: pandas.Int64Index is deprecated and will be removed from pandas in a future version. Use pandas.Index with the appropriate dtype instead.\n",
      "  elif isinstance(data.columns, (pd.Int64Index, pd.RangeIndex)):\n"
     ]
    },
    {
     "name": "stdout",
     "output_type": "stream",
     "text": [
      "[13:28:22] WARNING: ../src/learner.cc:1115: Starting in XGBoost 1.3.0, the default evaluation metric used with the objective 'binary:logistic' was changed from 'error' to 'logloss'. Explicitly set eval_metric if you'd like to restore the old behavior.\n",
      "[13:28:22] WARNING: ../src/learner.cc:1115: Starting in XGBoost 1.3.0, the default evaluation metric used with the objective 'binary:logistic' was changed from 'error' to 'logloss'. Explicitly set eval_metric if you'd like to restore the old behavior.\n"
     ]
    },
    {
     "name": "stderr",
     "output_type": "stream",
     "text": [
      "\u001B[32m[I 2022-05-19 13:28:22,310]\u001B[0m Trial 89 finished with value: 0.4528301886792453 and parameters: {'n_estimators': 32, 'max_depth': 11, 'min_child_weight': 6, 'learning_rate': 0.08, 'scale_pos_weight': 67, 'subsample': 0.7, 'colsample_bytree': 0.9}. Best is trial 0 with value: 0.4528301886792453.\u001B[0m\n",
      "/Users/aidev_yyc_mac/opt/anaconda3/envs/yyc/lib/python3.8/site-packages/xgboost/data.py:250: FutureWarning: pandas.Int64Index is deprecated and will be removed from pandas in a future version. Use pandas.Index with the appropriate dtype instead.\n",
      "  elif isinstance(data.columns, (pd.Int64Index, pd.RangeIndex)):\n",
      "\u001B[32m[I 2022-05-19 13:28:22,468]\u001B[0m Trial 90 finished with value: 0.4528301886792453 and parameters: {'n_estimators': 6, 'max_depth': 8, 'min_child_weight': 19, 'learning_rate': 0.06999999999999999, 'scale_pos_weight': 5, 'subsample': 0.8, 'colsample_bytree': 0.9}. Best is trial 0 with value: 0.4528301886792453.\u001B[0m\n",
      "/Users/aidev_yyc_mac/opt/anaconda3/envs/yyc/lib/python3.8/site-packages/xgboost/data.py:250: FutureWarning: pandas.Int64Index is deprecated and will be removed from pandas in a future version. Use pandas.Index with the appropriate dtype instead.\n",
      "  elif isinstance(data.columns, (pd.Int64Index, pd.RangeIndex)):\n"
     ]
    },
    {
     "name": "stdout",
     "output_type": "stream",
     "text": [
      "[13:28:22] WARNING: ../src/learner.cc:1115: Starting in XGBoost 1.3.0, the default evaluation metric used with the objective 'binary:logistic' was changed from 'error' to 'logloss'. Explicitly set eval_metric if you'd like to restore the old behavior.\n",
      "[13:28:22] WARNING: ../src/learner.cc:1115: Starting in XGBoost 1.3.0, the default evaluation metric used with the objective 'binary:logistic' was changed from 'error' to 'logloss'. Explicitly set eval_metric if you'd like to restore the old behavior.\n"
     ]
    },
    {
     "name": "stderr",
     "output_type": "stream",
     "text": [
      "\u001B[32m[I 2022-05-19 13:28:22,629]\u001B[0m Trial 91 finished with value: 0.4528301886792453 and parameters: {'n_estimators': 37, 'max_depth': 7, 'min_child_weight': 19, 'learning_rate': 0.06999999999999999, 'scale_pos_weight': 6, 'subsample': 0.8, 'colsample_bytree': 0.9}. Best is trial 0 with value: 0.4528301886792453.\u001B[0m\n",
      "/Users/aidev_yyc_mac/opt/anaconda3/envs/yyc/lib/python3.8/site-packages/xgboost/data.py:250: FutureWarning: pandas.Int64Index is deprecated and will be removed from pandas in a future version. Use pandas.Index with the appropriate dtype instead.\n",
      "  elif isinstance(data.columns, (pd.Int64Index, pd.RangeIndex)):\n",
      "\u001B[32m[I 2022-05-19 13:28:22,812]\u001B[0m Trial 92 finished with value: 0.4528301886792453 and parameters: {'n_estimators': 22, 'max_depth': 7, 'min_child_weight': 17, 'learning_rate': 0.06999999999999999, 'scale_pos_weight': 1, 'subsample': 0.9, 'colsample_bytree': 0.9}. Best is trial 0 with value: 0.4528301886792453.\u001B[0m\n",
      "/Users/aidev_yyc_mac/opt/anaconda3/envs/yyc/lib/python3.8/site-packages/xgboost/data.py:250: FutureWarning: pandas.Int64Index is deprecated and will be removed from pandas in a future version. Use pandas.Index with the appropriate dtype instead.\n",
      "  elif isinstance(data.columns, (pd.Int64Index, pd.RangeIndex)):\n"
     ]
    },
    {
     "name": "stdout",
     "output_type": "stream",
     "text": [
      "[13:28:22] WARNING: ../src/learner.cc:1115: Starting in XGBoost 1.3.0, the default evaluation metric used with the objective 'binary:logistic' was changed from 'error' to 'logloss'. Explicitly set eval_metric if you'd like to restore the old behavior.\n",
      "[13:28:22] WARNING: ../src/learner.cc:1115: Starting in XGBoost 1.3.0, the default evaluation metric used with the objective 'binary:logistic' was changed from 'error' to 'logloss'. Explicitly set eval_metric if you'd like to restore the old behavior.\n"
     ]
    },
    {
     "name": "stderr",
     "output_type": "stream",
     "text": [
      "\u001B[32m[I 2022-05-19 13:28:22,969]\u001B[0m Trial 93 finished with value: 0.4528301886792453 and parameters: {'n_estimators': 25, 'max_depth': 19, 'min_child_weight': 16, 'learning_rate': 0.06999999999999999, 'scale_pos_weight': 46, 'subsample': 0.9, 'colsample_bytree': 0.9}. Best is trial 0 with value: 0.4528301886792453.\u001B[0m\n",
      "/Users/aidev_yyc_mac/opt/anaconda3/envs/yyc/lib/python3.8/site-packages/xgboost/data.py:250: FutureWarning: pandas.Int64Index is deprecated and will be removed from pandas in a future version. Use pandas.Index with the appropriate dtype instead.\n",
      "  elif isinstance(data.columns, (pd.Int64Index, pd.RangeIndex)):\n",
      "\u001B[32m[I 2022-05-19 13:28:23,145]\u001B[0m Trial 94 finished with value: 0.4528301886792453 and parameters: {'n_estimators': 47, 'max_depth': 9, 'min_child_weight': 17, 'learning_rate': 0.08, 'scale_pos_weight': 40, 'subsample': 0.8, 'colsample_bytree': 0.9}. Best is trial 0 with value: 0.4528301886792453.\u001B[0m\n",
      "/Users/aidev_yyc_mac/opt/anaconda3/envs/yyc/lib/python3.8/site-packages/xgboost/data.py:250: FutureWarning: pandas.Int64Index is deprecated and will be removed from pandas in a future version. Use pandas.Index with the appropriate dtype instead.\n",
      "  elif isinstance(data.columns, (pd.Int64Index, pd.RangeIndex)):\n"
     ]
    },
    {
     "name": "stdout",
     "output_type": "stream",
     "text": [
      "[13:28:22] WARNING: ../src/learner.cc:1115: Starting in XGBoost 1.3.0, the default evaluation metric used with the objective 'binary:logistic' was changed from 'error' to 'logloss'. Explicitly set eval_metric if you'd like to restore the old behavior.\n",
      "[13:28:23] WARNING: ../src/learner.cc:1115: Starting in XGBoost 1.3.0, the default evaluation metric used with the objective 'binary:logistic' was changed from 'error' to 'logloss'. Explicitly set eval_metric if you'd like to restore the old behavior.\n"
     ]
    },
    {
     "name": "stderr",
     "output_type": "stream",
     "text": [
      "\u001B[32m[I 2022-05-19 13:28:23,308]\u001B[0m Trial 95 finished with value: 0.4528301886792453 and parameters: {'n_estimators': 15, 'max_depth': 19, 'min_child_weight': 13, 'learning_rate': 0.09, 'scale_pos_weight': 53, 'subsample': 0.9, 'colsample_bytree': 0.9}. Best is trial 0 with value: 0.4528301886792453.\u001B[0m\n",
      "/Users/aidev_yyc_mac/opt/anaconda3/envs/yyc/lib/python3.8/site-packages/xgboost/data.py:250: FutureWarning: pandas.Int64Index is deprecated and will be removed from pandas in a future version. Use pandas.Index with the appropriate dtype instead.\n",
      "  elif isinstance(data.columns, (pd.Int64Index, pd.RangeIndex)):\n",
      "\u001B[32m[I 2022-05-19 13:28:23,482]\u001B[0m Trial 96 finished with value: 0.4528301886792453 and parameters: {'n_estimators': 26, 'max_depth': 18, 'min_child_weight': 13, 'learning_rate': 0.09, 'scale_pos_weight': 50, 'subsample': 0.8, 'colsample_bytree': 0.9}. Best is trial 0 with value: 0.4528301886792453.\u001B[0m\n",
      "/Users/aidev_yyc_mac/opt/anaconda3/envs/yyc/lib/python3.8/site-packages/xgboost/data.py:250: FutureWarning: pandas.Int64Index is deprecated and will be removed from pandas in a future version. Use pandas.Index with the appropriate dtype instead.\n",
      "  elif isinstance(data.columns, (pd.Int64Index, pd.RangeIndex)):\n"
     ]
    },
    {
     "name": "stdout",
     "output_type": "stream",
     "text": [
      "[13:28:23] WARNING: ../src/learner.cc:1115: Starting in XGBoost 1.3.0, the default evaluation metric used with the objective 'binary:logistic' was changed from 'error' to 'logloss'. Explicitly set eval_metric if you'd like to restore the old behavior.\n",
      "[13:28:23] WARNING: ../src/learner.cc:1115: Starting in XGBoost 1.3.0, the default evaluation metric used with the objective 'binary:logistic' was changed from 'error' to 'logloss'. Explicitly set eval_metric if you'd like to restore the old behavior.\n"
     ]
    },
    {
     "name": "stderr",
     "output_type": "stream",
     "text": [
      "\u001B[32m[I 2022-05-19 13:28:23,675]\u001B[0m Trial 97 finished with value: 0.4528301886792453 and parameters: {'n_estimators': 18, 'max_depth': 19, 'min_child_weight': 14, 'learning_rate': 0.08, 'scale_pos_weight': 59, 'subsample': 0.9, 'colsample_bytree': 0.9}. Best is trial 0 with value: 0.4528301886792453.\u001B[0m\n",
      "/Users/aidev_yyc_mac/opt/anaconda3/envs/yyc/lib/python3.8/site-packages/xgboost/data.py:250: FutureWarning: pandas.Int64Index is deprecated and will be removed from pandas in a future version. Use pandas.Index with the appropriate dtype instead.\n",
      "  elif isinstance(data.columns, (pd.Int64Index, pd.RangeIndex)):\n",
      "\u001B[32m[I 2022-05-19 13:28:23,832]\u001B[0m Trial 98 finished with value: 0.4528301886792453 and parameters: {'n_estimators': 54, 'max_depth': 18, 'min_child_weight': 11, 'learning_rate': 0.09999999999999999, 'scale_pos_weight': 53, 'subsample': 0.9, 'colsample_bytree': 0.5}. Best is trial 0 with value: 0.4528301886792453.\u001B[0m\n",
      "/Users/aidev_yyc_mac/opt/anaconda3/envs/yyc/lib/python3.8/site-packages/xgboost/data.py:250: FutureWarning: pandas.Int64Index is deprecated and will be removed from pandas in a future version. Use pandas.Index with the appropriate dtype instead.\n",
      "  elif isinstance(data.columns, (pd.Int64Index, pd.RangeIndex)):\n"
     ]
    },
    {
     "name": "stdout",
     "output_type": "stream",
     "text": [
      "[13:28:23] WARNING: ../src/learner.cc:1115: Starting in XGBoost 1.3.0, the default evaluation metric used with the objective 'binary:logistic' was changed from 'error' to 'logloss'. Explicitly set eval_metric if you'd like to restore the old behavior.\n",
      "[13:28:23] WARNING: ../src/learner.cc:1115: Starting in XGBoost 1.3.0, the default evaluation metric used with the objective 'binary:logistic' was changed from 'error' to 'logloss'. Explicitly set eval_metric if you'd like to restore the old behavior.\n"
     ]
    },
    {
     "name": "stderr",
     "output_type": "stream",
     "text": [
      "\u001B[32m[I 2022-05-19 13:28:24,018]\u001B[0m Trial 99 finished with value: 0.4528301886792453 and parameters: {'n_estimators': 28, 'max_depth': 12, 'min_child_weight': 16, 'learning_rate': 0.08, 'scale_pos_weight': 61, 'subsample': 0.8, 'colsample_bytree': 0.5}. Best is trial 0 with value: 0.4528301886792453.\u001B[0m\n"
     ]
    }
   ],
   "source": [
    "study = optuna.create_study()\n",
    "study.optimize(functools.partial(opt, X_train, y_train, X_eval, y_eval), n_trials=100)"
   ],
   "metadata": {
    "collapsed": false,
    "pycharm": {
     "name": "#%%\n"
    }
   }
  },
  {
   "cell_type": "code",
   "execution_count": 15,
   "outputs": [
    {
     "data": {
      "text/plain": "{'n_estimators': 86,\n 'max_depth': 15,\n 'min_child_weight': 11,\n 'learning_rate': 0.02,\n 'scale_pos_weight': 2,\n 'subsample': 0.7,\n 'colsample_bytree': 0.7}"
     },
     "execution_count": 15,
     "metadata": {},
     "output_type": "execute_result"
    }
   ],
   "source": [
    "study.best_params"
   ],
   "metadata": {
    "collapsed": false,
    "pycharm": {
     "name": "#%%\n"
    }
   }
  },
  {
   "cell_type": "code",
   "execution_count": 16,
   "outputs": [
    {
     "name": "stderr",
     "output_type": "stream",
     "text": [
      "/Users/aidev_yyc_mac/opt/anaconda3/envs/yyc/lib/python3.8/site-packages/xgboost/sklearn.py:1224: UserWarning: The use of label encoder in XGBClassifier is deprecated and will be removed in a future release. To remove this warning, do the following: 1) Pass option use_label_encoder=False when constructing XGBClassifier object; and 2) Encode your labels (y) as integers starting with 0, i.e. 0, 1, 2, ..., [num_class - 1].\n",
      "  warnings.warn(label_encoder_deprecation_msg, UserWarning)\n",
      "/Users/aidev_yyc_mac/opt/anaconda3/envs/yyc/lib/python3.8/site-packages/xgboost/data.py:250: FutureWarning: pandas.Int64Index is deprecated and will be removed from pandas in a future version. Use pandas.Index with the appropriate dtype instead.\n",
      "  elif isinstance(data.columns, (pd.Int64Index, pd.RangeIndex)):\n"
     ]
    },
    {
     "name": "stdout",
     "output_type": "stream",
     "text": [
      "[13:28:24] WARNING: ../src/learner.cc:1115: Starting in XGBoost 1.3.0, the default evaluation metric used with the objective 'binary:logistic' was changed from 'error' to 'logloss'. Explicitly set eval_metric if you'd like to restore the old behavior.\n"
     ]
    },
    {
     "data": {
      "text/plain": "XGBClassifier(base_score=0.5, booster='gbtree', colsample_bylevel=1,\n              colsample_bynode=1, colsample_bytree=0.7,\n              enable_categorical=False, gamma=0, gpu_id=-1,\n              importance_type=None, interaction_constraints='',\n              learning_rate=0.02, max_delta_step=0, max_depth=15,\n              min_child_weight=11, missing=nan, monotone_constraints='()',\n              n_estimators=86, n_jobs=8, num_parallel_tree=1, predictor='auto',\n              random_state=0, reg_alpha=0, reg_lambda=1, scale_pos_weight=2,\n              subsample=0.7, tree_method='exact', validate_parameters=1,\n              verbosity=None)"
     },
     "execution_count": 16,
     "metadata": {},
     "output_type": "execute_result"
    }
   ],
   "source": [
    "xgb_model = xgb.XGBClassifier(**study.best_params)\n",
    "xgb_model.fit(X_train, y_train)"
   ],
   "metadata": {
    "collapsed": false,
    "pycharm": {
     "name": "#%%\n"
    }
   }
  },
  {
   "cell_type": "code",
   "execution_count": 17,
   "outputs": [
    {
     "name": "stdout",
     "output_type": "stream",
     "text": [
      "[0 1 0 1 1 1 0 0 0 1 0 1 1 0 0 1 1 0 0 0 1 1 1 1 1 0 1 0 1 1 0 0 1 1 0 1 1\n",
      " 1 1 0 0 1 1 0 0 0 0 1 1 0 0 0 1 0 0 1 1 0 1 1 1 1 0 1 1 1 0 1 1 0 1 1 1 1\n",
      " 1 0 0 0 0 1 1 1 1 1 1 0 1 1 0 1 1 1 0 0 0 0 1 0 0 1 1 1 0 0 1 1]\n"
     ]
    }
   ],
   "source": [
    "y_pre = xgb_model.predict(X_eval)\n",
    "print(y_pre)\n",
    "y_pred_probs = xgb_model.predict_proba(X_eval)[:,1]"
   ],
   "metadata": {
    "collapsed": false,
    "pycharm": {
     "name": "#%%\n"
    }
   }
  },
  {
   "cell_type": "code",
   "execution_count": 18,
   "outputs": [
    {
     "name": "stdout",
     "output_type": "stream",
     "text": [
      "Precission : 0.3770491803278688\n",
      "recall : 0.6388888888888888\n",
      "f1_score : 0.4742268041237113\n",
      "accuracy : 0.5188679245283019\n"
     ]
    }
   ],
   "source": [
    "\n",
    "p = precision_score(y_eval, y_pre)\n",
    "print('Precission :' , p)\n",
    "r = recall_score(y_eval, y_pre)\n",
    "print('recall :',r)\n",
    "f1 = f1_score(y_eval, y_pre)\n",
    "print('f1_score :',f1)\n",
    "accuracy = accuracy_score( y_eval, y_pre)\n",
    "print('accuracy :' ,accuracy)"
   ],
   "metadata": {
    "collapsed": false,
    "pycharm": {
     "name": "#%%\n"
    }
   }
  }
 ],
 "metadata": {
  "kernelspec": {
   "display_name": "Python 3",
   "language": "python",
   "name": "python3"
  },
  "language_info": {
   "codemirror_mode": {
    "name": "ipython",
    "version": 2
   },
   "file_extension": ".py",
   "mimetype": "text/x-python",
   "name": "python",
   "nbconvert_exporter": "python",
   "pygments_lexer": "ipython2",
   "version": "2.7.6"
  }
 },
 "nbformat": 4,
 "nbformat_minor": 0
}