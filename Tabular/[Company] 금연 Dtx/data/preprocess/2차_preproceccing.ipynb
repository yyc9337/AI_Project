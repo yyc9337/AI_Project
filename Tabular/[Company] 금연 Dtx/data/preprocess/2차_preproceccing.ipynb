{
 "cells": [
  {
   "cell_type": "markdown",
   "metadata": {},
   "source": [
    "# Abstract\n",
    "#### Setting : 실험목적, 실험에 사용한 데이터셋 명시\n",
    "\n",
    "                            1. 정제된 CAI_data_002.csv파일 import\n",
    "                            2. 3차 자동 띄어쓰기 진행\n",
    "                            3. 2차 전처리 - 길이가 2이하인 row 제거\n",
    "\n",
    "                                                      \n",
    "                           8666 rows × 4 columns"
   ]
  },
  {
   "cell_type": "code",
   "execution_count": 106,
   "metadata": {},
   "outputs": [],
   "source": [
    "import pandas as pd\n",
    "import numpy as np\n",
    "pd.set_option('display.max_rows', None)\n",
    "\n",
    "from pykospacing import Spacing\n"
   ]
  },
  {
   "cell_type": "code",
   "execution_count": 107,
   "metadata": {},
   "outputs": [],
   "source": [
    "data = pd.read_csv('../dataset/CAI_data_002.csv')"
   ]
  },
  {
   "cell_type": "code",
   "execution_count": 108,
   "metadata": {},
   "outputs": [],
   "source": [
    "spacing = Spacing()\n",
    "\n",
    "def kospacing(df) :\n",
    "    clean_data = []\n",
    "    for row in df.iterrows() :\n",
    "        \n",
    "        spacings = spacing(row[1]['sentence'])\n",
    "        clean_data.append(spacings)\n",
    "\n",
    "        preprocess_data = pd.DataFrame({'sentence':clean_data})\n",
    "        \n",
    "    return preprocess_data"
   ]
  },
  {
   "cell_type": "code",
   "execution_count": 109,
   "metadata": {},
   "outputs": [],
   "source": [
    "df = kospacing(data)"
   ]
  },
  {
   "cell_type": "code",
   "execution_count": 114,
   "metadata": {},
   "outputs": [],
   "source": [
    "data = data[['접수시간', '본부', 'Target', 'Target_name']]\n",
    "data['sentence'] = df"
   ]
  },
  {
   "cell_type": "code",
   "execution_count": 116,
   "metadata": {},
   "outputs": [],
   "source": [
    "def precessing(df) :\n",
    "    for i in range(len(df)) :\n",
    "        if len(df['sentence'][i]) <= 2 :\n",
    "            data.drop([i],axis=0,inplace=True)\n",
    "precessing(data)\n"
   ]
  },
  {
   "cell_type": "code",
   "execution_count": 123,
   "metadata": {},
   "outputs": [],
   "source": [
    "data.to_csv('../dataset/CAI_data_003.csv', index= False)"
   ]
  }
 ],
 "metadata": {
  "kernelspec": {
   "display_name": "Python 3.8.10 64-bit",
   "language": "python",
   "name": "python3"
  },
  "language_info": {
   "codemirror_mode": {
    "name": "ipython",
    "version": 3
   },
   "file_extension": ".py",
   "mimetype": "text/x-python",
   "name": "python",
   "nbconvert_exporter": "python",
   "pygments_lexer": "ipython3",
   "version": "3.8.10"
  },
  "orig_nbformat": 4,
  "vscode": {
   "interpreter": {
    "hash": "916dbcbb3f70747c44a77c7bcd40155683ae19c65e1c03b4aa3499c5328201f1"
   }
  }
 },
 "nbformat": 4,
 "nbformat_minor": 2
}
