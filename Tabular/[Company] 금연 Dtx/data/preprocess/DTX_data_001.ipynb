{
 "cells": [
  {
   "cell_type": "code",
   "execution_count": 2,
   "metadata": {
    "collapsed": true,
    "pycharm": {
     "name": "#%%\n"
    }
   },
   "outputs": [],
   "source": [
    "import pandas as pd\n",
    "import numpy as np\n",
    "import openpyxl"
   ]
  },
  {
   "cell_type": "code",
   "execution_count": 10,
   "outputs": [],
   "source": [
    "df = pd.read_excel('../dataset/DTX_data.xlsx', sheet_name=[ 'Data(수정)'])"
   ],
   "metadata": {
    "collapsed": false,
    "pycharm": {
     "name": "#%%\n"
    }
   }
  },
  {
   "cell_type": "code",
   "execution_count": 11,
   "outputs": [
    {
     "data": {
      "text/plain": "{'Data(수정)':      1: 성공(금연시도 경험 있으며 최장 금연기간 6개월 이상)\\n\\n0: 실패(금연시도 경험 없음 or 금연시도 경험 있으나 최장 금연기간 6개월 미만)  \\\n 0                                                금연성공여부                                     \n 1                                                     0                                     \n 2                                                     0                                     \n 3                                                     1                                     \n 4                                                     1                                     \n ...                                                 ...                                     \n 1051                                                  0                                     \n 1052                                                  0                                     \n 1053                                                  0                                     \n 1054                                                  1                                     \n 1055                                                  0                                     \n \n      1: male\\n2: female Unnamed: 2 Unnamed: 3  \\\n 0                    성별         연령     흡연시작연령   \n 1                     1         52         25   \n 2                     1         32         17   \n 3                     1         41         21   \n 4                     1         60         18   \n ...                 ...        ...        ...   \n 1051                  2         33         17   \n 1052                  2         24         20   \n 1053                  2         49         30   \n 1054                  2         55         30   \n 1055                  2         41         28   \n \n       1: 일반 궐련 담배\\n2: 궐련형 전자 담배\\n3: 액상형 전자 담배\\n4: 일반 궐련 담배 + 궐련형 전자담배\\n5: 일반 궐련 담배 + 액상형 전자담배\\n6: 궐련형 전자담배 + 액상형 전자담배\\n7: 일반 궐련 담배 + 궐련형 전자담배 + 액상형 전자담배  \\\n 0                                                  담배종류                                                                                                    \n 1                                                     1                                                                                                    \n 2                                                     1                                                                                                    \n 3                                                     1                                                                                                    \n 4                                                     1                                                                                                    \n ...                                                 ...                                                                                                    \n 1051                                                  1                                                                                                    \n 1052                                                  5                                                                                                    \n 1053                                                  1                                                                                                    \n 1054                                                  1                                                                                                    \n 1055                                                  2                                                                                                    \n \n      Unnamed: 5 Unnamed: 6  \n 0         하루흡연량       FTND  \n 1             3          8  \n 2             4          7  \n 3             2          0  \n 4             2          6  \n ...         ...        ...  \n 1051          2          6  \n 1052          2          3  \n 1053          2          2  \n 1054          3          5  \n 1055          2          4  \n \n [1056 rows x 7 columns]}"
     },
     "execution_count": 11,
     "metadata": {},
     "output_type": "execute_result"
    }
   ],
   "source": [
    "df"
   ],
   "metadata": {
    "collapsed": false,
    "pycharm": {
     "name": "#%%\n"
    }
   }
  },
  {
   "cell_type": "code",
   "execution_count": null,
   "outputs": [],
   "source": [],
   "metadata": {
    "collapsed": false,
    "pycharm": {
     "name": "#%%\n"
    }
   }
  },
  {
   "cell_type": "code",
   "execution_count": null,
   "outputs": [],
   "source": [],
   "metadata": {
    "collapsed": false,
    "pycharm": {
     "name": "#%%\n"
    }
   }
  }
 ],
 "metadata": {
  "kernelspec": {
   "display_name": "Python 3",
   "language": "python",
   "name": "python3"
  },
  "language_info": {
   "codemirror_mode": {
    "name": "ipython",
    "version": 2
   },
   "file_extension": ".py",
   "mimetype": "text/x-python",
   "name": "python",
   "nbconvert_exporter": "python",
   "pygments_lexer": "ipython2",
   "version": "2.7.6"
  }
 },
 "nbformat": 4,
 "nbformat_minor": 0
}