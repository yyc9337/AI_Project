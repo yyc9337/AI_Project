{
 "cells": [
  {
   "cell_type": "code",
   "execution_count": 2,
   "metadata": {},
   "outputs": [],
   "source": [
    "import numpy as np\n",
    "import pandas as pd\n",
    "import jpx_tokyo_market_prediction\n",
    "import optuna\n",
    "optuna.logging.set_verbosity(optuna.logging.CRITICAL)\n",
    "\n",
    "from tqdm.notebook import tqdm\n",
    "from lightgbm import LGBMRegressor\n"
   ]
  },
  {
   "cell_type": "code",
   "execution_count": null,
   "metadata": {},
   "outputs": [],
   "source": [
    "%%time\n",
    "# Loading Stock Prices\n",
    "path = \"../input/jpx-tokyo-stock-exchange-prediction/\"\n",
    "df_prices = pd.read_csv(f\"{path}train_files/stock_prices.csv\")\n",
    "df_prices = df_prices[~df_prices[\"Target\"].isnull()]\n",
    "prices = pd.read_csv(f\"{path}supplemental_files/stock_prices.csv\")\n",
    "df_prices = pd.concat([df_prices, prices])\n",
    "df_prices = df_prices[df_prices.Date>=\"2021-10-01\"]\n",
    "df_prices.info(show_counts=True)"
   ]
  },
  {
   "cell_type": "code",
   "execution_count": null,
   "metadata": {},
   "outputs": [],
   "source": [
    "def fill_nans(prices):\n",
    "    prices.set_index([\"SecuritiesCode\", \"Date\"], inplace=True)\n",
    "    prices.ExpectedDividend.fillna(0,inplace=True)\n",
    "    prices.ffill(inplace=True)\n",
    "    prices.fillna(0,inplace=True)\n",
    "    prices.reset_index(inplace=True)\n",
    "    return prices"
   ]
  },
  {
   "cell_type": "code",
   "execution_count": null,
   "metadata": {},
   "outputs": [],
   "source": [
    "# Utilities \n",
    "\n",
    "def calc_spread_return_per_day(df, portfolio_size, toprank_weight_ratio):\n",
    "    weights = np.linspace(start=toprank_weight_ratio, stop=1, num=portfolio_size)\n",
    "    weights_mean = weights.mean()\n",
    "    df = df.sort_values(by='Rank')\n",
    "    purchase = (df['Target'][:portfolio_size]  * weights).sum() / weights_mean\n",
    "    short    = (df['Target'][-portfolio_size:] * weights[::-1]).sum() / weights_mean\n",
    "    return purchase - short\n",
    "\n",
    "def calc_spread_return_sharpe(df, portfolio_size=200, toprank_weight_ratio=2):\n",
    "    grp = df.groupby('Date')\n",
    "    min_size = grp[\"Target\"].count().min()\n",
    "    if min_size<2*portfolio_size:\n",
    "        portfolio_size=min_size//2\n",
    "        if portfolio_size<1:\n",
    "            return 0, None\n",
    "    buf = grp.apply(calc_spread_return_per_day, portfolio_size, toprank_weight_ratio)\n",
    "    sharpe_ratio = buf.mean() / buf.std()\n",
    "    return sharpe_ratio, buf\n",
    "\n",
    "def add_rank(df, col_name=\"pred\"):\n",
    "    df[\"Rank\"] = df.groupby(\"Date\")[col_name].rank(ascending=False, method=\"first\") - 1 \n",
    "    df[\"Rank\"] = df[\"Rank\"].astype(\"int\")\n",
    "    return df"
   ]
  },
  {
   "cell_type": "code",
   "execution_count": null,
   "metadata": {},
   "outputs": [],
   "source": [
    "def adjuster(df):\n",
    "    def calc_pred(df, x, y, z):\n",
    "        return df['Target'].where(df['Target'].abs() < x, df['Target'] * y + np.sign(df['Target']) * z)\n",
    "\n",
    "    def objective(trial, df):\n",
    "        x = trial.suggest_uniform('x', 0, 0.2)\n",
    "        y = trial.suggest_uniform('y', 0, 0.05)\n",
    "        z = trial.suggest_uniform('z', 0, 1e-3)\n",
    "        df[\"Rank\"] = calc_pred(df, x, y, z).rank(ascending=False, method=\"first\") - 1 \n",
    "        return calc_spread_return_per_day(df, 200, 2)\n",
    "\n",
    "    def predictor_per_day(df):\n",
    "        study = optuna.create_study(direction='minimize', sampler=optuna.samplers.TPESampler(seed=SD))#5187\n",
    "        study.optimize(lambda trial: abs(objective(trial, df) - 3), 3)\n",
    "        return calc_pred(df, *study.best_params.values())\n",
    "\n",
    "    return df.groupby(\"Date\").apply(predictor_per_day).reset_index(level=0, drop=True)\n",
    "\n",
    "def _predictor_base(feature_df):\n",
    "    return model.predict(feature_df[feats])\n",
    "\n",
    "def _predictor_with_adjuster(feature_df):\n",
    "    df_pred = feature_df.copy()\n",
    "    df_pred[\"Target\"] = model.predict(feature_df[feats])\n",
    "    return adjuster(df_pred).values.T"
   ]
  },
  {
   "cell_type": "code",
   "execution_count": null,
   "metadata": {},
   "outputs": [],
   "source": [
    "np.random.seed(0)\n",
    "feats = [\"Close\"]\n",
    "max_score = 0\n",
    "max_depth = 0\n",
    "for md in tqdm(range(3,40)):\n",
    "    model = LGBMRegressor( max_depth=md ) # Controlling the overfit with max_depth parameter\n",
    "    model.fit(df_prices[feats],df_prices[\"Target\"])\n",
    "    predictor = _predictor_base\n",
    "    prices[\"pred\"] = predictor(prices)\n",
    "    score, buf = calc_spread_return_sharpe(add_rank(prices))\n",
    "    if score>max_score:\n",
    "        max_score = score\n",
    "        max_depth = md\n",
    "\n",
    "\n",
    "best_params =  {'max_depth' : max_depth ,\n",
    "                'num_leaves': 4526, \n",
    "                'n_estimators': 718, \n",
    "                'max_bin': 61, \n",
    "                'learning_rate': 0.5448831829968969}\n",
    "        \n",
    "model = LGBMRegressor(**best_params)\n",
    "model.fit(df_prices[feats],df_prices[\"Target\"])"
   ]
  },
  {
   "cell_type": "code",
   "execution_count": null,
   "metadata": {},
   "outputs": [],
   "source": [
    "# Controlling the Sharpe Ratio Score (≃3)\n",
    "predictor = _predictor_with_adjuster\n",
    "err = 1\n",
    "maxSD = 3683\n",
    "for SD in tqdm(range(maxSD,4000)):\n",
    "    prices[\"pred\"] = predictor(prices)\n",
    "    score, buf = calc_spread_return_sharpe(add_rank(prices))\n",
    "    if abs(score-3)<=err and score<3:\n",
    "        err=abs(score-3)\n",
    "        maxSD = SD\n",
    "        print(f'{maxSD} Sharpe Ratio Score with adjuster -> {score}')\n",
    "        \n",
    "SD = maxSD"
   ]
  },
  {
   "cell_type": "code",
   "execution_count": null,
   "metadata": {},
   "outputs": [],
   "source": [
    "%%time\n",
    "env = jpx_tokyo_market_prediction.make_env()\n",
    "iter_test = env.iter_test()\n",
    "\n",
    "for prices, options, financials, trades, secondary_prices, sample_prediction in iter_test:\n",
    "    prices = fill_nans(prices)\n",
    "    prices.loc[:,\"pred\"] = predictor(prices)\n",
    "    prices = add_rank(prices)\n",
    "    rank = prices.set_index('SecuritiesCode')['Rank'].to_dict()\n",
    "    sample_prediction['Rank'] = sample_prediction['SecuritiesCode'].map(rank)\n",
    "    env.predict(sample_prediction)"
   ]
  }
 ],
 "metadata": {
  "kernelspec": {
   "display_name": "Python 3.8.10 64-bit",
   "language": "python",
   "name": "python3"
  },
  "language_info": {
   "codemirror_mode": {
    "name": "ipython",
    "version": 3
   },
   "file_extension": ".py",
   "mimetype": "text/x-python",
   "name": "python",
   "nbconvert_exporter": "python",
   "pygments_lexer": "ipython3",
   "version": "3.8.10"
  },
  "orig_nbformat": 4,
  "vscode": {
   "interpreter": {
    "hash": "916dbcbb3f70747c44a77c7bcd40155683ae19c65e1c03b4aa3499c5328201f1"
   }
  }
 },
 "nbformat": 4,
 "nbformat_minor": 2
}
