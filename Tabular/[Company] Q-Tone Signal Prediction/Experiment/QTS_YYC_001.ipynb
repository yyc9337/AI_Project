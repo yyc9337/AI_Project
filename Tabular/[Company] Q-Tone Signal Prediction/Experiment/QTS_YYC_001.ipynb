{
 "cells": [
  {
   "cell_type": "code",
   "execution_count": 2,
   "metadata": {
    "collapsed": true
   },
   "outputs": [],
   "source": [
    "import pandas as pd\n",
    "from sklearn.model_selection import train_test_split"
   ]
  },
  {
   "cell_type": "code",
   "execution_count": 5,
   "outputs": [],
   "source": [
    "df = pd.read_csv('../data/dataset/QTS_data_001.csv', index_col = 0)"
   ],
   "metadata": {
    "collapsed": false,
    "pycharm": {
     "name": "#%%\n"
    }
   }
  },
  {
   "cell_type": "code",
   "execution_count": 6,
   "outputs": [
    {
     "data": {
      "text/plain": "           시간 요일          채널명  label\n0           3  금        MBC M      1\n1          19  금     YTN 사이언스      0\n2          37  금       채널 차이나      1\n3          43  금      SBS MTV      1\n4          59  금        애니원티비      0\n...       ... ..          ...    ...\n502601  86352  목  nickelodeon      0\n502602  86360  목        OBS-W      0\n502603  86364  목      MBC NET      0\n502604  86365  목         리빙TV      0\n502605  86366  목   FISHING TV      0\n\n[502606 rows x 4 columns]",
      "text/html": "<div>\n<style scoped>\n    .dataframe tbody tr th:only-of-type {\n        vertical-align: middle;\n    }\n\n    .dataframe tbody tr th {\n        vertical-align: top;\n    }\n\n    .dataframe thead th {\n        text-align: right;\n    }\n</style>\n<table border=\"1\" class=\"dataframe\">\n  <thead>\n    <tr style=\"text-align: right;\">\n      <th></th>\n      <th>시간</th>\n      <th>요일</th>\n      <th>채널명</th>\n      <th>label</th>\n    </tr>\n  </thead>\n  <tbody>\n    <tr>\n      <th>0</th>\n      <td>3</td>\n      <td>금</td>\n      <td>MBC M</td>\n      <td>1</td>\n    </tr>\n    <tr>\n      <th>1</th>\n      <td>19</td>\n      <td>금</td>\n      <td>YTN 사이언스</td>\n      <td>0</td>\n    </tr>\n    <tr>\n      <th>2</th>\n      <td>37</td>\n      <td>금</td>\n      <td>채널 차이나</td>\n      <td>1</td>\n    </tr>\n    <tr>\n      <th>3</th>\n      <td>43</td>\n      <td>금</td>\n      <td>SBS MTV</td>\n      <td>1</td>\n    </tr>\n    <tr>\n      <th>4</th>\n      <td>59</td>\n      <td>금</td>\n      <td>애니원티비</td>\n      <td>0</td>\n    </tr>\n    <tr>\n      <th>...</th>\n      <td>...</td>\n      <td>...</td>\n      <td>...</td>\n      <td>...</td>\n    </tr>\n    <tr>\n      <th>502601</th>\n      <td>86352</td>\n      <td>목</td>\n      <td>nickelodeon</td>\n      <td>0</td>\n    </tr>\n    <tr>\n      <th>502602</th>\n      <td>86360</td>\n      <td>목</td>\n      <td>OBS-W</td>\n      <td>0</td>\n    </tr>\n    <tr>\n      <th>502603</th>\n      <td>86364</td>\n      <td>목</td>\n      <td>MBC NET</td>\n      <td>0</td>\n    </tr>\n    <tr>\n      <th>502604</th>\n      <td>86365</td>\n      <td>목</td>\n      <td>리빙TV</td>\n      <td>0</td>\n    </tr>\n    <tr>\n      <th>502605</th>\n      <td>86366</td>\n      <td>목</td>\n      <td>FISHING TV</td>\n      <td>0</td>\n    </tr>\n  </tbody>\n</table>\n<p>502606 rows × 4 columns</p>\n</div>"
     },
     "execution_count": 6,
     "metadata": {},
     "output_type": "execute_result"
    }
   ],
   "source": [
    "df"
   ],
   "metadata": {
    "collapsed": false,
    "pycharm": {
     "name": "#%%\n"
    }
   }
  },
  {
   "cell_type": "code",
   "execution_count": 9,
   "outputs": [],
   "source": [
    "def cat_col(data) :\n",
    "    data['요일'] = data['요일'].astype('category')\n",
    "    data['채널명'] = data['채널명'].astype('category')\n",
    "\n",
    "    return data"
   ],
   "metadata": {
    "collapsed": false,
    "pycharm": {
     "name": "#%%\n"
    }
   }
  },
  {
   "cell_type": "code",
   "execution_count": 10,
   "outputs": [],
   "source": [
    "df = cat_col(df)"
   ],
   "metadata": {
    "collapsed": false,
    "pycharm": {
     "name": "#%%\n"
    }
   }
  },
  {
   "cell_type": "code",
   "execution_count": 11,
   "outputs": [],
   "source": [
    "X = df.drop(['label'],axis=1)\n",
    "y = df['label']\n",
    "\n",
    "X_train, X_valid, y_train, y_valid = train_test_split(X,y,  test_size=0.2,  shuffle=True, random_state=1004)"
   ],
   "metadata": {
    "collapsed": false,
    "pycharm": {
     "name": "#%%\n"
    }
   }
  },
  {
   "cell_type": "code",
   "execution_count": 12,
   "outputs": [
    {
     "name": "stderr",
     "output_type": "stream",
     "text": [
      "C:\\Users\\inp032\\.conda\\envs\\yyc\\lib\\site-packages\\lightgbm\\basic.py:1780: UserWarning: Overriding the parameters from Reference Dataset.\n",
      "  _log_warning('Overriding the parameters from Reference Dataset.')\n",
      "C:\\Users\\inp032\\.conda\\envs\\yyc\\lib\\site-packages\\lightgbm\\basic.py:1513: UserWarning: categorical_column in param dict is overridden.\n",
      "  _log_warning(f'{cat_alias} in param dict is overridden.')\n"
     ]
    },
    {
     "name": "stdout",
     "output_type": "stream",
     "text": [
      "[1]\tvalid_0's binary_logloss: 0.647721\n",
      "[2]\tvalid_0's binary_logloss: 0.612533\n",
      "[3]\tvalid_0's binary_logloss: 0.583462\n",
      "[4]\tvalid_0's binary_logloss: 0.5588\n",
      "[5]\tvalid_0's binary_logloss: 0.53825\n",
      "[6]\tvalid_0's binary_logloss: 0.520362\n",
      "[7]\tvalid_0's binary_logloss: 0.505649\n",
      "[8]\tvalid_0's binary_logloss: 0.492506\n",
      "[9]\tvalid_0's binary_logloss: 0.48132\n",
      "[10]\tvalid_0's binary_logloss: 0.471651\n",
      "[11]\tvalid_0's binary_logloss: 0.463409\n",
      "[12]\tvalid_0's binary_logloss: 0.456324\n",
      "[13]\tvalid_0's binary_logloss: 0.450345\n",
      "[14]\tvalid_0's binary_logloss: 0.444751\n",
      "[15]\tvalid_0's binary_logloss: 0.439979\n",
      "[16]\tvalid_0's binary_logloss: 0.435784\n",
      "[17]\tvalid_0's binary_logloss: 0.432319\n",
      "[18]\tvalid_0's binary_logloss: 0.428787\n",
      "[19]\tvalid_0's binary_logloss: 0.42564\n",
      "[20]\tvalid_0's binary_logloss: 0.423069\n",
      "[21]\tvalid_0's binary_logloss: 0.420466\n",
      "[22]\tvalid_0's binary_logloss: 0.418471\n",
      "[23]\tvalid_0's binary_logloss: 0.416497\n",
      "[24]\tvalid_0's binary_logloss: 0.414887\n",
      "[25]\tvalid_0's binary_logloss: 0.413194\n",
      "[26]\tvalid_0's binary_logloss: 0.411597\n",
      "[27]\tvalid_0's binary_logloss: 0.410091\n",
      "[28]\tvalid_0's binary_logloss: 0.40883\n",
      "[29]\tvalid_0's binary_logloss: 0.407198\n",
      "[30]\tvalid_0's binary_logloss: 0.406109\n",
      "[31]\tvalid_0's binary_logloss: 0.405088\n",
      "[32]\tvalid_0's binary_logloss: 0.403875\n",
      "[33]\tvalid_0's binary_logloss: 0.402993\n",
      "[34]\tvalid_0's binary_logloss: 0.402041\n",
      "[35]\tvalid_0's binary_logloss: 0.40107\n",
      "[36]\tvalid_0's binary_logloss: 0.400098\n",
      "[37]\tvalid_0's binary_logloss: 0.399239\n",
      "[38]\tvalid_0's binary_logloss: 0.397545\n",
      "[39]\tvalid_0's binary_logloss: 0.396621\n",
      "[40]\tvalid_0's binary_logloss: 0.394966\n",
      "[41]\tvalid_0's binary_logloss: 0.393955\n",
      "[42]\tvalid_0's binary_logloss: 0.39323\n",
      "[43]\tvalid_0's binary_logloss: 0.390965\n",
      "[44]\tvalid_0's binary_logloss: 0.389581\n",
      "[45]\tvalid_0's binary_logloss: 0.388235\n",
      "[46]\tvalid_0's binary_logloss: 0.387072\n",
      "[47]\tvalid_0's binary_logloss: 0.385782\n",
      "[48]\tvalid_0's binary_logloss: 0.384359\n",
      "[49]\tvalid_0's binary_logloss: 0.383823\n",
      "[50]\tvalid_0's binary_logloss: 0.382722\n",
      "[51]\tvalid_0's binary_logloss: 0.380981\n",
      "[52]\tvalid_0's binary_logloss: 0.379419\n",
      "[53]\tvalid_0's binary_logloss: 0.378698\n",
      "[54]\tvalid_0's binary_logloss: 0.377311\n",
      "[55]\tvalid_0's binary_logloss: 0.376494\n",
      "[56]\tvalid_0's binary_logloss: 0.376023\n",
      "[57]\tvalid_0's binary_logloss: 0.374975\n",
      "[58]\tvalid_0's binary_logloss: 0.373785\n",
      "[59]\tvalid_0's binary_logloss: 0.373121\n",
      "[60]\tvalid_0's binary_logloss: 0.371237\n",
      "[61]\tvalid_0's binary_logloss: 0.370374\n",
      "[62]\tvalid_0's binary_logloss: 0.36884\n",
      "[63]\tvalid_0's binary_logloss: 0.368302\n",
      "[64]\tvalid_0's binary_logloss: 0.366856\n",
      "[65]\tvalid_0's binary_logloss: 0.366314\n",
      "[66]\tvalid_0's binary_logloss: 0.365811\n",
      "[67]\tvalid_0's binary_logloss: 0.364242\n",
      "[68]\tvalid_0's binary_logloss: 0.363495\n",
      "[69]\tvalid_0's binary_logloss: 0.362263\n",
      "[70]\tvalid_0's binary_logloss: 0.361307\n",
      "[71]\tvalid_0's binary_logloss: 0.359894\n",
      "[72]\tvalid_0's binary_logloss: 0.359226\n",
      "[73]\tvalid_0's binary_logloss: 0.358382\n",
      "[74]\tvalid_0's binary_logloss: 0.357709\n",
      "[75]\tvalid_0's binary_logloss: 0.356947\n",
      "[76]\tvalid_0's binary_logloss: 0.356289\n",
      "[77]\tvalid_0's binary_logloss: 0.355734\n",
      "[78]\tvalid_0's binary_logloss: 0.355285\n",
      "[79]\tvalid_0's binary_logloss: 0.354173\n",
      "[80]\tvalid_0's binary_logloss: 0.353162\n",
      "[81]\tvalid_0's binary_logloss: 0.35194\n",
      "[82]\tvalid_0's binary_logloss: 0.351588\n",
      "[83]\tvalid_0's binary_logloss: 0.350833\n",
      "[84]\tvalid_0's binary_logloss: 0.350441\n",
      "[85]\tvalid_0's binary_logloss: 0.349403\n",
      "[86]\tvalid_0's binary_logloss: 0.348888\n",
      "[87]\tvalid_0's binary_logloss: 0.34851\n",
      "[88]\tvalid_0's binary_logloss: 0.347709\n",
      "[89]\tvalid_0's binary_logloss: 0.347077\n",
      "[90]\tvalid_0's binary_logloss: 0.346288\n",
      "[91]\tvalid_0's binary_logloss: 0.345232\n",
      "[92]\tvalid_0's binary_logloss: 0.344967\n",
      "[93]\tvalid_0's binary_logloss: 0.343271\n",
      "[94]\tvalid_0's binary_logloss: 0.342769\n",
      "[95]\tvalid_0's binary_logloss: 0.34219\n",
      "[96]\tvalid_0's binary_logloss: 0.341216\n",
      "[97]\tvalid_0's binary_logloss: 0.340834\n",
      "[98]\tvalid_0's binary_logloss: 0.340172\n",
      "[99]\tvalid_0's binary_logloss: 0.339754\n",
      "[100]\tvalid_0's binary_logloss: 0.339209\n"
     ]
    },
    {
     "data": {
      "text/plain": "LGBMClassifier(objective='binary')"
     },
     "execution_count": 12,
     "metadata": {},
     "output_type": "execute_result"
    }
   ],
   "source": [
    "from lightgbm import LGBMClassifier\n",
    "\n",
    "params = {'objective' : 'binary',\n",
    "\n",
    "        }\n",
    "\n",
    "model = LGBMClassifier(**params)\n",
    "model.fit(X_train, y_train, eval_set=(X_valid,y_valid))"
   ],
   "metadata": {
    "collapsed": false,
    "pycharm": {
     "name": "#%%\n"
    }
   }
  },
  {
   "cell_type": "code",
   "execution_count": 13,
   "outputs": [
    {
     "name": "stdout",
     "output_type": "stream",
     "text": [
      "[[46590  7197]\n",
      " [ 8188 38547]]\n"
     ]
    }
   ],
   "source": [
    "from sklearn.model_selection import cross_val_predict\n",
    "from sklearn.metrics import confusion_matrix\n",
    "\n",
    "y_valid_pred = cross_val_predict(model, X_valid, y_valid, cv=3)\n",
    "cf = confusion_matrix(y_valid, y_valid_pred)\n",
    "print(cf)"
   ],
   "metadata": {
    "collapsed": false,
    "pycharm": {
     "name": "#%%\n"
    }
   }
  },
  {
   "cell_type": "code",
   "execution_count": 14,
   "outputs": [
    {
     "name": "stdout",
     "output_type": "stream",
     "text": [
      "accuracy :  0.8469489266031317\n",
      "precision :  0.8426678908709339\n",
      "recall :  0.8247994008772869\n",
      "f1_score :  0.8336379069842883\n"
     ]
    }
   ],
   "source": [
    "from sklearn.metrics import precision_score, recall_score, f1_score, accuracy_score\n",
    "ac = accuracy_score(y_valid, y_valid_pred)\n",
    "print('accuracy : ', ac)\n",
    "p = precision_score(y_valid, y_valid_pred)\n",
    "print('precision : ' , p)\n",
    "r = recall_score(y_valid, y_valid_pred)\n",
    "print('recall : ', r)\n",
    "f1 = f1_score(y_valid, y_valid_pred)\n",
    "print('f1_score : ', f1)"
   ],
   "metadata": {
    "collapsed": false,
    "pycharm": {
     "name": "#%%\n"
    }
   }
  }
 ],
 "metadata": {
  "kernelspec": {
   "display_name": "Python 3",
   "language": "python",
   "name": "python3"
  },
  "language_info": {
   "codemirror_mode": {
    "name": "ipython",
    "version": 2
   },
   "file_extension": ".py",
   "mimetype": "text/x-python",
   "name": "python",
   "nbconvert_exporter": "python",
   "pygments_lexer": "ipython2",
   "version": "2.7.6"
  }
 },
 "nbformat": 4,
 "nbformat_minor": 0
}