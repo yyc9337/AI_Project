{
 "cells": [
  {
   "cell_type": "code",
   "execution_count": 132,
   "metadata": {
    "collapsed": true
   },
   "outputs": [],
   "source": [
    "import pandas as pd\n",
    "from sklearn.model_selection import train_test_split"
   ]
  },
  {
   "cell_type": "code",
   "execution_count": 175,
   "outputs": [],
   "source": [
    "df = pd.read_csv('../../Common/data/type_A_labeled.csv')"
   ],
   "metadata": {
    "collapsed": false,
    "pycharm": {
     "name": "#%%\n"
    }
   }
  },
  {
   "cell_type": "code",
   "execution_count": 176,
   "outputs": [
    {
     "data": {
      "text/plain": "              시간 요일          채널명  label\n0       00:00:03  금        MBC M      1\n1       00:00:19  금     YTN 사이언스      0\n2       00:00:37  금       채널 차이나      1\n3       00:00:43  금      SBS MTV      1\n4       00:00:59  금        애니원티비      0\n...          ... ..          ...    ...\n502601  23:59:12  목  nickelodeon      0\n502602  23:59:20  목        OBS-W      0\n502603  23:59:24  목      MBC NET      0\n502604  23:59:25  목         리빙TV      0\n502605  23:59:26  목   FISHING TV      0\n\n[502606 rows x 4 columns]",
      "text/html": "<div>\n<style scoped>\n    .dataframe tbody tr th:only-of-type {\n        vertical-align: middle;\n    }\n\n    .dataframe tbody tr th {\n        vertical-align: top;\n    }\n\n    .dataframe thead th {\n        text-align: right;\n    }\n</style>\n<table border=\"1\" class=\"dataframe\">\n  <thead>\n    <tr style=\"text-align: right;\">\n      <th></th>\n      <th>시간</th>\n      <th>요일</th>\n      <th>채널명</th>\n      <th>label</th>\n    </tr>\n  </thead>\n  <tbody>\n    <tr>\n      <th>0</th>\n      <td>00:00:03</td>\n      <td>금</td>\n      <td>MBC M</td>\n      <td>1</td>\n    </tr>\n    <tr>\n      <th>1</th>\n      <td>00:00:19</td>\n      <td>금</td>\n      <td>YTN 사이언스</td>\n      <td>0</td>\n    </tr>\n    <tr>\n      <th>2</th>\n      <td>00:00:37</td>\n      <td>금</td>\n      <td>채널 차이나</td>\n      <td>1</td>\n    </tr>\n    <tr>\n      <th>3</th>\n      <td>00:00:43</td>\n      <td>금</td>\n      <td>SBS MTV</td>\n      <td>1</td>\n    </tr>\n    <tr>\n      <th>4</th>\n      <td>00:00:59</td>\n      <td>금</td>\n      <td>애니원티비</td>\n      <td>0</td>\n    </tr>\n    <tr>\n      <th>...</th>\n      <td>...</td>\n      <td>...</td>\n      <td>...</td>\n      <td>...</td>\n    </tr>\n    <tr>\n      <th>502601</th>\n      <td>23:59:12</td>\n      <td>목</td>\n      <td>nickelodeon</td>\n      <td>0</td>\n    </tr>\n    <tr>\n      <th>502602</th>\n      <td>23:59:20</td>\n      <td>목</td>\n      <td>OBS-W</td>\n      <td>0</td>\n    </tr>\n    <tr>\n      <th>502603</th>\n      <td>23:59:24</td>\n      <td>목</td>\n      <td>MBC NET</td>\n      <td>0</td>\n    </tr>\n    <tr>\n      <th>502604</th>\n      <td>23:59:25</td>\n      <td>목</td>\n      <td>리빙TV</td>\n      <td>0</td>\n    </tr>\n    <tr>\n      <th>502605</th>\n      <td>23:59:26</td>\n      <td>목</td>\n      <td>FISHING TV</td>\n      <td>0</td>\n    </tr>\n  </tbody>\n</table>\n<p>502606 rows × 4 columns</p>\n</div>"
     },
     "execution_count": 176,
     "metadata": {},
     "output_type": "execute_result"
    }
   ],
   "source": [
    "df"
   ],
   "metadata": {
    "collapsed": false,
    "pycharm": {
     "name": "#%%\n"
    }
   }
  },
  {
   "cell_type": "code",
   "execution_count": 134,
   "outputs": [],
   "source": [
    "hour = []\n",
    "for i in range(len(df)) :\n",
    "    h = df['시간'][i][0:2]\n",
    "    hour.append(h)\n",
    "\n",
    "df['hour'] = hour"
   ],
   "metadata": {
    "collapsed": false,
    "pycharm": {
     "name": "#%%\n"
    }
   }
  },
  {
   "cell_type": "code",
   "execution_count": 135,
   "outputs": [],
   "source": [
    "min = []\n",
    "for i in range(len(df)) :\n",
    "    m = df['시간'][i][3:5]\n",
    "    min.append(m)\n",
    "\n",
    "df['min'] = min"
   ],
   "metadata": {
    "collapsed": false,
    "pycharm": {
     "name": "#%%\n"
    }
   }
  },
  {
   "cell_type": "code",
   "execution_count": 136,
   "outputs": [],
   "source": [
    "sec = []\n",
    "for i in range(len(df)) :\n",
    "    s =  df['시간'][i][6:8]\n",
    "    sec.append(s)\n",
    "\n",
    "df['sec'] = sec"
   ],
   "metadata": {
    "collapsed": false,
    "pycharm": {
     "name": "#%%\n"
    }
   }
  },
  {
   "cell_type": "code",
   "execution_count": 137,
   "outputs": [],
   "source": [
    "df[['hour','min','sec']] = df[['hour','min','sec']].astype(float)"
   ],
   "metadata": {
    "collapsed": false,
    "pycharm": {
     "name": "#%%\n"
    }
   }
  },
  {
   "cell_type": "code",
   "execution_count": 138,
   "outputs": [
    {
     "name": "stderr",
     "output_type": "stream",
     "text": [
      "C:\\Users\\inp032\\.conda\\envs\\yyc\\lib\\site-packages\\ipykernel_launcher.py:2: SettingWithCopyWarning: \n",
      "A value is trying to be set on a copy of a slice from a DataFrame\n",
      "\n",
      "See the caveats in the documentation: https://pandas.pydata.org/pandas-docs/stable/user_guide/indexing.html#returning-a-view-versus-a-copy\n",
      "  \n"
     ]
    },
    {
     "data": {
      "text/plain": "             시간 요일          채널명  label  hour   min   sec\n0           3.0  금        MBC M      1   0.0   0.0   3.0\n1          19.0  금     YTN 사이언스      0   0.0   0.0  19.0\n2          37.0  금       채널 차이나      1   0.0   0.0  37.0\n3          43.0  금      SBS MTV      1   0.0   0.0  43.0\n4          59.0  금        애니원티비      0   0.0   0.0  59.0\n...         ... ..          ...    ...   ...   ...   ...\n502601  86352.0  목  nickelodeon      0  23.0  59.0  12.0\n502602  86360.0  목        OBS-W      0  23.0  59.0  20.0\n502603  86364.0  목      MBC NET      0  23.0  59.0  24.0\n502604  86365.0  목         리빙TV      0  23.0  59.0  25.0\n502605  86366.0  목   FISHING TV      0  23.0  59.0  26.0\n\n[502606 rows x 7 columns]",
      "text/html": "<div>\n<style scoped>\n    .dataframe tbody tr th:only-of-type {\n        vertical-align: middle;\n    }\n\n    .dataframe tbody tr th {\n        vertical-align: top;\n    }\n\n    .dataframe thead th {\n        text-align: right;\n    }\n</style>\n<table border=\"1\" class=\"dataframe\">\n  <thead>\n    <tr style=\"text-align: right;\">\n      <th></th>\n      <th>시간</th>\n      <th>요일</th>\n      <th>채널명</th>\n      <th>label</th>\n      <th>hour</th>\n      <th>min</th>\n      <th>sec</th>\n    </tr>\n  </thead>\n  <tbody>\n    <tr>\n      <th>0</th>\n      <td>3.0</td>\n      <td>금</td>\n      <td>MBC M</td>\n      <td>1</td>\n      <td>0.0</td>\n      <td>0.0</td>\n      <td>3.0</td>\n    </tr>\n    <tr>\n      <th>1</th>\n      <td>19.0</td>\n      <td>금</td>\n      <td>YTN 사이언스</td>\n      <td>0</td>\n      <td>0.0</td>\n      <td>0.0</td>\n      <td>19.0</td>\n    </tr>\n    <tr>\n      <th>2</th>\n      <td>37.0</td>\n      <td>금</td>\n      <td>채널 차이나</td>\n      <td>1</td>\n      <td>0.0</td>\n      <td>0.0</td>\n      <td>37.0</td>\n    </tr>\n    <tr>\n      <th>3</th>\n      <td>43.0</td>\n      <td>금</td>\n      <td>SBS MTV</td>\n      <td>1</td>\n      <td>0.0</td>\n      <td>0.0</td>\n      <td>43.0</td>\n    </tr>\n    <tr>\n      <th>4</th>\n      <td>59.0</td>\n      <td>금</td>\n      <td>애니원티비</td>\n      <td>0</td>\n      <td>0.0</td>\n      <td>0.0</td>\n      <td>59.0</td>\n    </tr>\n    <tr>\n      <th>...</th>\n      <td>...</td>\n      <td>...</td>\n      <td>...</td>\n      <td>...</td>\n      <td>...</td>\n      <td>...</td>\n      <td>...</td>\n    </tr>\n    <tr>\n      <th>502601</th>\n      <td>86352.0</td>\n      <td>목</td>\n      <td>nickelodeon</td>\n      <td>0</td>\n      <td>23.0</td>\n      <td>59.0</td>\n      <td>12.0</td>\n    </tr>\n    <tr>\n      <th>502602</th>\n      <td>86360.0</td>\n      <td>목</td>\n      <td>OBS-W</td>\n      <td>0</td>\n      <td>23.0</td>\n      <td>59.0</td>\n      <td>20.0</td>\n    </tr>\n    <tr>\n      <th>502603</th>\n      <td>86364.0</td>\n      <td>목</td>\n      <td>MBC NET</td>\n      <td>0</td>\n      <td>23.0</td>\n      <td>59.0</td>\n      <td>24.0</td>\n    </tr>\n    <tr>\n      <th>502604</th>\n      <td>86365.0</td>\n      <td>목</td>\n      <td>리빙TV</td>\n      <td>0</td>\n      <td>23.0</td>\n      <td>59.0</td>\n      <td>25.0</td>\n    </tr>\n    <tr>\n      <th>502605</th>\n      <td>86366.0</td>\n      <td>목</td>\n      <td>FISHING TV</td>\n      <td>0</td>\n      <td>23.0</td>\n      <td>59.0</td>\n      <td>26.0</td>\n    </tr>\n  </tbody>\n</table>\n<p>502606 rows × 7 columns</p>\n</div>"
     },
     "execution_count": 138,
     "metadata": {},
     "output_type": "execute_result"
    }
   ],
   "source": [
    "for i in range(len(df)) :\n",
    "    df['시간'][i] = (df['hour'][i] * 3600) + (df['min'][i] * 60) + df['sec'][i]\n",
    "\n",
    "df"
   ],
   "metadata": {
    "collapsed": false,
    "pycharm": {
     "name": "#%%\n"
    }
   }
  },
  {
   "cell_type": "code",
   "execution_count": 139,
   "outputs": [],
   "source": [
    "def cat_col(data) :\n",
    "    data['요일'] = data['요일'].astype('category')\n",
    "    data['채널명'] = data['채널명'].astype('category')\n",
    "\n",
    "    return data"
   ],
   "metadata": {
    "collapsed": false,
    "pycharm": {
     "name": "#%%\n"
    }
   }
  },
  {
   "cell_type": "code",
   "execution_count": 140,
   "outputs": [],
   "source": [
    "df = cat_col(df)"
   ],
   "metadata": {
    "collapsed": false,
    "pycharm": {
     "name": "#%%\n"
    }
   }
  },
  {
   "cell_type": "code",
   "execution_count": 147,
   "outputs": [],
   "source": [
    "df['시간'] = df['시간'].astype(int)\n",
    "df = df.drop(['hour','min','sec'],axis=1)"
   ],
   "metadata": {
    "collapsed": false,
    "pycharm": {
     "name": "#%%\n"
    }
   }
  },
  {
   "cell_type": "code",
   "execution_count": 148,
   "outputs": [],
   "source": [
    "df.to_csv('../dataset/QTS_data_001.csv', index = False)"
   ],
   "metadata": {
    "collapsed": false,
    "pycharm": {
     "name": "#%%\n"
    }
   }
  },
  {
   "cell_type": "code",
   "execution_count": 149,
   "outputs": [
    {
     "data": {
      "text/plain": "           시간 요일          채널명  label\n0           3  금        MBC M      1\n1          19  금     YTN 사이언스      0\n2          37  금       채널 차이나      1\n3          43  금      SBS MTV      1\n4          59  금        애니원티비      0\n...       ... ..          ...    ...\n502601  86352  목  nickelodeon      0\n502602  86360  목        OBS-W      0\n502603  86364  목      MBC NET      0\n502604  86365  목         리빙TV      0\n502605  86366  목   FISHING TV      0\n\n[502606 rows x 4 columns]",
      "text/html": "<div>\n<style scoped>\n    .dataframe tbody tr th:only-of-type {\n        vertical-align: middle;\n    }\n\n    .dataframe tbody tr th {\n        vertical-align: top;\n    }\n\n    .dataframe thead th {\n        text-align: right;\n    }\n</style>\n<table border=\"1\" class=\"dataframe\">\n  <thead>\n    <tr style=\"text-align: right;\">\n      <th></th>\n      <th>시간</th>\n      <th>요일</th>\n      <th>채널명</th>\n      <th>label</th>\n    </tr>\n  </thead>\n  <tbody>\n    <tr>\n      <th>0</th>\n      <td>3</td>\n      <td>금</td>\n      <td>MBC M</td>\n      <td>1</td>\n    </tr>\n    <tr>\n      <th>1</th>\n      <td>19</td>\n      <td>금</td>\n      <td>YTN 사이언스</td>\n      <td>0</td>\n    </tr>\n    <tr>\n      <th>2</th>\n      <td>37</td>\n      <td>금</td>\n      <td>채널 차이나</td>\n      <td>1</td>\n    </tr>\n    <tr>\n      <th>3</th>\n      <td>43</td>\n      <td>금</td>\n      <td>SBS MTV</td>\n      <td>1</td>\n    </tr>\n    <tr>\n      <th>4</th>\n      <td>59</td>\n      <td>금</td>\n      <td>애니원티비</td>\n      <td>0</td>\n    </tr>\n    <tr>\n      <th>...</th>\n      <td>...</td>\n      <td>...</td>\n      <td>...</td>\n      <td>...</td>\n    </tr>\n    <tr>\n      <th>502601</th>\n      <td>86352</td>\n      <td>목</td>\n      <td>nickelodeon</td>\n      <td>0</td>\n    </tr>\n    <tr>\n      <th>502602</th>\n      <td>86360</td>\n      <td>목</td>\n      <td>OBS-W</td>\n      <td>0</td>\n    </tr>\n    <tr>\n      <th>502603</th>\n      <td>86364</td>\n      <td>목</td>\n      <td>MBC NET</td>\n      <td>0</td>\n    </tr>\n    <tr>\n      <th>502604</th>\n      <td>86365</td>\n      <td>목</td>\n      <td>리빙TV</td>\n      <td>0</td>\n    </tr>\n    <tr>\n      <th>502605</th>\n      <td>86366</td>\n      <td>목</td>\n      <td>FISHING TV</td>\n      <td>0</td>\n    </tr>\n  </tbody>\n</table>\n<p>502606 rows × 4 columns</p>\n</div>"
     },
     "execution_count": 149,
     "metadata": {},
     "output_type": "execute_result"
    }
   ],
   "source": [
    "df"
   ],
   "metadata": {
    "collapsed": false,
    "pycharm": {
     "name": "#%%\n"
    }
   }
  }
 ],
 "metadata": {
  "kernelspec": {
   "name": "yyc",
   "language": "python",
   "display_name": "yyc"
  },
  "language_info": {
   "codemirror_mode": {
    "name": "ipython",
    "version": 2
   },
   "file_extension": ".py",
   "mimetype": "text/x-python",
   "name": "python",
   "nbconvert_exporter": "python",
   "pygments_lexer": "ipython2",
   "version": "2.7.6"
  }
 },
 "nbformat": 4,
 "nbformat_minor": 0
}