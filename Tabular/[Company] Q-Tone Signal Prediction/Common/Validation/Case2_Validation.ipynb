{
 "cells": [
  {
   "cell_type": "code",
   "execution_count": 15,
   "metadata": {},
   "outputs": [],
   "source": [
    "import pandas as pd\n",
    "import os\n",
    "from datetime import datetime\n",
    "\n",
    "import matplotlib.pyplot as plt\n",
    "import seaborn as sns\n",
    "import os\n",
    "import plotly.express as px\n",
    "import pandas as pd"
   ]
  },
  {
   "cell_type": "markdown",
   "metadata": {},
   "source": [
    "## Validation Information Table"
   ]
  },
  {
   "cell_type": "code",
   "execution_count": 16,
   "metadata": {},
   "outputs": [
    {
     "name": "stderr",
     "output_type": "stream",
     "text": [
      "/tmp/ipykernel_1199893/1754898229.py:29: FutureWarning:\n",
      "\n",
      "The frame.append method is deprecated and will be removed from pandas in a future version. Use pandas.concat instead.\n",
      "\n",
      "/tmp/ipykernel_1199893/1754898229.py:29: FutureWarning:\n",
      "\n",
      "The frame.append method is deprecated and will be removed from pandas in a future version. Use pandas.concat instead.\n",
      "\n",
      "/tmp/ipykernel_1199893/1754898229.py:29: FutureWarning:\n",
      "\n",
      "The frame.append method is deprecated and will be removed from pandas in a future version. Use pandas.concat instead.\n",
      "\n",
      "/tmp/ipykernel_1199893/1754898229.py:29: FutureWarning:\n",
      "\n",
      "The frame.append method is deprecated and will be removed from pandas in a future version. Use pandas.concat instead.\n",
      "\n",
      "/tmp/ipykernel_1199893/1754898229.py:29: FutureWarning:\n",
      "\n",
      "The frame.append method is deprecated and will be removed from pandas in a future version. Use pandas.concat instead.\n",
      "\n",
      "/tmp/ipykernel_1199893/1754898229.py:29: FutureWarning:\n",
      "\n",
      "The frame.append method is deprecated and will be removed from pandas in a future version. Use pandas.concat instead.\n",
      "\n",
      "/tmp/ipykernel_1199893/1754898229.py:29: FutureWarning:\n",
      "\n",
      "The frame.append method is deprecated and will be removed from pandas in a future version. Use pandas.concat instead.\n",
      "\n",
      "/tmp/ipykernel_1199893/1754898229.py:29: FutureWarning:\n",
      "\n",
      "The frame.append method is deprecated and will be removed from pandas in a future version. Use pandas.concat instead.\n",
      "\n",
      "/tmp/ipykernel_1199893/1754898229.py:29: FutureWarning:\n",
      "\n",
      "The frame.append method is deprecated and will be removed from pandas in a future version. Use pandas.concat instead.\n",
      "\n",
      "/tmp/ipykernel_1199893/1754898229.py:29: FutureWarning:\n",
      "\n",
      "The frame.append method is deprecated and will be removed from pandas in a future version. Use pandas.concat instead.\n",
      "\n",
      "/tmp/ipykernel_1199893/1754898229.py:29: FutureWarning:\n",
      "\n",
      "The frame.append method is deprecated and will be removed from pandas in a future version. Use pandas.concat instead.\n",
      "\n",
      "/tmp/ipykernel_1199893/1754898229.py:29: FutureWarning:\n",
      "\n",
      "The frame.append method is deprecated and will be removed from pandas in a future version. Use pandas.concat instead.\n",
      "\n",
      "/tmp/ipykernel_1199893/1754898229.py:29: FutureWarning:\n",
      "\n",
      "The frame.append method is deprecated and will be removed from pandas in a future version. Use pandas.concat instead.\n",
      "\n",
      "/tmp/ipykernel_1199893/1754898229.py:29: FutureWarning:\n",
      "\n",
      "The frame.append method is deprecated and will be removed from pandas in a future version. Use pandas.concat instead.\n",
      "\n",
      "/tmp/ipykernel_1199893/1754898229.py:29: FutureWarning:\n",
      "\n",
      "The frame.append method is deprecated and will be removed from pandas in a future version. Use pandas.concat instead.\n",
      "\n",
      "/tmp/ipykernel_1199893/1754898229.py:29: FutureWarning:\n",
      "\n",
      "The frame.append method is deprecated and will be removed from pandas in a future version. Use pandas.concat instead.\n",
      "\n",
      "/tmp/ipykernel_1199893/1754898229.py:29: FutureWarning:\n",
      "\n",
      "The frame.append method is deprecated and will be removed from pandas in a future version. Use pandas.concat instead.\n",
      "\n",
      "/tmp/ipykernel_1199893/1754898229.py:29: FutureWarning:\n",
      "\n",
      "The frame.append method is deprecated and will be removed from pandas in a future version. Use pandas.concat instead.\n",
      "\n",
      "/tmp/ipykernel_1199893/1754898229.py:29: FutureWarning:\n",
      "\n",
      "The frame.append method is deprecated and will be removed from pandas in a future version. Use pandas.concat instead.\n",
      "\n",
      "/tmp/ipykernel_1199893/1754898229.py:29: FutureWarning:\n",
      "\n",
      "The frame.append method is deprecated and will be removed from pandas in a future version. Use pandas.concat instead.\n",
      "\n",
      "/tmp/ipykernel_1199893/1754898229.py:29: FutureWarning:\n",
      "\n",
      "The frame.append method is deprecated and will be removed from pandas in a future version. Use pandas.concat instead.\n",
      "\n",
      "/tmp/ipykernel_1199893/1754898229.py:29: FutureWarning:\n",
      "\n",
      "The frame.append method is deprecated and will be removed from pandas in a future version. Use pandas.concat instead.\n",
      "\n",
      "/tmp/ipykernel_1199893/1754898229.py:29: FutureWarning:\n",
      "\n",
      "The frame.append method is deprecated and will be removed from pandas in a future version. Use pandas.concat instead.\n",
      "\n",
      "/tmp/ipykernel_1199893/1754898229.py:29: FutureWarning:\n",
      "\n",
      "The frame.append method is deprecated and will be removed from pandas in a future version. Use pandas.concat instead.\n",
      "\n",
      "/tmp/ipykernel_1199893/1754898229.py:29: FutureWarning:\n",
      "\n",
      "The frame.append method is deprecated and will be removed from pandas in a future version. Use pandas.concat instead.\n",
      "\n",
      "/tmp/ipykernel_1199893/1754898229.py:29: FutureWarning:\n",
      "\n",
      "The frame.append method is deprecated and will be removed from pandas in a future version. Use pandas.concat instead.\n",
      "\n",
      "/tmp/ipykernel_1199893/1754898229.py:29: FutureWarning:\n",
      "\n",
      "The frame.append method is deprecated and will be removed from pandas in a future version. Use pandas.concat instead.\n",
      "\n",
      "/tmp/ipykernel_1199893/1754898229.py:29: FutureWarning:\n",
      "\n",
      "The frame.append method is deprecated and will be removed from pandas in a future version. Use pandas.concat instead.\n",
      "\n",
      "/tmp/ipykernel_1199893/1754898229.py:29: FutureWarning:\n",
      "\n",
      "The frame.append method is deprecated and will be removed from pandas in a future version. Use pandas.concat instead.\n",
      "\n",
      "/tmp/ipykernel_1199893/1754898229.py:29: FutureWarning:\n",
      "\n",
      "The frame.append method is deprecated and will be removed from pandas in a future version. Use pandas.concat instead.\n",
      "\n",
      "/tmp/ipykernel_1199893/1754898229.py:29: FutureWarning:\n",
      "\n",
      "The frame.append method is deprecated and will be removed from pandas in a future version. Use pandas.concat instead.\n",
      "\n",
      "/tmp/ipykernel_1199893/1754898229.py:29: FutureWarning:\n",
      "\n",
      "The frame.append method is deprecated and will be removed from pandas in a future version. Use pandas.concat instead.\n",
      "\n",
      "/tmp/ipykernel_1199893/1754898229.py:29: FutureWarning:\n",
      "\n",
      "The frame.append method is deprecated and will be removed from pandas in a future version. Use pandas.concat instead.\n",
      "\n",
      "/tmp/ipykernel_1199893/1754898229.py:29: FutureWarning:\n",
      "\n",
      "The frame.append method is deprecated and will be removed from pandas in a future version. Use pandas.concat instead.\n",
      "\n",
      "/tmp/ipykernel_1199893/1754898229.py:29: FutureWarning:\n",
      "\n",
      "The frame.append method is deprecated and will be removed from pandas in a future version. Use pandas.concat instead.\n",
      "\n"
     ]
    }
   ],
   "source": [
    "# Min_Max_Validation과 Max_Term_Validation을 진행할 수 있는 Information DataFrame 개발\n",
    "\n",
    "def Validation_info_Table() :\n",
    "    val_df = pd.DataFrame({'channel' : [], 'Service_id' : [], 'input_max' : [],\n",
    "                        'input_min' : [], 'term_max' : [], 'before_time' : []})\n",
    "\n",
    "    path = '../../Processing/data/Type_A/Pattern/'\n",
    "    file_list = os.listdir(path)\n",
    "    file_list_py = [file for file in file_list if file.endswith('.csv')] ## 파일명 끝이 .csv인 경우\n",
    "\n",
    "    for i in file_list_py :\n",
    "        df = pd.read_csv(path + i)\n",
    "        try :\n",
    "            time_list = []\n",
    "            for i in range(len(df)) :\n",
    "                past = datetime.strptime(df['삽입시간'][i], \"%H:%M:%S\")\n",
    "                cur = datetime.strptime(df['삽입시간'][i+1], \"%H:%M:%S\")\n",
    "                diff =  cur - past\n",
    "                time_list.append(diff)\n",
    "        except :\n",
    "            '뒤에 날짜가 없습니다.'\n",
    "\n",
    "\n",
    "        try :\n",
    "            content = {'channel' : df['채널명'][0], 'Service_id' : df['서비스ID'][0], 'input_max' : df['삽입시간'].max(),\n",
    "                                'input_min' : df['삽입시간'].min(), 'term_max' : max(time_list).seconds, 'before_time' : None}\n",
    "        except :\n",
    "            30000                    \n",
    "        val_df = val_df.append(content, ignore_index = True)\n",
    "        val_df['term_max'] = val_df['term_max'].astype('int') \n",
    "        val_df = val_df.drop_duplicates()\n",
    "    \n",
    "    return val_df.to_csv('./Case2_Validation/Validation_dataframe.csv', index=False)\n",
    "\n",
    "Validation_info_Table()"
   ]
  },
  {
   "cell_type": "code",
   "execution_count": 17,
   "metadata": {},
   "outputs": [
    {
     "data": {
      "application/vnd.plotly.v1+json": {
       "config": {
        "plotlyServerURL": "https://plot.ly"
       },
       "data": [
        {
         "alignmentgroup": "True",
         "hovertemplate": "channel=%{x}<br>term_max=%{y}<extra></extra>",
         "legendgroup": "",
         "marker": {
          "color": "#636efa",
          "pattern": {
           "shape": ""
          }
         },
         "name": "",
         "offsetgroup": "",
         "orientation": "v",
         "showlegend": false,
         "textposition": "auto",
         "type": "bar",
         "x": [
          "애니맥스",
          "리빙TV",
          "팍스경제TV",
          "YTN2",
          "JTBC Golf",
          "이데일리",
          "애니원티비",
          "FTV",
          "토마토증권통",
          "OGN",
          "CH U",
          "머니투데이",
          "Tooniverse",
          "FISHING TV",
          "애니플러스",
          "마운틴TV",
          "KBS story",
          "OBS-W",
          "텔레노벨라",
          "MBC 드라마넷",
          "연합뉴스TV",
          "YTN 사이언스",
          "YTN",
          "nickelodeon",
          "AXN",
          "KBS Life",
          "TV조선",
          "매일경제TV",
          "서울경제TV",
          "채널A",
          "카툰네트워크",
          "MBC NET",
          "GTV",
          "한국경제TV"
         ],
         "xaxis": "x",
         "y": [
          11633,
          7458,
          28732,
          8433,
          57135,
          7119,
          29253,
          7133,
          39409,
          34053,
          53054,
          31640,
          34402,
          11087,
          7963,
          13003,
          23625,
          7576,
          12596,
          39667,
          39926,
          7427,
          32889,
          39652,
          51398,
          58152,
          33888,
          30522,
          10632,
          17970,
          29653,
          21529,
          32880,
          17851
         ],
         "yaxis": "y"
        }
       ],
       "layout": {
        "barmode": "relative",
        "legend": {
         "tracegroupgap": 0
        },
        "margin": {
         "t": 60
        },
        "template": {
         "data": {
          "bar": [
           {
            "error_x": {
             "color": "#2a3f5f"
            },
            "error_y": {
             "color": "#2a3f5f"
            },
            "marker": {
             "line": {
              "color": "#E5ECF6",
              "width": 0.5
             },
             "pattern": {
              "fillmode": "overlay",
              "size": 10,
              "solidity": 0.2
             }
            },
            "type": "bar"
           }
          ],
          "barpolar": [
           {
            "marker": {
             "line": {
              "color": "#E5ECF6",
              "width": 0.5
             },
             "pattern": {
              "fillmode": "overlay",
              "size": 10,
              "solidity": 0.2
             }
            },
            "type": "barpolar"
           }
          ],
          "carpet": [
           {
            "aaxis": {
             "endlinecolor": "#2a3f5f",
             "gridcolor": "white",
             "linecolor": "white",
             "minorgridcolor": "white",
             "startlinecolor": "#2a3f5f"
            },
            "baxis": {
             "endlinecolor": "#2a3f5f",
             "gridcolor": "white",
             "linecolor": "white",
             "minorgridcolor": "white",
             "startlinecolor": "#2a3f5f"
            },
            "type": "carpet"
           }
          ],
          "choropleth": [
           {
            "colorbar": {
             "outlinewidth": 0,
             "ticks": ""
            },
            "type": "choropleth"
           }
          ],
          "contour": [
           {
            "colorbar": {
             "outlinewidth": 0,
             "ticks": ""
            },
            "colorscale": [
             [
              0,
              "#0d0887"
             ],
             [
              0.1111111111111111,
              "#46039f"
             ],
             [
              0.2222222222222222,
              "#7201a8"
             ],
             [
              0.3333333333333333,
              "#9c179e"
             ],
             [
              0.4444444444444444,
              "#bd3786"
             ],
             [
              0.5555555555555556,
              "#d8576b"
             ],
             [
              0.6666666666666666,
              "#ed7953"
             ],
             [
              0.7777777777777778,
              "#fb9f3a"
             ],
             [
              0.8888888888888888,
              "#fdca26"
             ],
             [
              1,
              "#f0f921"
             ]
            ],
            "type": "contour"
           }
          ],
          "contourcarpet": [
           {
            "colorbar": {
             "outlinewidth": 0,
             "ticks": ""
            },
            "type": "contourcarpet"
           }
          ],
          "heatmap": [
           {
            "colorbar": {
             "outlinewidth": 0,
             "ticks": ""
            },
            "colorscale": [
             [
              0,
              "#0d0887"
             ],
             [
              0.1111111111111111,
              "#46039f"
             ],
             [
              0.2222222222222222,
              "#7201a8"
             ],
             [
              0.3333333333333333,
              "#9c179e"
             ],
             [
              0.4444444444444444,
              "#bd3786"
             ],
             [
              0.5555555555555556,
              "#d8576b"
             ],
             [
              0.6666666666666666,
              "#ed7953"
             ],
             [
              0.7777777777777778,
              "#fb9f3a"
             ],
             [
              0.8888888888888888,
              "#fdca26"
             ],
             [
              1,
              "#f0f921"
             ]
            ],
            "type": "heatmap"
           }
          ],
          "heatmapgl": [
           {
            "colorbar": {
             "outlinewidth": 0,
             "ticks": ""
            },
            "colorscale": [
             [
              0,
              "#0d0887"
             ],
             [
              0.1111111111111111,
              "#46039f"
             ],
             [
              0.2222222222222222,
              "#7201a8"
             ],
             [
              0.3333333333333333,
              "#9c179e"
             ],
             [
              0.4444444444444444,
              "#bd3786"
             ],
             [
              0.5555555555555556,
              "#d8576b"
             ],
             [
              0.6666666666666666,
              "#ed7953"
             ],
             [
              0.7777777777777778,
              "#fb9f3a"
             ],
             [
              0.8888888888888888,
              "#fdca26"
             ],
             [
              1,
              "#f0f921"
             ]
            ],
            "type": "heatmapgl"
           }
          ],
          "histogram": [
           {
            "marker": {
             "pattern": {
              "fillmode": "overlay",
              "size": 10,
              "solidity": 0.2
             }
            },
            "type": "histogram"
           }
          ],
          "histogram2d": [
           {
            "colorbar": {
             "outlinewidth": 0,
             "ticks": ""
            },
            "colorscale": [
             [
              0,
              "#0d0887"
             ],
             [
              0.1111111111111111,
              "#46039f"
             ],
             [
              0.2222222222222222,
              "#7201a8"
             ],
             [
              0.3333333333333333,
              "#9c179e"
             ],
             [
              0.4444444444444444,
              "#bd3786"
             ],
             [
              0.5555555555555556,
              "#d8576b"
             ],
             [
              0.6666666666666666,
              "#ed7953"
             ],
             [
              0.7777777777777778,
              "#fb9f3a"
             ],
             [
              0.8888888888888888,
              "#fdca26"
             ],
             [
              1,
              "#f0f921"
             ]
            ],
            "type": "histogram2d"
           }
          ],
          "histogram2dcontour": [
           {
            "colorbar": {
             "outlinewidth": 0,
             "ticks": ""
            },
            "colorscale": [
             [
              0,
              "#0d0887"
             ],
             [
              0.1111111111111111,
              "#46039f"
             ],
             [
              0.2222222222222222,
              "#7201a8"
             ],
             [
              0.3333333333333333,
              "#9c179e"
             ],
             [
              0.4444444444444444,
              "#bd3786"
             ],
             [
              0.5555555555555556,
              "#d8576b"
             ],
             [
              0.6666666666666666,
              "#ed7953"
             ],
             [
              0.7777777777777778,
              "#fb9f3a"
             ],
             [
              0.8888888888888888,
              "#fdca26"
             ],
             [
              1,
              "#f0f921"
             ]
            ],
            "type": "histogram2dcontour"
           }
          ],
          "mesh3d": [
           {
            "colorbar": {
             "outlinewidth": 0,
             "ticks": ""
            },
            "type": "mesh3d"
           }
          ],
          "parcoords": [
           {
            "line": {
             "colorbar": {
              "outlinewidth": 0,
              "ticks": ""
             }
            },
            "type": "parcoords"
           }
          ],
          "pie": [
           {
            "automargin": true,
            "type": "pie"
           }
          ],
          "scatter": [
           {
            "fillpattern": {
             "fillmode": "overlay",
             "size": 10,
             "solidity": 0.2
            },
            "type": "scatter"
           }
          ],
          "scatter3d": [
           {
            "line": {
             "colorbar": {
              "outlinewidth": 0,
              "ticks": ""
             }
            },
            "marker": {
             "colorbar": {
              "outlinewidth": 0,
              "ticks": ""
             }
            },
            "type": "scatter3d"
           }
          ],
          "scattercarpet": [
           {
            "marker": {
             "colorbar": {
              "outlinewidth": 0,
              "ticks": ""
             }
            },
            "type": "scattercarpet"
           }
          ],
          "scattergeo": [
           {
            "marker": {
             "colorbar": {
              "outlinewidth": 0,
              "ticks": ""
             }
            },
            "type": "scattergeo"
           }
          ],
          "scattergl": [
           {
            "marker": {
             "colorbar": {
              "outlinewidth": 0,
              "ticks": ""
             }
            },
            "type": "scattergl"
           }
          ],
          "scattermapbox": [
           {
            "marker": {
             "colorbar": {
              "outlinewidth": 0,
              "ticks": ""
             }
            },
            "type": "scattermapbox"
           }
          ],
          "scatterpolar": [
           {
            "marker": {
             "colorbar": {
              "outlinewidth": 0,
              "ticks": ""
             }
            },
            "type": "scatterpolar"
           }
          ],
          "scatterpolargl": [
           {
            "marker": {
             "colorbar": {
              "outlinewidth": 0,
              "ticks": ""
             }
            },
            "type": "scatterpolargl"
           }
          ],
          "scatterternary": [
           {
            "marker": {
             "colorbar": {
              "outlinewidth": 0,
              "ticks": ""
             }
            },
            "type": "scatterternary"
           }
          ],
          "surface": [
           {
            "colorbar": {
             "outlinewidth": 0,
             "ticks": ""
            },
            "colorscale": [
             [
              0,
              "#0d0887"
             ],
             [
              0.1111111111111111,
              "#46039f"
             ],
             [
              0.2222222222222222,
              "#7201a8"
             ],
             [
              0.3333333333333333,
              "#9c179e"
             ],
             [
              0.4444444444444444,
              "#bd3786"
             ],
             [
              0.5555555555555556,
              "#d8576b"
             ],
             [
              0.6666666666666666,
              "#ed7953"
             ],
             [
              0.7777777777777778,
              "#fb9f3a"
             ],
             [
              0.8888888888888888,
              "#fdca26"
             ],
             [
              1,
              "#f0f921"
             ]
            ],
            "type": "surface"
           }
          ],
          "table": [
           {
            "cells": {
             "fill": {
              "color": "#EBF0F8"
             },
             "line": {
              "color": "white"
             }
            },
            "header": {
             "fill": {
              "color": "#C8D4E3"
             },
             "line": {
              "color": "white"
             }
            },
            "type": "table"
           }
          ]
         },
         "layout": {
          "annotationdefaults": {
           "arrowcolor": "#2a3f5f",
           "arrowhead": 0,
           "arrowwidth": 1
          },
          "autotypenumbers": "strict",
          "coloraxis": {
           "colorbar": {
            "outlinewidth": 0,
            "ticks": ""
           }
          },
          "colorscale": {
           "diverging": [
            [
             0,
             "#8e0152"
            ],
            [
             0.1,
             "#c51b7d"
            ],
            [
             0.2,
             "#de77ae"
            ],
            [
             0.3,
             "#f1b6da"
            ],
            [
             0.4,
             "#fde0ef"
            ],
            [
             0.5,
             "#f7f7f7"
            ],
            [
             0.6,
             "#e6f5d0"
            ],
            [
             0.7,
             "#b8e186"
            ],
            [
             0.8,
             "#7fbc41"
            ],
            [
             0.9,
             "#4d9221"
            ],
            [
             1,
             "#276419"
            ]
           ],
           "sequential": [
            [
             0,
             "#0d0887"
            ],
            [
             0.1111111111111111,
             "#46039f"
            ],
            [
             0.2222222222222222,
             "#7201a8"
            ],
            [
             0.3333333333333333,
             "#9c179e"
            ],
            [
             0.4444444444444444,
             "#bd3786"
            ],
            [
             0.5555555555555556,
             "#d8576b"
            ],
            [
             0.6666666666666666,
             "#ed7953"
            ],
            [
             0.7777777777777778,
             "#fb9f3a"
            ],
            [
             0.8888888888888888,
             "#fdca26"
            ],
            [
             1,
             "#f0f921"
            ]
           ],
           "sequentialminus": [
            [
             0,
             "#0d0887"
            ],
            [
             0.1111111111111111,
             "#46039f"
            ],
            [
             0.2222222222222222,
             "#7201a8"
            ],
            [
             0.3333333333333333,
             "#9c179e"
            ],
            [
             0.4444444444444444,
             "#bd3786"
            ],
            [
             0.5555555555555556,
             "#d8576b"
            ],
            [
             0.6666666666666666,
             "#ed7953"
            ],
            [
             0.7777777777777778,
             "#fb9f3a"
            ],
            [
             0.8888888888888888,
             "#fdca26"
            ],
            [
             1,
             "#f0f921"
            ]
           ]
          },
          "colorway": [
           "#636efa",
           "#EF553B",
           "#00cc96",
           "#ab63fa",
           "#FFA15A",
           "#19d3f3",
           "#FF6692",
           "#B6E880",
           "#FF97FF",
           "#FECB52"
          ],
          "font": {
           "color": "#2a3f5f"
          },
          "geo": {
           "bgcolor": "white",
           "lakecolor": "white",
           "landcolor": "#E5ECF6",
           "showlakes": true,
           "showland": true,
           "subunitcolor": "white"
          },
          "hoverlabel": {
           "align": "left"
          },
          "hovermode": "closest",
          "mapbox": {
           "style": "light"
          },
          "paper_bgcolor": "white",
          "plot_bgcolor": "#E5ECF6",
          "polar": {
           "angularaxis": {
            "gridcolor": "white",
            "linecolor": "white",
            "ticks": ""
           },
           "bgcolor": "#E5ECF6",
           "radialaxis": {
            "gridcolor": "white",
            "linecolor": "white",
            "ticks": ""
           }
          },
          "scene": {
           "xaxis": {
            "backgroundcolor": "#E5ECF6",
            "gridcolor": "white",
            "gridwidth": 2,
            "linecolor": "white",
            "showbackground": true,
            "ticks": "",
            "zerolinecolor": "white"
           },
           "yaxis": {
            "backgroundcolor": "#E5ECF6",
            "gridcolor": "white",
            "gridwidth": 2,
            "linecolor": "white",
            "showbackground": true,
            "ticks": "",
            "zerolinecolor": "white"
           },
           "zaxis": {
            "backgroundcolor": "#E5ECF6",
            "gridcolor": "white",
            "gridwidth": 2,
            "linecolor": "white",
            "showbackground": true,
            "ticks": "",
            "zerolinecolor": "white"
           }
          },
          "shapedefaults": {
           "line": {
            "color": "#2a3f5f"
           }
          },
          "ternary": {
           "aaxis": {
            "gridcolor": "white",
            "linecolor": "white",
            "ticks": ""
           },
           "baxis": {
            "gridcolor": "white",
            "linecolor": "white",
            "ticks": ""
           },
           "bgcolor": "#E5ECF6",
           "caxis": {
            "gridcolor": "white",
            "linecolor": "white",
            "ticks": ""
           }
          },
          "title": {
           "x": 0.05
          },
          "xaxis": {
           "automargin": true,
           "gridcolor": "white",
           "linecolor": "white",
           "ticks": "",
           "title": {
            "standoff": 15
           },
           "zerolinecolor": "white",
           "zerolinewidth": 2
          },
          "yaxis": {
           "automargin": true,
           "gridcolor": "white",
           "linecolor": "white",
           "ticks": "",
           "title": {
            "standoff": 15
           },
           "zerolinecolor": "white",
           "zerolinewidth": 2
          }
         }
        },
        "xaxis": {
         "anchor": "y",
         "domain": [
          0,
          1
         ],
         "title": {
          "text": "channel"
         }
        },
        "yaxis": {
         "anchor": "x",
         "domain": [
          0,
          1
         ],
         "title": {
          "text": "term_max"
         }
        }
       }
      },
      "text/html": [
       "<div>                            <div id=\"e5fdf666-917b-491d-acd7-3ff8c80ce338\" class=\"plotly-graph-div\" style=\"height:525px; width:100%;\"></div>            <script type=\"text/javascript\">                require([\"plotly\"], function(Plotly) {                    window.PLOTLYENV=window.PLOTLYENV || {};                                    if (document.getElementById(\"e5fdf666-917b-491d-acd7-3ff8c80ce338\")) {                    Plotly.newPlot(                        \"e5fdf666-917b-491d-acd7-3ff8c80ce338\",                        [{\"alignmentgroup\":\"True\",\"hovertemplate\":\"channel=%{x}<br>term_max=%{y}<extra></extra>\",\"legendgroup\":\"\",\"marker\":{\"color\":\"#636efa\",\"pattern\":{\"shape\":\"\"}},\"name\":\"\",\"offsetgroup\":\"\",\"orientation\":\"v\",\"showlegend\":false,\"textposition\":\"auto\",\"x\":[\"\\uc560\\ub2c8\\ub9e5\\uc2a4\",\"\\ub9ac\\ube59TV\",\"\\ud30d\\uc2a4\\uacbd\\uc81cTV\",\"YTN2\",\"JTBC Golf\",\"\\uc774\\ub370\\uc77c\\ub9ac\",\"\\uc560\\ub2c8\\uc6d0\\ud2f0\\ube44\",\"FTV\",\"\\ud1a0\\ub9c8\\ud1a0\\uc99d\\uad8c\\ud1b5\",\"OGN\",\"CH U\",\"\\uba38\\ub2c8\\ud22c\\ub370\\uc774\",\"Tooniverse\",\"FISHING TV\",\"\\uc560\\ub2c8\\ud50c\\ub7ec\\uc2a4\",\"\\ub9c8\\uc6b4\\ud2f4TV\",\"KBS story\",\"OBS-W\",\"\\ud154\\ub808\\ub178\\ubca8\\ub77c\",\"MBC \\ub4dc\\ub77c\\ub9c8\\ub137\",\"\\uc5f0\\ud569\\ub274\\uc2a4TV\",\"YTN \\uc0ac\\uc774\\uc5b8\\uc2a4\",\"YTN\",\"nickelodeon\",\"AXN\",\"KBS Life\",\"TV\\uc870\\uc120\",\"\\ub9e4\\uc77c\\uacbd\\uc81cTV\",\"\\uc11c\\uc6b8\\uacbd\\uc81cTV\",\"\\ucc44\\ub110A\",\"\\uce74\\ud230\\ub124\\ud2b8\\uc6cc\\ud06c\",\"MBC NET\",\"GTV\",\"\\ud55c\\uad6d\\uacbd\\uc81cTV\"],\"xaxis\":\"x\",\"y\":[11633,7458,28732,8433,57135,7119,29253,7133,39409,34053,53054,31640,34402,11087,7963,13003,23625,7576,12596,39667,39926,7427,32889,39652,51398,58152,33888,30522,10632,17970,29653,21529,32880,17851],\"yaxis\":\"y\",\"type\":\"bar\"}],                        {\"template\":{\"data\":{\"histogram2dcontour\":[{\"type\":\"histogram2dcontour\",\"colorbar\":{\"outlinewidth\":0,\"ticks\":\"\"},\"colorscale\":[[0.0,\"#0d0887\"],[0.1111111111111111,\"#46039f\"],[0.2222222222222222,\"#7201a8\"],[0.3333333333333333,\"#9c179e\"],[0.4444444444444444,\"#bd3786\"],[0.5555555555555556,\"#d8576b\"],[0.6666666666666666,\"#ed7953\"],[0.7777777777777778,\"#fb9f3a\"],[0.8888888888888888,\"#fdca26\"],[1.0,\"#f0f921\"]]}],\"choropleth\":[{\"type\":\"choropleth\",\"colorbar\":{\"outlinewidth\":0,\"ticks\":\"\"}}],\"histogram2d\":[{\"type\":\"histogram2d\",\"colorbar\":{\"outlinewidth\":0,\"ticks\":\"\"},\"colorscale\":[[0.0,\"#0d0887\"],[0.1111111111111111,\"#46039f\"],[0.2222222222222222,\"#7201a8\"],[0.3333333333333333,\"#9c179e\"],[0.4444444444444444,\"#bd3786\"],[0.5555555555555556,\"#d8576b\"],[0.6666666666666666,\"#ed7953\"],[0.7777777777777778,\"#fb9f3a\"],[0.8888888888888888,\"#fdca26\"],[1.0,\"#f0f921\"]]}],\"heatmap\":[{\"type\":\"heatmap\",\"colorbar\":{\"outlinewidth\":0,\"ticks\":\"\"},\"colorscale\":[[0.0,\"#0d0887\"],[0.1111111111111111,\"#46039f\"],[0.2222222222222222,\"#7201a8\"],[0.3333333333333333,\"#9c179e\"],[0.4444444444444444,\"#bd3786\"],[0.5555555555555556,\"#d8576b\"],[0.6666666666666666,\"#ed7953\"],[0.7777777777777778,\"#fb9f3a\"],[0.8888888888888888,\"#fdca26\"],[1.0,\"#f0f921\"]]}],\"heatmapgl\":[{\"type\":\"heatmapgl\",\"colorbar\":{\"outlinewidth\":0,\"ticks\":\"\"},\"colorscale\":[[0.0,\"#0d0887\"],[0.1111111111111111,\"#46039f\"],[0.2222222222222222,\"#7201a8\"],[0.3333333333333333,\"#9c179e\"],[0.4444444444444444,\"#bd3786\"],[0.5555555555555556,\"#d8576b\"],[0.6666666666666666,\"#ed7953\"],[0.7777777777777778,\"#fb9f3a\"],[0.8888888888888888,\"#fdca26\"],[1.0,\"#f0f921\"]]}],\"contourcarpet\":[{\"type\":\"contourcarpet\",\"colorbar\":{\"outlinewidth\":0,\"ticks\":\"\"}}],\"contour\":[{\"type\":\"contour\",\"colorbar\":{\"outlinewidth\":0,\"ticks\":\"\"},\"colorscale\":[[0.0,\"#0d0887\"],[0.1111111111111111,\"#46039f\"],[0.2222222222222222,\"#7201a8\"],[0.3333333333333333,\"#9c179e\"],[0.4444444444444444,\"#bd3786\"],[0.5555555555555556,\"#d8576b\"],[0.6666666666666666,\"#ed7953\"],[0.7777777777777778,\"#fb9f3a\"],[0.8888888888888888,\"#fdca26\"],[1.0,\"#f0f921\"]]}],\"surface\":[{\"type\":\"surface\",\"colorbar\":{\"outlinewidth\":0,\"ticks\":\"\"},\"colorscale\":[[0.0,\"#0d0887\"],[0.1111111111111111,\"#46039f\"],[0.2222222222222222,\"#7201a8\"],[0.3333333333333333,\"#9c179e\"],[0.4444444444444444,\"#bd3786\"],[0.5555555555555556,\"#d8576b\"],[0.6666666666666666,\"#ed7953\"],[0.7777777777777778,\"#fb9f3a\"],[0.8888888888888888,\"#fdca26\"],[1.0,\"#f0f921\"]]}],\"mesh3d\":[{\"type\":\"mesh3d\",\"colorbar\":{\"outlinewidth\":0,\"ticks\":\"\"}}],\"scatter\":[{\"fillpattern\":{\"fillmode\":\"overlay\",\"size\":10,\"solidity\":0.2},\"type\":\"scatter\"}],\"parcoords\":[{\"type\":\"parcoords\",\"line\":{\"colorbar\":{\"outlinewidth\":0,\"ticks\":\"\"}}}],\"scatterpolargl\":[{\"type\":\"scatterpolargl\",\"marker\":{\"colorbar\":{\"outlinewidth\":0,\"ticks\":\"\"}}}],\"bar\":[{\"error_x\":{\"color\":\"#2a3f5f\"},\"error_y\":{\"color\":\"#2a3f5f\"},\"marker\":{\"line\":{\"color\":\"#E5ECF6\",\"width\":0.5},\"pattern\":{\"fillmode\":\"overlay\",\"size\":10,\"solidity\":0.2}},\"type\":\"bar\"}],\"scattergeo\":[{\"type\":\"scattergeo\",\"marker\":{\"colorbar\":{\"outlinewidth\":0,\"ticks\":\"\"}}}],\"scatterpolar\":[{\"type\":\"scatterpolar\",\"marker\":{\"colorbar\":{\"outlinewidth\":0,\"ticks\":\"\"}}}],\"histogram\":[{\"marker\":{\"pattern\":{\"fillmode\":\"overlay\",\"size\":10,\"solidity\":0.2}},\"type\":\"histogram\"}],\"scattergl\":[{\"type\":\"scattergl\",\"marker\":{\"colorbar\":{\"outlinewidth\":0,\"ticks\":\"\"}}}],\"scatter3d\":[{\"type\":\"scatter3d\",\"line\":{\"colorbar\":{\"outlinewidth\":0,\"ticks\":\"\"}},\"marker\":{\"colorbar\":{\"outlinewidth\":0,\"ticks\":\"\"}}}],\"scattermapbox\":[{\"type\":\"scattermapbox\",\"marker\":{\"colorbar\":{\"outlinewidth\":0,\"ticks\":\"\"}}}],\"scatterternary\":[{\"type\":\"scatterternary\",\"marker\":{\"colorbar\":{\"outlinewidth\":0,\"ticks\":\"\"}}}],\"scattercarpet\":[{\"type\":\"scattercarpet\",\"marker\":{\"colorbar\":{\"outlinewidth\":0,\"ticks\":\"\"}}}],\"carpet\":[{\"aaxis\":{\"endlinecolor\":\"#2a3f5f\",\"gridcolor\":\"white\",\"linecolor\":\"white\",\"minorgridcolor\":\"white\",\"startlinecolor\":\"#2a3f5f\"},\"baxis\":{\"endlinecolor\":\"#2a3f5f\",\"gridcolor\":\"white\",\"linecolor\":\"white\",\"minorgridcolor\":\"white\",\"startlinecolor\":\"#2a3f5f\"},\"type\":\"carpet\"}],\"table\":[{\"cells\":{\"fill\":{\"color\":\"#EBF0F8\"},\"line\":{\"color\":\"white\"}},\"header\":{\"fill\":{\"color\":\"#C8D4E3\"},\"line\":{\"color\":\"white\"}},\"type\":\"table\"}],\"barpolar\":[{\"marker\":{\"line\":{\"color\":\"#E5ECF6\",\"width\":0.5},\"pattern\":{\"fillmode\":\"overlay\",\"size\":10,\"solidity\":0.2}},\"type\":\"barpolar\"}],\"pie\":[{\"automargin\":true,\"type\":\"pie\"}]},\"layout\":{\"autotypenumbers\":\"strict\",\"colorway\":[\"#636efa\",\"#EF553B\",\"#00cc96\",\"#ab63fa\",\"#FFA15A\",\"#19d3f3\",\"#FF6692\",\"#B6E880\",\"#FF97FF\",\"#FECB52\"],\"font\":{\"color\":\"#2a3f5f\"},\"hovermode\":\"closest\",\"hoverlabel\":{\"align\":\"left\"},\"paper_bgcolor\":\"white\",\"plot_bgcolor\":\"#E5ECF6\",\"polar\":{\"bgcolor\":\"#E5ECF6\",\"angularaxis\":{\"gridcolor\":\"white\",\"linecolor\":\"white\",\"ticks\":\"\"},\"radialaxis\":{\"gridcolor\":\"white\",\"linecolor\":\"white\",\"ticks\":\"\"}},\"ternary\":{\"bgcolor\":\"#E5ECF6\",\"aaxis\":{\"gridcolor\":\"white\",\"linecolor\":\"white\",\"ticks\":\"\"},\"baxis\":{\"gridcolor\":\"white\",\"linecolor\":\"white\",\"ticks\":\"\"},\"caxis\":{\"gridcolor\":\"white\",\"linecolor\":\"white\",\"ticks\":\"\"}},\"coloraxis\":{\"colorbar\":{\"outlinewidth\":0,\"ticks\":\"\"}},\"colorscale\":{\"sequential\":[[0.0,\"#0d0887\"],[0.1111111111111111,\"#46039f\"],[0.2222222222222222,\"#7201a8\"],[0.3333333333333333,\"#9c179e\"],[0.4444444444444444,\"#bd3786\"],[0.5555555555555556,\"#d8576b\"],[0.6666666666666666,\"#ed7953\"],[0.7777777777777778,\"#fb9f3a\"],[0.8888888888888888,\"#fdca26\"],[1.0,\"#f0f921\"]],\"sequentialminus\":[[0.0,\"#0d0887\"],[0.1111111111111111,\"#46039f\"],[0.2222222222222222,\"#7201a8\"],[0.3333333333333333,\"#9c179e\"],[0.4444444444444444,\"#bd3786\"],[0.5555555555555556,\"#d8576b\"],[0.6666666666666666,\"#ed7953\"],[0.7777777777777778,\"#fb9f3a\"],[0.8888888888888888,\"#fdca26\"],[1.0,\"#f0f921\"]],\"diverging\":[[0,\"#8e0152\"],[0.1,\"#c51b7d\"],[0.2,\"#de77ae\"],[0.3,\"#f1b6da\"],[0.4,\"#fde0ef\"],[0.5,\"#f7f7f7\"],[0.6,\"#e6f5d0\"],[0.7,\"#b8e186\"],[0.8,\"#7fbc41\"],[0.9,\"#4d9221\"],[1,\"#276419\"]]},\"xaxis\":{\"gridcolor\":\"white\",\"linecolor\":\"white\",\"ticks\":\"\",\"title\":{\"standoff\":15},\"zerolinecolor\":\"white\",\"automargin\":true,\"zerolinewidth\":2},\"yaxis\":{\"gridcolor\":\"white\",\"linecolor\":\"white\",\"ticks\":\"\",\"title\":{\"standoff\":15},\"zerolinecolor\":\"white\",\"automargin\":true,\"zerolinewidth\":2},\"scene\":{\"xaxis\":{\"backgroundcolor\":\"#E5ECF6\",\"gridcolor\":\"white\",\"linecolor\":\"white\",\"showbackground\":true,\"ticks\":\"\",\"zerolinecolor\":\"white\",\"gridwidth\":2},\"yaxis\":{\"backgroundcolor\":\"#E5ECF6\",\"gridcolor\":\"white\",\"linecolor\":\"white\",\"showbackground\":true,\"ticks\":\"\",\"zerolinecolor\":\"white\",\"gridwidth\":2},\"zaxis\":{\"backgroundcolor\":\"#E5ECF6\",\"gridcolor\":\"white\",\"linecolor\":\"white\",\"showbackground\":true,\"ticks\":\"\",\"zerolinecolor\":\"white\",\"gridwidth\":2}},\"shapedefaults\":{\"line\":{\"color\":\"#2a3f5f\"}},\"annotationdefaults\":{\"arrowcolor\":\"#2a3f5f\",\"arrowhead\":0,\"arrowwidth\":1},\"geo\":{\"bgcolor\":\"white\",\"landcolor\":\"#E5ECF6\",\"subunitcolor\":\"white\",\"showland\":true,\"showlakes\":true,\"lakecolor\":\"white\"},\"title\":{\"x\":0.05},\"mapbox\":{\"style\":\"light\"}}},\"xaxis\":{\"anchor\":\"y\",\"domain\":[0.0,1.0],\"title\":{\"text\":\"channel\"}},\"yaxis\":{\"anchor\":\"x\",\"domain\":[0.0,1.0],\"title\":{\"text\":\"term_max\"}},\"legend\":{\"tracegroupgap\":0},\"margin\":{\"t\":60},\"barmode\":\"relative\"},                        {\"responsive\": true}                    ).then(function(){\n",
       "                            \n",
       "var gd = document.getElementById('e5fdf666-917b-491d-acd7-3ff8c80ce338');\n",
       "var x = new MutationObserver(function (mutations, observer) {{\n",
       "        var display = window.getComputedStyle(gd).display;\n",
       "        if (!display || display === 'none') {{\n",
       "            console.log([gd, 'removed!']);\n",
       "            Plotly.purge(gd);\n",
       "            observer.disconnect();\n",
       "        }}\n",
       "}});\n",
       "\n",
       "// Listen for the removal of the full notebook cells\n",
       "var notebookContainer = gd.closest('#notebook-container');\n",
       "if (notebookContainer) {{\n",
       "    x.observe(notebookContainer, {childList: true});\n",
       "}}\n",
       "\n",
       "// Listen for the clearing of the current output cell\n",
       "var outputEl = gd.closest('.output');\n",
       "if (outputEl) {{\n",
       "    x.observe(outputEl, {childList: true});\n",
       "}}\n",
       "\n",
       "                        })                };                });            </script>        </div>"
      ]
     },
     "metadata": {},
     "output_type": "display_data"
    },
    {
     "data": {
      "text/html": [
       "<div>\n",
       "<style scoped>\n",
       "    .dataframe tbody tr th:only-of-type {\n",
       "        vertical-align: middle;\n",
       "    }\n",
       "\n",
       "    .dataframe tbody tr th {\n",
       "        vertical-align: top;\n",
       "    }\n",
       "\n",
       "    .dataframe thead th {\n",
       "        text-align: right;\n",
       "    }\n",
       "</style>\n",
       "<table border=\"1\" class=\"dataframe\">\n",
       "  <thead>\n",
       "    <tr style=\"text-align: right;\">\n",
       "      <th></th>\n",
       "      <th>channel</th>\n",
       "      <th>Service_id</th>\n",
       "      <th>input_max</th>\n",
       "      <th>input_min</th>\n",
       "      <th>term_max</th>\n",
       "      <th>before_time</th>\n",
       "    </tr>\n",
       "  </thead>\n",
       "  <tbody>\n",
       "    <tr>\n",
       "      <th>0</th>\n",
       "      <td>이데일리</td>\n",
       "      <td>284.0</td>\n",
       "      <td>23:59:57</td>\n",
       "      <td>00:00:00</td>\n",
       "      <td>7119</td>\n",
       "      <td>NaN</td>\n",
       "    </tr>\n",
       "    <tr>\n",
       "      <th>1</th>\n",
       "      <td>FTV</td>\n",
       "      <td>331.0</td>\n",
       "      <td>23:11:04</td>\n",
       "      <td>00:04:27</td>\n",
       "      <td>7133</td>\n",
       "      <td>NaN</td>\n",
       "    </tr>\n",
       "    <tr>\n",
       "      <th>2</th>\n",
       "      <td>YTN 사이언스</td>\n",
       "      <td>329.0</td>\n",
       "      <td>23:59:58</td>\n",
       "      <td>00:00:00</td>\n",
       "      <td>7427</td>\n",
       "      <td>NaN</td>\n",
       "    </tr>\n",
       "    <tr>\n",
       "      <th>3</th>\n",
       "      <td>리빙TV</td>\n",
       "      <td>679.0</td>\n",
       "      <td>23:59:58</td>\n",
       "      <td>00:00:00</td>\n",
       "      <td>7458</td>\n",
       "      <td>NaN</td>\n",
       "    </tr>\n",
       "    <tr>\n",
       "      <th>4</th>\n",
       "      <td>OBS-W</td>\n",
       "      <td>321.0</td>\n",
       "      <td>23:59:53</td>\n",
       "      <td>00:00:00</td>\n",
       "      <td>7576</td>\n",
       "      <td>NaN</td>\n",
       "    </tr>\n",
       "    <tr>\n",
       "      <th>5</th>\n",
       "      <td>애니플러스</td>\n",
       "      <td>327.0</td>\n",
       "      <td>23:59:22</td>\n",
       "      <td>00:01:09</td>\n",
       "      <td>7963</td>\n",
       "      <td>NaN</td>\n",
       "    </tr>\n",
       "    <tr>\n",
       "      <th>6</th>\n",
       "      <td>YTN2</td>\n",
       "      <td>318.0</td>\n",
       "      <td>23:59:04</td>\n",
       "      <td>00:01:03</td>\n",
       "      <td>8433</td>\n",
       "      <td>NaN</td>\n",
       "    </tr>\n",
       "    <tr>\n",
       "      <th>7</th>\n",
       "      <td>서울경제TV</td>\n",
       "      <td>448.0</td>\n",
       "      <td>23:59:26</td>\n",
       "      <td>00:00:00</td>\n",
       "      <td>10632</td>\n",
       "      <td>NaN</td>\n",
       "    </tr>\n",
       "    <tr>\n",
       "      <th>8</th>\n",
       "      <td>FISHING TV</td>\n",
       "      <td>230.0</td>\n",
       "      <td>23:59:58</td>\n",
       "      <td>00:00:01</td>\n",
       "      <td>11087</td>\n",
       "      <td>NaN</td>\n",
       "    </tr>\n",
       "    <tr>\n",
       "      <th>9</th>\n",
       "      <td>애니맥스</td>\n",
       "      <td>399.0</td>\n",
       "      <td>23:59:29</td>\n",
       "      <td>00:10:32</td>\n",
       "      <td>11633</td>\n",
       "      <td>NaN</td>\n",
       "    </tr>\n",
       "    <tr>\n",
       "      <th>10</th>\n",
       "      <td>텔레노벨라</td>\n",
       "      <td>336.0</td>\n",
       "      <td>23:59:57</td>\n",
       "      <td>00:00:24</td>\n",
       "      <td>12596</td>\n",
       "      <td>NaN</td>\n",
       "    </tr>\n",
       "    <tr>\n",
       "      <th>11</th>\n",
       "      <td>마운틴TV</td>\n",
       "      <td>718.0</td>\n",
       "      <td>23:59:57</td>\n",
       "      <td>00:48:58</td>\n",
       "      <td>13003</td>\n",
       "      <td>NaN</td>\n",
       "    </tr>\n",
       "    <tr>\n",
       "      <th>12</th>\n",
       "      <td>한국경제TV</td>\n",
       "      <td>378.0</td>\n",
       "      <td>23:59:59</td>\n",
       "      <td>00:00:00</td>\n",
       "      <td>17851</td>\n",
       "      <td>NaN</td>\n",
       "    </tr>\n",
       "    <tr>\n",
       "      <th>13</th>\n",
       "      <td>채널A</td>\n",
       "      <td>363.0</td>\n",
       "      <td>17:09:40</td>\n",
       "      <td>00:02:31</td>\n",
       "      <td>17970</td>\n",
       "      <td>NaN</td>\n",
       "    </tr>\n",
       "    <tr>\n",
       "      <th>14</th>\n",
       "      <td>MBC NET</td>\n",
       "      <td>289.0</td>\n",
       "      <td>23:59:58</td>\n",
       "      <td>00:00:00</td>\n",
       "      <td>21529</td>\n",
       "      <td>NaN</td>\n",
       "    </tr>\n",
       "    <tr>\n",
       "      <th>15</th>\n",
       "      <td>KBS story</td>\n",
       "      <td>385.0</td>\n",
       "      <td>23:45:10</td>\n",
       "      <td>00:01:06</td>\n",
       "      <td>23625</td>\n",
       "      <td>NaN</td>\n",
       "    </tr>\n",
       "    <tr>\n",
       "      <th>16</th>\n",
       "      <td>팍스경제TV</td>\n",
       "      <td>325.0</td>\n",
       "      <td>23:58:46</td>\n",
       "      <td>00:55:36</td>\n",
       "      <td>28732</td>\n",
       "      <td>NaN</td>\n",
       "    </tr>\n",
       "    <tr>\n",
       "      <th>17</th>\n",
       "      <td>애니원티비</td>\n",
       "      <td>283.0</td>\n",
       "      <td>23:47:01</td>\n",
       "      <td>00:00:57</td>\n",
       "      <td>29253</td>\n",
       "      <td>NaN</td>\n",
       "    </tr>\n",
       "    <tr>\n",
       "      <th>18</th>\n",
       "      <td>카툰네트워크</td>\n",
       "      <td>220.0</td>\n",
       "      <td>23:59:38</td>\n",
       "      <td>00:00:19</td>\n",
       "      <td>29653</td>\n",
       "      <td>NaN</td>\n",
       "    </tr>\n",
       "    <tr>\n",
       "      <th>19</th>\n",
       "      <td>매일경제TV</td>\n",
       "      <td>397.0</td>\n",
       "      <td>23:58:52</td>\n",
       "      <td>00:30:40</td>\n",
       "      <td>30522</td>\n",
       "      <td>NaN</td>\n",
       "    </tr>\n",
       "    <tr>\n",
       "      <th>20</th>\n",
       "      <td>머니투데이</td>\n",
       "      <td>248.0</td>\n",
       "      <td>23:58:47</td>\n",
       "      <td>00:24:25</td>\n",
       "      <td>31640</td>\n",
       "      <td>NaN</td>\n",
       "    </tr>\n",
       "    <tr>\n",
       "      <th>21</th>\n",
       "      <td>GTV</td>\n",
       "      <td>361.0</td>\n",
       "      <td>21:46:33</td>\n",
       "      <td>02:26:07</td>\n",
       "      <td>32880</td>\n",
       "      <td>NaN</td>\n",
       "    </tr>\n",
       "    <tr>\n",
       "      <th>22</th>\n",
       "      <td>YTN</td>\n",
       "      <td>320.0</td>\n",
       "      <td>23:46:13</td>\n",
       "      <td>00:42:21</td>\n",
       "      <td>32889</td>\n",
       "      <td>NaN</td>\n",
       "    </tr>\n",
       "    <tr>\n",
       "      <th>23</th>\n",
       "      <td>TV조선</td>\n",
       "      <td>365.0</td>\n",
       "      <td>23:59:23</td>\n",
       "      <td>00:01:31</td>\n",
       "      <td>33888</td>\n",
       "      <td>NaN</td>\n",
       "    </tr>\n",
       "    <tr>\n",
       "      <th>24</th>\n",
       "      <td>OGN</td>\n",
       "      <td>211.0</td>\n",
       "      <td>23:59:57</td>\n",
       "      <td>00:00:00</td>\n",
       "      <td>34053</td>\n",
       "      <td>NaN</td>\n",
       "    </tr>\n",
       "    <tr>\n",
       "      <th>25</th>\n",
       "      <td>Tooniverse</td>\n",
       "      <td>398.0</td>\n",
       "      <td>23:59:58</td>\n",
       "      <td>00:00:00</td>\n",
       "      <td>34402</td>\n",
       "      <td>NaN</td>\n",
       "    </tr>\n",
       "    <tr>\n",
       "      <th>26</th>\n",
       "      <td>토마토증권통</td>\n",
       "      <td>340.0</td>\n",
       "      <td>23:59:45</td>\n",
       "      <td>00:00:00</td>\n",
       "      <td>39409</td>\n",
       "      <td>NaN</td>\n",
       "    </tr>\n",
       "    <tr>\n",
       "      <th>27</th>\n",
       "      <td>nickelodeon</td>\n",
       "      <td>392.0</td>\n",
       "      <td>23:59:56</td>\n",
       "      <td>00:00:01</td>\n",
       "      <td>39652</td>\n",
       "      <td>NaN</td>\n",
       "    </tr>\n",
       "    <tr>\n",
       "      <th>28</th>\n",
       "      <td>MBC 드라마넷</td>\n",
       "      <td>711.0</td>\n",
       "      <td>23:59:57</td>\n",
       "      <td>00:01:54</td>\n",
       "      <td>39667</td>\n",
       "      <td>NaN</td>\n",
       "    </tr>\n",
       "    <tr>\n",
       "      <th>29</th>\n",
       "      <td>연합뉴스TV</td>\n",
       "      <td>367.0</td>\n",
       "      <td>23:55:15</td>\n",
       "      <td>00:50:10</td>\n",
       "      <td>39926</td>\n",
       "      <td>NaN</td>\n",
       "    </tr>\n",
       "    <tr>\n",
       "      <th>30</th>\n",
       "      <td>AXN</td>\n",
       "      <td>707.0</td>\n",
       "      <td>23:59:19</td>\n",
       "      <td>00:00:02</td>\n",
       "      <td>51398</td>\n",
       "      <td>NaN</td>\n",
       "    </tr>\n",
       "    <tr>\n",
       "      <th>31</th>\n",
       "      <td>CH U</td>\n",
       "      <td>726.0</td>\n",
       "      <td>23:45:10</td>\n",
       "      <td>00:04:08</td>\n",
       "      <td>53054</td>\n",
       "      <td>NaN</td>\n",
       "    </tr>\n",
       "    <tr>\n",
       "      <th>32</th>\n",
       "      <td>JTBC Golf</td>\n",
       "      <td>377.0</td>\n",
       "      <td>23:59:58</td>\n",
       "      <td>00:00:03</td>\n",
       "      <td>57135</td>\n",
       "      <td>NaN</td>\n",
       "    </tr>\n",
       "    <tr>\n",
       "      <th>33</th>\n",
       "      <td>KBS Life</td>\n",
       "      <td>493.0</td>\n",
       "      <td>23:59:40</td>\n",
       "      <td>00:00:00</td>\n",
       "      <td>58152</td>\n",
       "      <td>NaN</td>\n",
       "    </tr>\n",
       "  </tbody>\n",
       "</table>\n",
       "</div>"
      ],
      "text/plain": [
       "        channel  Service_id input_max input_min  term_max  before_time\n",
       "0          이데일리       284.0  23:59:57  00:00:00      7119          NaN\n",
       "1           FTV       331.0  23:11:04  00:04:27      7133          NaN\n",
       "2      YTN 사이언스       329.0  23:59:58  00:00:00      7427          NaN\n",
       "3          리빙TV       679.0  23:59:58  00:00:00      7458          NaN\n",
       "4         OBS-W       321.0  23:59:53  00:00:00      7576          NaN\n",
       "5         애니플러스       327.0  23:59:22  00:01:09      7963          NaN\n",
       "6          YTN2       318.0  23:59:04  00:01:03      8433          NaN\n",
       "7        서울경제TV       448.0  23:59:26  00:00:00     10632          NaN\n",
       "8    FISHING TV       230.0  23:59:58  00:00:01     11087          NaN\n",
       "9          애니맥스       399.0  23:59:29  00:10:32     11633          NaN\n",
       "10        텔레노벨라       336.0  23:59:57  00:00:24     12596          NaN\n",
       "11        마운틴TV       718.0  23:59:57  00:48:58     13003          NaN\n",
       "12       한국경제TV       378.0  23:59:59  00:00:00     17851          NaN\n",
       "13          채널A       363.0  17:09:40  00:02:31     17970          NaN\n",
       "14      MBC NET       289.0  23:59:58  00:00:00     21529          NaN\n",
       "15    KBS story       385.0  23:45:10  00:01:06     23625          NaN\n",
       "16       팍스경제TV       325.0  23:58:46  00:55:36     28732          NaN\n",
       "17        애니원티비       283.0  23:47:01  00:00:57     29253          NaN\n",
       "18       카툰네트워크       220.0  23:59:38  00:00:19     29653          NaN\n",
       "19       매일경제TV       397.0  23:58:52  00:30:40     30522          NaN\n",
       "20        머니투데이       248.0  23:58:47  00:24:25     31640          NaN\n",
       "21          GTV       361.0  21:46:33  02:26:07     32880          NaN\n",
       "22          YTN       320.0  23:46:13  00:42:21     32889          NaN\n",
       "23         TV조선       365.0  23:59:23  00:01:31     33888          NaN\n",
       "24          OGN       211.0  23:59:57  00:00:00     34053          NaN\n",
       "25   Tooniverse       398.0  23:59:58  00:00:00     34402          NaN\n",
       "26       토마토증권통       340.0  23:59:45  00:00:00     39409          NaN\n",
       "27  nickelodeon       392.0  23:59:56  00:00:01     39652          NaN\n",
       "28     MBC 드라마넷       711.0  23:59:57  00:01:54     39667          NaN\n",
       "29       연합뉴스TV       367.0  23:55:15  00:50:10     39926          NaN\n",
       "30          AXN       707.0  23:59:19  00:00:02     51398          NaN\n",
       "31         CH U       726.0  23:45:10  00:04:08     53054          NaN\n",
       "32    JTBC Golf       377.0  23:59:58  00:00:03     57135          NaN\n",
       "33     KBS Life       493.0  23:59:40  00:00:00     58152          NaN"
      ]
     },
     "execution_count": 17,
     "metadata": {},
     "output_type": "execute_result"
    }
   ],
   "source": [
    "### Visualization ###\n",
    "\n",
    "val_df = pd.read_csv('./Case2_Validation/Validation_dataframe.csv')\n",
    "sns.set(font='NanumGothic',\n",
    "rc={\"axes.unicode_minus\":False, 'figure.figsize':(20,8)},\n",
    "style='darkgrid')\n",
    "\n",
    "target_df = pd.DataFrame(val_df[\"channel\"].value_counts()).reset_index()\n",
    "target_df.sort_values(by =\"channel\" , ignore_index = True)\n",
    "\n",
    "TARGET = 'channel'\n",
    "\n",
    "target_df.columns = [TARGET, val_df['term_max']]\n",
    "\n",
    "## keyword 개수가 30개 이상인 단어만 출력\n",
    "target_df = val_df\n",
    "fig = px.bar(data_frame =target_df, \n",
    "            x = 'channel',\n",
    "            y = 'term_max' , \n",
    "            color_continuous_scale=\"Emrld\") \n",
    "fig.show()\n",
    "target_df.sort_values(by ='term_max' , ignore_index = True)"
   ]
  },
  {
   "cell_type": "markdown",
   "metadata": {},
   "source": [
    "## Term_Max Visualization"
   ]
  },
  {
   "cell_type": "code",
   "execution_count": 18,
   "metadata": {},
   "outputs": [],
   "source": [
    "### 예시 데이터 - 서울경제TV\n",
    "data = pd.read_csv('../data/전체신호_cusotm.csv')\n",
    "data1 = data[58:59]\n",
    "data2 = data[61:62]"
   ]
  },
  {
   "cell_type": "code",
   "execution_count": 19,
   "metadata": {},
   "outputs": [
    {
     "name": "stderr",
     "output_type": "stream",
     "text": [
      "/tmp/ipykernel_1199893/4106838021.py:8: SettingWithCopyWarning:\n",
      "\n",
      "\n",
      "A value is trying to be set on a copy of a slice from a DataFrame\n",
      "\n",
      "See the caveats in the documentation: https://pandas.pydata.org/pandas-docs/stable/user_guide/indexing.html#returning-a-view-versus-a-copy\n",
      "\n"
     ]
    }
   ],
   "source": [
    "## 이전 데이터 Validation 테이블에 저장 \n",
    "\n",
    "def Save_Before_Data(data) :\n",
    "    \n",
    "    val_df = pd.read_csv('./Case2_Validation/Validation_dataframe.csv')\n",
    "    for i in range(len(val_df)) :\n",
    "        if val_df['Service_id'][i] == data['서비스ID'].iloc[0] :\n",
    "            val_df['before_time'].iloc[i] = data['삽입시간'].iloc[0]\n",
    "    return val_df.to_csv('./Case2_Validation/Validation_dataframe.csv', index=False)\n",
    "    # val_df['input_max'] = val_df['input_max'].astype(int)  ## 수치 비교를 위한 타입 변경\n",
    "    # val_df['input_min'] = val_df['input_min'].astype(int) \n",
    "    # data['삽입시간'] = data['삽입시간'].astype(int)\n",
    "Save_Before_Data(data1)"
   ]
  },
  {
   "cell_type": "code",
   "execution_count": 20,
   "metadata": {},
   "outputs": [],
   "source": [
    "## 6개월치 데이터에서 하루 중 가장 긴 텀을 뽑아내어 큐톤 데이터가 입력 되었을때 전에 입력된 큐톤 시간과 비교하여 이상유무 체크\n",
    "\n",
    "def Max_Term_Validation(data) :\n",
    "    val_df = pd.read_csv('./Case2_Validation/Validation_dataframe.csv')\n",
    "    print(val_df)\n",
    "    diff = []\n",
    "    for i in range(len(val_df)) :\n",
    "        if val_df['Service_id'][i] == data['서비스ID'].iloc[0] :\n",
    "            past = datetime.strptime(val_df['before_time'].iloc[i], \"%H:%M:%S\")\n",
    "            current = datetime.strptime(data['삽입시간'].iloc[0], \"%H:%M:%S\")\n",
    "            diff =  current - past\n",
    "            diff = diff.seconds\n",
    "    result = []\n",
    "    for i in range(len(val_df)) :\n",
    "        if val_df['Service_id'][i] == data['서비스ID'].iloc[0] :\n",
    "            if val_df['term_max'].iloc[i] >= diff :\n",
    "                answer = '정상데이터'\n",
    "                result.append(answer)   \n",
    "            elif val_df['term_max'].iloc[i] < diff :\n",
    "                answer = '이상데이터'\n",
    "                result.append(answer)  \n",
    "\n",
    "    return result"
   ]
  },
  {
   "cell_type": "code",
   "execution_count": 21,
   "metadata": {},
   "outputs": [
    {
     "name": "stdout",
     "output_type": "stream",
     "text": [
      "        channel  Service_id input_max input_min  term_max before_time\n",
      "0          애니맥스       399.0  23:59:29  00:10:32     11633         NaN\n",
      "1          리빙TV       679.0  23:59:58  00:00:00      7458         NaN\n",
      "2        팍스경제TV       325.0  23:58:46  00:55:36     28732         NaN\n",
      "3          YTN2       318.0  23:59:04  00:01:03      8433         NaN\n",
      "4     JTBC Golf       377.0  23:59:58  00:00:03     57135         NaN\n",
      "5          이데일리       284.0  23:59:57  00:00:00      7119         NaN\n",
      "6         애니원티비       283.0  23:47:01  00:00:57     29253         NaN\n",
      "7           FTV       331.0  23:11:04  00:04:27      7133         NaN\n",
      "8        토마토증권통       340.0  23:59:45  00:00:00     39409         NaN\n",
      "9           OGN       211.0  23:59:57  00:00:00     34053         NaN\n",
      "10         CH U       726.0  23:45:10  00:04:08     53054         NaN\n",
      "11        머니투데이       248.0  23:58:47  00:24:25     31640         NaN\n",
      "12   Tooniverse       398.0  23:59:58  00:00:00     34402         NaN\n",
      "13   FISHING TV       230.0  23:59:58  00:00:01     11087         NaN\n",
      "14        애니플러스       327.0  23:59:22  00:01:09      7963         NaN\n",
      "15        마운틴TV       718.0  23:59:57  00:48:58     13003         NaN\n",
      "16    KBS story       385.0  23:45:10  00:01:06     23625         NaN\n",
      "17        OBS-W       321.0  23:59:53  00:00:00      7576         NaN\n",
      "18        텔레노벨라       336.0  23:59:57  00:00:24     12596         NaN\n",
      "19     MBC 드라마넷       711.0  23:59:57  00:01:54     39667         NaN\n",
      "20       연합뉴스TV       367.0  23:55:15  00:50:10     39926         NaN\n",
      "21     YTN 사이언스       329.0  23:59:58  00:00:00      7427         NaN\n",
      "22          YTN       320.0  23:46:13  00:42:21     32889         NaN\n",
      "23  nickelodeon       392.0  23:59:56  00:00:01     39652         NaN\n",
      "24          AXN       707.0  23:59:19  00:00:02     51398         NaN\n",
      "25     KBS Life       493.0  23:59:40  00:00:00     58152         NaN\n",
      "26         TV조선       365.0  23:59:23  00:01:31     33888         NaN\n",
      "27       매일경제TV       397.0  23:58:52  00:30:40     30522         NaN\n",
      "28       서울경제TV       448.0  23:59:26  00:00:00     10632    00:47:18\n",
      "29          채널A       363.0  17:09:40  00:02:31     17970         NaN\n",
      "30       카툰네트워크       220.0  23:59:38  00:00:19     29653         NaN\n",
      "31      MBC NET       289.0  23:59:58  00:00:00     21529         NaN\n",
      "32          GTV       361.0  21:46:33  02:26:07     32880         NaN\n",
      "33       한국경제TV       378.0  23:59:59  00:00:00     17851         NaN\n"
     ]
    },
    {
     "data": {
      "text/plain": [
       "['정상데이터']"
      ]
     },
     "execution_count": 21,
     "metadata": {},
     "output_type": "execute_result"
    }
   ],
   "source": [
    "Max_Term_Validation(data2)  "
   ]
  },
  {
   "cell_type": "markdown",
   "metadata": {},
   "source": [
    "## Min Max Validation"
   ]
  },
  {
   "cell_type": "code",
   "execution_count": 22,
   "metadata": {},
   "outputs": [
    {
     "name": "stderr",
     "output_type": "stream",
     "text": [
      "/tmp/ipykernel_1199893/3795924116.py:8: SettingWithCopyWarning:\n",
      "\n",
      "\n",
      "A value is trying to be set on a copy of a slice from a DataFrame\n",
      "\n",
      "See the caveats in the documentation: https://pandas.pydata.org/pandas-docs/stable/user_guide/indexing.html#returning-a-view-versus-a-copy\n",
      "\n",
      "/tmp/ipykernel_1199893/3795924116.py:9: SettingWithCopyWarning:\n",
      "\n",
      "\n",
      "A value is trying to be set on a copy of a slice from a DataFrame\n",
      "\n",
      "See the caveats in the documentation: https://pandas.pydata.org/pandas-docs/stable/user_guide/indexing.html#returning-a-view-versus-a-copy\n",
      "\n",
      "/tmp/ipykernel_1199893/3795924116.py:11: SettingWithCopyWarning:\n",
      "\n",
      "\n",
      "A value is trying to be set on a copy of a slice from a DataFrame\n",
      "\n",
      "See the caveats in the documentation: https://pandas.pydata.org/pandas-docs/stable/user_guide/indexing.html#returning-a-view-versus-a-copy\n",
      "\n",
      "/tmp/ipykernel_1199893/3795924116.py:15: SettingWithCopyWarning:\n",
      "\n",
      "\n",
      "A value is trying to be set on a copy of a slice from a DataFrame.\n",
      "Try using .loc[row_indexer,col_indexer] = value instead\n",
      "\n",
      "See the caveats in the documentation: https://pandas.pydata.org/pandas-docs/stable/user_guide/indexing.html#returning-a-view-versus-a-copy\n",
      "\n"
     ]
    },
    {
     "data": {
      "text/plain": [
       "['정상데이터']"
      ]
     },
     "execution_count": 22,
     "metadata": {},
     "output_type": "execute_result"
    }
   ],
   "source": [
    "def Min_Max_Validation(data) :\n",
    "    \n",
    "    val_df = pd.read_csv('./Case2_Validation/Validation_dataframe.csv')\n",
    "    val = val_df\n",
    "\n",
    "    ### 전처리 작업\n",
    "    for i in range(len(val)) :                      ## 수치 비교를 위한 시간 전처리\n",
    "        val['input_max'][i] = val['input_max'][i].replace(':', '') \n",
    "        val['input_min'][i] = val['input_min'][i].replace(':', '')\n",
    "    for i in range(len(data)) :\n",
    "        data['삽입시간'].iloc[i] = data['삽입시간'].iloc[i].replace(':', '')\n",
    "    \n",
    "    val['input_max'] = val['input_max'].astype(int)  ## 수치 비교를 위한 타입 변경\n",
    "    val['input_min'] = val['input_min'].astype(int) \n",
    "    data['삽입시간'] = data['삽입시간'].astype(int)\n",
    "\n",
    "    ### 모델링\n",
    "    result = []\n",
    "    for i in range(len(val)) :\n",
    "        if val_df['Service_id'][i] == data['서비스ID'].iloc[0] :\n",
    "\n",
    "            if val['input_max'][i] < data['삽입시간'].iloc[0] :\n",
    "                answer = '이상데이터'\n",
    "                result.append(answer)\n",
    "            elif val['input_min'][i] > data['삽입시간'].iloc[0] :\n",
    "                answer = '이상데이터'\n",
    "                result.append(answer)  \n",
    "            else :\n",
    "                answer = '정상데이터'\n",
    "                result.append(answer)               \n",
    "\n",
    "    return result\n",
    "Min_Max_Validation(data2)"
   ]
  }
 ],
 "metadata": {
  "kernelspec": {
   "display_name": "Python 3.8.10 64-bit",
   "language": "python",
   "name": "python3"
  },
  "language_info": {
   "codemirror_mode": {
    "name": "ipython",
    "version": 3
   },
   "file_extension": ".py",
   "mimetype": "text/x-python",
   "name": "python",
   "nbconvert_exporter": "python",
   "pygments_lexer": "ipython3",
   "version": "3.8.10"
  },
  "orig_nbformat": 4,
  "vscode": {
   "interpreter": {
    "hash": "31f2aee4e71d21fbe5cf8b01ff0e069b9275f58929596ceb00d14d90e3e16cd6"
   }
  }
 },
 "nbformat": 4,
 "nbformat_minor": 2
}
