{
 "cells": [
  {
   "cell_type": "markdown",
   "metadata": {},
   "source": [
    "# Abstract\n",
    "#### Setting\n",
    "        1. 1차 시도 통계적 기법으로 큐톤 신호를 라벨링하여 이상탐지 \n",
    "        2. 채널별로 데이터 저장\n",
    "        3. 데이터 라벨링 후 LightGBM 모델링\n",
    "\n",
    "#### Method\n",
    "        1. 시스템화를 위해 모듈화를 진행\n",
    "        2. mlflow_Logging함수 이용하여 mlflow에 로깅\n",
    "\n",
    "#### Result"
   ]
  },
  {
   "cell_type": "code",
   "execution_count": 4,
   "metadata": {},
   "outputs": [],
   "source": [
    "import sys\n",
    "import os"
   ]
  },
  {
   "cell_type": "code",
   "execution_count": 5,
   "metadata": {},
   "outputs": [],
   "source": [
    "import pandas as pd\n",
    "from lightgbm import LGBMClassifier\n",
    "from sklearn.model_selection import train_test_split\n",
    "from sklearn.metrics import accuracy_score, precision_score, recall_score, roc_auc_score\n",
    "\n",
    "\n",
    "sys.path.append('../Common/Library/')\n",
    "from mlflow_logging import mlflow_logging, binary_classification_metric\n",
    "\n",
    "import joblib"
   ]
  },
  {
   "cell_type": "code",
   "execution_count": 6,
   "metadata": {},
   "outputs": [],
   "source": [
    "df_origin = pd.read_csv('../Common/data/Type_A_csv/GOLF&PBA.csv')"
   ]
  },
  {
   "cell_type": "code",
   "execution_count": 7,
   "metadata": {},
   "outputs": [
    {
     "data": {
      "text/html": [
       "<div>\n",
       "<style scoped>\n",
       "    .dataframe tbody tr th:only-of-type {\n",
       "        vertical-align: middle;\n",
       "    }\n",
       "\n",
       "    .dataframe tbody tr th {\n",
       "        vertical-align: top;\n",
       "    }\n",
       "\n",
       "    .dataframe thead th {\n",
       "        text-align: right;\n",
       "    }\n",
       "</style>\n",
       "<table border=\"1\" class=\"dataframe\">\n",
       "  <thead>\n",
       "    <tr style=\"text-align: right;\">\n",
       "      <th></th>\n",
       "      <th>시간</th>\n",
       "      <th>요일</th>\n",
       "      <th>채널명</th>\n",
       "      <th>label</th>\n",
       "    </tr>\n",
       "  </thead>\n",
       "  <tbody>\n",
       "    <tr>\n",
       "      <th>0</th>\n",
       "      <td>00:00:42</td>\n",
       "      <td>화</td>\n",
       "      <td>GOLF&amp;PBA</td>\n",
       "      <td>1</td>\n",
       "    </tr>\n",
       "    <tr>\n",
       "      <th>1</th>\n",
       "      <td>00:02:59</td>\n",
       "      <td>수</td>\n",
       "      <td>GOLF&amp;PBA</td>\n",
       "      <td>1</td>\n",
       "    </tr>\n",
       "    <tr>\n",
       "      <th>2</th>\n",
       "      <td>00:05:06</td>\n",
       "      <td>수</td>\n",
       "      <td>GOLF&amp;PBA</td>\n",
       "      <td>1</td>\n",
       "    </tr>\n",
       "    <tr>\n",
       "      <th>3</th>\n",
       "      <td>00:12:55</td>\n",
       "      <td>화</td>\n",
       "      <td>GOLF&amp;PBA</td>\n",
       "      <td>1</td>\n",
       "    </tr>\n",
       "    <tr>\n",
       "      <th>4</th>\n",
       "      <td>00:13:25</td>\n",
       "      <td>수</td>\n",
       "      <td>GOLF&amp;PBA</td>\n",
       "      <td>1</td>\n",
       "    </tr>\n",
       "  </tbody>\n",
       "</table>\n",
       "</div>"
      ],
      "text/plain": [
       "         시간 요일       채널명  label\n",
       "0  00:00:42  화  GOLF&PBA      1\n",
       "1  00:02:59  수  GOLF&PBA      1\n",
       "2  00:05:06  수  GOLF&PBA      1\n",
       "3  00:12:55  화  GOLF&PBA      1\n",
       "4  00:13:25  수  GOLF&PBA      1"
      ]
     },
     "execution_count": 7,
     "metadata": {},
     "output_type": "execute_result"
    }
   ],
   "source": [
    "df_origin.head()"
   ]
  },
  {
   "cell_type": "markdown",
   "metadata": {},
   "source": [
    "## Function"
   ]
  },
  {
   "cell_type": "markdown",
   "metadata": {},
   "source": [
    "## 전처리"
   ]
  },
  {
   "cell_type": "code",
   "execution_count": 8,
   "metadata": {},
   "outputs": [],
   "source": [
    "df = pd.concat([pd.DataFrame(df_origin['시간'].str.split(':').tolist(), columns=['시', '분', '초']),df_origin.iloc[:, 1:]], axis=1)"
   ]
  },
  {
   "cell_type": "code",
   "execution_count": 9,
   "metadata": {},
   "outputs": [],
   "source": [
    "df['요일'] = df['요일'].astype('category')\n",
    "df['시'] = df['시'].astype('int')\n",
    "df['분'] = df['분'].astype('int')\n",
    "df['초'] = df['초'].astype('int')"
   ]
  },
  {
   "cell_type": "markdown",
   "metadata": {},
   "source": [
    "## Data Segmentation"
   ]
  },
  {
   "cell_type": "code",
   "execution_count": 10,
   "metadata": {},
   "outputs": [],
   "source": [
    "X, y = df.drop(['label', '채널명'], axis=1), df['label']\n",
    "X_train, X_test, y_train, y_test = train_test_split(X, y, test_size=0.2, random_state=2022, shuffle=True, stratify=y)"
   ]
  },
  {
   "cell_type": "code",
   "execution_count": 11,
   "metadata": {},
   "outputs": [
    {
     "data": {
      "text/html": [
       "<div>\n",
       "<style scoped>\n",
       "    .dataframe tbody tr th:only-of-type {\n",
       "        vertical-align: middle;\n",
       "    }\n",
       "\n",
       "    .dataframe tbody tr th {\n",
       "        vertical-align: top;\n",
       "    }\n",
       "\n",
       "    .dataframe thead th {\n",
       "        text-align: right;\n",
       "    }\n",
       "</style>\n",
       "<table border=\"1\" class=\"dataframe\">\n",
       "  <thead>\n",
       "    <tr style=\"text-align: right;\">\n",
       "      <th></th>\n",
       "      <th>시</th>\n",
       "      <th>분</th>\n",
       "      <th>초</th>\n",
       "      <th>요일</th>\n",
       "    </tr>\n",
       "  </thead>\n",
       "  <tbody>\n",
       "    <tr>\n",
       "      <th>248</th>\n",
       "      <td>8</td>\n",
       "      <td>40</td>\n",
       "      <td>10</td>\n",
       "      <td>수</td>\n",
       "    </tr>\n",
       "    <tr>\n",
       "      <th>361</th>\n",
       "      <td>14</td>\n",
       "      <td>3</td>\n",
       "      <td>16</td>\n",
       "      <td>토</td>\n",
       "    </tr>\n",
       "    <tr>\n",
       "      <th>233</th>\n",
       "      <td>8</td>\n",
       "      <td>18</td>\n",
       "      <td>18</td>\n",
       "      <td>수</td>\n",
       "    </tr>\n",
       "    <tr>\n",
       "      <th>271</th>\n",
       "      <td>9</td>\n",
       "      <td>39</td>\n",
       "      <td>53</td>\n",
       "      <td>금</td>\n",
       "    </tr>\n",
       "    <tr>\n",
       "      <th>101</th>\n",
       "      <td>4</td>\n",
       "      <td>1</td>\n",
       "      <td>11</td>\n",
       "      <td>월</td>\n",
       "    </tr>\n",
       "    <tr>\n",
       "      <th>...</th>\n",
       "      <td>...</td>\n",
       "      <td>...</td>\n",
       "      <td>...</td>\n",
       "      <td>...</td>\n",
       "    </tr>\n",
       "    <tr>\n",
       "      <th>4</th>\n",
       "      <td>0</td>\n",
       "      <td>13</td>\n",
       "      <td>25</td>\n",
       "      <td>수</td>\n",
       "    </tr>\n",
       "    <tr>\n",
       "      <th>345</th>\n",
       "      <td>13</td>\n",
       "      <td>25</td>\n",
       "      <td>10</td>\n",
       "      <td>화</td>\n",
       "    </tr>\n",
       "    <tr>\n",
       "      <th>50</th>\n",
       "      <td>2</td>\n",
       "      <td>24</td>\n",
       "      <td>53</td>\n",
       "      <td>화</td>\n",
       "    </tr>\n",
       "    <tr>\n",
       "      <th>230</th>\n",
       "      <td>8</td>\n",
       "      <td>15</td>\n",
       "      <td>24</td>\n",
       "      <td>목</td>\n",
       "    </tr>\n",
       "    <tr>\n",
       "      <th>254</th>\n",
       "      <td>9</td>\n",
       "      <td>2</td>\n",
       "      <td>51</td>\n",
       "      <td>일</td>\n",
       "    </tr>\n",
       "  </tbody>\n",
       "</table>\n",
       "<p>366 rows × 4 columns</p>\n",
       "</div>"
      ],
      "text/plain": [
       "      시   분   초 요일\n",
       "248   8  40  10  수\n",
       "361  14   3  16  토\n",
       "233   8  18  18  수\n",
       "271   9  39  53  금\n",
       "101   4   1  11  월\n",
       "..   ..  ..  .. ..\n",
       "4     0  13  25  수\n",
       "345  13  25  10  화\n",
       "50    2  24  53  화\n",
       "230   8  15  24  목\n",
       "254   9   2  51  일\n",
       "\n",
       "[366 rows x 4 columns]"
      ]
     },
     "execution_count": 11,
     "metadata": {},
     "output_type": "execute_result"
    }
   ],
   "source": [
    "X_train"
   ]
  },
  {
   "cell_type": "markdown",
   "metadata": {},
   "source": [
    "## Modeling"
   ]
  },
  {
   "cell_type": "code",
   "execution_count": 12,
   "metadata": {},
   "outputs": [],
   "source": [
    "model = LGBMClassifier(random_state=2022)\n",
    "model.fit(X_train, y_train)\n",
    "\n",
    "prediction = model.predict(X_test)\n",
    "prediction_proba = model.predict_proba(X_test)[:, 1]\n",
    "\n",
    "\n",
    "accuracy = accuracy_score(y_test, prediction)\n",
    "precision = precision_score(y_test, prediction)\n",
    "recall = recall_score(y_test, prediction)\n",
    "auc = roc_auc_score(y_test, prediction_proba)"
   ]
  },
  {
   "cell_type": "code",
   "execution_count": 13,
   "metadata": {},
   "outputs": [
    {
     "name": "stdout",
     "output_type": "stream",
     "text": [
      "accuracy: 0.967391304347826\n",
      "precision: 0.9866666666666667\n",
      "recall: 0.9736842105263158\n",
      "auc: 0.966282894736842\n"
     ]
    }
   ],
   "source": [
    "for name, metric in zip(['accuracy', 'precision', 'recall', 'auc'], [accuracy, precision, recall, auc]):\n",
    "    print(f\"{name}: {metric}\")"
   ]
  },
  {
   "cell_type": "markdown",
   "metadata": {},
   "source": [
    "## MLflow에 로깅"
   ]
  },
  {
   "cell_type": "code",
   "execution_count": 14,
   "metadata": {},
   "outputs": [
    {
     "name": "stdout",
     "output_type": "stream",
     "text": [
      "model: LGBMClassifier(random_state=2022)\n",
      "\n",
      "model_params_dict: {'boosting_type': 'gbdt', 'class_weight': None, 'colsample_bytree': 1.0, 'importance_type': 'split', 'learning_rate': 0.1, 'max_depth': -1, 'min_child_samples': 20, 'min_child_weight': 0.001, 'min_split_gain': 0.0, 'n_estimators': 100, 'n_jobs': -1, 'num_leaves': 31, 'objective': None, 'random_state': 2022, 'reg_alpha': 0.0, 'reg_lambda': 0.0, 'silent': 'warn', 'subsample': 1.0, 'subsample_for_bin': 200000, 'subsample_freq': 0}\n",
      "\n",
      "metric_dict: {'Accuracy': 0.967391304347826, 'Precision': 0.9866666666666667, 'Recall': 0.9736842105263158, 'F1_Score': 0.9801324503311258, 'AUC': 0.955592105263158}\n",
      "\n",
      "tags_dict: {'1': '시', '2': '분', '3': '초', '4': '요일'}\n"
     ]
    }
   ],
   "source": [
    "metric_dict= binary_classification_metric(y_test, prediction, prediction_proba)  ### metric 정의\n",
    "reduced_features = tag_dict = {f\"{idx+1}\" :columns for idx, columns in enumerate(X.columns)} ## reduced_X 자리에 모델에 입력된 X값을 넣어주면 됨\n",
    "\n",
    "print(f\"model: {model}\\n\")\n",
    "print(f\"model_params_dict: {model.get_params()}\\n\")  ## 모델 안에 있는 파라미터를 가져옴\n",
    "print(f\"metric_dict: {metric_dict}\\n\")\n",
    "print(f\"tags_dict: {reduced_features}\")"
   ]
  },
  {
   "cell_type": "code",
   "execution_count": 15,
   "metadata": {},
   "outputs": [],
   "source": [
    "# mlflow_logging(experiment='Quetone', run_name=df['채널명'][0],                         \n",
    "#                model=model, model_name='LGBM', \n",
    "#                model_params_dict=model.get_params(),\n",
    "#                metric_dict=metric_dict,\n",
    "#                tag = X\n",
    "#                #img_dict={'시각화 자료':fig}\n",
    "#               )"
   ]
  },
  {
   "cell_type": "markdown",
   "metadata": {},
   "source": [
    "## 모듈화"
   ]
  },
  {
   "cell_type": "code",
   "execution_count": null,
   "metadata": {},
   "outputs": [],
   "source": [
    "path = '../Common/data/Type_A_csv/'\n",
    "file_list = os.listdir(path)\n",
    "file_list_py = [file for file in file_list if file.endswith('.csv')] ## 파일명 끝이 .csv인 경우\n",
    "\n",
    "for i in file_list_py:\n",
    "    ## 데이터 초기화\n",
    "    df = None\n",
    "\n",
    "    # 데이터 로드\n",
    "    df = pd.read_csv(path + i)\n",
    "    df = pd.concat([pd.DataFrame(df['시간'].str.split(':').tolist(), columns=['시', '분', '초']),df.iloc[:, 1:]], axis=1)\n",
    "    print(df['채널명'][0])\n",
    "    \n",
    "    # 카테고리화\n",
    "    df['요일'] = df['요일'].astype('category')\n",
    "    df['시'] = df['시'].astype('int')\n",
    "    df['분'] = df['분'].astype('int')\n",
    "    df['초'] = df['초'].astype('int')\n",
    "\n",
    "    # 데이터 스플릿\n",
    "    X, y = df.drop(['label', '채널명'], axis=1), df['label']\n",
    "    X_train, X_test, y_train, y_test = train_test_split(X, y, test_size=0.2, random_state=2022, shuffle=True, stratify=y)\n",
    "\n",
    "    # 모델링\n",
    "    model = LGBMClassifier(random_state=2022)\n",
    "    model.fit(X_train, y_train)\n",
    "\n",
    "    # 추론\n",
    "    prediction = model.predict(X_test)\n",
    "    prediction_proba = model.predict_proba(X_test)[:, 1]\n",
    "\n",
    "\n",
    "    accuracy = accuracy_score(y_test, prediction)\n",
    "    precision = precision_score(y_test, prediction)\n",
    "    recall = recall_score(y_test, prediction)\n",
    "    try:\n",
    "        auc = roc_auc_score(y_test, prediction_proba)   \n",
    "    except:    # 예외가 발생했을 때 실행됨\n",
    "        print('실측치가 1만 존재합니다.')\n",
    "    \n",
    "\n",
    "    # mlflow metric 정의\n",
    "    metric_dict= binary_classification_metric(y_test, prediction, prediction_proba) \n",
    "    reduced_features = tag_dict = {f\"{idx+1}\" :columns for idx, columns in enumerate(X.columns)}\n",
    "\n",
    "    # mlflow\n",
    "    mlflow_logging(experiment='Quetone', run_name= df['채널명'][0],                         \n",
    "               model=model, model_name='LGBM', \n",
    "               model_params_dict=model.get_params(),\n",
    "               metric_dict=metric_dict,\n",
    "               tag = X\n",
    "               #img_dict={'시각화 자료':fig}\n",
    "              )\n",
    "    # 모델 저장\n",
    "    joblib.dump(model, str('../Model/' + df['채널명'][0])+'_model' + '.pkl')\n",
    "#df = df.reset_index(drop = True)"
   ]
  }
 ],
 "metadata": {
  "kernelspec": {
   "display_name": "Python 3.8.10 64-bit",
   "language": "python",
   "name": "python3"
  },
  "language_info": {
   "codemirror_mode": {
    "name": "ipython",
    "version": 3
   },
   "file_extension": ".py",
   "mimetype": "text/x-python",
   "name": "python",
   "nbconvert_exporter": "python",
   "pygments_lexer": "ipython3",
   "version": "3.8.10"
  },
  "orig_nbformat": 4,
  "vscode": {
   "interpreter": {
    "hash": "916dbcbb3f70747c44a77c7bcd40155683ae19c65e1c03b4aa3499c5328201f1"
   }
  }
 },
 "nbformat": 4,
 "nbformat_minor": 2
}
