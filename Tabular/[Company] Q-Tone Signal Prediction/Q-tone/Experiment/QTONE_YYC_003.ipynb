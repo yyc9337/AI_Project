{
 "cells": [
  {
   "cell_type": "markdown",
   "metadata": {},
   "source": [
    "# Abstract\n",
    "#### Setting\n",
    "\n",
    "        1. 채널별로 데이터 저장\n",
    "        2. 군집화\n",
    "        3. 시각화\n",
    "\n",
    "#### Method\n",
    "        \n",
    "\n",
    "\n",
    "#### Result\n",
    "\n",
    "                        \n"
   ]
  },
  {
   "cell_type": "code",
   "execution_count": 1,
   "metadata": {},
   "outputs": [],
   "source": [
    "import pandas as pd\n",
    "import numpy as np\n",
    "import matplotlib.pyplot as plt"
   ]
  },
  {
   "cell_type": "code",
   "execution_count": 40,
   "metadata": {},
   "outputs": [],
   "source": [
    "df = pd.read_csv('../Processing/data/QTONE_data_YYC_002.csv')"
   ]
  },
  {
   "cell_type": "code",
   "execution_count": 42,
   "metadata": {},
   "outputs": [],
   "source": [
    "##채널별로 저장\n",
    "\n",
    "channel_name = df['채널명'].unique().tolist()\n",
    "for chat_name in channel_name :\n",
    "    chat_csv = None\n",
    "    chat_csv = df[df['채널명'] == chat_name]\n",
    "    chat_csv.to_csv('../Processing/data/Type_A/'+str(chat_name)+'.csv', index=False)"
   ]
  },
  {
   "cell_type": "code",
   "execution_count": 46,
   "metadata": {},
   "outputs": [
    {
     "name": "stdout",
     "output_type": "stream",
     "text": [
      "(8, 10, 3)\n",
      "(8, 3)\n",
      "Epoch 1/2\n",
      "70863/70864 [============================>.] - ETA: 0s - loss: 0.2417 - mae: 0.2417\n",
      "Epoch 00001: val_loss improved from inf to 0.23517, saving model to /home/innerwave/aiffel/anomaly_detection/kospi/mymodel.ckpt\n",
      "70864/70864 [==============================] - 1269s 18ms/step - loss: 0.2417 - mae: 0.2417 - val_loss: 0.2352 - val_mae: 0.2352\n",
      "Epoch 2/2\n",
      "70863/70864 [============================>.] - ETA: 0s - loss: 0.2307 - mae: 0.2307\n",
      "Epoch 00002: val_loss improved from 0.23517 to 0.23002, saving model to /home/innerwave/aiffel/anomaly_detection/kospi/mymodel.ckpt\n",
      "70864/70864 [==============================] - 1267s 18ms/step - loss: 0.2307 - mae: 0.2307 - val_loss: 0.2300 - val_mae: 0.2300\n"
     ]
    },
    {
     "data": {
      "text/plain": [
       "<tensorflow.python.training.tracking.util.CheckpointLoadStatus at 0x7f61d756b730>"
      ]
     },
     "execution_count": 46,
     "metadata": {},
     "output_type": "execute_result"
    }
   ],
   "source": [
    "import os\n",
    "import tensorflow as tf\n",
    "from tensorflow.keras.preprocessing.sequence import TimeseriesGenerator\n",
    "from tensorflow.keras.models import Sequential\n",
    "from tensorflow.keras.layers import Dense, Dropout, LSTM, RepeatVector, TimeDistributed\n",
    "from tensorflow.keras.losses import Huber\n",
    "from tensorflow.keras.callbacks import ModelCheckpoint, EarlyStopping\n",
    "from sklearn.preprocessing import StandardScaler\n",
    "\n",
    "\n",
    "# 모델 재현성을 위해 난수 시드설정\n",
    "tf.random.set_seed(777)\n",
    "np.random.seed(777)\n",
    "\n",
    "# 데이터 전처리 - 하이퍼 파라미터\n",
    "# df_AXN['날짜'] = df_AXN['날짜'].dt.strftime(\"%Y%m%d\").astype(int)\n",
    "# df_AXN['시간'] = df_AXN['시간'].dt.strftime(\"%H%M%S\").astype(int)\n",
    "window_size = 10\n",
    "batch_size = 8\n",
    "features = ['서비스ID', 'Date', 'Time']\n",
    "n_features = len(features)\n",
    "TRAIN_SIZE = int(len(df)*0.7)\n",
    "\n",
    "# 데이터 전처리 - 표준정규분포화\n",
    "scaler = StandardScaler()\n",
    "scaler = scaler.fit(df.loc[:TRAIN_SIZE,features].values)\n",
    "scaled = scaler.transform(df[features].values)\n",
    "\n",
    "# keras TimeseriesGenerator를 이용해 데이터셋 만들기\n",
    "train_gen = TimeseriesGenerator(\n",
    "    data = scaled,\n",
    "    targets = scaled,\n",
    "    length = window_size,\n",
    "    stride=1,\n",
    "    sampling_rate=1,\n",
    "    batch_size= batch_size,\n",
    "    shuffle=False,\n",
    "    start_index=0,\n",
    "    end_index=None,\n",
    ")\n",
    "\n",
    "valid_gen = TimeseriesGenerator(\n",
    "    data = scaled,\n",
    "    targets = scaled,\n",
    "    length = window_size,\n",
    "    stride=1,\n",
    "    sampling_rate=1,\n",
    "    batch_size=batch_size,\n",
    "    shuffle=False,\n",
    "    start_index=TRAIN_SIZE,\n",
    "    end_index=None,\n",
    ")\n",
    "\n",
    "print(train_gen[0][0].shape)  # (32, 10, 5)\n",
    "print(train_gen[0][1].shape)  # (32, 5)\n",
    "\n",
    "\n",
    "# 모델만들기\n",
    "# 2개 층의 LSTM으로 인코더 만듬\n",
    "# RepeatVector는 input을 window_size만큼 복사해줌\n",
    "model = Sequential([\n",
    "    # >> 인코더 시작\n",
    "    LSTM(64, activation='relu', return_sequences=True, input_shape=(window_size, n_features)),\n",
    "    LSTM(16, activation='relu', return_sequences=False),\n",
    "    ## << 인코더 끝\n",
    "    ## >> Bottleneck\n",
    "    RepeatVector(window_size),\n",
    "    ## << Bottleneck\n",
    "    ## >> 디코더 시작\n",
    "    LSTM(16, activation='relu', return_sequences=True),\n",
    "    LSTM(64, activation='relu', return_sequences=False),\n",
    "    Dense(n_features)\n",
    "    ## << 디코더 끝\n",
    "])\n",
    "\n",
    "\n",
    "# 체크포인트\n",
    "# 학습을 진행하며 validation 결과가 가장 좋은 모델을 저장해둠\n",
    "checkpoint_path = os.getenv('HOME')+'/aiffel/anomaly_detection/kospi/mymodel.ckpt'\n",
    "checkpoint = ModelCheckpoint(checkpoint_path, \n",
    "                             save_weights_only=True, \n",
    "                             save_best_only=True, \n",
    "                             monitor='val_loss',\n",
    "                             verbose=1)\n",
    "\n",
    "# 얼리스탑\n",
    "# 학습을 진행하며 validation 결과가 나빠지면 스톱. patience 횟수만큼은 참고 지켜본다\n",
    "early_stop = EarlyStopping(monitor='val_loss', patience=5)\n",
    "\n",
    "model.compile(loss='mae', optimizer='adam',metrics=[\"mae\"])\n",
    "\n",
    "\n",
    "hist = model.fit(train_gen, \n",
    "          validation_data=valid_gen,\n",
    "          steps_per_epoch=len(train_gen),\n",
    "          validation_steps=len(valid_gen),\n",
    "          epochs=2, \n",
    "          callbacks=[checkpoint, early_stop])\n",
    "          \n",
    "\n",
    "model.load_weights(checkpoint_path)\n",
    "# <tensorflow.python.training.tracking.util.CheckpointLoadStatus at 0x7fa7e4312910>"
   ]
  },
  {
   "cell_type": "code",
   "execution_count": 47,
   "metadata": {},
   "outputs": [
    {
     "data": {
      "text/plain": [
       "<matplotlib.legend.Legend at 0x7f61d414a5b0>"
      ]
     },
     "execution_count": 47,
     "metadata": {},
     "output_type": "execute_result"
    },
    {
     "data": {
      "image/png": "[encoded data removed]",
      "text/plain": [
       "<Figure size 864x576 with 1 Axes>"
      ]
     },
     "metadata": {
      "needs_background": "light"
     },
     "output_type": "display_data"
    }
   ],
   "source": [
    "fig = plt.figure(figsize=(12,8))\n",
    "plt.plot(hist.history['loss'], label='Training')\n",
    "plt.plot(hist.history['val_loss'], label='Validation')\n",
    "plt.legend()"
   ]
  },
  {
   "cell_type": "code",
   "execution_count": 48,
   "metadata": {},
   "outputs": [
    {
     "data": {
      "image/png": "[encoded data removed]",
      "text/plain": [
       "<Figure size 648x432 with 1 Axes>"
      ]
     },
     "metadata": {
      "needs_background": "light"
     },
     "output_type": "display_data"
    }
   ],
   "source": [
    "# 예측 결과를 pred 로, 실적 데이터를 real로 받습니다\n",
    "pred = model.predict(train_gen)\n",
    "real = scaled[window_size:]\n",
    "\n",
    "mae_loss = np.mean(np.abs(pred-real), axis=1)\n",
    "\n",
    "# 샘플 개수가 많기 때문에 y축을 로그 스케일로 그립니다\n",
    "fig, ax = plt.subplots(figsize=(9,6))\n",
    "_ = plt.hist(mae_loss, 100, density=True, alpha=0.75, log=True)"
   ]
  },
  {
   "cell_type": "code",
   "execution_count": 59,
   "metadata": {},
   "outputs": [
    {
     "name": "stdout",
     "output_type": "stream",
     "text": [
      "10\n"
     ]
    },
    {
     "data": {
      "text/html": [
       "<div>\n",
       "<style scoped>\n",
       "    .dataframe tbody tr th:only-of-type {\n",
       "        vertical-align: middle;\n",
       "    }\n",
       "\n",
       "    .dataframe tbody tr th {\n",
       "        vertical-align: top;\n",
       "    }\n",
       "\n",
       "    .dataframe thead th {\n",
       "        text-align: right;\n",
       "    }\n",
       "</style>\n",
       "<table border=\"1\" class=\"dataframe\">\n",
       "  <thead>\n",
       "    <tr style=\"text-align: right;\">\n",
       "      <th></th>\n",
       "      <th>삽입날짜</th>\n",
       "      <th>삽입시간</th>\n",
       "      <th>광고타입</th>\n",
       "      <th>큐톤ID</th>\n",
       "      <th>서비스ID</th>\n",
       "      <th>채널명</th>\n",
       "      <th>OTV 채널번호</th>\n",
       "      <th>OTS 채널번호</th>\n",
       "      <th>서버 타입</th>\n",
       "      <th>Time</th>\n",
       "      <th>Date</th>\n",
       "      <th>Loss</th>\n",
       "    </tr>\n",
       "  </thead>\n",
       "  <tbody>\n",
       "    <tr>\n",
       "      <th>11095</th>\n",
       "      <td>2021-10-05</td>\n",
       "      <td>00:00:02</td>\n",
       "      <td>A</td>\n",
       "      <td>300</td>\n",
       "      <td>714</td>\n",
       "      <td>MBC M</td>\n",
       "      <td>137</td>\n",
       "      <td>137</td>\n",
       "      <td>M</td>\n",
       "      <td>2</td>\n",
       "      <td>20211005</td>\n",
       "      <td>2.002023</td>\n",
       "    </tr>\n",
       "    <tr>\n",
       "      <th>92511</th>\n",
       "      <td>2021-11-01</td>\n",
       "      <td>00:00:03</td>\n",
       "      <td>A</td>\n",
       "      <td>241</td>\n",
       "      <td>728</td>\n",
       "      <td>JTBC4</td>\n",
       "      <td>75</td>\n",
       "      <td>75</td>\n",
       "      <td>M</td>\n",
       "      <td>3</td>\n",
       "      <td>20211101</td>\n",
       "      <td>2.026561</td>\n",
       "    </tr>\n",
       "    <tr>\n",
       "      <th>117864</th>\n",
       "      <td>2021-11-10</td>\n",
       "      <td>00:00:01</td>\n",
       "      <td>A</td>\n",
       "      <td>123</td>\n",
       "      <td>727</td>\n",
       "      <td>브레인TV</td>\n",
       "      <td>126</td>\n",
       "      <td>142</td>\n",
       "      <td>M</td>\n",
       "      <td>1</td>\n",
       "      <td>20211110</td>\n",
       "      <td>2.026842</td>\n",
       "    </tr>\n",
       "    <tr>\n",
       "      <th>137394</th>\n",
       "      <td>2021-11-17</td>\n",
       "      <td>00:00:01</td>\n",
       "      <td>A</td>\n",
       "      <td>403</td>\n",
       "      <td>717</td>\n",
       "      <td>JTBC GOLF&amp;SPORTS</td>\n",
       "      <td>61</td>\n",
       "      <td>61</td>\n",
       "      <td>M</td>\n",
       "      <td>1</td>\n",
       "      <td>20211117</td>\n",
       "      <td>2.005943</td>\n",
       "    </tr>\n",
       "    <tr>\n",
       "      <th>278666</th>\n",
       "      <td>2022-01-07</td>\n",
       "      <td>00:00:04</td>\n",
       "      <td>B</td>\n",
       "      <td>923</td>\n",
       "      <td>736</td>\n",
       "      <td>trendy</td>\n",
       "      <td>147</td>\n",
       "      <td>147</td>\n",
       "      <td>M</td>\n",
       "      <td>4</td>\n",
       "      <td>20220107</td>\n",
       "      <td>2.097904</td>\n",
       "    </tr>\n",
       "    <tr>\n",
       "      <th>392908</th>\n",
       "      <td>2022-02-15</td>\n",
       "      <td>00:00:00</td>\n",
       "      <td>A</td>\n",
       "      <td>241</td>\n",
       "      <td>728</td>\n",
       "      <td>JTBC4</td>\n",
       "      <td>75</td>\n",
       "      <td>75</td>\n",
       "      <td>M</td>\n",
       "      <td>0</td>\n",
       "      <td>20220215</td>\n",
       "      <td>2.071468</td>\n",
       "    </tr>\n",
       "    <tr>\n",
       "      <th>419096</th>\n",
       "      <td>2022-02-24</td>\n",
       "      <td>00:00:00</td>\n",
       "      <td>B</td>\n",
       "      <td>923</td>\n",
       "      <td>736</td>\n",
       "      <td>trendy</td>\n",
       "      <td>147</td>\n",
       "      <td>147</td>\n",
       "      <td>M</td>\n",
       "      <td>0</td>\n",
       "      <td>20220224</td>\n",
       "      <td>2.089179</td>\n",
       "    </tr>\n",
       "    <tr>\n",
       "      <th>519372</th>\n",
       "      <td>2022-03-30</td>\n",
       "      <td>00:00:01</td>\n",
       "      <td>A</td>\n",
       "      <td>117</td>\n",
       "      <td>715</td>\n",
       "      <td>MBC SPORTS+</td>\n",
       "      <td>60</td>\n",
       "      <td>104</td>\n",
       "      <td>M</td>\n",
       "      <td>1</td>\n",
       "      <td>20220330</td>\n",
       "      <td>2.034621</td>\n",
       "    </tr>\n",
       "    <tr>\n",
       "      <th>522341</th>\n",
       "      <td>2022-03-31</td>\n",
       "      <td>00:00:01</td>\n",
       "      <td>B</td>\n",
       "      <td>923</td>\n",
       "      <td>736</td>\n",
       "      <td>trendy</td>\n",
       "      <td>147</td>\n",
       "      <td>147</td>\n",
       "      <td>M</td>\n",
       "      <td>1</td>\n",
       "      <td>20220331</td>\n",
       "      <td>2.081275</td>\n",
       "    </tr>\n",
       "    <tr>\n",
       "      <th>564010</th>\n",
       "      <td>2022-04-14</td>\n",
       "      <td>00:00:00</td>\n",
       "      <td>B</td>\n",
       "      <td>923</td>\n",
       "      <td>736</td>\n",
       "      <td>trendy</td>\n",
       "      <td>147</td>\n",
       "      <td>147</td>\n",
       "      <td>M</td>\n",
       "      <td>0</td>\n",
       "      <td>20220414</td>\n",
       "      <td>2.080129</td>\n",
       "    </tr>\n",
       "  </tbody>\n",
       "</table>\n",
       "</div>"
      ],
      "text/plain": [
       "              삽입날짜      삽입시간 광고타입  큐톤ID  서비스ID               채널명  OTV 채널번호  \\\n",
       "11095   2021-10-05  00:00:02    A   300    714             MBC M       137   \n",
       "92511   2021-11-01  00:00:03    A   241    728             JTBC4        75   \n",
       "117864  2021-11-10  00:00:01    A   123    727             브레인TV       126   \n",
       "137394  2021-11-17  00:00:01    A   403    717  JTBC GOLF&SPORTS        61   \n",
       "278666  2022-01-07  00:00:04    B   923    736            trendy       147   \n",
       "392908  2022-02-15  00:00:00    A   241    728             JTBC4        75   \n",
       "419096  2022-02-24  00:00:00    B   923    736            trendy       147   \n",
       "519372  2022-03-30  00:00:01    A   117    715       MBC SPORTS+        60   \n",
       "522341  2022-03-31  00:00:01    B   923    736            trendy       147   \n",
       "564010  2022-04-14  00:00:00    B   923    736            trendy       147   \n",
       "\n",
       "        OTS 채널번호 서버 타입  Time      Date      Loss  \n",
       "11095        137     M     2  20211005  2.002023  \n",
       "92511         75     M     3  20211101  2.026561  \n",
       "117864       142     M     1  20211110  2.026842  \n",
       "137394        61     M     1  20211117  2.005943  \n",
       "278666       147     M     4  20220107  2.097904  \n",
       "392908        75     M     0  20220215  2.071468  \n",
       "419096       147     M     0  20220224  2.089179  \n",
       "519372       104     M     1  20220330  2.034621  \n",
       "522341       147     M     1  20220331  2.081275  \n",
       "564010       147     M     0  20220414  2.080129  "
      ]
     },
     "execution_count": 59,
     "metadata": {},
     "output_type": "execute_result"
    }
   ],
   "source": [
    "import copy\n",
    "\n",
    "test_df = copy.deepcopy(df.loc[window_size:]).reset_index(drop=True)\n",
    "test_df['Loss'] = mae_loss\n",
    "threshold = 2\n",
    "print(len(test_df.loc[test_df.Loss>threshold]))\n",
    "test_df.loc[test_df.Loss>threshold]"
   ]
  },
  {
   "cell_type": "code",
   "execution_count": 60,
   "metadata": {},
   "outputs": [],
   "source": [
    "import pickle\n",
    "\n",
    "# save\n",
    "with open('data.pickle', 'wb') as f:\n",
    "    pickle.dump(test_df['Loss'], f, pickle.HIGHEST_PROTOCOL)"
   ]
  },
  {
   "cell_type": "code",
   "execution_count": null,
   "metadata": {},
   "outputs": [
    {
     "data": {
      "text/plain": [
       "<Figure size 2160x1080 with 0 Axes>"
      ]
     },
     "metadata": {},
     "output_type": "display_data"
    }
   ],
   "source": [
    "fig = plt.figure(figsize=(30,15))"
   ]
  }
 ],
 "metadata": {
  "kernelspec": {
   "display_name": "Python 3.8.10 64-bit",
   "language": "python",
   "name": "python3"
  },
  "language_info": {
   "codemirror_mode": {
    "name": "ipython",
    "version": 3
   },
   "file_extension": ".py",
   "mimetype": "text/x-python",
   "name": "python",
   "nbconvert_exporter": "python",
   "pygments_lexer": "ipython3",
   "version": "3.8.10"
  },
  "orig_nbformat": 4,
  "vscode": {
   "interpreter": {
    "hash": "916dbcbb3f70747c44a77c7bcd40155683ae19c65e1c03b4aa3499c5328201f1"
   }
  }
 },
 "nbformat": 4,
 "nbformat_minor": 2
}
