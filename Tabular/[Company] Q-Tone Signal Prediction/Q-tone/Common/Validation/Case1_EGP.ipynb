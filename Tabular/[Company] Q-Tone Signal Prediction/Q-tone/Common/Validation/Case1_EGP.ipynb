{
 "cells": [
  {
   "cell_type": "code",
   "execution_count": 2,
   "id": "4d56f92a",
   "metadata": {},
   "outputs": [],
   "source": [
    "import pandas as pd"
   ]
  },
  {
   "cell_type": "code",
   "execution_count": 3,
   "id": "d0b95675",
   "metadata": {},
   "outputs": [
    {
     "data": {
      "text/html": [
       "<div>\n",
       "<style scoped>\n",
       "    .dataframe tbody tr th:only-of-type {\n",
       "        vertical-align: middle;\n",
       "    }\n",
       "\n",
       "    .dataframe tbody tr th {\n",
       "        vertical-align: top;\n",
       "    }\n",
       "\n",
       "    .dataframe thead th {\n",
       "        text-align: right;\n",
       "    }\n",
       "</style>\n",
       "<table border=\"1\" class=\"dataframe\">\n",
       "  <thead>\n",
       "    <tr style=\"text-align: right;\">\n",
       "      <th></th>\n",
       "      <th>ch_sid</th>\n",
       "      <th>brad_date</th>\n",
       "      <th>brad_st_time</th>\n",
       "      <th>brad_ed_time</th>\n",
       "      <th>ch_nm</th>\n",
       "      <th>parent_genre</th>\n",
       "      <th>child_genre</th>\n",
       "      <th>title</th>\n",
       "      <th>sub_title</th>\n",
       "      <th>episode</th>\n",
       "      <th>...</th>\n",
       "      <th>epg_svrt</th>\n",
       "      <th>image_info</th>\n",
       "      <th>sub_title_yn</th>\n",
       "      <th>commentary_yn</th>\n",
       "      <th>ch_no</th>\n",
       "      <th>sigh_language</th>\n",
       "      <th>reg_dt</th>\n",
       "      <th>reg_id</th>\n",
       "      <th>upd_dt</th>\n",
       "      <th>upd_id</th>\n",
       "    </tr>\n",
       "  </thead>\n",
       "  <tbody>\n",
       "    <tr>\n",
       "      <th>0</th>\n",
       "      <td>362</td>\n",
       "      <td>2022-06-17</td>\n",
       "      <td>10:25:00</td>\n",
       "      <td>11:35:00</td>\n",
       "      <td>홈&amp;쇼핑</td>\n",
       "      <td>홈쇼핑</td>\n",
       "      <td>패션/의류</td>\n",
       "      <td>케이수(코디세트SS+밴딩팬츠SS(팔라초))</td>\n",
       "      <td>NaN</td>\n",
       "      <td>NaN</td>\n",
       "      <td>...</td>\n",
       "      <td>0</td>\n",
       "      <td>NaN</td>\n",
       "      <td>False</td>\n",
       "      <td>False</td>\n",
       "      <td>14</td>\n",
       "      <td>False</td>\n",
       "      <td>2022-06-30 18:18:37.739644</td>\n",
       "      <td>0</td>\n",
       "      <td>2022-06-30 20:17:28.883471</td>\n",
       "      <td>0</td>\n",
       "    </tr>\n",
       "    <tr>\n",
       "      <th>1</th>\n",
       "      <td>228</td>\n",
       "      <td>2022-06-17</td>\n",
       "      <td>02:00:00</td>\n",
       "      <td>02:30:00</td>\n",
       "      <td>SPOTV ON</td>\n",
       "      <td>스포츠</td>\n",
       "      <td>축구</td>\n",
       "      <td>SPORTS TIME FOOTBALL</td>\n",
       "      <td>22-23 UEFA 네이션스리그 GOALS,MD4</td>\n",
       "      <td>NaN</td>\n",
       "      <td>...</td>\n",
       "      <td>0</td>\n",
       "      <td>NaN</td>\n",
       "      <td>False</td>\n",
       "      <td>False</td>\n",
       "      <td>211</td>\n",
       "      <td>False</td>\n",
       "      <td>2022-06-30 18:18:37.430262</td>\n",
       "      <td>0</td>\n",
       "      <td>2022-06-30 20:17:28.430811</td>\n",
       "      <td>0</td>\n",
       "    </tr>\n",
       "  </tbody>\n",
       "</table>\n",
       "<p>2 rows × 29 columns</p>\n",
       "</div>"
      ],
      "text/plain": [
       "   ch_sid   brad_date brad_st_time brad_ed_time     ch_nm parent_genre  \\\n",
       "0     362  2022-06-17     10:25:00     11:35:00      홈&쇼핑          홈쇼핑   \n",
       "1     228  2022-06-17     02:00:00     02:30:00  SPOTV ON          스포츠   \n",
       "\n",
       "  child_genre                    title                    sub_title  episode  \\\n",
       "0       패션/의류  케이수(코디세트SS+밴딩팬츠SS(팔라초))                          NaN      NaN   \n",
       "1          축구     SPORTS TIME FOOTBALL  22-23 UEFA 네이션스리그 GOALS,MD4      NaN   \n",
       "\n",
       "   ... epg_svrt image_info sub_title_yn commentary_yn ch_no  sigh_language  \\\n",
       "0  ...        0        NaN        False         False    14          False   \n",
       "1  ...        0        NaN        False         False   211          False   \n",
       "\n",
       "                       reg_dt  reg_id                      upd_dt  upd_id  \n",
       "0  2022-06-30 18:18:37.739644       0  2022-06-30 20:17:28.883471       0  \n",
       "1  2022-06-30 18:18:37.430262       0  2022-06-30 20:17:28.430811       0  \n",
       "\n",
       "[2 rows x 29 columns]"
      ]
     },
     "execution_count": 3,
     "metadata": {},
     "output_type": "execute_result"
    }
   ],
   "source": [
    "epg = pd.read_csv('./Case1_EPG/epg_information.csv')\n",
    "epg.head(2)"
   ]
  },
  {
   "cell_type": "code",
   "execution_count": 4,
   "id": "a141198f",
   "metadata": {},
   "outputs": [],
   "source": [
    "Pattern_list = ['리빙TV', '마운틴TV', '매일경제TV', '머니투데이', '서울경제TV', '아시아앤', '애니맥스', '애니원티비',\n",
    "                '애니플러스', '연합뉴스TV', '이데일리', '채널A', '카툰네트워크', '텔레노벨라', '토마토증권통', '팍스경제TV',\n",
    "                '한국경제TV','AXN', 'CH U', 'FISHING TV', 'FTV', 'GTV', 'JTBC Golf', 'KBS Life', 'KBS sotry',\n",
    "                'MBC 드라마넷', 'MBC NET', 'nikelodeon.csv', 'OBS-W', 'OGN', 'Tooniverse', 'TV조선', 'YTN 사이언스',\n",
    "                'YTN', 'YTN2']"
   ]
  },
  {
   "cell_type": "code",
   "execution_count": 10,
   "id": "10c3ad7a",
   "metadata": {},
   "outputs": [],
   "source": [
    "data = pd.read_csv('../data/전체신호_cusotm.csv')\n",
    "data1 = data[58:59]\n",
    "data2 = data[61:62]"
   ]
  },
  {
   "cell_type": "markdown",
   "id": "5e787434",
   "metadata": {},
   "source": [
    "## EPG Validation"
   ]
  },
  {
   "cell_type": "code",
   "execution_count": 114,
   "id": "56243a64",
   "metadata": {},
   "outputs": [
    {
     "data": {
      "text/plain": [
       "'이상데이터'"
      ]
     },
     "execution_count": 114,
     "metadata": {},
     "output_type": "execute_result"
    }
   ],
   "source": [
    "def epg_validation(newdata, epg_data) :\n",
    "    result = []\n",
    "    for i in range(len(epg_data)) :\n",
    "        \n",
    "        if epg_data['ch_nm'].iloc[i] == newdata['채널명'].iloc[0] :\n",
    "            if (newdata['삽입시간'].iloc[0] >= epg_data['brad_st_time'].iloc[i]) & (newdata['삽입시간'].iloc[0] <= epg_data['brad_ed_time'].iloc[i]) :\n",
    "                answer = '정상데이터'\n",
    "                result.append(answer)\n",
    "            else :\n",
    "                answer = '이상데이터'\n",
    "                result.append(answer)\n",
    "                \n",
    "    if '정상데이터' in result :\n",
    "        result = '정상데이터'\n",
    "    else :\n",
    "        result = '이상데이터'\n",
    "\n",
    "    return result\n",
    "epg_validation(data1, epg)"
   ]
  },
  {
   "cell_type": "markdown",
   "id": "7c769860",
   "metadata": {},
   "source": []
  }
 ],
 "metadata": {
  "kernelspec": {
   "display_name": "Python 3.8.10 64-bit",
   "language": "python",
   "name": "python3"
  },
  "language_info": {
   "codemirror_mode": {
    "name": "ipython",
    "version": 3
   },
   "file_extension": ".py",
   "mimetype": "text/x-python",
   "name": "python",
   "nbconvert_exporter": "python",
   "pygments_lexer": "ipython3",
   "version": "3.8.10"
  },
  "vscode": {
   "interpreter": {
    "hash": "31f2aee4e71d21fbe5cf8b01ff0e069b9275f58929596ceb00d14d90e3e16cd6"
   }
  }
 },
 "nbformat": 4,
 "nbformat_minor": 5
}
