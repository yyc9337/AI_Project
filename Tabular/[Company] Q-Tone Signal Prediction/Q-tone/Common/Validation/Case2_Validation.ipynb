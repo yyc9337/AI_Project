{
 "cells": [
  {
   "cell_type": "code",
   "execution_count": 17,
   "metadata": {},
   "outputs": [],
   "source": [
    "import pandas as pd\n",
    "import os\n",
    "from datetime import datetime\n",
    "\n",
    "import matplotlib.pyplot as plt\n",
    "import seaborn as sns\n",
    "import os\n",
    "import plotly.express as px\n",
    "import pandas as pd"
   ]
  },
  {
   "cell_type": "markdown",
   "metadata": {},
   "source": [
    "## Validation Information Table"
   ]
  },
  {
   "cell_type": "code",
   "execution_count": null,
   "metadata": {},
   "outputs": [],
   "source": [
    "def Validation_info_Table() :\n",
    "    val_df = pd.read_csv('./Case2_Validation/Validation_dataframe.csv')\n",
    "    val_df = pd.DataFrame({'channel' : [], 'input_max' : [],\n",
    "                        'input_min' : [], 'term_max' : [], 'before_time' : []})\n",
    "\n",
    "    path = '../../Processing/data/Type_A/Pattern/'\n",
    "    file_list = os.listdir(path)\n",
    "    file_list_py = [file for file in file_list if file.endswith('.csv')] ## 파일명 끝이 .csv인 경우\n",
    "\n",
    "    for i in file_list_py :\n",
    "        df = pd.read_csv(path + i)\n",
    "        try :\n",
    "            time_list = []\n",
    "            for i in range(len(df)) :\n",
    "                past = datetime.strptime(df['삽입시간'][i], \"%H:%M:%S\")\n",
    "                cur = datetime.strptime(df['삽입시간'][i+1], \"%H:%M:%S\")\n",
    "                diff =  cur - past\n",
    "                time_list.append(diff)\n",
    "        except :\n",
    "            '뒤에 날짜가 없습니다.'\n",
    "\n",
    "\n",
    "        try :\n",
    "            content = {'channel' : df['채널명'][0], 'input_max' : df['삽입시간'].max(),\n",
    "                                'input_min' : df['삽입시간'].min(), 'term_max' : max(time_list).seconds, 'before_time' : None}\n",
    "        except :\n",
    "            30000                    \n",
    "        val_df = val_df.append(content, ignore_index = True)\n",
    "        val_df['term_max'] = val_df['term_max'].astype('int') \n",
    "        val_df = val_df.drop_duplicates()\n",
    "\n",
    "\n",
    "        ### Visualization ###\n",
    "        sns.set(font='NanumGothic',\n",
    "        rc={\"axes.unicode_minus\":False, 'figure.figsize':(20,8)},\n",
    "        style='darkgrid')\n",
    "\n",
    "        target_df = pd.DataFrame(val_df[\"channel\"].value_counts()).reset_index()\n",
    "        target_df.sort_values(by =\"channel\" , ignore_index = True)\n",
    "\n",
    "        TARGET = 'channel'\n",
    "\n",
    "        target_df.columns = [TARGET, val_df['term_max']]\n",
    "\n",
    "        ## keyword 개수가 30개 이상인 단어만 출력\n",
    "        target_df = val_df\n",
    "        fig = px.bar(data_frame =target_df, \n",
    "                    x = 'channel',\n",
    "                    y = 'term_max' , \n",
    "                    color_continuous_scale=\"Emrld\") \n",
    "        fig.show()\n",
    "        target_df.sort_values(by ='term_max' , ignore_index = True)\n",
    "\n",
    "    \n",
    "    return val_df.to_csv('./Case2_Validation/Validation_dataframe.csv', index=False)"
   ]
  },
  {
   "cell_type": "markdown",
   "metadata": {},
   "source": [
    "## Term_Max Visualization"
   ]
  },
  {
   "cell_type": "code",
   "execution_count": 23,
   "metadata": {},
   "outputs": [],
   "source": [
    "### 예시 데이터 - 서울경제TV\n",
    "data = pd.read_csv('../data/전체신호_cusotm.csv')\n",
    "data1 = data[58:59]\n",
    "data2 = data[61:62]"
   ]
  },
  {
   "cell_type": "markdown",
   "metadata": {},
   "source": [
    "## Max_Term_Validation"
   ]
  },
  {
   "cell_type": "code",
   "execution_count": 24,
   "metadata": {},
   "outputs": [
    {
     "name": "stderr",
     "output_type": "stream",
     "text": [
      "/tmp/ipykernel_576014/1921963715.py:8: SettingWithCopyWarning:\n",
      "\n",
      "\n",
      "A value is trying to be set on a copy of a slice from a DataFrame\n",
      "\n",
      "See the caveats in the documentation: https://pandas.pydata.org/pandas-docs/stable/user_guide/indexing.html#returning-a-view-versus-a-copy\n",
      "\n"
     ]
    }
   ],
   "source": [
    "## 이전 데이터 Validation 테이블에 저장 \n",
    "\n",
    "def Save_Before_Data(data) :\n",
    "    \n",
    "    val_df = pd.read_csv('./Case2_Validation/Validation_dataframe.csv')\n",
    "    for i in range(len(val_df)) :\n",
    "        if val_df['channel'][i] == data['채널명'].iloc[0] :\n",
    "            val_df['before_time'].iloc[i] = data['삽입시간'].iloc[0]\n",
    "    return val_df.to_csv('./Case2_Validation/Validation_dataframe.csv', index=False)\n",
    "    # val_df['input_max'] = val_df['input_max'].astype(int)  ## 수치 비교를 위한 타입 변경\n",
    "    # val_df['input_min'] = val_df['input_min'].astype(int) \n",
    "    # data['삽입시간'] = data['삽입시간'].astype(int)\n",
    "Save_Before_Data(data1)"
   ]
  },
  {
   "cell_type": "code",
   "execution_count": 25,
   "metadata": {},
   "outputs": [
    {
     "data": {
      "text/plain": [
       "['정상데이터']"
      ]
     },
     "execution_count": 25,
     "metadata": {},
     "output_type": "execute_result"
    }
   ],
   "source": [
    "def Max_Term_Validation(data) :\n",
    "    val_df = pd.read_csv('./Case2_Validation/Validation_dataframe.csv')\n",
    "\n",
    "    diff = []\n",
    "    for i in range(len(val_df)) :\n",
    "        if val_df['channel'][i] == data['채널명'].iloc[0] :\n",
    "            past = datetime.strptime(val_df['before_time'].iloc[i], \"%H:%M:%S\")\n",
    "            current = datetime.strptime(data['삽입시간'].iloc[0], \"%H:%M:%S\")\n",
    "            diff =  current - past\n",
    "            diff = diff.seconds\n",
    "    result = []\n",
    "    for i in range(len(val_df)) :\n",
    "        if val_df['channel'][i] == data['채널명'].iloc[0] :\n",
    "            if val_df['term_max'].iloc[i] >= diff :\n",
    "                answer = '정상데이터'\n",
    "                result.append(answer)   \n",
    "            elif val_df['term_max'].iloc[i] < diff :\n",
    "                answer = '이상데이터'\n",
    "                result.append(answer)  \n",
    "\n",
    "    return result\n",
    "Max_Term_Validation(data2)  \n",
    "\n",
    "\n",
    "\n",
    "### return 값 설정 해야됨!!!!!!!!!!!!!!!"
   ]
  },
  {
   "cell_type": "markdown",
   "metadata": {},
   "source": [
    "## Min Max Validation"
   ]
  },
  {
   "cell_type": "code",
   "execution_count": 26,
   "metadata": {},
   "outputs": [],
   "source": [
    "def Min_Max_Validation(data) :\n",
    "    \n",
    "    val_df = pd.read_csv('./Case2_Validation/Validation_dataframe.csv')\n",
    "    val = val_df\n",
    "\n",
    "    ### 전처리 작업\n",
    "    for i in range(len(val)) :                      ## 수치 비교를 위한 시간 전처리\n",
    "        val['input_max'][i] = val['input_max'][i].replace(':', '') \n",
    "        val['input_min'][i] = val['input_min'][i].replace(':', '')\n",
    "    for i in range(len(data)) :\n",
    "        data['삽입시간'].iloc[i] = data['삽입시간'].iloc[i].replace(':', '')\n",
    "    \n",
    "    val['input_max'] = val['input_max'].astype(int)  ## 수치 비교를 위한 타입 변경\n",
    "    val['input_min'] = val['input_min'].astype(int) \n",
    "    data['삽입시간'] = data['삽입시간'].astype(int)\n",
    "\n",
    "    ### 모델링\n",
    "    result = []\n",
    "    for i in range(len(val)) :\n",
    "        if val['channel'][i] == data['채널명'].iloc[0] :\n",
    "\n",
    "            if val['input_max'][i] < data['삽입시간'].iloc[0] :\n",
    "                print('이상 유무 : 이상데이터')\n",
    "                answer = '이상데이터'\n",
    "                result.append(answer)\n",
    "            elif val['input_min'][i] > data['삽입시간'].iloc[0] :\n",
    "                print('이상 유무 : 이상데이터')\n",
    "                answer = '이상데이터'\n",
    "                result.append(answer)  \n",
    "            else :\n",
    "                answer = '정상데이터'\n",
    "                result.append(answer)               \n",
    "\n",
    "    return result"
   ]
  },
  {
   "cell_type": "code",
   "execution_count": 27,
   "metadata": {},
   "outputs": [
    {
     "name": "stderr",
     "output_type": "stream",
     "text": [
      "/tmp/ipykernel_576014/1217689765.py:8: SettingWithCopyWarning:\n",
      "\n",
      "\n",
      "A value is trying to be set on a copy of a slice from a DataFrame\n",
      "\n",
      "See the caveats in the documentation: https://pandas.pydata.org/pandas-docs/stable/user_guide/indexing.html#returning-a-view-versus-a-copy\n",
      "\n",
      "/tmp/ipykernel_576014/1217689765.py:9: SettingWithCopyWarning:\n",
      "\n",
      "\n",
      "A value is trying to be set on a copy of a slice from a DataFrame\n",
      "\n",
      "See the caveats in the documentation: https://pandas.pydata.org/pandas-docs/stable/user_guide/indexing.html#returning-a-view-versus-a-copy\n",
      "\n",
      "/tmp/ipykernel_576014/1217689765.py:11: SettingWithCopyWarning:\n",
      "\n",
      "\n",
      "A value is trying to be set on a copy of a slice from a DataFrame\n",
      "\n",
      "See the caveats in the documentation: https://pandas.pydata.org/pandas-docs/stable/user_guide/indexing.html#returning-a-view-versus-a-copy\n",
      "\n",
      "/tmp/ipykernel_576014/1217689765.py:15: SettingWithCopyWarning:\n",
      "\n",
      "\n",
      "A value is trying to be set on a copy of a slice from a DataFrame.\n",
      "Try using .loc[row_indexer,col_indexer] = value instead\n",
      "\n",
      "See the caveats in the documentation: https://pandas.pydata.org/pandas-docs/stable/user_guide/indexing.html#returning-a-view-versus-a-copy\n",
      "\n"
     ]
    },
    {
     "data": {
      "text/plain": [
       "['정상데이터']"
      ]
     },
     "execution_count": 27,
     "metadata": {},
     "output_type": "execute_result"
    }
   ],
   "source": [
    "Min_Max_Validation(data1)"
   ]
  }
 ],
 "metadata": {
  "kernelspec": {
   "display_name": "Python 3.8.10 64-bit",
   "language": "python",
   "name": "python3"
  },
  "language_info": {
   "codemirror_mode": {
    "name": "ipython",
    "version": 3
   },
   "file_extension": ".py",
   "mimetype": "text/x-python",
   "name": "python",
   "nbconvert_exporter": "python",
   "pygments_lexer": "ipython3",
   "version": "3.8.10"
  },
  "orig_nbformat": 4,
  "vscode": {
   "interpreter": {
    "hash": "31f2aee4e71d21fbe5cf8b01ff0e069b9275f58929596ceb00d14d90e3e16cd6"
   }
  }
 },
 "nbformat": 4,
 "nbformat_minor": 2
}
