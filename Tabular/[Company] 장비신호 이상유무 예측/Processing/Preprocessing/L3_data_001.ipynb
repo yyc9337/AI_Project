{
 "cells": [
  {
   "cell_type": "code",
   "execution_count": 4,
   "metadata": {},
   "outputs": [
    {
     "name": "stderr",
     "output_type": "stream",
     "text": [
      "2022-08-21 14:57:25.994686: I tensorflow/core/util/util.cc:169] oneDNN custom operations are on. You may see slightly different numerical results due to floating-point round-off errors from different computation orders. To turn them off, set the environment variable `TF_ENABLE_ONEDNN_OPTS=0`.\n"
     ]
    }
   ],
   "source": [
    "import pandas as pd\n",
    "import numpy as np\n",
    "\n",
    "import matplotlib.pylab as plt\n",
    "import seaborn as sns\n",
    "%matplotlib inline\n",
    "\n",
    "from sklearn.preprocessing import StandardScaler\n",
    "\n",
    "import tensorflow as tf\n",
    "from tensorflow import keras"
   ]
  },
  {
   "cell_type": "code",
   "execution_count": 5,
   "metadata": {},
   "outputs": [],
   "source": [
    "sns.set(style='whitegrid', palette='muted', font_scale=1.5)"
   ]
  },
  {
   "cell_type": "code",
   "execution_count": 6,
   "metadata": {},
   "outputs": [
    {
     "data": {
      "text/html": [
       "<div>\n",
       "<style scoped>\n",
       "    .dataframe tbody tr th:only-of-type {\n",
       "        vertical-align: middle;\n",
       "    }\n",
       "\n",
       "    .dataframe tbody tr th {\n",
       "        vertical-align: top;\n",
       "    }\n",
       "\n",
       "    .dataframe thead th {\n",
       "        text-align: right;\n",
       "    }\n",
       "</style>\n",
       "<table border=\"1\" class=\"dataframe\">\n",
       "  <thead>\n",
       "    <tr style=\"text-align: right;\">\n",
       "      <th></th>\n",
       "      <th>ip</th>\n",
       "      <th>stat_dt</th>\n",
       "      <th>bps_in</th>\n",
       "      <th>bps_out</th>\n",
       "    </tr>\n",
       "  </thead>\n",
       "  <tbody>\n",
       "    <tr>\n",
       "      <th>0</th>\n",
       "      <td>172.17.28.181</td>\n",
       "      <td>1970-01-20 14:10:13</td>\n",
       "      <td>8.165731e+12</td>\n",
       "      <td>12406968.05</td>\n",
       "    </tr>\n",
       "    <tr>\n",
       "      <th>1</th>\n",
       "      <td>172.17.28.181</td>\n",
       "      <td>2022-08-11 19:24:00</td>\n",
       "      <td>8.166566e+12</td>\n",
       "      <td>12408211.75</td>\n",
       "    </tr>\n",
       "    <tr>\n",
       "      <th>2</th>\n",
       "      <td>172.17.28.181</td>\n",
       "      <td>2022-08-11 19:25:00</td>\n",
       "      <td>8.166674e+12</td>\n",
       "      <td>12408368.15</td>\n",
       "    </tr>\n",
       "    <tr>\n",
       "      <th>3</th>\n",
       "      <td>172.17.28.181</td>\n",
       "      <td>2022-08-11 19:27:00</td>\n",
       "      <td>8.166901e+12</td>\n",
       "      <td>12408707.65</td>\n",
       "    </tr>\n",
       "    <tr>\n",
       "      <th>4</th>\n",
       "      <td>172.17.28.181</td>\n",
       "      <td>2022-08-11 19:28:00</td>\n",
       "      <td>8.167026e+12</td>\n",
       "      <td>12408897.55</td>\n",
       "    </tr>\n",
       "  </tbody>\n",
       "</table>\n",
       "</div>"
      ],
      "text/plain": [
       "              ip              stat_dt        bps_in      bps_out\n",
       "0  172.17.28.181  1970-01-20 14:10:13  8.165731e+12  12406968.05\n",
       "1  172.17.28.181  2022-08-11 19:24:00  8.166566e+12  12408211.75\n",
       "2  172.17.28.181  2022-08-11 19:25:00  8.166674e+12  12408368.15\n",
       "3  172.17.28.181  2022-08-11 19:27:00  8.166901e+12  12408707.65\n",
       "4  172.17.28.181  2022-08-11 19:28:00  8.167026e+12  12408897.55"
      ]
     },
     "execution_count": 6,
     "metadata": {},
     "output_type": "execute_result"
    }
   ],
   "source": [
    "ticket = pd.read_csv('../data/perf_port(172.17.28.181).csv')\n",
    "ticket.head(5)"
   ]
  },
  {
   "cell_type": "code",
   "execution_count": 7,
   "metadata": {},
   "outputs": [],
   "source": [
    "time_temp = pd.to_datetime(ticket['stat_dt'])\n",
    "level_temp = ticket['bps_in']\n",
    "time_temp.name = 'date'\n",
    "level_temp.name = 'bps_in'"
   ]
  },
  {
   "cell_type": "code",
   "execution_count": 8,
   "metadata": {},
   "outputs": [
    {
     "name": "stdout",
     "output_type": "stream",
     "text": [
      "(5742, 1)\n"
     ]
    },
    {
     "data": {
      "text/html": [
       "<div>\n",
       "<style scoped>\n",
       "    .dataframe tbody tr th:only-of-type {\n",
       "        vertical-align: middle;\n",
       "    }\n",
       "\n",
       "    .dataframe tbody tr th {\n",
       "        vertical-align: top;\n",
       "    }\n",
       "\n",
       "    .dataframe thead th {\n",
       "        text-align: right;\n",
       "    }\n",
       "</style>\n",
       "<table border=\"1\" class=\"dataframe\">\n",
       "  <thead>\n",
       "    <tr style=\"text-align: right;\">\n",
       "      <th></th>\n",
       "      <th>level</th>\n",
       "    </tr>\n",
       "    <tr>\n",
       "      <th>date</th>\n",
       "      <th></th>\n",
       "    </tr>\n",
       "  </thead>\n",
       "  <tbody>\n",
       "    <tr>\n",
       "      <th>1970-01-20 14:10:13</th>\n",
       "      <td>8.165731e+12</td>\n",
       "    </tr>\n",
       "    <tr>\n",
       "      <th>2022-08-11 19:24:00</th>\n",
       "      <td>8.166566e+12</td>\n",
       "    </tr>\n",
       "    <tr>\n",
       "      <th>2022-08-11 19:25:00</th>\n",
       "      <td>8.166674e+12</td>\n",
       "    </tr>\n",
       "    <tr>\n",
       "      <th>2022-08-11 19:27:00</th>\n",
       "      <td>8.166901e+12</td>\n",
       "    </tr>\n",
       "    <tr>\n",
       "      <th>2022-08-11 19:28:00</th>\n",
       "      <td>8.167026e+12</td>\n",
       "    </tr>\n",
       "  </tbody>\n",
       "</table>\n",
       "</div>"
      ],
      "text/plain": [
       "                            level\n",
       "date                             \n",
       "1970-01-20 14:10:13  8.165731e+12\n",
       "2022-08-11 19:24:00  8.166566e+12\n",
       "2022-08-11 19:25:00  8.166674e+12\n",
       "2022-08-11 19:27:00  8.166901e+12\n",
       "2022-08-11 19:28:00  8.167026e+12"
      ]
     },
     "execution_count": 8,
     "metadata": {},
     "output_type": "execute_result"
    }
   ],
   "source": [
    "ticket = pd.concat([time_temp, level_temp], axis = 1)\n",
    "ticket = ticket.set_index(\"date\")\n",
    "print(ticket.shape)\n",
    "ticket.head(5)"
   ]
  }
 ],
 "metadata": {
  "kernelspec": {
   "display_name": "Python 3.9.12 ('base')",
   "language": "python",
   "name": "python3"
  },
  "language_info": {
   "codemirror_mode": {
    "name": "ipython",
    "version": 3
   },
   "file_extension": ".py",
   "mimetype": "text/x-python",
   "name": "python",
   "nbconvert_exporter": "python",
   "pygments_lexer": "ipython3",
   "version": "3.9.12"
  },
  "orig_nbformat": 4,
  "vscode": {
   "interpreter": {
    "hash": "0fbf1bc3203b34afbb1ae10ec6e1e9f14d7dff206d7a403f979f14f86fb1faad"
   }
  }
 },
 "nbformat": 4,
 "nbformat_minor": 2
}
