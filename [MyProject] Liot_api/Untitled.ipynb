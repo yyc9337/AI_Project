{
 "cells": [
  {
   "cell_type": "code",
   "execution_count": 2,
   "id": "40d32c53",
   "metadata": {},
   "outputs": [],
   "source": [
    "import requests\n",
    "from urllib import parse\n",
    "import time\n",
    " \n",
    "api_key = \"RGAPI-20307271-a41d-4b63-a4b2-a6b1ac0cad3b\"\n",
    "request_headers = {\n",
    "    \"User-Agent\": \"Mozilla/5.0 (Windows NT 10.0; Win64; x64) AppleWebKit/537.36 (KHTML, like Gecko) Chrome/87.0.4280.141 Safari/537.36\",\n",
    "    \"Accept-Language\": \"en-US,en;q=0.9,ko-KR;q=0.8,ko;q=0.7\",\n",
    "    \"Accept-Charset\": \"application/x-www-form-urlencoded; charset=UTF-8\",\n",
    "    \"Origin\": \"https://developer.riotgames.com\",\n",
    "    \"X-Riot-Token\": \"RGAPI-6840792e-23cc-4695-afbc-b4955709159a\"\n",
    "}\n"
   ]
  },
  {
   "cell_type": "code",
   "execution_count": 3,
   "id": "83d17d06",
   "metadata": {},
   "outputs": [
    {
     "name": "stdout",
     "output_type": "stream",
     "text": [
      "내 팀원1\n"
     ]
    },
    {
     "ename": "KeyError",
     "evalue": "'accountId'",
     "output_type": "error",
     "traceback": [
      "\u001b[1;31m---------------------------------------------------------------------------\u001b[0m",
      "\u001b[1;31mKeyError\u001b[0m                                  Traceback (most recent call last)",
      "\u001b[1;32m~\\AppData\\Local\\Temp/ipykernel_2212/1880095096.py\u001b[0m in \u001b[0;36m<module>\u001b[1;34m\u001b[0m\n\u001b[0;32m     32\u001b[0m         \u001b[0mtime\u001b[0m\u001b[1;33m.\u001b[0m\u001b[0msleep\u001b[0m\u001b[1;33m(\u001b[0m\u001b[1;36m2\u001b[0m\u001b[1;33m)\u001b[0m\u001b[1;33m\u001b[0m\u001b[1;33m\u001b[0m\u001b[0m\n\u001b[0;32m     33\u001b[0m \u001b[1;33m\u001b[0m\u001b[0m\n\u001b[1;32m---> 34\u001b[1;33m \u001b[0mcheck_my_team\u001b[0m\u001b[1;33m(\u001b[0m\u001b[1;34m\"내 팀원1\"\u001b[0m\u001b[1;33m,\u001b[0m\u001b[1;34m\"내 팀원2\"\u001b[0m\u001b[1;33m,\u001b[0m\u001b[1;34m\"내 팀원3\"\u001b[0m\u001b[1;33m,\u001b[0m \u001b[1;34m\"내 팀원4\"\u001b[0m\u001b[1;33m)\u001b[0m\u001b[1;33m\u001b[0m\u001b[1;33m\u001b[0m\u001b[0m\n\u001b[0m",
      "\u001b[1;32m~\\AppData\\Local\\Temp/ipykernel_2212/1880095096.py\u001b[0m in \u001b[0;36mcheck_my_team\u001b[1;34m(*args)\u001b[0m\n\u001b[0;32m      6\u001b[0m         \u001b[0mencoded_name\u001b[0m \u001b[1;33m=\u001b[0m \u001b[0mparse\u001b[0m\u001b[1;33m.\u001b[0m\u001b[0mquote\u001b[0m\u001b[1;33m(\u001b[0m\u001b[0mname\u001b[0m\u001b[1;33m)\u001b[0m\u001b[1;33m\u001b[0m\u001b[1;33m\u001b[0m\u001b[0m\n\u001b[0;32m      7\u001b[0m         \u001b[0mcurrent_players\u001b[0m\u001b[1;33m.\u001b[0m\u001b[0mappend\u001b[0m\u001b[1;33m(\u001b[0m\u001b[0mencoded_name\u001b[0m\u001b[1;33m)\u001b[0m\u001b[1;33m\u001b[0m\u001b[1;33m\u001b[0m\u001b[0m\n\u001b[1;32m----> 8\u001b[1;33m         \u001b[0msummoner_account_id\u001b[0m \u001b[1;33m=\u001b[0m \u001b[0mrequests\u001b[0m\u001b[1;33m.\u001b[0m\u001b[0mget\u001b[0m\u001b[1;33m(\u001b[0m\u001b[1;34m\"https://kr.api.riotgames.com/lol/summoner/v4/summoners/by-name/\"\u001b[0m \u001b[1;33m+\u001b[0m \u001b[0mencoded_name\u001b[0m\u001b[1;33m,\u001b[0m \u001b[0mheaders\u001b[0m\u001b[1;33m=\u001b[0m\u001b[0mrequest_headers\u001b[0m\u001b[1;33m)\u001b[0m\u001b[1;33m.\u001b[0m\u001b[0mjson\u001b[0m\u001b[1;33m(\u001b[0m\u001b[1;33m)\u001b[0m\u001b[1;33m[\u001b[0m\u001b[1;34m\"accountId\"\u001b[0m\u001b[1;33m]\u001b[0m\u001b[1;33m\u001b[0m\u001b[1;33m\u001b[0m\u001b[0m\n\u001b[0m\u001b[0;32m      9\u001b[0m         \u001b[0mwin\u001b[0m \u001b[1;33m=\u001b[0m \u001b[1;36m0\u001b[0m\u001b[1;33m\u001b[0m\u001b[1;33m\u001b[0m\u001b[0m\n\u001b[0;32m     10\u001b[0m         \u001b[1;32mfor\u001b[0m \u001b[0mn\u001b[0m \u001b[1;32min\u001b[0m \u001b[0mrange\u001b[0m\u001b[1;33m(\u001b[0m\u001b[1;36m0\u001b[0m\u001b[1;33m,\u001b[0m \u001b[1;36m10\u001b[0m\u001b[1;33m)\u001b[0m\u001b[1;33m:\u001b[0m\u001b[1;33m\u001b[0m\u001b[1;33m\u001b[0m\u001b[0m\n",
      "\u001b[1;31mKeyError\u001b[0m: 'accountId'"
     ]
    }
   ],
   "source": [
    "def check_my_team(*args):\n",
    "    current_players = []\n",
    "    for n in range(0, 4):\n",
    "        name = args[n]\n",
    "        print(name)\n",
    "        encoded_name = parse.quote(name)\n",
    "        current_players.append(encoded_name)\n",
    "        summoner_account_id = requests.get(\"https://kr.api.riotgames.com/lol/summoner/v4/summoners/by-name/\" + encoded_name, headers=request_headers).json()[\"accountId\"]\n",
    "        win = 0\n",
    "        for n in range(0, 10):\n",
    "            get_latest_match_id = requests.get(\"https://kr.api.riotgames.com/lol/match/v4/matchlists/by-account/\" + summoner_account_id, headers=request_headers).json()[\"matches\"][n][\"gameId\"]\n",
    "            get_match_info = requests.get(\"https://kr.api.riotgames.com/lol/match/v4/matches/\" + str(get_latest_match_id), headers=request_headers).json()\n",
    "            for i in range(0, 10):\n",
    "                if get_match_info[\"participantIdentities\"][i][\"player\"][\"summonerName\"] == name:\n",
    "                    if get_match_info[\"participants\"][i][\"stats\"][\"win\"] == True:\n",
    "                        win += 1\n",
    "            time.sleep(1)\n",
    "        print(win)\n",
    "        time.sleep(2)\n",
    "            \n",
    "        latest_players = []\n",
    "        for n in range(0, 10):\n",
    "            get_latest_match_id = requests.get(\"https://kr.api.riotgames.com/lol/match/v4/matchlists/by-account/\" + summoner_account_id, headers=request_headers).json()[\"matches\"][0][\"gameId\"]\n",
    "            get_match_info = requests.get(\"https://kr.api.riotgames.com/lol/match/v4/matches/\" + str(get_latest_match_id), headers=request_headers).json()\n",
    "            latest_players.append(get_match_info[\"participantIdentities\"][n][\"player\"][\"summonerName\"])\n",
    "            time.sleep(1)\n",
    "        print(latest_players)\n",
    "        if len(set(current_players) & set(latest_players)) > 1:\n",
    "            print(set(current_players) & set(latest_players))\n",
    "        else:\n",
    "            print(\"듀오가 없습니다\")\n",
    "        time.sleep(2)\n",
    " \n",
    "check_my_team(\"내 팀원1\",\"내 팀원2\",\"내 팀원3\", \"내 팀원4\")\n"
   ]
  }
 ],
 "metadata": {
  "kernelspec": {
   "display_name": "yyc",
   "language": "python",
   "name": "yyc"
  },
  "language_info": {
   "codemirror_mode": {
    "name": "ipython",
    "version": 3
   },
   "file_extension": ".py",
   "mimetype": "text/x-python",
   "name": "python",
   "nbconvert_exporter": "python",
   "pygments_lexer": "ipython3",
   "version": "3.9.6"
  }
 },
 "nbformat": 4,
 "nbformat_minor": 5
}
